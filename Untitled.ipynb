{
 "cells": [
  {
   "cell_type": "code",
   "execution_count": 2,
   "id": "e56e76e2-7889-4638-a45c-5dadd3526b5e",
   "metadata": {},
   "outputs": [
    {
     "name": "stdin",
     "output_type": "stream",
     "text": [
      "주민번호 뒷자리를 입력하세요:  2860116\n"
     ]
    },
    {
     "name": "stdout",
     "output_type": "stream",
     "text": [
      "여자\n"
     ]
    }
   ],
   "source": [
    "reg_num = input(\"주민번호 뒷자리를 입력하세요: \")\n",
    "    \n",
    "if len(reg_num) != 7:\n",
    "    print('자리수를 잘못 입력했습니다.')\n",
    "else:\n",
    "    fst_num = int(reg_num[0])\n",
    "    if fst_num in (1, 3):\n",
    "        print(\"남자\")\n",
    "    elif fst_num in (2, 4):\n",
    "        print(\"여자\")\n",
    "    else:\n",
    "        print(\"잘못된 입력입니다.\")"
   ]
  },
  {
   "cell_type": "code",
   "execution_count": 4,
   "id": "16bd6eca-0b8a-4cf6-b2d7-b87c7d9959a0",
   "metadata": {},
   "outputs": [
    {
     "ename": "SyntaxError",
     "evalue": "invalid syntax (3223633056.py, line 3)",
     "output_type": "error",
     "traceback": [
      "\u001b[1;36m  File \u001b[1;32m\"C:\\Users\\user\\AppData\\Local\\Temp\\ipykernel_18976\\3223633056.py\"\u001b[1;36m, line \u001b[1;32m3\u001b[0m\n\u001b[1;33m    if year % 4 = 0 or (year % 100 !== 0 and year % 400 == 0):\u001b[0m\n\u001b[1;37m                ^\u001b[0m\n\u001b[1;31mSyntaxError\u001b[0m\u001b[1;31m:\u001b[0m invalid syntax\n"
     ]
    }
   ],
   "source": [
    "year = int(input('확인할 연도를 입력하세요:'))\n",
    "\n",
    "if year % 4 = 0 or (year % 100 !== 0 and year % 400 == 0):\n",
    "    print(\"평년입니다.\")\n",
    "else:\n",
    "    print(\"윤년입니다.\")"
   ]
  },
  {
   "cell_type": "code",
   "execution_count": null,
   "id": "595606d0-8529-4a89-9ce3-cc9c08a8246c",
   "metadata": {},
   "outputs": [],
   "source": [
    "print"
   ]
  }
 ],
 "metadata": {
  "kernelspec": {
   "display_name": "Python 3 (ipykernel)",
   "language": "python",
   "name": "python3"
  },
  "language_info": {
   "codemirror_mode": {
    "name": "ipython",
    "version": 3
   },
   "file_extension": ".py",
   "mimetype": "text/x-python",
   "name": "python",
   "nbconvert_exporter": "python",
   "pygments_lexer": "ipython3",
   "version": "3.9.13"
  }
 },
 "nbformat": 4,
 "nbformat_minor": 5
}
