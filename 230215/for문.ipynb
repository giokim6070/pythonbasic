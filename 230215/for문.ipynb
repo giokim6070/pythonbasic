{
 "cells": [
  {
   "cell_type": "code",
   "execution_count": null,
   "id": "f6e4c4bf-0107-4abc-bf37-295df1405b2b",
   "metadata": {},
   "outputs": [],
   "source": [
    "#슬라이싱\n",
    "a = [0, 1, 2, 3, 4, 5, 6, 7]]"
   ]
  },
  {
   "cell_type": "code",
   "execution_count": null,
   "id": "a42ae3ef",
   "metadata": {},
   "outputs": [],
   "source": [
    "ddd"
   ]
  },
  {
   "cell_type": "code",
   "execution_count": null,
   "id": "e7c86c11-9327-464c-90f5-45880f4e727c",
   "metadata": {},
   "outputs": [],
   "source": [
    "a[0: 5: 2]"
   ]
  },
  {
   "cell_type": "code",
   "execution_count": null,
   "id": "85473d76-7aa3-4113-a90a-e4d4de3c1589",
   "metadata": {},
   "outputs": [],
   "source": [
    "[0, 2, 4]"
   ]
  },
  {
   "cell_type": "code",
   "execution_count": 1,
   "id": "6c4f33ae-1911-4189-b181-1468ebe37428",
   "metadata": {},
   "outputs": [
    {
     "data": {
      "text/plain": [
       "[0, 1, 2, 3, 4, 5, 6, 7]"
      ]
     },
     "execution_count": 1,
     "metadata": {},
     "output_type": "execute_result"
    }
   ],
   "source": [
    "# 함수를 호출할 때 소괄호를 사용한다.\n",
    "# 인수(arguments)가 여럿일 때 콤마로 구분한다.\n",
    "# range(시작하는 숫자(포함), 끝숫자(미포함), 증감)\n",
    "# range는 규칙된 숫자를 만드는데 특화되어 있다.\n",
    "list(range(0, 8, 1))  #iterable\n",
    "list(range(8)) "
   ]
  },
  {
   "cell_type": "code",
   "execution_count": 2,
   "id": "340522d7-cd52-4861-98e9-7927605cd652",
   "metadata": {},
   "outputs": [
    {
     "data": {
      "text/plain": [
       "range"
      ]
     },
     "execution_count": 2,
     "metadata": {},
     "output_type": "execute_result"
    }
   ],
   "source": [
    "type(range(1))"
   ]
  },
  {
   "cell_type": "code",
   "execution_count": null,
   "id": "9feec6cc-e78e-40b1-a0bc-620c447bbe70",
   "metadata": {},
   "outputs": [],
   "source": [
    "# list vs range가 동작하는 큰 차이점\n",
    "# list는 메모리 상에 미리 다 만들어 놓습니다.\n",
    "# range는 필요할 때 메모리에 만듭니다."
   ]
  },
  {
   "cell_type": "code",
   "execution_count": null,
   "id": "972ef3d1-b7f9-4c26-bc3a-a515bb6c7ed8",
   "metadata": {},
   "outputs": [],
   "source": [
    "# 여기서의 range는 0부터 999까지의 숫자를 생성한다.\n",
    "for n in range"
   ]
  }
 ],
 "metadata": {
  "kernelspec": {
   "display_name": "Python 3 (ipykernel)",
   "language": "python",
   "name": "python3"
  },
  "language_info": {
   "codemirror_mode": {
    "name": "ipython",
    "version": 3
   },
   "file_extension": ".py",
   "mimetype": "text/x-python",
   "name": "python",
   "nbconvert_exporter": "python",
   "pygments_lexer": "ipython3",
   "version": "3.9.13"
  }
 },
 "nbformat": 4,
 "nbformat_minor": 5
}
