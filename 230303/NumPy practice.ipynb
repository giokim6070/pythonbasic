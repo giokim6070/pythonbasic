{
 "cells": [
  {
   "cell_type": "code",
   "execution_count": 1,
   "id": "b27f09be-23fb-46b7-9367-dcc3df749897",
   "metadata": {},
   "outputs": [],
   "source": [
    "import numpy as np"
   ]
  },
  {
   "cell_type": "code",
   "execution_count": 2,
   "id": "9abec353-bb58-4827-9057-c538dbb23d3d",
   "metadata": {},
   "outputs": [
    {
     "name": "stdout",
     "output_type": "stream",
     "text": [
      "[5 6 1 4 4 4 2 4 6 3 5 1 1 5 3 2 1 2 6 2 6 1 2 5 4 1 4 6 1 3 4 1 2 4 6 4 4\n",
      " 1 2 2 2 1 3 5 4 4 3 5 3 1 1 5 6 6 1 5 2 5 2 3 3 1 2 2 2 2 4 4 3 4 1 4 6 5\n",
      " 2 3 5 4 5 5 5 4 5 5 5 1 5 4 3 6 6 6 1 2 6 2 4 1 6 1]\n"
     ]
    },
    {
     "data": {
      "text/plain": [
       "3.42"
      ]
     },
     "execution_count": 2,
     "metadata": {},
     "output_type": "execute_result"
    }
   ],
   "source": [
    "np.random.seed(0) \n",
    "result = np.random.randint(1, 7, 100)\n",
    "print(result)\n",
    "np.mean(result)"
   ]
  },
  {
   "cell_type": "code",
   "execution_count": 3,
   "id": "b6cdeea6-8c8c-4e87-b0c5-69cb4df7de1f",
   "metadata": {},
   "outputs": [
    {
     "data": {
      "text/plain": [
       "array([[ 8, 10, 12],\n",
       "       [14, 16, 18]])"
      ]
     },
     "execution_count": 3,
     "metadata": {},
     "output_type": "execute_result"
    }
   ],
   "source": [
    "a = np.array([[1, 2, 3],[4, 5, 6]])\n",
    "b = np.array([[7, 8, 9],[10, 11, 12]])\n",
    "a + b"
   ]
  },
  {
   "cell_type": "code",
   "execution_count": 4,
   "id": "e129460c-c89c-4ee8-81b4-ece02cd28cf5",
   "metadata": {},
   "outputs": [
    {
     "data": {
      "text/plain": [
       "array([ 3,  6,  9, 12, 15, 18, 21, 24, 27])"
      ]
     },
     "execution_count": 4,
     "metadata": {},
     "output_type": "execute_result"
    }
   ],
   "source": [
    "c = np.arange(1,10)\n",
    "c * 3"
   ]
  },
  {
   "cell_type": "code",
   "execution_count": 65,
   "id": "e2c1a7a7-2c4a-4991-a2cf-f0e28add18a2",
   "metadata": {},
   "outputs": [
    {
     "name": "stdout",
     "output_type": "stream",
     "text": [
      "[0. 0. 0. 0. 1. 0. 0. 0. 0. 0.]\n"
     ]
    }
   ],
   "source": [
    "f = np.zeros(10)\n",
    "f[4]=1\n",
    "print(f)"
   ]
  },
  {
   "cell_type": "code",
   "execution_count": 67,
   "id": "2d6b9d5e-6af7-4305-8597-eac703b02ed3",
   "metadata": {},
   "outputs": [
    {
     "data": {
      "text/plain": [
       "array([49, 48, 47, 46, 45, 44, 43, 42, 41, 40, 39, 38, 37, 36, 35, 34, 33,\n",
       "       32, 31, 30, 29, 28, 27, 26, 25, 24, 23, 22, 21, 20, 19, 18, 17, 16,\n",
       "       15, 14, 13, 12, 11, 10,  9,  8,  7,  6,  5,  4,  3,  2,  1,  0])"
      ]
     },
     "execution_count": 67,
     "metadata": {},
     "output_type": "execute_result"
    }
   ],
   "source": [
    "v = np.arange(50)\n",
    "v[::-1]\n"
   ]
  },
  {
   "cell_type": "code",
   "execution_count": 69,
   "id": "643ab0cb-c62c-4c25-b0b8-9c7a7c1bb083",
   "metadata": {},
   "outputs": [
    {
     "data": {
      "text/plain": [
       "array([[['', '', ''],\n",
       "        ['', '', ''],\n",
       "        ['', '', '']],\n",
       "\n",
       "       [['', '', ''],\n",
       "        ['', '', ''],\n",
       "        ['', '', '']],\n",
       "\n",
       "       [['', '', ''],\n",
       "        ['', '', ''],\n",
       "        ['', '', '']]], dtype='<U10')"
      ]
     },
     "execution_count": 69,
     "metadata": {},
     "output_type": "execute_result"
    }
   ],
   "source": [
    "np.zeros((3, 3, 3), dtype='U10')"
   ]
  },
  {
   "cell_type": "code",
   "execution_count": 5,
   "id": "2fd40c46-bf17-4108-bce3-42bbae22fa57",
   "metadata": {},
   "outputs": [
    {
     "data": {
      "text/plain": [
       "array([[[ 2,  4,  6,  8, 10],\n",
       "        [12, 14, 16, 18, 20]],\n",
       "\n",
       "       [[22, 24, 26, 28, 30],\n",
       "        [32, 34, 36, 38, 40]]])"
      ]
     },
     "execution_count": 5,
     "metadata": {},
     "output_type": "execute_result"
    }
   ],
   "source": [
    "x = np.arange(2,41,2).reshape(2,2,5)\n",
    "x"
   ]
  },
  {
   "cell_type": "code",
   "execution_count": 6,
   "id": "9505aa11-6d3c-47a8-816e-0ce47f7a94a3",
   "metadata": {},
   "outputs": [
    {
     "data": {
      "text/plain": [
       "array([[['playdata', 'playdata', 'playdata'],\n",
       "        ['playdata', 'playdata', 'playdata'],\n",
       "        ['playdata', 'playdata', 'playdata']],\n",
       "\n",
       "       [['playdata', 'playdata', 'playdata'],\n",
       "        ['playdata', 'playdata', 'playdata'],\n",
       "        ['playdata', 'playdata', 'playdata']],\n",
       "\n",
       "       [['playdata', 'playdata', 'playdata'],\n",
       "        ['playdata', 'playdata', 'playdata'],\n",
       "        ['playdata', 'playdata', 'playdata']]], dtype='<U10')"
      ]
     },
     "execution_count": 6,
     "metadata": {},
     "output_type": "execute_result"
    }
   ],
   "source": [
    "# np.full(shape, fill_value, dtype=None, order='C', *, like=None)\n",
    "\n",
    "import numpy as np\n",
    "np.full((3, 3, 3), 'playdata', dtype='U10')"
   ]
  },
  {
   "cell_type": "code",
   "execution_count": 7,
   "id": "10b195d3-48b8-4e72-a6eb-731e18c3c339",
   "metadata": {},
   "outputs": [
    {
     "data": {
      "text/plain": [
       "array([[1., 0., 0., 0.],\n",
       "       [0., 1., 0., 0.],\n",
       "       [0., 0., 1., 0.],\n",
       "       [0., 0., 0., 1.]])"
      ]
     },
     "execution_count": 7,
     "metadata": {},
     "output_type": "execute_result"
    }
   ],
   "source": [
    "# np.eye(n) \n",
    "\n",
    "np.eye(4)   "
   ]
  },
  {
   "cell_type": "code",
   "execution_count": 8,
   "id": "72aa26b8-9b43-48cd-92f0-b380ff1ab818",
   "metadata": {},
   "outputs": [],
   "source": [
    "# ndarray.astype\n",
    "np.random.seed(0) "
   ]
  },
  {
   "cell_type": "code",
   "execution_count": 9,
   "id": "914c7ff6-5629-406c-ae61-1ea6d1244b0e",
   "metadata": {},
   "outputs": [
    {
     "data": {
      "text/plain": [
       "array([0, 1, 1, 0, 1, 1, 1, 1, 1])"
      ]
     },
     "execution_count": 9,
     "metadata": {},
     "output_type": "execute_result"
    }
   ],
   "source": [
    "a = np.random.randint(0, 2, 9)\n",
    "a"
   ]
  },
  {
   "cell_type": "code",
   "execution_count": 10,
   "id": "562adc48-c6b8-4749-a675-141cb865f950",
   "metadata": {},
   "outputs": [
    {
     "data": {
      "text/plain": [
       "array([[False,  True,  True],\n",
       "       [False,  True,  True],\n",
       "       [ True,  True,  True]])"
      ]
     },
     "execution_count": 10,
     "metadata": {},
     "output_type": "execute_result"
    }
   ],
   "source": [
    "a.astype('bool').reshape(3, 3)"
   ]
  },
  {
   "cell_type": "code",
   "execution_count": 11,
   "id": "cdcc0dca-cca0-43bc-8776-9fefb0e516c3",
   "metadata": {},
   "outputs": [],
   "source": [
    "np.random.seed(0) "
   ]
  },
  {
   "cell_type": "code",
   "execution_count": 12,
   "id": "ada56068-8c31-4c1d-a2f9-07c3b8401580",
   "metadata": {},
   "outputs": [
    {
     "data": {
      "text/plain": [
       "array([5.48813504, 7.15189366, 6.02763376, 5.44883183, 4.23654799,\n",
       "       6.45894113, 4.37587211, 8.91773001, 9.63662761, 3.83441519])"
      ]
     },
     "execution_count": 12,
     "metadata": {},
     "output_type": "execute_result"
    }
   ],
   "source": [
    "b = np.random.rand(10) * 10\n",
    "b"
   ]
  },
  {
   "cell_type": "code",
   "execution_count": 13,
   "id": "c3a0ff3d-3f36-46a0-a87e-2471d06cd31b",
   "metadata": {},
   "outputs": [
    {
     "data": {
      "text/plain": [
       "array([5, 7, 6, 5, 4, 6, 4, 8, 9, 3], dtype=int32)"
      ]
     },
     "execution_count": 13,
     "metadata": {},
     "output_type": "execute_result"
    }
   ],
   "source": [
    "result = b.astype('i') # 타입을 변경한다.\n",
    "result"
   ]
  },
  {
   "cell_type": "code",
   "execution_count": null,
   "id": "3178561b-699e-4936-8199-f5e2e482539c",
   "metadata": {},
   "outputs": [],
   "source": [
    "# False = 0 이고 True = 1 인 것을 꼭 기억합시다!!!\n",
    "\n",
    "# 불리언 인덱싱 중요합니데이!!!!!"
   ]
  },
  {
   "cell_type": "code",
   "execution_count": 14,
   "id": "8dd79da2-556f-4a88-aa31-ed62cb60512b",
   "metadata": {},
   "outputs": [
    {
     "data": {
      "text/plain": [
       "array([[1., 1., 1., 1., 1., 1., 1., 1., 1., 1.],\n",
       "       [1., 0., 0., 0., 0., 0., 0., 0., 0., 1.],\n",
       "       [1., 0., 0., 0., 0., 0., 0., 0., 0., 1.],\n",
       "       [1., 0., 0., 0., 0., 0., 0., 0., 0., 1.],\n",
       "       [1., 0., 0., 0., 0., 0., 0., 0., 0., 1.],\n",
       "       [1., 0., 0., 0., 0., 0., 0., 0., 0., 1.],\n",
       "       [1., 0., 0., 0., 0., 0., 0., 0., 0., 1.],\n",
       "       [1., 0., 0., 0., 0., 0., 0., 0., 0., 1.],\n",
       "       [1., 0., 0., 0., 0., 0., 0., 0., 0., 1.],\n",
       "       [1., 1., 1., 1., 1., 1., 1., 1., 1., 1.]])"
      ]
     },
     "execution_count": 14,
     "metadata": {},
     "output_type": "execute_result"
    }
   ],
   "source": [
    "n = np.ones((10,10))\n",
    "n[1:9,1:9] = 0\n",
    "n"
   ]
  },
  {
   "cell_type": "code",
   "execution_count": 15,
   "id": "9f17909c-4988-4eaf-a4bc-ef5d4c1a4c0e",
   "metadata": {},
   "outputs": [
    {
     "name": "stdout",
     "output_type": "stream",
     "text": [
      "[[0. 0. 0. 0. 0. 0. 0. 0. 0. 0.]\n",
      " [0. 1. 1. 1. 1. 1. 1. 1. 1. 0.]\n",
      " [0. 1. 1. 1. 1. 1. 1. 1. 1. 0.]\n",
      " [0. 1. 1. 1. 1. 1. 1. 1. 1. 0.]\n",
      " [0. 1. 1. 1. 1. 1. 1. 1. 1. 0.]\n",
      " [0. 1. 1. 1. 1. 1. 1. 1. 1. 0.]\n",
      " [0. 1. 1. 1. 1. 1. 1. 1. 1. 0.]\n",
      " [0. 1. 1. 1. 1. 1. 1. 1. 1. 0.]\n",
      " [0. 1. 1. 1. 1. 1. 1. 1. 1. 0.]\n",
      " [0. 0. 0. 0. 0. 0. 0. 0. 0. 0.]]\n"
     ]
    }
   ],
   "source": [
    "n = np.ones((10,10))\n",
    "n[:1] = 0\n",
    "n[9:10] = 0\n",
    "n[1:-1,0]=0\n",
    "n[1:-1,-1]=0\n",
    "print(n)"
   ]
  },
  {
   "cell_type": "code",
   "execution_count": 16,
   "id": "cb6766c7-b4c3-4c4d-8638-f20b539aa7fd",
   "metadata": {},
   "outputs": [
    {
     "name": "stdout",
     "output_type": "stream",
     "text": [
      "[[0. 0. 0. 0. 0. 0. 0. 0. 0. 0.]\n",
      " [0. 1. 1. 1. 1. 1. 1. 1. 1. 0.]\n",
      " [0. 1. 1. 1. 1. 1. 1. 1. 1. 0.]\n",
      " [0. 1. 1. 1. 1. 1. 1. 1. 1. 0.]\n",
      " [0. 1. 1. 1. 1. 1. 1. 1. 1. 0.]\n",
      " [0. 1. 1. 1. 1. 1. 1. 1. 1. 0.]\n",
      " [0. 1. 1. 1. 1. 1. 1. 1. 1. 0.]\n",
      " [0. 1. 1. 1. 1. 1. 1. 1. 1. 0.]\n",
      " [0. 1. 1. 1. 1. 1. 1. 1. 1. 0.]\n",
      " [0. 0. 0. 0. 0. 0. 0. 0. 0. 0.]]\n"
     ]
    }
   ],
   "source": [
    "n = np.ones((10,10))\n",
    "n[:,[0,-1]] = 0\n",
    "n[[0,-1],:] = 0\n",
    "print(n)\n",
    "\n",
    "# 선생님 풀이"
   ]
  },
  {
   "cell_type": "code",
   "execution_count": 17,
   "id": "88831092-32c8-424c-8c23-b72a88030e8d",
   "metadata": {},
   "outputs": [
    {
     "name": "stdout",
     "output_type": "stream",
     "text": [
      "[[1 0 1 0 1 0 1 0]\n",
      " [0 1 0 1 0 1 0 1]\n",
      " [1 0 1 0 1 0 1 0]\n",
      " [0 1 0 1 0 1 0 1]\n",
      " [1 0 1 0 1 0 1 0]\n",
      " [0 1 0 1 0 1 0 1]\n",
      " [1 0 1 0 1 0 1 0]\n",
      " [0 1 0 1 0 1 0 1]]\n"
     ]
    }
   ],
   "source": [
    "m = np.ones((8,8))       # 하 정말 어려웠다\n",
    "m[0::2,1::2] = 0    \n",
    "m[1::2,0::2] = 0\n",
    "result = m.astype('i')\n",
    "print(result)"
   ]
  },
  {
   "cell_type": "code",
   "execution_count": 18,
   "id": "71c02d77-c0ee-4b26-a788-a59c82e24838",
   "metadata": {},
   "outputs": [
    {
     "name": "stdout",
     "output_type": "stream",
     "text": [
      "[[1 0 1 0 1 0 1 0]\n",
      " [0 1 0 1 0 1 0 1]\n",
      " [1 0 1 0 1 0 1 0]\n",
      " [0 1 0 1 0 1 0 1]\n",
      " [1 0 1 0 1 0 1 0]\n",
      " [0 1 0 1 0 1 0 1]\n",
      " [1 0 1 0 1 0 1 0]\n",
      " [0 1 0 1 0 1 0 1]]\n"
     ]
    }
   ],
   "source": [
    "m = np.ones((8,8), dtype = int)        # 쌤 풀이\n",
    "m[0::2,1::2] = 0    \n",
    "m[1::2,0::2] = 0\n",
    "print(result)"
   ]
  },
  {
   "cell_type": "code",
   "execution_count": 19,
   "id": "0f6fa8f5-139f-4df6-a836-1d046d79a28d",
   "metadata": {},
   "outputs": [
    {
     "data": {
      "text/plain": [
       "array([[1, 0, 1, 0, 1, 0, 1, 0],\n",
       "       [0, 1, 0, 1, 0, 1, 0, 1],\n",
       "       [1, 0, 1, 0, 1, 0, 1, 0],\n",
       "       [0, 1, 0, 1, 0, 1, 0, 1],\n",
       "       [1, 0, 1, 0, 1, 0, 1, 0],\n",
       "       [0, 1, 0, 1, 0, 1, 0, 1],\n",
       "       [1, 0, 1, 0, 1, 0, 1, 0],\n",
       "       [0, 1, 0, 1, 0, 1, 0, 1]])"
      ]
     },
     "execution_count": 19,
     "metadata": {},
     "output_type": "execute_result"
    }
   ],
   "source": [
    "f = np.array([[1, 0], [0, 1]])\n",
    "np.tile(f, (4, 4))"
   ]
  },
  {
   "cell_type": "code",
   "execution_count": 20,
   "id": "e51a4100-f840-428a-b5e5-b55d679a4736",
   "metadata": {},
   "outputs": [
    {
     "name": "stdout",
     "output_type": "stream",
     "text": [
      "[ 0  1  2  3 -4 -5 -6  7  8  9 10]\n"
     ]
    }
   ],
   "source": [
    "a = np.arange(11)\n",
    "result = np.array([True if 3<i<7 else False for i in a])\n",
    "a[result] = -a[result]\n",
    "print(a)"
   ]
  },
  {
   "cell_type": "code",
   "execution_count": 21,
   "id": "92d85d1e-4b1a-4422-8af6-a8e7a3a22a1d",
   "metadata": {},
   "outputs": [
    {
     "data": {
      "text/plain": [
       "1683"
      ]
     },
     "execution_count": 21,
     "metadata": {},
     "output_type": "execute_result"
    }
   ],
   "source": [
    "z = np.arange(1,101)\n",
    "result = np.array([True if i % 3 == 0 else False for i in z])\n",
    "sum(z[result])"
   ]
  },
  {
   "cell_type": "code",
   "execution_count": 22,
   "id": "dd03dcbe-6c7a-4030-8b5d-b2bf4dc6c5a7",
   "metadata": {},
   "outputs": [
    {
     "data": {
      "text/plain": [
       "array([0.1, 0.2, 0.3, 0.4, 0.5, 0.6, 0.7, 0.8, 0.9])"
      ]
     },
     "execution_count": 22,
     "metadata": {},
     "output_type": "execute_result"
    }
   ],
   "source": [
    "f = np.linspace(0.1, 0.9, 9)\n",
    "f"
   ]
  },
  {
   "cell_type": "code",
   "execution_count": 35,
   "id": "28a3500e-88ef-4de7-b5f2-e3169f8f5a62",
   "metadata": {},
   "outputs": [
    {
     "name": "stdin",
     "output_type": "stream",
     "text": [
      " -3\n"
     ]
    },
    {
     "name": "stdout",
     "output_type": "stream",
     "text": [
      "자연수만 입력해주세요.\n"
     ]
    },
    {
     "name": "stdin",
     "output_type": "stream",
     "text": [
      " -5\n"
     ]
    },
    {
     "name": "stdout",
     "output_type": "stream",
     "text": [
      "자연수만 입력해주세요.\n"
     ]
    },
    {
     "name": "stdin",
     "output_type": "stream",
     "text": [
      " -9\n"
     ]
    },
    {
     "name": "stdout",
     "output_type": "stream",
     "text": [
      "자연수만 입력해주세요.\n"
     ]
    },
    {
     "name": "stdin",
     "output_type": "stream",
     "text": [
      " 3\n"
     ]
    },
    {
     "name": "stdout",
     "output_type": "stream",
     "text": [
      "[27 31 37 42 43 45]\n",
      "[ 9 20 25 36 37 40]\n",
      "[ 6  8 32 33 37 38]\n"
     ]
    }
   ],
   "source": [
    "while True:\n",
    "    try:\n",
    "        number = int(input())\n",
    "        if number>0:\n",
    "            for _ in range(number):\n",
    "                result = np.random.choice(range(1, 46), size=6, replace=False)\n",
    "                # 비복원추출 중복을 피한다는 의미. choice와 replace 사용\n",
    "                result.sort()   # 오름차순\n",
    "                print(result)\n",
    "            break\n",
    "        else:\n",
    "            print(\"자연수만 입력해주세요.\")\n",
    "    except ValueError:\n",
    "        print(\"자연수만 입력해주세요.\")\n",
    "        continue"
   ]
  },
  {
   "cell_type": "code",
   "execution_count": 34,
   "id": "ed08d5da-1f40-4191-93fd-7c96546e6fca",
   "metadata": {},
   "outputs": [
    {
     "data": {
      "text/plain": [
       "8"
      ]
     },
     "execution_count": 34,
     "metadata": {},
     "output_type": "execute_result"
    }
   ],
   "source": [
    "resp_time = np. array([158, 85, 205, 24, 42, 175, 188, 149, 153, 171, 137, 55, 108,\n",
    "199, 177, 209, 218, 76, 103, 189, 110, 192, 136, 119, 4, 102,\n",
    "177, 212, 110, 37, 163, 32, 77, 22, 125, 184, 46, 139, 72,\n",
    "168, 133, 209, 148, 47, 102, 65, 160, 56, 11, 96, 169, 118,\n",
    "55, 135, 217, 49, 100, 85, 179, 15, 139, 199, 124, 142, 15,\n",
    "49, 168, 171, 168, 177, 147, 23, 199, 26, 51, 42, 90, 128,\n",
    "186, 169, 129, 70, 198, 111, 81, 150, 17, 177, 201, 10, 75,\n",
    "199, 55, 151, 183, 152, 119, 193, 110, 204])\n",
    "\n",
    "result = np.array([True if i>200 else False for i in resp_time])\n",
    "len(resp_time[result])\n",
    "\n",
    "#(resp_time > 200).sum() 선생님 풀이.....넘나 간단하고 좋으네여...."
   ]
  },
  {
   "cell_type": "code",
   "execution_count": 43,
   "id": "56b341e5-65fd-465f-b45e-754fd603f544",
   "metadata": {},
   "outputs": [
    {
     "data": {
      "text/plain": [
       "4.0"
      ]
     },
     "metadata": {},
     "output_type": "display_data"
    },
    {
     "data": {
      "text/plain": [
       "71.5"
      ]
     },
     "metadata": {},
     "output_type": "display_data"
    },
    {
     "data": {
      "text/plain": [
       "131.0"
      ]
     },
     "metadata": {},
     "output_type": "display_data"
    },
    {
     "data": {
      "text/plain": [
       "175.5"
      ]
     },
     "metadata": {},
     "output_type": "display_data"
    },
    {
     "data": {
      "text/plain": [
       "218.0"
      ]
     },
     "metadata": {},
     "output_type": "display_data"
    }
   ],
   "source": [
    "resp_time = np. array([158, 85, 205, 24, 42, 175, 188, 149, 153, 171, 137, 55, 108,\n",
    "199, 177, 209, 218, 76, 103, 189, 110, 192, 136, 119, 4, 102,\n",
    "177, 212, 110, 37, 163, 32, 77, 22, 125, 184, 46, 139, 72,\n",
    "168, 133, 209, 148, 47, 102, 65, 160, 56, 11, 96, 169, 118,\n",
    "55, 135, 217, 49, 100, 85, 179, 15, 139, 199, 124, 142, 15,\n",
    "49, 168, 171, 168, 177, 147, 23, 199, 26, 51, 42, 90, 128,\n",
    "186, 169, 129, 70, 198, 111, 81, 150, 17, 177, 201, 10, 75,\n",
    "199, 55, 151, 183, 152, 119, 193, 110, 204])\n",
    "\n",
    "result1 = np.percentile(resp_time, 0)\n",
    "result2 = np.percentile(resp_time, 25)\n",
    "result3 = np.percentile(resp_time, 50)\n",
    "result4 = np.percentile(resp_time, 75)\n",
    "result5 = np.percentile(resp_time, 100)\n",
    "display(result1, result2, result3, result4, result5)\n",
    "\n",
    "# enumerate --> index(i) 값과 value(v)값을 동시에 준다\n",
    "# for i, v in enumerate(range(25, 76, 25)):\n",
    "# print(f'{})  으악 필기 놓침 선생님 답\n",
    "\n",
    "# np.quantile(resp_time, 0.75) 기영이 답"
   ]
  },
  {
   "cell_type": "code",
   "execution_count": 47,
   "id": "4405eeb5-26ea-43d6-94c0-1b88ac86fdab",
   "metadata": {},
   "outputs": [],
   "source": [
    "# 학생 회장 선거에서 뽀로로가 0번, 루피가 1번, 크롱이 2번일 때 누가 몇표로 학생 회장에 \n",
    "# 당선되었는지 확인해보세요.\n",
    "p = [\"뽀로로\", \"루피\", \"크롱\"]\n",
    "result = np.array([2, 1, 2, 2, 2, 2, 0, 2, 1, 1, 0, 0, 2, 0, 0, 1, 1, 2, 2, 2, 1, 1,\n",
    "                   1, 2, 0, 2, 2, 0, 1, 1, 0, 2, 1, 0, 1, 2, 0, 0, 1, 0, 1, 1, 1, 2,\n",
    "                   1, 1, 1, 0, 0, 0, 0, 1, 0, 0, 2, 0, 2, 2, 0, 0, 1, 1, 1, 0, 0, 2,\n",
    "                   2, 1, 0, 1, 2, 0, 2, 0, 0, 0, 2, 0, 0, 0, 0, 0, 1, 2, 1, 1, 2, 0,\n",
    "                   2, 0, 0, 0, 0, 2, 1, 2, 0, 2, 0, 0, 1, 0, 1, 2, 1, 2, 0, 2, 2, 1,\n",
    "                   2, 0, 0, 1, 1, 0, 1, 2, 1, 2, 0, 2, 2, 2, 2, 0, 2, 2, 0, 2, 0, 2,\n",
    "                   1, 1, 2, 1, 1, 0, 0, 1, 0, 0, 0, 2, 2, 0, 2, 0, 0, 0, 2, 0, 0, 0,\n",
    "                   2, 0, 1, 2, 1, 0, 2, 0, 0, 1, 2, 1, 1, 2, 2, 0, 0, 0, 0, 2, 2, 1,\n",
    "                   0, 1, 1, 2, 2, 1, 0, 0, 2, 0, 0, 0, 2, 0, 2, 2, 0, 2, 1, 0, 0, 2,\n",
    "                   0, 1])"
   ]
  },
  {
   "cell_type": "code",
   "execution_count": 56,
   "id": "596c84d0-5f48-4f27-8c68-925ccc311ef1",
   "metadata": {},
   "outputs": [
    {
     "name": "stdout",
     "output_type": "stream",
     "text": [
      "뽀로로가 81표로 반장으로 선출되었습니다.\n"
     ]
    }
   ],
   "source": [
    "a, b = np.unique(result, return_counts=True)\n",
    "winner = b.argmax()\n",
    "print(f\"{p[winner]}가 {np.max(b)}표로 반장으로 선출되었습니다.\")"
   ]
  },
  {
   "cell_type": "code",
   "execution_count": null,
   "id": "c314a602-f87e-4961-b497-3735060f954c",
   "metadata": {},
   "outputs": [],
   "source": []
  }
 ],
 "metadata": {
  "kernelspec": {
   "display_name": "Python 3 (ipykernel)",
   "language": "python",
   "name": "python3"
  },
  "language_info": {
   "codemirror_mode": {
    "name": "ipython",
    "version": 3
   },
   "file_extension": ".py",
   "mimetype": "text/x-python",
   "name": "python",
   "nbconvert_exporter": "python",
   "pygments_lexer": "ipython3",
   "version": "3.9.13"
  },
  "toc-autonumbering": false,
  "toc-showcode": true,
  "toc-showmarkdowntxt": false,
  "toc-showtags": true
 },
 "nbformat": 4,
 "nbformat_minor": 5
}
