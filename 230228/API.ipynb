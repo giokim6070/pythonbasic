{
 "cells": [
  {
   "cell_type": "code",
   "execution_count": 1,
   "id": "8b57d345-356e-4749-bae5-b18f49b35467",
   "metadata": {},
   "outputs": [],
   "source": [
    "A = [1, 2, 3, 45]"
   ]
  },
  {
   "cell_type": "code",
   "execution_count": 3,
   "id": "e0e4e0f0-2c1c-4486-9419-819fae9331e1",
   "metadata": {},
   "outputs": [],
   "source": [
    "B = {1:(\"A, B\", \"B\", \"C\"), 3: (\"가\", \"나\")}"
   ]
  },
  {
   "cell_type": "code",
   "execution_count": 4,
   "id": "4589c1b8-186a-407c-aad7-e64c2a1d9500",
   "metadata": {},
   "outputs": [
    {
     "data": {
      "text/plain": [
       "list"
      ]
     },
     "execution_count": 4,
     "metadata": {},
     "output_type": "execute_result"
    }
   ],
   "source": [
    "type(A)"
   ]
  },
  {
   "cell_type": "code",
   "execution_count": 5,
   "id": "b8c6605b-22ac-4126-94d8-0c265c748967",
   "metadata": {},
   "outputs": [
    {
     "data": {
      "text/plain": [
       "dict"
      ]
     },
     "execution_count": 5,
     "metadata": {},
     "output_type": "execute_result"
    }
   ],
   "source": [
    "type(B)"
   ]
  },
  {
   "cell_type": "code",
   "execution_count": 6,
   "id": "d658f9a2-5906-448c-bef0-7d6cc2df25b3",
   "metadata": {},
   "outputs": [
    {
     "name": "stdout",
     "output_type": "stream",
     "text": [
      "45\n"
     ]
    }
   ],
   "source": [
    "print(A[3])"
   ]
  },
  {
   "cell_type": "code",
   "execution_count": 7,
   "id": "7dfe2317-8ab4-4aba-aa7e-c03e5e7b706b",
   "metadata": {},
   "outputs": [
    {
     "name": "stdout",
     "output_type": "stream",
     "text": [
      "('가', '나')\n"
     ]
    }
   ],
   "source": [
    "print(B[3])"
   ]
  }
 ],
 "metadata": {
  "kernelspec": {
   "display_name": "Python 3 (ipykernel)",
   "language": "python",
   "name": "python3"
  },
  "language_info": {
   "codemirror_mode": {
    "name": "ipython",
    "version": 3
   },
   "file_extension": ".py",
   "mimetype": "text/x-python",
   "name": "python",
   "nbconvert_exporter": "python",
   "pygments_lexer": "ipython3",
   "version": "3.9.13"
  }
 },
 "nbformat": 4,
 "nbformat_minor": 5
}
