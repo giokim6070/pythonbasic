{
 "cells": [
  {
   "cell_type": "code",
   "execution_count": 1,
   "id": "fbecc1ba-b11b-44d7-99d9-5518524cd3cf",
   "metadata": {},
   "outputs": [
    {
     "name": "stdout",
     "output_type": "stream",
     "text": [
      "\n",
      "안녕하세요.\n",
      "나는 파이썬을 공부하고 있습니다.\n",
      "반갑습니다.\n",
      "\n"
     ]
    }
   ],
   "source": [
    "s3 = \"\"\"\n",
    "안녕하세요.\n",
    "나는 파이썬을 공부하고 있습니다.\n",
    "반갑습니다.\n",
    "\"\"\"\n",
    "print(s3)\n"
   ]
  },
  {
   "cell_type": "code",
   "execution_count": 2,
   "id": "df84b7f5-6f25-400e-b3f8-c66eec0bd8b4",
   "metadata": {},
   "outputs": [
    {
     "name": "stdout",
     "output_type": "stream",
     "text": [
      "안녕하세요.\n",
      "나는 파이썬을 공부하고 있습니다.\n",
      "반갑습니다.\n",
      "\n"
     ]
    }
   ],
   "source": [
    "s4 = \"\"\"\\\n",
    "안녕하세요.\n",
    "나는 파이썬을 공부하고 있습니다.\n",
    "반갑습니다.\n",
    "\"\"\"\n",
    "print(s4)"
   ]
  },
  {
   "cell_type": "code",
   "execution_count": 3,
   "id": "465cdcf1-b8bb-4f91-a38a-9fa7451ab104",
   "metadata": {},
   "outputs": [
    {
     "name": "stdout",
     "output_type": "stream",
     "text": [
      "안녕하세요.\n",
      "나는 파이썬을 공부하고 있습니다.\n",
      "반갑습니다.\n"
     ]
    }
   ],
   "source": [
    "s4 = \"\"\"\\\n",
    "안녕하세요.\n",
    "나는 파이썬을 공부하고 있습니다.\n",
    "반갑습니다.\\\n",
    "\"\"\"\n",
    "print(s4)"
   ]
  },
  {
   "cell_type": "code",
   "execution_count": 4,
   "id": "48827fef-2c5b-42a8-93ab-ba5974c5327b",
   "metadata": {},
   "outputs": [
    {
     "name": "stdout",
     "output_type": "stream",
     "text": [
      "\n",
      "\"안녕하세요.\"\n",
      "나는 파이썬을 공부하고 있습니다.\n",
      "반갑습니다.\n",
      "\n"
     ]
    }
   ],
   "source": [
    "s4=\"\"\"\n",
    "\\\"안녕하세요.\\\"\n",
    "나는 파이썬을 공부하고 있습니다.\n",
    "반갑습니다.\n",
    "\"\"\"\n",
    "print(s4)"
   ]
  },
  {
   "cell_type": "code",
   "execution_count": 5,
   "id": "49e884d1-c241-4c0e-b498-c8ad605f7a0f",
   "metadata": {},
   "outputs": [
    {
     "name": "stdout",
     "output_type": "stream",
     "text": [
      "\"안녕하세요.\"\n",
      "나는 파이썬을 공부하고 있습니다.\n",
      "반갑습니다.\n"
     ]
    }
   ],
   "source": [
    "s4=\"\"\"\\\n",
    "\\\"안녕하세요.\\\"\n",
    "나는 파이썬을 공부하고 있습니다.\n",
    "반갑습니다.\\\n",
    "\"\"\"\n",
    "print(s4)"
   ]
  },
  {
   "cell_type": "code",
   "execution_count": 6,
   "id": "54c3b341-bdbc-4464-83ed-1499787ef2a2",
   "metadata": {},
   "outputs": [
    {
     "name": "stdout",
     "output_type": "stream",
     "text": [
      "너무 너무 너무 너무 너무 너무 너무 파이썬 공부가 즐겁습니다.\n"
     ]
    }
   ],
   "source": [
    "print(\"너무 너무 너무 너무 너무 너무 너무 파이썬 공부가 즐겁습니다.\")"
   ]
  },
  {
   "cell_type": "code",
   "execution_count": 7,
   "id": "ca1ad75c-aea3-4dc1-874b-9f257c30ffd7",
   "metadata": {},
   "outputs": [
    {
     "name": "stdout",
     "output_type": "stream",
     "text": [
      "너무 너무 너무 너무 너무 너무 너무 파이썬 공부가 즐겁습니다.\n"
     ]
    }
   ],
   "source": [
    "s6='너무 '*7+'파이썬 공부가 즐겁습니다.'\n",
    "print(s6)"
   ]
  },
  {
   "cell_type": "code",
   "execution_count": 8,
   "id": "f41aa06c-8158-407a-96d6-43e6e66e2c92",
   "metadata": {},
   "outputs": [
    {
     "name": "stdout",
     "output_type": "stream",
     "text": [
      "너무 너무 너무 너무 너무 너무 너무 너무 너무 너무 너무 너무 너무 너무 너무 너무 너무 너무 너무 너무 너무 너무 너무 너무 너무 너무 너무 너무 너무 너무 너무 너무 너무 너무 너무 너무 너무 너무 너무 너무 너무 너무 너무 너무 너무 너무 너무 너무 너무 너무 너무 너무 너무 너무 너무 너무 너무 너무 너무 너무 너무 너무 너무 너무 너무 너무 너무 너무 너무 너무 너무 너무 너무 너무 너무 너무 너무 너무 너무 너무 너무 너무 너무 너무 너무 너무 너무 너무 너무 너무 너무 너무 너무 너무 너무 너무 너무 너무 너무 너무 파이썬 공부가 즐겁습니다.\n"
     ]
    }
   ],
   "source": [
    "s6='너무 '*100+'파이썬 공부가 즐겁습니다.'\n",
    "print(s6)"
   ]
  },
  {
   "cell_type": "code",
   "execution_count": 9,
   "id": "1c5cb039-5279-4e8a-b3db-6f61acdf2ef9",
   "metadata": {},
   "outputs": [
    {
     "name": "stdout",
     "output_type": "stream",
     "text": [
      "p\n",
      "n\n",
      "n\n",
      "p\n"
     ]
    }
   ],
   "source": [
    "word='python'\n",
    "#인덱스는 0부터 시작된다.\n",
    "print(word[0])\n",
    "print(word[5])\n",
    "#음수는 뒤에서부터 셉니다.\n",
    "print(word[-1])\n",
    "print(word[-6])"
   ]
  },
  {
   "cell_type": "code",
   "execution_count": 10,
   "id": "0ef2fbff-835e-4a77-9003-ff1a4f1fd14d",
   "metadata": {},
   "outputs": [
    {
     "name": "stdout",
     "output_type": "stream",
     "text": [
      "꺾\n"
     ]
    }
   ],
   "source": [
    "sentence='중요한 것은 꺾이지 않는 마음'\n",
    "print(sentence[7])"
   ]
  },
  {
   "cell_type": "code",
   "execution_count": 11,
   "id": "dd9a68a6-f373-41cb-bb97-aada80091ba6",
   "metadata": {},
   "outputs": [
    {
     "name": "stdout",
     "output_type": "stream",
     "text": [
      "py\n",
      "py\n",
      "py\n"
     ]
    }
   ],
   "source": [
    "word='python'\n",
    "print(word[0:2])\n",
    "print(word[:2])\n",
    "print(word[:-4])"
   ]
  },
  {
   "cell_type": "code",
   "execution_count": 12,
   "id": "b56f39f5-ed33-4e07-83b3-1dbed6e07752",
   "metadata": {},
   "outputs": [
    {
     "name": "stdout",
     "output_type": "stream",
     "text": [
      "pto\n"
     ]
    }
   ],
   "source": [
    "word='python'\n",
    "print(word[::2])"
   ]
  },
  {
   "cell_type": "code",
   "execution_count": 13,
   "id": "86e6c826-ab40-43df-84d8-9addc6240898",
   "metadata": {},
   "outputs": [
    {
     "name": "stdout",
     "output_type": "stream",
     "text": [
      "\n"
     ]
    }
   ],
   "source": [
    "sentence=\"중요한 것은 꺾이지 않는 마음\"\n",
    "print(sentence[42:])"
   ]
  },
  {
   "cell_type": "code",
   "execution_count": 14,
   "id": "86bab238-84df-48e6-a3b1-e5bfcef66da0",
   "metadata": {},
   "outputs": [
    {
     "name": "stdout",
     "output_type": "stream",
     "text": [
      "한 것은 꺾이지 않는 마음\n"
     ]
    }
   ],
   "source": [
    "print(sentence[2:42])"
   ]
  },
  {
   "cell_type": "code",
   "execution_count": 15,
   "id": "694f3c6b-f188-4a7c-9336-3c84cab4d24d",
   "metadata": {},
   "outputs": [
    {
     "name": "stdout",
     "output_type": "stream",
     "text": [
      "꺾이지 않는 마음\n"
     ]
    }
   ],
   "source": [
    "print(sentence[7::])"
   ]
  },
  {
   "cell_type": "code",
   "execution_count": 16,
   "id": "052bccdd-86b8-4a49-aaa6-f5b1a90427a7",
   "metadata": {},
   "outputs": [
    {
     "name": "stdout",
     "output_type": "stream",
     "text": [
      "한요중\n"
     ]
    }
   ],
   "source": [
    "print(sentence[2::-1])"
   ]
  },
  {
   "cell_type": "code",
   "execution_count": 17,
   "id": "8afdbc58-d529-4272-95ed-67c3bf36d343",
   "metadata": {},
   "outputs": [
    {
     "name": "stdout",
     "output_type": "stream",
     "text": [
      "한요중\n"
     ]
    }
   ],
   "source": [
    "print(sentence[:3:][::-1])"
   ]
  },
  {
   "cell_type": "code",
   "execution_count": 18,
   "id": "910f14d0-2458-4a91-824c-39104d842677",
   "metadata": {},
   "outputs": [
    {
     "name": "stdout",
     "output_type": "stream",
     "text": [
      "대단한은 꺾이지 않는 마음\n"
     ]
    }
   ],
   "source": [
    "sentence='대단한'+sentence[5:]\n",
    "print(sentence)"
   ]
  },
  {
   "cell_type": "code",
   "execution_count": 19,
   "id": "cd3e28f4-1b53-49b5-bf54-191bee2c57f0",
   "metadata": {},
   "outputs": [
    {
     "name": "stdout",
     "output_type": "stream",
     "text": [
      "[1, 4, 9, 16, 25]\n"
     ]
    }
   ],
   "source": [
    "squares=[1**2,2**2,3**2,4**2,5**2]\n",
    "print(squares)"
   ]
  },
  {
   "cell_type": "code",
   "execution_count": 20,
   "id": "cadf7016-7c75-419b-81e1-82c208d20648",
   "metadata": {},
   "outputs": [
    {
     "name": "stdout",
     "output_type": "stream",
     "text": [
      "1\n",
      "25\n"
     ]
    }
   ],
   "source": [
    "print(squares[0])\n",
    "print(squares[-1])"
   ]
  },
  {
   "cell_type": "code",
   "execution_count": 21,
   "id": "86d7bf1d-0a53-42f7-a46c-863a270e8530",
   "metadata": {},
   "outputs": [
    {
     "name": "stdout",
     "output_type": "stream",
     "text": [
      "[9, 16, 25]\n"
     ]
    }
   ],
   "source": [
    "print(squares[-3:])"
   ]
  },
  {
   "cell_type": "code",
   "execution_count": 22,
   "id": "7a94d88d-5519-458d-aae5-c82cf52e81e6",
   "metadata": {},
   "outputs": [
    {
     "name": "stdout",
     "output_type": "stream",
     "text": [
      "[1, 4, 9, 16, 25, 36, 49, 64, 81, 100]\n"
     ]
    }
   ],
   "source": [
    "print(squares+[36,49,64,81,100])"
   ]
  },
  {
   "cell_type": "code",
   "execution_count": 23,
   "id": "ad61a13e-e06c-4072-994d-77769ca7115b",
   "metadata": {},
   "outputs": [
    {
     "name": "stdout",
     "output_type": "stream",
     "text": [
      "['a', 'b', 'c', 'd', 'e', 'a', 'b', 'c', 'd', 'e', 'a', 'b', 'c', 'd', 'e']\n"
     ]
    }
   ],
   "source": [
    "letters=['a','b','c','d','e']\n",
    "print(letters*3)"
   ]
  },
  {
   "cell_type": "code",
   "execution_count": 24,
   "id": "08061ff0-d8fb-43ca-97cb-7e5a861e277e",
   "metadata": {},
   "outputs": [
    {
     "name": "stdout",
     "output_type": "stream",
     "text": [
      "[1, 8, 27, 64, 125]\n"
     ]
    }
   ],
   "source": [
    "cubes=[1,8,27,65,125]\n",
    "cubes[3]=4**3\n",
    "print(cubes)"
   ]
  },
  {
   "cell_type": "code",
   "execution_count": 25,
   "id": "eabd8cf1-baf8-4207-b941-b4cabfc517e7",
   "metadata": {},
   "outputs": [
    {
     "name": "stdout",
     "output_type": "stream",
     "text": [
      "['a', 'b', 'C', 'D', 'E']\n"
     ]
    }
   ],
   "source": [
    "letters[2:5]=['C','D','E']\n",
    "print(letters)"
   ]
  },
  {
   "cell_type": "code",
   "execution_count": 26,
   "id": "b0e9cb84-f846-4a53-b869-12355db28adf",
   "metadata": {},
   "outputs": [
    {
     "name": "stdout",
     "output_type": "stream",
     "text": [
      "5\n"
     ]
    }
   ],
   "source": [
    "letters=['a','b','c','d','e']\n",
    "print(len(letters))"
   ]
  },
  {
   "cell_type": "code",
   "execution_count": 27,
   "id": "bf252755-ed1c-48c4-a5b4-91cd5f191da4",
   "metadata": {},
   "outputs": [
    {
     "name": "stdout",
     "output_type": "stream",
     "text": [
      "[['a', 'b', 'c'], [1, 2, 3]]\n"
     ]
    }
   ],
   "source": [
    "a=['a','b','c']\n",
    "n=[1,2,3]\n",
    "x=[a,n]\n",
    "print(x)"
   ]
  },
  {
   "cell_type": "code",
   "execution_count": 28,
   "id": "035f2879-4fff-4052-abf4-237583f9ed73",
   "metadata": {},
   "outputs": [
    {
     "name": "stdout",
     "output_type": "stream",
     "text": [
      "['a', 'b', 'c']\n"
     ]
    }
   ],
   "source": [
    "print(x[0])"
   ]
  },
  {
   "cell_type": "code",
   "execution_count": 29,
   "id": "6a5ed1df-767c-41d3-9437-ed9c078a967c",
   "metadata": {},
   "outputs": [
    {
     "name": "stdout",
     "output_type": "stream",
     "text": [
      "b\n"
     ]
    }
   ],
   "source": [
    "print(x[0][1])"
   ]
  },
  {
   "cell_type": "code",
   "execution_count": 30,
   "id": "c9dbbe4a-df41-4fc6-b320-9a6843b954e2",
   "metadata": {},
   "outputs": [
    {
     "name": "stdout",
     "output_type": "stream",
     "text": [
      "True\n",
      "False\n"
     ]
    }
   ],
   "source": [
    "numbers=[1,2,3,4,5,6,7]\n",
    "print(5 in numbers)\n",
    "print(10 in numbers)"
   ]
  },
  {
   "cell_type": "code",
   "execution_count": 31,
   "id": "890b7372-4ade-4284-9c59-4d61a7468017",
   "metadata": {},
   "outputs": [
    {
     "name": "stdout",
     "output_type": "stream",
     "text": [
      "False\n"
     ]
    }
   ],
   "source": [
    "#[국어,영어,한국사,선택 교과1,선택 교과2]\n",
    "scores=[88,73,89,59,77]\n",
    "print(scores[0]>=60 and scores[1]>=60 and scores[2]>=60 and scores[3]>=60 and scores[4]>=60) "
   ]
  },
  {
   "cell_type": "code",
   "execution_count": 32,
   "id": "689011c7-4954-45e2-972f-e7aa835b0d9d",
   "metadata": {},
   "outputs": [
    {
     "name": "stdout",
     "output_type": "stream",
     "text": [
      "[1, 2, 3, 4, 5, 6, 7, 8]\n"
     ]
    }
   ],
   "source": [
    "numbers=[1,2,3,4,5,6,7]\n",
    "numbers.append(8)\n",
    "print(numbers)"
   ]
  },
  {
   "cell_type": "code",
   "execution_count": 33,
   "id": "308c8f3c-1fe4-4889-b3fd-9157e2a671d1",
   "metadata": {},
   "outputs": [
    {
     "name": "stdout",
     "output_type": "stream",
     "text": [
      "[0, 1, 2, 3, 0, 4, 0, 5, 6, 7, 8, 0]\n"
     ]
    }
   ],
   "source": [
    "numbers.insert(0,0)\n",
    "numbers.insert(4,0)\n",
    "numbers.insert(6,0)\n",
    "numbers.insert(len(numbers),0)\n",
    "print(numbers)"
   ]
  },
  {
   "cell_type": "code",
   "execution_count": 34,
   "id": "a24219cc-1189-41bf-85e5-078f6a737f87",
   "metadata": {},
   "outputs": [
    {
     "name": "stdout",
     "output_type": "stream",
     "text": [
      "[0, 1, 2, 3, 0, 4, 0, 5, 6, 7, 8, 0, 9, 10, 11]\n"
     ]
    }
   ],
   "source": [
    "numbers.extend([9,10,11])\n",
    "print(numbers)"
   ]
  },
  {
   "cell_type": "code",
   "execution_count": 35,
   "id": "59012793-145c-47ba-9f73-6d290b262f08",
   "metadata": {},
   "outputs": [
    {
     "name": "stdout",
     "output_type": "stream",
     "text": [
      "[1, 2, 3, 0, 4, 0, 5, 6, 7, 8, 0, 9, 10, 11]\n"
     ]
    }
   ],
   "source": [
    "numbers.remove(0)\n",
    "print(numbers)"
   ]
  },
  {
   "cell_type": "code",
   "execution_count": 36,
   "id": "c9ca6704-4fe1-4c66-9c1b-7bd122fb0ec7",
   "metadata": {},
   "outputs": [
    {
     "name": "stdout",
     "output_type": "stream",
     "text": [
      "11\n"
     ]
    }
   ],
   "source": [
    "print(numbers.pop())"
   ]
  },
  {
   "cell_type": "code",
   "execution_count": 37,
   "id": "1df49b77-4eb5-4e82-8fbb-c7f3fa932b3d",
   "metadata": {},
   "outputs": [
    {
     "name": "stdout",
     "output_type": "stream",
     "text": [
      "[1, 2, 3, 0, 4, 0, 5, 6, 7, 8, 0, 9, 10]\n"
     ]
    }
   ],
   "source": [
    "print(numbers)"
   ]
  },
  {
   "cell_type": "code",
   "execution_count": 38,
   "id": "173762b8-4cf4-47cb-b28a-d2a5c5c03fcc",
   "metadata": {},
   "outputs": [
    {
     "name": "stdout",
     "output_type": "stream",
     "text": [
      "3\n"
     ]
    }
   ],
   "source": [
    "print(numbers.index(0))"
   ]
  },
  {
   "cell_type": "code",
   "execution_count": 39,
   "id": "da6355e7-cd4f-47bd-abc9-ae3f3e408019",
   "metadata": {},
   "outputs": [
    {
     "name": "stdout",
     "output_type": "stream",
     "text": [
      "3\n"
     ]
    }
   ],
   "source": [
    "print(numbers.count(0))"
   ]
  },
  {
   "cell_type": "code",
   "execution_count": 40,
   "id": "526edb38-91e9-47c1-b4c5-7e7a52396ebf",
   "metadata": {},
   "outputs": [
    {
     "name": "stdout",
     "output_type": "stream",
     "text": [
      "[0, 0, 0, 1, 2, 3, 4, 5, 6, 7, 8, 9, 10]\n"
     ]
    }
   ],
   "source": [
    "numbers.sort()\n",
    "print(numbers)"
   ]
  },
  {
   "cell_type": "code",
   "execution_count": 41,
   "id": "87e82702-1bc2-43ff-988d-4738a011ab29",
   "metadata": {},
   "outputs": [
    {
     "name": "stdout",
     "output_type": "stream",
     "text": [
      "[10, 9, 8, 7, 6, 5, 4, 3, 2, 1, 0, 0, 0]\n"
     ]
    }
   ],
   "source": [
    "numbers=[0, 0, 0, 1, 2, 3, 4, 5, 6, 7, 8, 9, 10]\n",
    "numbers.reverse()\n",
    "print(numbers)"
   ]
  },
  {
   "cell_type": "code",
   "execution_count": 42,
   "id": "4c1779ba-df7b-4fdc-aa17-6b44a7144e76",
   "metadata": {},
   "outputs": [
    {
     "name": "stdout",
     "output_type": "stream",
     "text": [
      "[3, 4, 5, 6, 7]\n",
      "7\n",
      "[3, 4, 5, 6]\n",
      "6\n",
      "5\n",
      "[3, 4]\n"
     ]
    }
   ],
   "source": [
    "stack=[3, 4, 5]\n",
    "stack.append(6)\n",
    "stack.append(7)\n",
    "print(stack)\n",
    "\n",
    "print(stack.pop())\n",
    "\n",
    "print(stack)\n",
    "\n",
    "print(stack.pop())\n",
    "\n",
    "print(stack.pop())\n",
    "\n",
    "print(stack)"
   ]
  },
  {
   "cell_type": "code",
   "execution_count": 43,
   "id": "6087be0f-5d9d-4cf2-94c3-bbc1783001af",
   "metadata": {},
   "outputs": [
    {
     "name": "stdout",
     "output_type": "stream",
     "text": [
      "[]\n"
     ]
    }
   ],
   "source": [
    "numbers.clear()\n",
    "print(numbers)"
   ]
  },
  {
   "cell_type": "code",
   "execution_count": 44,
   "id": "2d8a8225-2943-4567-9fd4-8a1c143f51b2",
   "metadata": {},
   "outputs": [],
   "source": [
    "tuple_variable=(1,2,3,4,5,\"hello\")\n",
    "#tuple_variable[0]=0"
   ]
  },
  {
   "cell_type": "code",
   "execution_count": 45,
   "id": "3e2faf52-c8cc-4f64-8dcc-8d2d5a12ce4a",
   "metadata": {},
   "outputs": [],
   "source": [
    "#tuple_variable[1:3]=(\"음\",\"오\")"
   ]
  },
  {
   "cell_type": "code",
   "execution_count": 46,
   "id": "37f3a397-3e06-4739-9881-956fcba6d1df",
   "metadata": {},
   "outputs": [],
   "source": [
    "#del tuple_variable[1]"
   ]
  },
  {
   "cell_type": "code",
   "execution_count": 47,
   "id": "da0cec24-c737-42f6-8032-1c36f27ae8f6",
   "metadata": {},
   "outputs": [
    {
     "name": "stdout",
     "output_type": "stream",
     "text": [
      "<class 'tuple'>\n",
      "('음', '오', '아', '예')\n"
     ]
    }
   ],
   "source": [
    "t_v2=\"음\",\"오\",\"아\",\"예\"\n",
    "print(type(t_v2))\n",
    "print(t_v2)"
   ]
  },
  {
   "cell_type": "code",
   "execution_count": 48,
   "id": "e94aa4e5-e438-4250-bf30-d5104a539bb0",
   "metadata": {},
   "outputs": [
    {
     "name": "stdout",
     "output_type": "stream",
     "text": [
      "1.728764533996582\n"
     ]
    }
   ],
   "source": [
    "import time\n",
    "\n",
    "start_time = time.time() #시작하는 시간\n",
    "test = []\n",
    "\n",
    "# 1,000,000번을 반복해서 tuple만듭니다.\n",
    "for _ in range(10_000_000):\n",
    "    tp = (_, _) # tuple\n",
    "    test.append(tp)\n",
    "\n",
    "# 끝나는 시간 - 시작하는 시간\n",
    "print(time.time() - start_time)    \n",
    "# 동작한 시간"
   ]
  },
  {
   "cell_type": "code",
   "execution_count": 49,
   "id": "27b158d6-0a5e-4ec1-b44c-7b53747fd003",
   "metadata": {},
   "outputs": [
    {
     "name": "stdout",
     "output_type": "stream",
     "text": [
      "text1\n",
      "text2\n"
     ]
    }
   ],
   "source": [
    "s1, s2 = \"text1\", \"text2\"\n",
    "print(s1)\n",
    "print(s2)"
   ]
  },
  {
   "cell_type": "code",
   "execution_count": 50,
   "id": "7fed542f-a913-4b57-aa7e-07ec408b8690",
   "metadata": {},
   "outputs": [
    {
     "name": "stdout",
     "output_type": "stream",
     "text": [
      "이렇게 리스트도 가능합니다.\n"
     ]
    }
   ],
   "source": [
    "s3, s4, s5 = [\"이렇게\", \"리스트도\", \"가능합니다.\"]\n",
    "print(s3, s4, s5)\n",
    "#unpacking"
   ]
  },
  {
   "cell_type": "code",
   "execution_count": 13,
   "id": "ee53178a-1e54-4268-b68d-ef1c0578d902",
   "metadata": {},
   "outputs": [
    {
     "name": "stdout",
     "output_type": "stream",
     "text": [
      "문 자 열 도\n"
     ]
    }
   ],
   "source": [
    "s6, s7, s8, s9 = \"문자열도\"\n",
    "print(s6, s7, s8, s9)\n",
    "#unpacking"
   ]
  },
  {
   "cell_type": "markdown",
   "id": "b4ffb308-2126-4066-9e39-78b1c2630bc3",
   "metadata": {},
   "source": [
    "# input_value = input(\"Message\")"
   ]
  },
  {
   "cell_type": "code",
   "execution_count": 53,
   "id": "8df80b81-7643-4814-8311-871539bee02e",
   "metadata": {},
   "outputs": [
    {
     "name": "stdout",
     "output_type": "stream",
     "text": [
      "input_value: 1 \n",
      "type: <class 'str'>\n"
     ]
    }
   ],
   "source": [
    "print(\"input_value:\", input_value, \"\\ntype:\", type(input_value))"
   ]
  },
  {
   "cell_type": "code",
   "execution_count": 54,
   "id": "8971690a-7add-4bfa-89c3-54b8125cc84e",
   "metadata": {},
   "outputs": [
    {
     "name": "stdin",
     "output_type": "stream",
     "text": [
      "정수 외에 다른 값을 입력해보세요. 1\n"
     ]
    }
   ],
   "source": [
    "input_value2 = input(\"정수 외에 다른 값을 입력해보세요.\")"
   ]
  },
  {
   "cell_type": "code",
   "execution_count": 55,
   "id": "b86d84b1-217c-42fa-b43a-415fa4fbea02",
   "metadata": {},
   "outputs": [
    {
     "name": "stdin",
     "output_type": "stream",
     "text": [
      "정수를 입력해주세요: 1\n"
     ]
    },
    {
     "name": "stdout",
     "output_type": "stream",
     "text": [
      "1\n"
     ]
    }
   ],
   "source": [
    "# input()과 int()를 한 줄로 작성해보기\n",
    "\n",
    "input_value4 = int(input(\"정수를 입력해주세요:\"))\n",
    "print(input_value4)\n",
    "\n",
    "# input 제일 깊이 있는 소괄호 내부부터 실행됨"
   ]
  },
  {
   "cell_type": "code",
   "execution_count": 7,
   "id": "ce911a38-d359-4edd-91ac-f77360652607",
   "metadata": {},
   "outputs": [
    {
     "name": "stdin",
     "output_type": "stream",
     "text": [
      "이름을 입력하시오. 엔코아\n"
     ]
    },
    {
     "name": "stdout",
     "output_type": "stream",
     "text": [
      "엔코아 씨 안녕하세요?\n",
      "파이썬에 오신 것을 환영합니다.\n"
     ]
    },
    {
     "name": "stdin",
     "output_type": "stream",
     "text": [
      "첫 번째 정수를 입력하세요. 300\n",
      "두 번째 정수를 입력하세요. 400\n"
     ]
    },
    {
     "name": "stdout",
     "output_type": "stream",
     "text": [
      "300 과 400 의 합은 700 입니다.\n"
     ]
    }
   ],
   "source": [
    "a = input(\"이름을 입력하시오.\")\n",
    "print(a,\"씨 안녕하세요?\")\n",
    "print(\"파이썬에 오신 것을 환영합니다.\")\n",
    "b = int(input(\"첫 번째 정수를 입력하세요.\"))\n",
    "c = int(input(\"두 번째 정수를 입력하세요.\"))\n",
    "d = b+c \n",
    "print(b,\"과\", c,\"의 합은\", d, \"입니다.\")"
   ]
  },
  {
   "cell_type": "code",
   "execution_count": 6,
   "id": "92fcead8-882f-46e3-b2d1-8678bba123d7",
   "metadata": {},
   "outputs": [
    {
     "name": "stdin",
     "output_type": "stream",
     "text": [
      "경기장은 어디입니까? 고척\n",
      "이긴 팀은 어디입니까? KT\n",
      "진팀은 어디입니까? LG\n",
      "우수 선수는 누구입니까? 강백호\n",
      "스코어는 몇대몇입니까? 10:9\n"
     ]
    },
    {
     "name": "stdout",
     "output_type": "stream",
     "text": [
      "\n",
      "[속보] KT 가 10:9 로 승리...\n",
      "오늘 고척 경기장에서 야구 경기가 있었습니다.\n",
      "KT 와 LG 는 치열한 공방전을 펼쳤습니다.\n",
      "이 경기에서 강백호 가 맹활약을 했습니다.\n",
      "그 끝내 KT 가 LG 를 10:9 로 승리하였습니다.\n",
      "기사 끝\n"
     ]
    }
   ],
   "source": [
    "a = input(\"경기장은 어디입니까?\")\n",
    "b = input(\"이긴 팀은 어디입니까?\")\n",
    "c = input(\"진팀은 어디입니까?\")\n",
    "d = input(\"우수 선수는 누구입니까?\")\n",
    "e = input(\"스코어는 몇대몇입니까?\")\n",
    "\n",
    "print(\"\\n[속보]\", b,\"가\", e,\"로 승리...\")\n",
    "print(\"오늘\", a,\"경기장에서 야구 경기가 있었습니다.\")\n",
    "print(b,\"와\", c,\"는 치열한 공방전을 펼쳤습니다.\")\n",
    "print(\"이 경기에서\", d,\"가 맹활약을 했습니다.\")\n",
    "print(\"그 끝내\", b,\"가\", c, \"를\", e,\"로 승리하였습니다.\")\n",
    "print(\"기사 끝\")\n",
    "\n",
    "# sep= 넣으면 공백을 없앨 수 있다...?"
   ]
  },
  {
   "cell_type": "code",
   "execution_count": 58,
   "id": "49554afa-e1b2-41de-ae23-1160b0279426",
   "metadata": {},
   "outputs": [
    {
     "name": "stdout",
     "output_type": "stream",
     "text": [
      "<class 'list'>\n",
      "['1', '2', '3']\n"
     ]
    }
   ],
   "source": [
    "# 한번에 두 개의 입력을 받기 위해 문자열의 split() 함수 활용\n",
    "# split() 함수는 인자로 전달된 구분자를 활용하여 문자열 쪼갬\n",
    "# 그 결과를 list 자료형을 반환함\n",
    "# 구분자를 인자로 전달하지 않는 경우엔 공백을 기준으로 문자열을 쪼갬\n",
    "# split 앞에는 항상 문자열 형태가 와야한다.\n",
    "\n",
    "result = '1,2,3'.split(',')\n",
    "print(type(result))\n",
    "print(result)"
   ]
  },
  {
   "cell_type": "code",
   "execution_count": 8,
   "id": "c135de5b-6bce-4276-a377-6a8c16425e25",
   "metadata": {},
   "outputs": [
    {
     "name": "stdin",
     "output_type": "stream",
     "text": [
      "hh:mm:ss 의 형태로 시간을 입력해주세요. 12:33:23\n"
     ]
    },
    {
     "name": "stdout",
     "output_type": "stream",
     "text": [
      "\n",
      "실행 결과:\n",
      "시 : 12\n",
      "분 : 33\n",
      "초 : 23\n"
     ]
    }
   ],
   "source": [
    "result = input('hh:mm:ss 의 형태로 시간을 입력해주세요.')\n",
    "\n",
    "result = result.split(':')\n",
    "print('\\n실행 결과:')\n",
    "print('시 :', result[0])\n",
    "print('분 :', result[1])\n",
    "print('초 :', result[2])"
   ]
  },
  {
   "cell_type": "code",
   "execution_count": null,
   "id": "c7ea2e90-821c-4b74-b7b1-c949bed161ce",
   "metadata": {},
   "outputs": [],
   "source": [
    "# h, m, s = input(\"hh:mm:ss의 형태로 시간을 입력해주세요\").split(\":\")\n",
    "# print(\"시 :\", h)\n",
    "# print(\"분 :\", h)\n",
    "# print(\"초 :\", h)"
   ]
  },
  {
   "cell_type": "code",
   "execution_count": 9,
   "id": "0c51cfab-8709-48f3-a768-4a59bfbb323f",
   "metadata": {},
   "outputs": [
    {
     "name": "stdout",
     "output_type": "stream",
     "text": [
      "[1, 2, 3, 4]\n"
     ]
    }
   ],
   "source": [
    "# map() 내장함수\n",
    "# 반복가능한 객체에서 요소를 하나하나 꺼내어 특정 함수를 각각 적용하고 싶을 때 사용합니다.\n",
    "\n",
    "a = [1.2, 2.5, 3.7, 4.6]\n",
    "a = list(map(int, a))\n",
    "print(a)\n",
    "\n",
    "# 우리가 원하는 대로 소수점이 없어진 결과를 얻을 수 있음."
   ]
  },
  {
   "cell_type": "code",
   "execution_count": 18,
   "id": "cb271462-221e-4636-b007-9d1a99ea670e",
   "metadata": {},
   "outputs": [
    {
     "name": "stdin",
     "output_type": "stream",
     "text": [
      "국어, 영어, 수학, 과학 점수를 입력해주세요 98,100,96,100\n"
     ]
    },
    {
     "name": "stdout",
     "output_type": "stream",
     "text": [
      "\n",
      "실행 결과:\n",
      "평균 점수는 98.5 점 입니다.\n"
     ]
    }
   ],
   "source": [
    "result = input('국어, 영어, 수학, 과학 점수를 입력해주세요')\n",
    "result = result.split(',')\n",
    "result = list(map(int,result))\n",
    "\n",
    "result = (result[0]+result[1]+result[2]+result[3])/4\n",
    "print(\"\\n실행 결과:\")\n",
    "print(\"평균 점수는\",result,\"점 입니다.\")"
   ]
  },
  {
   "cell_type": "code",
   "execution_count": null,
   "id": "8e43374f-9142-4979-b82d-93b30827c66b",
   "metadata": {},
   "outputs": [],
   "source": [
    "#grade = input(\"국어, 영어, 수학, 과학 점수를 입력해주세요.\")\n",
    "#grade = grade.split(\",\")\n",
    "#grade = list(map(int, grade))\n",
    "#grade = (grade[0]+grade[1]+grade[2]+grade[3])/4\n",
    "#print(\"\\n실행 결과: \\n평균 점수는\", grade, \"점입니다.\")"
   ]
  }
 ],
 "metadata": {
  "kernelspec": {
   "display_name": "Python 3 (ipykernel)",
   "language": "python",
   "name": "python3"
  },
  "language_info": {
   "codemirror_mode": {
    "name": "ipython",
    "version": 3
   },
   "file_extension": ".py",
   "mimetype": "text/x-python",
   "name": "python",
   "nbconvert_exporter": "python",
   "pygments_lexer": "ipython3",
   "version": "3.9.13"
  }
 },
 "nbformat": 4,
 "nbformat_minor": 5
}
