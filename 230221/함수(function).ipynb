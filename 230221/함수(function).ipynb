{
 "cells": [
  {
   "cell_type": "code",
   "execution_count": 1,
   "id": "0f3ae669-2ce6-4909-a1a6-8182f22c7331",
   "metadata": {},
   "outputs": [],
   "source": [
    "# 함수(function)\n",
    "# 함수명 Snake case 쓰는게 표준이다.\n",
    "# 인수 argument / 인자 parameter\n",
    "# 인수가 인자로 전달이 된다.\n",
    "# call ----- return\n",
    "# def define= 정의부\n",
    "# return result가 1개가 아닐때....tuple이나 result 형태로....?\n",
    "# tuple ---> () 생략가능"
   ]
  },
  {
   "cell_type": "code",
   "execution_count": 2,
   "id": "02581fa6-925c-40f1-bd98-6f97b0f90897",
   "metadata": {},
   "outputs": [],
   "source": [
    "# 우리가 사용해온 print(), len(), list(), reversed() 모두가 함수.\n",
    "# 한번 정의해두고 필요할 때마다 재사용할 수 있었다.\n",
    "# 코드의 중복을 줄일 수 있어서 유지보수에 좋다. 생산성이 좋다."
   ]
  },
  {
   "cell_type": "code",
   "execution_count": 3,
   "id": "5718bbb7-a59f-461d-b59c-311267647c2d",
   "metadata": {},
   "outputs": [],
   "source": [
    "# 함수(Function) vs 메서드(Method)\n",
    "\n",
    "# 함수는 클래스에 포함되지 않은 채로 사용된다.\n",
    "# --> 함수명((인수1), (인수2), ...)\n",
    "\n",
    "# 메서드는 클래스에 포함되어 객체를 통해 호출된다.\n",
    "# --> 객체.메서드명((인수1), (인수2), ...)     \n",
    "# 객체 통해서 클래스를 확인. 클래스 안에 있는 함수가 메서드."
   ]
  },
  {
   "cell_type": "code",
   "execution_count": 4,
   "id": "0310fc2e-f16c-4915-b7ac-edd5063af116",
   "metadata": {},
   "outputs": [],
   "source": [
    "# def함수_이름(위치_인자, 위치_인자2, *가변_위치, 키워드_인자, 키워드_인자2, **가변_키워드):\n",
    "\n",
    "# -------Snake case, 소괄호, 위치, 키워드--------\n",
    "\n",
    "# \"\"\"                            \n",
    "# Doc String을 적는 곳입니다.      # ----- 위의 함수에 대한 설명을 \n",
    "                                 # -----Doc String에 적으면 됨(회사마다 상이함)\n",
    "# 작성자 : 이기수                  \n",
    "# 작성일자 : 2020.02.03           \n",
    "\n",
    "# \"\"\"\n",
    "\n",
    "# 함수의 바디\n",
    "# 함수의 바디\n",
    "\n",
    "# return 반환값      ---> return은 keyword 만나면 함수를 빠져나간다."
   ]
  },
  {
   "cell_type": "code",
   "execution_count": 5,
   "id": "6b5a166b-7946-47f3-ad32-e205b4dca2d1",
   "metadata": {},
   "outputs": [],
   "source": [
    "def print_ten():\n",
    "    \"\"\"print(\"hello\")를 열번 출력합니다.\"\"\"\n",
    "    for _ in range(10):           # 바디부분\n",
    "        print(\"hello\")"
   ]
  },
  {
   "cell_type": "code",
   "execution_count": 6,
   "id": "dc5388e2-9b21-4988-a50d-2f863e87ab55",
   "metadata": {},
   "outputs": [
    {
     "name": "stdout",
     "output_type": "stream",
     "text": [
      "hello\n",
      "hello\n",
      "hello\n",
      "hello\n",
      "hello\n",
      "hello\n",
      "hello\n",
      "hello\n",
      "hello\n",
      "hello\n"
     ]
    }
   ],
   "source": [
    "print_ten()  #윗부분 실행하고 여기도 진행해야 함"
   ]
  },
  {
   "cell_type": "code",
   "execution_count": 7,
   "id": "012d719b-c2eb-4784-a8a5-67f5a4ed4500",
   "metadata": {},
   "outputs": [
    {
     "name": "stdout",
     "output_type": "stream",
     "text": [
      "print(\"hello\")를 열번 출력합니다.\n"
     ]
    }
   ],
   "source": [
    "print(print_ten.__doc__)"
   ]
  },
  {
   "cell_type": "code",
   "execution_count": 8,
   "id": "acf71d46-f062-47e5-9787-12f582910dcb",
   "metadata": {},
   "outputs": [
    {
     "name": "stdout",
     "output_type": "stream",
     "text": [
      "print(value, ..., sep=' ', end='\\n', file=sys.stdout, flush=False)\n",
      "\n",
      "Prints the values to a stream, or to sys.stdout by default.\n",
      "Optional keyword arguments:\n",
      "file:  a file-like object (stream); defaults to the current sys.stdout.\n",
      "sep:   string inserted between values, default a space.\n",
      "end:   string appended after the last value, default a newline.\n",
      "flush: whether to forcibly flush the stream.\n"
     ]
    }
   ],
   "source": [
    "print(print.__doc__)"
   ]
  },
  {
   "cell_type": "code",
   "execution_count": 9,
   "id": "e46849ad-1244-470a-bf60-afcdbeff73f6",
   "metadata": {},
   "outputs": [],
   "source": [
    "# 함수의 정의 - 인자(매개변수) parameter\n",
    "# 함수(또는 메서드) 정의에서 함수가 받을 수 있는 변수이다.\n",
    "# 함수인자 혹은 매개변수라고 부른다.\n",
    "# 인자는 함수 정의절(def)에서 소괄호 안에 정의된다. 5가지 종류 있음.\n",
    "# 위치 인수는 순서가 중요하다!!!!!\n",
    "\n",
    "# 1. 위치-키워드(positional or keyword)      # True or True\n",
    "# : 위치 혹은 키워드로 전달될 수 있는 인자. 매개변수의 기본 형태.\n",
    "\n",
    "# 2. 위치 전용(positional-only)\n",
    "# : /문자를 기준으로 좌측에 위치한 인자\n",
    "\n",
    "# 3. 키워드 전용(keyword-only)                         /, *, \n",
    "# : *문자를 기준으로 우측에 위치한 인자\n",
    "\n",
    "# 4. 가변 위치(var positional)\n",
    "# : 위치 매개변수(인자) 외에 추가적인 위치 매개변수를 개수에 상관없이 받을 수 있음\n",
    "# : 변수명 앞에 *를 앞에 하나 붙여 표기함\n",
    "\n",
    "# 5. 가변 키워드(var keyword)\n",
    "# : 키워드 매개변수 외에 추가적인 키워드 매개변수를 개수에 상관없이 받을 수 있음\n",
    "# :변수명 앞에 **를 두개 붙여 표기함\n",
    "# 예를 들어 dict_a = dict(key='value', key2='value2')\n",
    "# 가변키워드는 key='value', key2='value2'얘를 묶어서 하나로 받는다..."
   ]
  },
  {
   "cell_type": "code",
   "execution_count": 10,
   "id": "905749c2-75e2-4188-8ed1-f8b21a005aab",
   "metadata": {},
   "outputs": [],
   "source": [
    "# Arguments   /    Parameter  같은 것 아니야 달라!!\n",
    "\n",
    "# Parameters는 함수 정의절에서 사용하는 이름\n",
    "# Arguments는 함수 호출할 때 함수에 전달하는 실제 값\n",
    "\n",
    "# 따라서 Paraneters는 어떤 종류의 Arguments를 받을지 정의한다.\n",
    "\n",
    "def greeting(name, age):\n",
    "    print(f\"{name}씨 안녕하세요. 약{age * 365.25}일 되었습니다.\")"
   ]
  },
  {
   "cell_type": "code",
   "execution_count": 11,
   "id": "c699bab4-b57f-4c61-87d7-5d15ebe4de02",
   "metadata": {},
   "outputs": [
    {
     "name": "stdout",
     "output_type": "stream",
     "text": [
      "파이썬씨 안녕하세요. 약11688.0일 되었습니다.\n"
     ]
    }
   ],
   "source": [
    "greeting(\"파이썬\", 32)"
   ]
  },
  {
   "cell_type": "code",
   "execution_count": 12,
   "id": "053f6182-a822-4072-967b-026548d9fbc2",
   "metadata": {},
   "outputs": [],
   "source": [
    "# 1. 위치-키워드 인자(positional or keyword)"
   ]
  },
  {
   "cell_type": "code",
   "execution_count": 13,
   "id": "ea5e0000-4e6d-4e4a-93ef-a35a1398441c",
   "metadata": {},
   "outputs": [],
   "source": [
    "# 함수의 정의  위치-키워드 인자(positional-or-keyword parameters)\n",
    "# 위치 인수 또는 키워드 인수를 받을 수 있는 인자를 위치-키워드 인자라고 함\n",
    "# 예제를 보면 위치-키워드 인자가 기본 값(ex) name=\"홍길동\", age=3)을 갖지 않는다.\n",
    "# 따라서 인수없이 함수를 호출하면 TypeError가 발생함.( ex)greeting() )\n",
    "# keyword 인수 간에 위치(순서)는 중요하지 않다. 마치 딕셔너리와 같은 원리.\n",
    "# (dict --> 순서가 없음, 비시퀀스형. keyword(key)로 찾아감)"
   ]
  },
  {
   "cell_type": "code",
   "execution_count": 14,
   "id": "b80721f2-9a3f-42e7-b0ce-74149f3440d7",
   "metadata": {},
   "outputs": [],
   "source": [
    "# 함수의 호출 - 위치 인수와 키워드 인수\n",
    "# 함수를 호출할 때 소괄호(())안에 위치 인수 먼저 작성 후 키워드 인수 작성한다.\n",
    "# 위치 인수는 순서에 영향을 받지만 (순서중요) \n",
    "# 키워드 인수는 순서에 상관 없이 작성가능.\n",
    "# ex) print('value', 'value2', sep=\"\", end=\"\")"
   ]
  },
  {
   "cell_type": "code",
   "execution_count": 15,
   "id": "b1d84757-3a25-411f-bdff-4d96fdfb8c8d",
   "metadata": {},
   "outputs": [],
   "source": [
    "# def greeting(name=\"default\", age):\n",
    "    # print(f\"{name} 씨 안녕하세요. 약 {age * 365.25}일 되었습니다.\")\n",
    "    \n",
    "    # 이거 결과 에러뜸 왜냐하면,\n",
    "    # name=\"default\", age \n",
    "    # 위에 부분 non-default parameter가 먼저오고 default parameter 와야함"
   ]
  },
  {
   "cell_type": "code",
   "execution_count": 16,
   "id": "e02c360c-8278-4836-b7c9-5bf7691f5f5c",
   "metadata": {},
   "outputs": [],
   "source": [
    "# 2. 위치 전용(positional-only)\n",
    "\n",
    "# : /문자를 기준으로 좌측에 위치한 인자\n",
    "\n",
    "# <함수 정의>\n",
    "def posonly(posonly, /):  \n",
    "    print(posonly)\n",
    "#  /를 인자로 위치시키면 그 왼편의 parameters는 positional-only parameters가 됨"
   ]
  },
  {
   "cell_type": "code",
   "execution_count": 17,
   "id": "a14eac37-b1ac-4a1c-9d81-535881828850",
   "metadata": {},
   "outputs": [
    {
     "name": "stdout",
     "output_type": "stream",
     "text": [
      "값만 입력해야 합니다.\n"
     ]
    }
   ],
   "source": [
    "# <함수 호출>\n",
    "posonly(\"값만 입력해야 합니다.\")"
   ]
  },
  {
   "cell_type": "code",
   "execution_count": 18,
   "id": "ff38e8c4-4ecb-486f-8300-461586721e6f",
   "metadata": {},
   "outputs": [],
   "source": [
    "# 3. 키워드 전용(keyword-only)    \n",
    "\n",
    "# : *문자를 기준으로 우측에 위치한 인자\n",
    "\n",
    "def keyonly(*, keyonly=\"default\"):\n",
    "    print(keyonly)"
   ]
  },
  {
   "cell_type": "code",
   "execution_count": 19,
   "id": "1346fcf8-293a-4aba-9f6d-f0df493e865e",
   "metadata": {},
   "outputs": [
    {
     "name": "stdout",
     "output_type": "stream",
     "text": [
      "default\n"
     ]
    }
   ],
   "source": [
    "keyonly()"
   ]
  },
  {
   "cell_type": "code",
   "execution_count": 20,
   "id": "5e588055-0261-4ad1-b1d1-36b17bf2116c",
   "metadata": {},
   "outputs": [],
   "source": [
    "def keyonly(*, keyonly):\n",
    "    print(keyonly)"
   ]
  },
  {
   "cell_type": "code",
   "execution_count": 21,
   "id": "dc8e5e3f-fb0f-41b6-83c5-b5f56d2aa844",
   "metadata": {},
   "outputs": [
    {
     "name": "stdout",
     "output_type": "stream",
     "text": [
      "키워드로만 입력해야 합니다.\n"
     ]
    }
   ],
   "source": [
    "keyonly(keyonly=\"키워드로만 입력해야 합니다.\")"
   ]
  },
  {
   "cell_type": "code",
   "execution_count": 22,
   "id": "5b682503-7683-4510-9e31-b43f6e191806",
   "metadata": {},
   "outputs": [],
   "source": [
    "# 키워드 전용 인자에 위치 인수를 전달하면 TypeError 오류 발생함\n",
    "# ex) keyonly(\"키워드로만 입력해야 합니다.\")"
   ]
  },
  {
   "cell_type": "code",
   "execution_count": 23,
   "id": "13ba703b-37cc-4081-b6ab-7016b04674f0",
   "metadata": {},
   "outputs": [],
   "source": [
    "# 4. 가변 위치(var positional parameters)\n",
    "\n",
    "def var_positional(*args):\n",
    "    print(type(args))\n",
    "    return sum([_ for _ in args])"
   ]
  },
  {
   "cell_type": "code",
   "execution_count": 24,
   "id": "ea359528-9d95-4b44-8ee1-12667a34d1df",
   "metadata": {},
   "outputs": [
    {
     "name": "stdout",
     "output_type": "stream",
     "text": [
      "<class 'tuple'>\n",
      "15\n"
     ]
    }
   ],
   "source": [
    "print(var_positional(1, 2, 3, 4, 5,))\n",
    "# 가변-위치 인자에 전달할 위치 인수들을 tuple로 packing(여러개 하나로 묶음)한 뒤 전달함"
   ]
  },
  {
   "cell_type": "code",
   "execution_count": 25,
   "id": "1b8b42bf-e143-419c-b4d9-53b6770a2270",
   "metadata": {},
   "outputs": [],
   "source": [
    "def var_positional(*args):\n",
    "    print(type(args))\n",
    "    return sum([_ for _ in args])"
   ]
  },
  {
   "cell_type": "code",
   "execution_count": 28,
   "id": "17b4678f-ff4e-42f3-83be-e2ea3e5e1d01",
   "metadata": {},
   "outputs": [
    {
     "name": "stdout",
     "output_type": "stream",
     "text": [
      "<class 'tuple'>\n",
      "0\n"
     ]
    }
   ],
   "source": [
    "print(var_positional())"
   ]
  },
  {
   "cell_type": "code",
   "execution_count": 29,
   "id": "6b71b870-d151-4ed0-aa09-a72a5d23fcd1",
   "metadata": {},
   "outputs": [],
   "source": [
    "# 5. 가변 키워드(var keyword parameters)\n",
    "\n",
    "def var_keyword(**kwargs):\n",
    "    print(type(kwargs))\n",
    "    return kwargs"
   ]
  },
  {
   "cell_type": "code",
   "execution_count": 33,
   "id": "9618a010-8f03-42b3-898b-b2c9f80468f5",
   "metadata": {},
   "outputs": [
    {
     "name": "stdout",
     "output_type": "stream",
     "text": [
      "<class 'dict'>\n",
      "{'key': 'value', 'key2': 'value2'}\n"
     ]
    }
   ],
   "source": [
    "print(var_keyword(key=\"value\", key2=\"value2\"))\n",
    "\n",
    "# dict(key=\"value\", key2=\"value2\") \n",
    "# dict() 함수의 반환값과 같다"
   ]
  },
  {
   "cell_type": "code",
   "execution_count": 34,
   "id": "dfafd8d5-3a9a-4d98-a027-8da81c281282",
   "metadata": {},
   "outputs": [],
   "source": [
    "def var_keyword(**kwargs):\n",
    "    print(type(kwargs))\n",
    "    return kwargs"
   ]
  },
  {
   "cell_type": "code",
   "execution_count": 35,
   "id": "80383729-db9d-4ccc-90d9-e1c309c26a7c",
   "metadata": {},
   "outputs": [
    {
     "name": "stdout",
     "output_type": "stream",
     "text": [
      "<class 'dict'>\n",
      "{}\n"
     ]
    }
   ],
   "source": [
    "print(var_keyword())"
   ]
  },
  {
   "cell_type": "code",
   "execution_count": null,
   "id": "52f7563d-1885-4533-8ffa-d52d99bf5f7d",
   "metadata": {},
   "outputs": [],
   "source": [
    "# return --> keyword 만나면 함수를 빠져나간다."
   ]
  },
  {
   "cell_type": "code",
   "execution_count": 41,
   "id": "31b8582d-6dbc-4222-bc9e-1349b325e53a",
   "metadata": {},
   "outputs": [],
   "source": [
    "# 각 입력받은 정수를 10씩 더해서 반환하는 함수를 만들어라.\n",
    "# 반환하는 = return\n",
    "\n",
    "def plus_ten(a):\n",
    "    return a + 10"
   ]
  },
  {
   "cell_type": "code",
   "execution_count": 42,
   "id": "8f519511-cbf0-4109-a638-cb0497ae08ce",
   "metadata": {},
   "outputs": [
    {
     "name": "stdout",
     "output_type": "stream",
     "text": [
      "80\n"
     ]
    }
   ],
   "source": [
    "print(plus_ten(70))"
   ]
  },
  {
   "cell_type": "code",
   "execution_count": null,
   "id": "8894afba-28e0-4c3d-970b-151103ace316",
   "metadata": {},
   "outputs": [],
   "source": [
    "# 연습문제\n",
    "# 화씨 문제~"
   ]
  },
  {
   "cell_type": "code",
   "execution_count": 51,
   "id": "b8a8c872-586f-436e-8f40-29961d033640",
   "metadata": {},
   "outputs": [
    {
     "name": "stdout",
     "output_type": "stream",
     "text": [
      "number가 짝수면 \"짝수\", 홀수면 \"홀수\" 반환\n",
      "짝수\n",
      "홀수\n",
      "None\n"
     ]
    }
   ],
   "source": [
    "# return 즉시종료\n",
    "\n",
    "def odd_even(num):\n",
    "    \"\"\"number가 짝수면 \"짝수\", 홀수면 \"홀수\" 반환\"\"\"\n",
    "    if type(num) != int:         # 자연수가 아닌 값에 대한 조건\n",
    "        return None \n",
    "    elif num<0:                             \n",
    "        return None\n",
    "    elif num%2 == 0:   \n",
    "        return \"짝수\"\n",
    "    elif num%2 != 0:\n",
    "        return \"홀수\"\n",
    "    \n",
    "print(odd_even.__doc__)\n",
    "print(odd_even(10))\n",
    "print(odd_even(9))\n",
    "print(odd_even(\"가\"))"
   ]
  },
  {
   "cell_type": "code",
   "execution_count": null,
   "id": "17b9580b-b720-45ca-b1db-4036db506d87",
   "metadata": {},
   "outputs": [],
   "source": [
    "# 위 문제 선생님 풀이 설명\n",
    "# (number % 2 == 0) 는 True / False 값을 갖는다.\n",
    "# True == 1 False == 0   False값을 가지면 빈스트링이 되네....   or \"홀수\"\n",
    "# True or X    or의 특징......"
   ]
  },
  {
   "cell_type": "code",
   "execution_count": 57,
   "id": "ce947291-4e09-480d-821d-e35587fbba55",
   "metadata": {},
   "outputs": [
    {
     "name": "stdin",
     "output_type": "stream",
     "text": [
      "숫자를 입력하세요. 10.1\n"
     ]
    }
   ],
   "source": [
    "number = input(\"숫자를 입력하세요.\")"
   ]
  },
  {
   "cell_type": "code",
   "execution_count": 58,
   "id": "b661b435-f0d1-4113-8c64-5761b5e98858",
   "metadata": {},
   "outputs": [
    {
     "data": {
      "text/plain": [
       "str"
      ]
     },
     "execution_count": 58,
     "metadata": {},
     "output_type": "execute_result"
    }
   ],
   "source": [
    "type(number)"
   ]
  },
  {
   "cell_type": "code",
   "execution_count": 59,
   "id": "5a36f67a-6059-4fcd-91dd-21fa4d4086f3",
   "metadata": {},
   "outputs": [
    {
     "data": {
      "text/plain": [
       "'10.1'"
      ]
     },
     "execution_count": 59,
     "metadata": {},
     "output_type": "execute_result"
    }
   ],
   "source": [
    "number"
   ]
  },
  {
   "cell_type": "code",
   "execution_count": 60,
   "id": "06f4eed3-311e-487a-9fb7-e86698b4de32",
   "metadata": {},
   "outputs": [
    {
     "data": {
      "text/plain": [
       "False"
      ]
     },
     "execution_count": 60,
     "metadata": {},
     "output_type": "execute_result"
    }
   ],
   "source": [
    "number.isdecimal()    # 이걸로 문자열 변형 전에 타입을 체크해볼 수 있겠구나..."
   ]
  },
  {
   "cell_type": "code",
   "execution_count": 65,
   "id": "87cada9b-6feb-4877-9f1a-9aae947ed5b2",
   "metadata": {},
   "outputs": [
    {
     "name": "stdout",
     "output_type": "stream",
     "text": [
      "윤년\n",
      "윤년\n",
      "평년\n"
     ]
    }
   ],
   "source": [
    "def check_leap_year(year):\n",
    "    if year % 100 == 0 and year % 400 != 0:\n",
    "        return \"평년\"\n",
    "\n",
    "    elif year % 4 == 0:\n",
    "        return \"윤년\"\n",
    "    \n",
    "print(check_leap_year(2004))\n",
    "print(check_leap_year(2000))\n",
    "print(check_leap_year(1900))   "
   ]
  },
  {
   "cell_type": "code",
   "execution_count": 66,
   "id": "9a54fd63-5d2a-4002-89b1-e8d893b7c8e4",
   "metadata": {},
   "outputs": [],
   "source": [
    "def leap_year(year):\n",
    "    return '평년'*(year%4!=0 or (year%100==0 and year%400!=0)) or '윤년'\n",
    "\n",
    "# 기영님 풀이"
   ]
  },
  {
   "cell_type": "code",
   "execution_count": 73,
   "id": "c268f4f0-56a0-4a5f-a896-cf693525c892",
   "metadata": {},
   "outputs": [
    {
     "name": "stdout",
     "output_type": "stream",
     "text": [
      "30\n",
      "28\n",
      "31\n"
     ]
    }
   ],
   "source": [
    "a = (1, 3, 5, 7, 8, 10, 12)\n",
    "b = (4, 6, 9, 11)\n",
    "\n",
    "def days(num):\n",
    "    if num in b:\n",
    "        return 30\n",
    "    elif num == 2:\n",
    "        return 28\n",
    "    elif num in a:\n",
    "        return 31\n",
    "\n",
    "print(days(11))\n",
    "print(days(2))\n",
    "print(days(1))"
   ]
  },
  {
   "cell_type": "code",
   "execution_count": 75,
   "id": "623ad2b4-466e-4fe8-9ee9-2d64975d5cad",
   "metadata": {},
   "outputs": [],
   "source": [
    "# def days(m):\n",
    "    # d30 = [4, 6, 9, 11]\n",
    "    # if m==2:\n",
    "        # return 28\n",
    "    # elif m in d30:\n",
    "        # return 30\n",
    "    # return 31\n",
    "# 기영님 풀이"
   ]
  },
  {
   "cell_type": "code",
   "execution_count": 88,
   "id": "8b45ceca-512b-4a5c-a015-0e9a5ed1d518",
   "metadata": {},
   "outputs": [
    {
     "name": "stdout",
     "output_type": "stream",
     "text": [
      "30\n",
      "31\n",
      "28\n",
      "29\n"
     ]
    }
   ],
   "source": [
    "def days(year, month):\n",
    "    if  month in b:\n",
    "        return 30\n",
    "    elif month in a:\n",
    "        return 31\n",
    "    elif year % 100 == 0 and year % 400 != 0 and month == 2:\n",
    "        return 28\n",
    "    else:\n",
    "        return 29\n",
    "    \n",
    "    # 28, 29로 끝나는 2월은 윤년/평년을 계산해야 해서?\n",
    "\n",
    "print(days(1900, 11))\n",
    "print(days(2004, 10))\n",
    "print(days(1900, 2))\n",
    "print(days(2000, 2))"
   ]
  },
  {
   "cell_type": "code",
   "execution_count": 87,
   "id": "b256d268-b655-4086-8473-257de7fac57f",
   "metadata": {},
   "outputs": [
    {
     "name": "stdout",
     "output_type": "stream",
     "text": [
      "30\n",
      "31\n",
      "28\n",
      "29\n"
     ]
    }
   ],
   "source": [
    "def days(y, m):\n",
    "    d30 = [4, 6, 9, 11]\n",
    "    if m==2:\n",
    "        return 28*(y%4!=0 or (y%100==0 and y%400!=0)) or 29\n",
    "    elif m in d30:\n",
    "        return 30\n",
    "    return 31\n",
    "\n",
    "print(days(1900, 11))\n",
    "print(days(2004, 10))\n",
    "print(days(1900, 2))\n",
    "print(days(2000, 2))\n",
    "\n",
    "# 기영님 풀이"
   ]
  },
  {
   "cell_type": "code",
   "execution_count": null,
   "id": "87e9dd99-591a-4653-93e7-f9bce3a20efc",
   "metadata": {},
   "outputs": [],
   "source": []
  }
 ],
 "metadata": {
  "kernelspec": {
   "display_name": "Python 3 (ipykernel)",
   "language": "python",
   "name": "python3"
  },
  "language_info": {
   "codemirror_mode": {
    "name": "ipython",
    "version": 3
   },
   "file_extension": ".py",
   "mimetype": "text/x-python",
   "name": "python",
   "nbconvert_exporter": "python",
   "pygments_lexer": "ipython3",
   "version": "3.9.13"
  }
 },
 "nbformat": 4,
 "nbformat_minor": 5
}
