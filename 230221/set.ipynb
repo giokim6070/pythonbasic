{
 "cells": [
  {
   "cell_type": "code",
   "execution_count": 1,
   "id": "9b700500-f7e7-4ea7-9a13-7f6096d92012",
   "metadata": {
    "tags": []
   },
   "outputs": [],
   "source": [
    "# 20일 수업에서 리스트 컴프리헨션 가장 중요....\n",
    "# 리스트를 생성할 때 사용\n",
    "# for문과 if문을 동시에 사용\n",
    "# 변수의 이름을 지을 때 문자, _, 숫자(는 맨 앞에 못옴) - Snake case형태가 표준\n",
    "# list_variable = [expression for 변수 in iterable if 조건식]"
   ]
  },
  {
   "cell_type": "code",
   "execution_count": 2,
   "id": "2ceb60c2-c8ee-4fac-9bad-5364f4f64ccf",
   "metadata": {},
   "outputs": [
    {
     "name": "stdout",
     "output_type": "stream",
     "text": [
      "[0, 3, 6, 9]\n"
     ]
    }
   ],
   "source": [
    "list_p = [i for i in range(10) if i % 3 == 0]\n",
    "print(list_p)"
   ]
  },
  {
   "cell_type": "code",
   "execution_count": 3,
   "id": "5341c19c-110b-4daa-81c4-af5d2315ffd9",
   "metadata": {},
   "outputs": [
    {
     "data": {
      "text/plain": [
       "['2', '3', '4', '5', '6', '7', '8', '9', '10', 'J', 'Q', 'K', 'A']"
      ]
     },
     "execution_count": 3,
     "metadata": {},
     "output_type": "execute_result"
    }
   ],
   "source": [
    "[str(i) for i in range(2, 11)] + list(\"JQKA\")"
   ]
  },
  {
   "cell_type": "code",
   "execution_count": 4,
   "id": "f5948aba-4cf9-4998-999e-f1dce06edbcd",
   "metadata": {},
   "outputs": [],
   "source": [
    "# result = []\n",
    "# for i range(2, 11):\n",
    "    # result.append(i) ---여기 뭐가 오류가 있음 뭐가 틀린거지....\n",
    "# 위[5]의 방법과 [6]의 풀이방법이 있다. [5]가 더 읽기 쉽고 효율적인...?"
   ]
  },
  {
   "cell_type": "code",
   "execution_count": 5,
   "id": "18c321e8-0b9c-49f4-b174-d03bd08ab01a",
   "metadata": {},
   "outputs": [],
   "source": [
    "# 중첩리스트\n",
    "# 튜플 메서드 immutable\n",
    "# 빈튜플\n",
    "# 제너레이터 컴프리헨션 \n",
    "# --> 은 range처럼 필요할 때 하나씩 만든다. 그 하나씩 만들어진 애들로 튜플을 만든다...?"
   ]
  },
  {
   "cell_type": "code",
   "execution_count": 6,
   "id": "53ca3427-8b4c-46c5-8032-5b9e0c8ec940",
   "metadata": {},
   "outputs": [],
   "source": [
    "# Hmm...코딩테스트?"
   ]
  },
  {
   "cell_type": "code",
   "execution_count": 7,
   "id": "49bf1c46-fe0a-4ecd-b585-9ce27e7a2745",
   "metadata": {},
   "outputs": [],
   "source": [
    "# random 라이브러리\n",
    "# 세트 자료형(Set)\n",
    "# {} 중괄호 사용하는 것 2가지 = 딕셔너리, 세트\n",
    "# 세트 자료형 컴프리헨션\n",
    "# ([])는 리스트, ({})는 세트!!!\n",
    "# 세트 자료형 - 세트에 값 넣는 방법\n",
    "# 세트 자료형 - 요소 삭제하기 discard()\n",
    "# 세트 자료형 등등 ppt 참고하기...내용이 많다...\n",
    "# 집합...이즈슈퍼셋, 진부분집합과 진상위집합 등등....."
   ]
  },
  {
   "cell_type": "code",
   "execution_count": 8,
   "id": "44ca8bb0-8591-417b-939f-181b9b8b5576",
   "metadata": {},
   "outputs": [
    {
     "name": "stdout",
     "output_type": "stream",
     "text": [
      "{1, 2, 3, 4}\n"
     ]
    }
   ],
   "source": [
    "# 아래 리스트를 set 자료형을 통해 중복을 제거하고 출력하시오.\n",
    "list_sample = [1, 2, 2, 3, 3, 3, 4, 4, 4, 4]\n",
    "print(set(list_sample))"
   ]
  },
  {
   "cell_type": "code",
   "execution_count": 9,
   "id": "770e0257-4d22-46e5-a850-b1e9bbd01858",
   "metadata": {},
   "outputs": [
    {
     "name": "stdout",
     "output_type": "stream",
     "text": [
      "{75, 45, 15, 90, 60, 30}\n"
     ]
    }
   ],
   "source": [
    "# 공배수 구하기\n",
    "set_3 = {_ for _ in range(1, 101) if _ % 3 == 0} #3으로 나눠 떨어지는 수\n",
    "set_5 = {_ for _ in range(1, 101) if _ % 5 == 0}\n",
    "print(set_3 & set_5)\n",
    "\n",
    "# result_set = 인터섹션"
   ]
  },
  {
   "cell_type": "code",
   "execution_count": 13,
   "id": "29cabbcc-0916-4e30-8b6a-334d4f10540b",
   "metadata": {},
   "outputs": [
    {
     "name": "stdout",
     "output_type": "stream",
     "text": [
      "['개인정보 조회', '구매 관리', '근태 관리', '시스템 관리', '인사 관리', '회계 관리']\n"
     ]
    }
   ],
   "source": [
    "role_admin = (\"회계 관리\", \"인사 관리\", \"구매 관리\", \"시스템 관리\")\n",
    "role_hr = (\"인사 관리\", \"개인정보 조회\", \"회계 관리\", \"근태 관리\")\n",
    "role_user = (\"개인정보 조회\", \"근태 관리\")\n",
    "\n",
    "menus = list(sorted(set(role_admin + role_hr + role_user)))\n",
    "print(menus)\n",
    "\n",
    "# sorted 오름차순"
   ]
  },
  {
   "cell_type": "code",
   "execution_count": 15,
   "id": "b4ebc6cb-dc07-4b7a-9e16-9a994fb02070",
   "metadata": {},
   "outputs": [
    {
     "name": "stdout",
     "output_type": "stream",
     "text": [
      "개인정보 조회, 구매 관리, 근태 관리, 시스템 관리, 인사 관리, 회계 관리"
     ]
    }
   ],
   "source": [
    "# 선생님 풀이. 이게 더 어려운 것 같음.......\n",
    "menus = list(set(role_admin + role_hr + role_user))\n",
    "menus.sort()\n",
    "end_char = \", \"\n",
    "for menu in menus:\n",
    "    if menus[-1] == menu:   #마지막은 -1이라는 인덱스로 접근\n",
    "        end_char = \"\"\n",
    "    print(menu, end=end_char)"
   ]
  },
  {
   "cell_type": "code",
   "execution_count": 16,
   "id": "4d2d270b-8142-4716-8db1-9c3859e8f04c",
   "metadata": {},
   "outputs": [
    {
     "name": "stdout",
     "output_type": "stream",
     "text": [
      "개인정보 조회, 구매 관리, 근태 관리, 시스템 관리, 인사 관리, 회계 관리\n"
     ]
    }
   ],
   "source": [
    "role_admin = (\"회계 관리\", \"인사 관리\", \"구매 관리\", \"시스템 관리\")\n",
    "role_hr = (\"인사 관리\", \"개인정보 조회\", \"회계 관리\", \"근태 관리\")\n",
    "role_user = (\"개인정보 조회\", \"근태 관리\")\n",
    "\n",
    "result = role_admin + role_hr + role_user    # tuple 3개를 concatenate(+)\n",
    "result = list(set(result))                   # 중복을 제거한 set을 다시 list로 만들기\n",
    "print(\", \".join(sorted(result)))             # 오름차순으로 정렬"
   ]
  },
  {
   "cell_type": "code",
   "execution_count": null,
   "id": "13cdde83-6c86-462f-b56e-a2b55efd80c0",
   "metadata": {},
   "outputs": [],
   "source": [
    "# sorted(인수로 전달된 객체) \n",
    "# -->인수로 전달된 객체를 정렬한 값을 반환(return)해준다.\n",
    "# list.sort() \n",
    "# --> 리스트에만 있는 sort메서드다. \n",
    "# --> 앞의 리스트 그대로 변경해주지만 반환값을 주지는 않는다(None)"
   ]
  },
  {
   "cell_type": "code",
   "execution_count": null,
   "id": "74166e4e-cddc-4d06-be67-2a1d758c8213",
   "metadata": {},
   "outputs": [],
   "source": []
  }
 ],
 "metadata": {
  "kernelspec": {
   "display_name": "Python 3 (ipykernel)",
   "language": "python",
   "name": "python3"
  },
  "language_info": {
   "codemirror_mode": {
    "name": "ipython",
    "version": 3
   },
   "file_extension": ".py",
   "mimetype": "text/x-python",
   "name": "python",
   "nbconvert_exporter": "python",
   "pygments_lexer": "ipython3",
   "version": "3.9.13"
  }
 },
 "nbformat": 4,
 "nbformat_minor": 5
}
