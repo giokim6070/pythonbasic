{
 "cells": [
  {
   "cell_type": "code",
   "execution_count": null,
   "id": "b1305061-b2f7-4b0c-b1e6-0eec3d253362",
   "metadata": {},
   "outputs": [],
   "source": [
    "# 변수의 범위(variable scope) - 전역 변수(global variable)"
   ]
  },
  {
   "cell_type": "code",
   "execution_count": 1,
   "id": "c56cd087-4124-4705-b1fc-aae033f3fba4",
   "metadata": {},
   "outputs": [
    {
     "name": "stdout",
     "output_type": "stream",
     "text": [
      "global_variable in global scope=>  This is global world.\n",
      "0x204404cf3f0\n"
     ]
    }
   ],
   "source": [
    "global_variable = \" This is global world.\"\n",
    "print(f\"global_variable in global scope=> {global_variable}\")\n",
    "def local_world():\n",
    "    print(f\"global_variable in global scope=> {global_variable}\")\n",
    "    print(hex(id(global_variable)))"
   ]
  },
  {
   "cell_type": "code",
   "execution_count": null,
   "id": "1d3fd0f6-d920-413a-bd7e-00cd7667526e",
   "metadata": {},
   "outputs": [],
   "source": [
    "# 변수의 범위(variable scope) - 지역 변수(local variable)"
   ]
  },
  {
   "cell_type": "code",
   "execution_count": null,
   "id": "d069221f-d734-477b-8547-24fe01fb49af",
   "metadata": {},
   "outputs": [],
   "source": [
    "# 변수의 범위(variable scope) - 지역 범위에서 전역 변수 할당하기"
   ]
  },
  {
   "cell_type": "code",
   "execution_count": 2,
   "id": "970decef-a407-4f8b-8be2-8fb33618177d",
   "metadata": {},
   "outputs": [
    {
     "name": "stdout",
     "output_type": "stream",
     "text": [
      "중요한 것은 꺾이지 않는 마음\n"
     ]
    }
   ],
   "source": [
    "important_is_an_unbrokin_heart = \"중요한 것은 꺾이지 않는 마음\"\n",
    "\n",
    "def trials_and_tribulations():\n",
    "    important_is_an_unbrokin_heart = \"흔들흔들\"\n",
    "\n",
    "trials_and_tribulations()\n",
    "print(important_is_an_unbrokin_heart)\n",
    "\n",
    "\n",
    "# global_variable 글로벌 키워드 활용해서 변경 완료 제일 바깥쪽 ~찾을 때?"
   ]
  },
  {
   "cell_type": "code",
   "execution_count": null,
   "id": "7970fe8a-aad0-4a48-ab98-32dd2541b86e",
   "metadata": {},
   "outputs": [],
   "source": [
    "# 함수 바디에 함수를 중첩해서 만들기\n",
    "# 안쪽 함수에서 바깥쪽 함수의 변수 변경해보기 --> 이거 반드시 이해해야 함!!!!!!!!!!"
   ]
  },
  {
   "cell_type": "code",
   "execution_count": 3,
   "id": "dda769e8-a614-4f49-b050-a660dfc054ac",
   "metadata": {},
   "outputs": [
    {
     "data": {
      "text/plain": [
       "20"
      ]
     },
     "execution_count": 3,
     "metadata": {},
     "output_type": "execute_result"
    }
   ],
   "source": [
    "# 람다 Lambda\n",
    "# 호출될 때 값이 구해지는 하나의 표현식. \n",
    "# 또 이름이 없는 인라인 함수임. Anonymous function\n",
    "\n",
    "# lambda [parameters]:espression         lambda 표현식\n",
    "# def func_name(parameter):\n",
    "    # return expression\n",
    "    \n",
    "(lambda x: x + 10)(10)\n",
    "\n",
    "# (lambda [parameters]: espression)(arguments)"
   ]
  },
  {
   "cell_type": "code",
   "execution_count": 4,
   "id": "9982aca5-a650-4893-a790-bc1f447d79f7",
   "metadata": {},
   "outputs": [
    {
     "name": "stdout",
     "output_type": "stream",
     "text": [
      "20\n"
     ]
    }
   ],
   "source": [
    "twice = lambda x: x*2\n",
    "print(twice(10))\n",
    "\n",
    "# variable = lambda [parameters]:espression\n",
    "# variable(argument)"
   ]
  },
  {
   "cell_type": "code",
   "execution_count": 6,
   "id": "75c3965c-0e82-433a-92c0-6fcec09144c6",
   "metadata": {},
   "outputs": [],
   "source": [
    "# 람다의 expression 부분은 변수 없이 식 한 줄로 표현 가능(인라인)해야 함\n",
    "# 따라서 람다 표현식 안에 새 변수를 만들 수 없음\n",
    "# 변수가 필요한 경우는 def를 써서 함수를 정의해서 사용하는 것이 좋음"
   ]
  },
  {
   "cell_type": "code",
   "execution_count": 7,
   "id": "3591f151-4501-4395-8c65-9d52157ba411",
   "metadata": {},
   "outputs": [
    {
     "data": {
      "text/plain": [
       "'B'"
      ]
     },
     "execution_count": 7,
     "metadata": {},
     "output_type": "execute_result"
    }
   ],
   "source": [
    "# 조건 표현식(Conditional Expression). inline if else\n",
    "# if else를 한 줄로 작성할 수 있는 방법\n",
    "# 람다에 사용하면 활용도가 아주 좋음\n",
    "# if만 사용할 수 없음, 반드시 else와 같이 써야 함\n",
    "# 중첩해서 사용가능, 다만 중첩이 너무 많아지면 파악이 어려우니 가독성 좋게 쓰기\n",
    "\n",
    "# True일때 값 if 조건식 else False일때 값\n",
    "score = 90\n",
    "'A' if 90<score<=100 else 'B' if 80<score else 'C'"
   ]
  },
  {
   "cell_type": "code",
   "execution_count": null,
   "id": "ffc3c057-a7bb-42d1-a8d1-684a42a23414",
   "metadata": {},
   "outputs": [],
   "source": [
    "# 람다 feat. map()\n",
    "# 람다와 map() 함수를 같이 쓸 때 다음과 같이 사용함\n",
    "# 필요에 따라 parameter와 iterable의 개수를 맞춰서 사용하면 됨\n",
    "# 어느 한쪽 iterable의 길이가 짧아도 상관없이 동작하며, 길이가 작은 쪽에 맞춰 값을 반환함\n",
    "\n",
    "#  map(lambda parameter1, parameter2, ...: expression, iterable1, iterable2, ...)"
   ]
  },
  {
   "cell_type": "code",
   "execution_count": null,
   "id": "d92f0828-9a57-4e0b-8092-3c84221dd004",
   "metadata": {},
   "outputs": [],
   "source": [
    "# 람다 feat. filter()\n",
    "# filter의 첫 인수로 들어가는 함수의 반환 값이 True일 때만 해당 요소를 가져옴\n",
    "# 리스트 컴프리헨션으로도 표현 가능한 부분임\n",
    "# 속도와 가독성 모두 리스트 컴프리헨션이 더 나음\n",
    "\n",
    "#  map(lambda parameter: expression, iterable)"
   ]
  },
  {
   "cell_type": "code",
   "execution_count": null,
   "id": "03d9eabc-0283-47b0-90e0-5a98a3f47f06",
   "metadata": {},
   "outputs": [],
   "source": [
    "# 객체지향(Object Oriented) 프로그래밍\n",
    "\n",
    "# 은 복잡한 문제를 잘게 나누어 객체로 만들고, 객체를 조합해서 문제를 해결함\n",
    "# 현실 세계의 복잡한 문제를 처리하는데 유용하며 기능을 개선하고 발전시킬 때도\n",
    "# 해당 클래스만 수정하면 되므로 큰 프로젝트의 유지보수에도 매우 효율적임\n",
    "# 객체가 가진 데이터를 클래스의 속성(Attitude)이라 부르고 객체가 갖는 기능을 메서드라고 부름"
   ]
  },
  {
   "cell_type": "code",
   "execution_count": null,
   "id": "033d010d-3833-4025-a7a5-4c2cd4758164",
   "metadata": {},
   "outputs": [],
   "source": [
    "# 클래스(Class)  클래스 명으로 파스칼케이스 사용 PascalCase\n",
    "# class ClassName:"
   ]
  },
  {
   "cell_type": "code",
   "execution_count": null,
   "id": "2f98a8dd-5904-4411-a35b-49acd0eb9bb1",
   "metadata": {},
   "outputs": [],
   "source": [
    "# 메서드(Method)  클래스 바디 안에서 정의되는 함수"
   ]
  },
  {
   "cell_type": "code",
   "execution_count": 9,
   "id": "0f642ddd-b0ed-415b-af0d-88d4120d0612",
   "metadata": {},
   "outputs": [],
   "source": [
    "# 클래스 속성(Attribute)\n",
    "class Person:\n",
    "    def __init__(self):\n",
    "        self.hello = \"안녕하세요.\"\n",
    "    \n",
    "    def greeting(self):\n",
    "        print(self.hello)"
   ]
  },
  {
   "cell_type": "code",
   "execution_count": null,
   "id": "3fa4e3ef-27ae-496f-83ec-3bad7cfe3b8f",
   "metadata": {},
   "outputs": [],
   "source": []
  }
 ],
 "metadata": {
  "kernelspec": {
   "display_name": "Python 3 (ipykernel)",
   "language": "python",
   "name": "python3"
  },
  "language_info": {
   "codemirror_mode": {
    "name": "ipython",
    "version": 3
   },
   "file_extension": ".py",
   "mimetype": "text/x-python",
   "name": "python",
   "nbconvert_exporter": "python",
   "pygments_lexer": "ipython3",
   "version": "3.9.13"
  }
 },
 "nbformat": 4,
 "nbformat_minor": 5
}
