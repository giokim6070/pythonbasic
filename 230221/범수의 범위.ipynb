{
 "cells": [
  {
   "cell_type": "code",
   "execution_count": 1,
   "id": "b1305061-b2f7-4b0c-b1e6-0eec3d253362",
   "metadata": {},
   "outputs": [],
   "source": [
    "# 변수의 범위(variable scope) - 전역 변수(global variable)"
   ]
  },
  {
   "cell_type": "code",
   "execution_count": 2,
   "id": "c56cd087-4124-4705-b1fc-aae033f3fba4",
   "metadata": {},
   "outputs": [
    {
     "name": "stdout",
     "output_type": "stream",
     "text": [
      "global_variable in global scope=>  This is global world.\n"
     ]
    }
   ],
   "source": [
    "global_variable = \" This is global world.\"\n",
    "print(f\"global_variable in global scope=> {global_variable}\")\n",
    "def local_world():\n",
    "    print(f\"global_variable in global scope=> {global_variable}\")\n",
    "    print(hex(id(global_variable)))"
   ]
  },
  {
   "cell_type": "code",
   "execution_count": 3,
   "id": "1d3fd0f6-d920-413a-bd7e-00cd7667526e",
   "metadata": {},
   "outputs": [],
   "source": [
    "# 변수의 범위(variable scope) - 지역 변수(local variable)"
   ]
  },
  {
   "cell_type": "code",
   "execution_count": 4,
   "id": "d069221f-d734-477b-8547-24fe01fb49af",
   "metadata": {},
   "outputs": [],
   "source": [
    "# 변수의 범위(variable scope) - 지역 범위에서 전역 변수 할당하기"
   ]
  },
  {
   "cell_type": "code",
   "execution_count": 5,
   "id": "970decef-a407-4f8b-8be2-8fb33618177d",
   "metadata": {},
   "outputs": [
    {
     "name": "stdout",
     "output_type": "stream",
     "text": [
      "중요한 것은 꺾이지 않는 마음\n"
     ]
    }
   ],
   "source": [
    "important_is_an_unbrokin_heart = \"중요한 것은 꺾이지 않는 마음\"\n",
    "\n",
    "def trials_and_tribulations():\n",
    "    important_is_an_unbrokin_heart = \"흔들흔들\"\n",
    "\n",
    "trials_and_tribulations()\n",
    "print(important_is_an_unbrokin_heart)\n",
    "\n",
    "\n",
    "# global_variable 글로벌 키워드 활용해서 변경 완료 제일 바깥쪽 ~찾을 때?"
   ]
  },
  {
   "cell_type": "code",
   "execution_count": 6,
   "id": "7970fe8a-aad0-4a48-ab98-32dd2541b86e",
   "metadata": {},
   "outputs": [],
   "source": [
    "# 함수 바디에 함수를 중첩해서 만들기\n",
    "# 안쪽 함수에서 바깥쪽 함수의 변수 변경해보기 --> 이거 반드시 이해해야 함!!!!!!!!!!"
   ]
  },
  {
   "cell_type": "code",
   "execution_count": 7,
   "id": "dda769e8-a614-4f49-b050-a660dfc054ac",
   "metadata": {},
   "outputs": [
    {
     "data": {
      "text/plain": [
       "20"
      ]
     },
     "execution_count": 7,
     "metadata": {},
     "output_type": "execute_result"
    }
   ],
   "source": [
    "# 람다 Lambda\n",
    "# 호출될 때 값이 구해지는 하나의 표현식. \n",
    "# 또 이름이 없는 인라인 함수임. Anonymous function\n",
    "\n",
    "# lambda [parameters]:espression         lambda 표현식\n",
    "# def func_name(parameter):\n",
    "    # return expression\n",
    "    \n",
    "(lambda x: x + 10)(10)\n",
    "\n",
    "# (lambda [parameters]: espression)(arguments)"
   ]
  },
  {
   "cell_type": "code",
   "execution_count": 8,
   "id": "9982aca5-a650-4893-a790-bc1f447d79f7",
   "metadata": {},
   "outputs": [
    {
     "name": "stdout",
     "output_type": "stream",
     "text": [
      "20\n"
     ]
    }
   ],
   "source": [
    "twice = lambda x: x*2\n",
    "print(twice(10))\n",
    "\n",
    "# variable = lambda [parameters]:espression\n",
    "# variable(argument)"
   ]
  },
  {
   "cell_type": "code",
   "execution_count": 9,
   "id": "75c3965c-0e82-433a-92c0-6fcec09144c6",
   "metadata": {},
   "outputs": [],
   "source": [
    "# 람다의 expression 부분은 변수 없이 식 한 줄로 표현 가능(인라인)해야 함\n",
    "# 따라서 람다 표현식 안에 새 변수를 만들 수 없음\n",
    "# 변수가 필요한 경우는 def를 써서 함수를 정의해서 사용하는 것이 좋음"
   ]
  },
  {
   "cell_type": "code",
   "execution_count": 10,
   "id": "3591f151-4501-4395-8c65-9d52157ba411",
   "metadata": {},
   "outputs": [
    {
     "data": {
      "text/plain": [
       "'B'"
      ]
     },
     "execution_count": 10,
     "metadata": {},
     "output_type": "execute_result"
    }
   ],
   "source": [
    "# 조건 표현식(Conditional Expression). inline if else\n",
    "# if else를 한 줄로 작성할 수 있는 방법\n",
    "# 람다에 사용하면 활용도가 아주 좋음\n",
    "# if만 사용할 수 없음, 반드시 else와 같이 써야 함\n",
    "# 중첩해서 사용가능, 다만 중첩이 너무 많아지면 파악이 어려우니 가독성 좋게 쓰기\n",
    "\n",
    "# True일때 값 if 조건식 else False일때 값\n",
    "score = 90\n",
    "'A' if 90<score<=100 else 'B' if 80<score else 'C'"
   ]
  },
  {
   "cell_type": "code",
   "execution_count": 11,
   "id": "ffc3c057-a7bb-42d1-a8d1-684a42a23414",
   "metadata": {},
   "outputs": [],
   "source": [
    "# 람다 feat. map()\n",
    "# 람다와 map() 함수를 같이 쓸 때 다음과 같이 사용함\n",
    "# 필요에 따라 parameter와 iterable의 개수를 맞춰서 사용하면 됨\n",
    "# 어느 한쪽 iterable의 길이가 짧아도 상관없이 동작하며, 길이가 작은 쪽에 맞춰 값을 반환함\n",
    "\n",
    "#  map(lambda parameter1, parameter2, ...: expression, iterable1, iterable2, ...)"
   ]
  },
  {
   "cell_type": "code",
   "execution_count": 12,
   "id": "d92f0828-9a57-4e0b-8092-3c84221dd004",
   "metadata": {},
   "outputs": [],
   "source": [
    "# 람다 feat. filter()\n",
    "# filter의 첫 인수로 들어가는 함수의 반환 값이 True일 때만 해당 요소를 가져옴\n",
    "# 리스트 컴프리헨션으로도 표현 가능한 부분임\n",
    "# 속도와 가독성 모두 리스트 컴프리헨션이 더 나음\n",
    "\n",
    "#  map(lambda parameter: expression, iterable)"
   ]
  },
  {
   "cell_type": "code",
   "execution_count": 13,
   "id": "03d9eabc-0283-47b0-90e0-5a98a3f47f06",
   "metadata": {},
   "outputs": [],
   "source": [
    "# 객체지향(Object Oriented) 프로그래밍\n",
    "\n",
    "# 은 복잡한 문제를 잘게 나누어 객체로 만들고, 객체를 조합해서 문제를 해결함\n",
    "# 현실 세계의 복잡한 문제를 처리하는데 유용하며 기능을 개선하고 발전시킬 때도\n",
    "# 해당 클래스만 수정하면 되므로 큰 프로젝트의 유지보수에도 매우 효율적임\n",
    "# 객체가 가진 데이터를 클래스의 속성(Attitude)이라 부르고 객체가 갖는 기능을 메서드라고 부름"
   ]
  },
  {
   "cell_type": "code",
   "execution_count": 14,
   "id": "033d010d-3833-4025-a7a5-4c2cd4758164",
   "metadata": {},
   "outputs": [],
   "source": [
    "# 클래스(Class)  클래스 명으로 파스칼케이스 사용 PascalCase\n",
    "# class ClassName:"
   ]
  },
  {
   "cell_type": "code",
   "execution_count": 15,
   "id": "2f98a8dd-5904-4411-a35b-49acd0eb9bb1",
   "metadata": {},
   "outputs": [],
   "source": [
    "# 메서드(Method)  클래스 바디 안에서 정의되는 함수"
   ]
  },
  {
   "cell_type": "code",
   "execution_count": 16,
   "id": "0f642ddd-b0ed-415b-af0d-88d4120d0612",
   "metadata": {},
   "outputs": [],
   "source": [
    "# 클래스 속성(Attribute)\n",
    "class Person:\n",
    "    def __init__(self):\n",
    "        self.hello = \"안녕하세요.\"\n",
    "    \n",
    "    def greeting(self):\n",
    "        print(self.hello)"
   ]
  },
  {
   "cell_type": "code",
   "execution_count": 17,
   "id": "3fa4e3ef-27ae-496f-83ec-3bad7cfe3b8f",
   "metadata": {},
   "outputs": [],
   "source": [
    "# 객체 object 인스턴스 instance 같은 말임"
   ]
  },
  {
   "cell_type": "code",
   "execution_count": 18,
   "id": "2b4a0726-8951-41a1-a76a-8c14180858d9",
   "metadata": {},
   "outputs": [],
   "source": [
    "# 클래스 속성(Attribute)    __init__ 이녀석 킬링파트입니데이~\n",
    "\n",
    "class Student:\n",
    "    # 생성자: 객체가 최초 생성될 때 단 한 번 실행되는 메서드\n",
    "    def __init__(self):\n",
    "        self.name = \"홍길동\"\n",
    "    # self라는 것은 내 자신의 인스턴스"
   ]
  },
  {
   "cell_type": "code",
   "execution_count": 19,
   "id": "32cdfc76-ee5a-49d1-8e17-0ff68a470464",
   "metadata": {},
   "outputs": [],
   "source": [
    "# Student 클래스로부터 객체를 하나 생성\n",
    "s1 = Student()"
   ]
  },
  {
   "cell_type": "code",
   "execution_count": 20,
   "id": "746166e7-f653-4714-bf45-13434e6a9959",
   "metadata": {},
   "outputs": [
    {
     "data": {
      "text/plain": [
       "__main__.Student"
      ]
     },
     "execution_count": 20,
     "metadata": {},
     "output_type": "execute_result"
    }
   ],
   "source": [
    "type(s1)"
   ]
  },
  {
   "cell_type": "code",
   "execution_count": 21,
   "id": "d91b6f7b-ef8a-485b-b37c-daefac4c5487",
   "metadata": {},
   "outputs": [],
   "source": [
    "s1.name = \"홍길동\""
   ]
  },
  {
   "cell_type": "code",
   "execution_count": 22,
   "id": "b68a045a-b59c-4de2-871b-38815e3caf61",
   "metadata": {},
   "outputs": [
    {
     "name": "stdout",
     "output_type": "stream",
     "text": [
      "홍길동\n"
     ]
    }
   ],
   "source": [
    "print(s1.name)"
   ]
  },
  {
   "cell_type": "code",
   "execution_count": 23,
   "id": "96e51ac4-7a1e-4894-b67c-a3ab91836fd9",
   "metadata": {},
   "outputs": [],
   "source": [
    "# class ClassName:\n",
    "    # def __init__(self):\n",
    "        # self.속성 = 값\n",
    "       \n",
    "# 클래스 속성을 만들 때는 __init__메서드 안에서 self.속성에 값을 할당하면 됨\n",
    "# __init__을 던더 메서드라고도 함.\n",
    "# 메서드는 james = Person() 처럼 클래스에 소괄호(())를 붙여서\n",
    "# 인스턴스를 만들 때 '호출되는 특별한 메서드'(special method, magic method)\n",
    "# __init__은 initialize의 줄임말로 인스턴스(객체)를 초기화(메모리에 공간을 할당하고 값을 부여함)합니다.\n",
    "# 밑줄 두개(__ double under, 던더)가 양 옆으로 붙어있는 메서드는 파이썬이 자동으로 호출하는 메서드입니다.\n",
    "# 스페셜 메서드 혹은 매직 메서드라고 부릅니다. 던더 메서드로 불리기도 합니다.\n",
    "\n",
    "# 속성은 __init__ 메서드에서 만든다는 점과 self.에 마침표(.)를 붙여 속성명을 붙이고 값을 할당하는 점 기억하기.\n",
    "# 클래스 바디에서도 속성을 접근할 때 self.속성 과 같이 self에 마침표를 찍고 사용하면 됨"
   ]
  },
  {
   "cell_type": "code",
   "execution_count": 24,
   "id": "c0e621fc-1aa9-47ef-96be-5eacc064207b",
   "metadata": {},
   "outputs": [],
   "source": [
    "# self란\n",
    "\n",
    "# 특정인스턴스.attribute\n",
    "# 특정인스턴스.method()\n",
    "\n",
    "# self란 인스턴스 자기 자신을 의미\n",
    "# 위 예제에서 인스턴스가 생성될 때 self.hello = '안녕하세요'처럼 자기 자신에 속성을 추가하여 사용했다.\n",
    "# __init__의 매개변수 self에 들어가는 값은 Person() 인스턴스라고 할 수 있다.\n",
    "# self가 완성된 후에는 변수인 james에 할당되었다.\n",
    "\n",
    "# 이후 메서드를 호출하면 현재 인스턴스가 자동으로 매개변수 self에 들어온다.\n",
    "# 그래서 greeting 메서드에서 print(self.hello)처럼 속성을 출력할 수 있었다."
   ]
  },
  {
   "cell_type": "code",
   "execution_count": 25,
   "id": "999b2d1b-ade1-4d6f-a1dd-be1fccc81e92",
   "metadata": {},
   "outputs": [],
   "source": [
    "# 클래스 속성\n",
    "# 인스턴스를 생성할 때 \n",
    "\n",
    "class Person:\n",
    "    def __init__(self, name, age):\n",
    "        self.name = name\n",
    "        self.age = age\n",
    "        \n",
    "# 설명 놓침....근데 이 수강과정에서 클래스를 만들 일은 흔치않다고 함."
   ]
  },
  {
   "cell_type": "code",
   "execution_count": 26,
   "id": "55da724d-2d38-4e61-a025-b979d58f4b8d",
   "metadata": {},
   "outputs": [
    {
     "name": "stdout",
     "output_type": "stream",
     "text": [
      "안녕하세요. 제 이름은 마리아입니다.\n",
      "이름: 마리아\n",
      "이름: 20\n",
      "이름: 서울시 서초구 반포동\n"
     ]
    }
   ],
   "source": [
    "# 클래스 인스턴스 생성할 때 속성 할당하기\n",
    "\n",
    "class Person:\n",
    "    def __init__(self, name, age, address):\n",
    "        self.hello = \"안녕하세요.\"\n",
    "        self.name = name\n",
    "        self.age = age\n",
    "        self.address = address\n",
    "    def greeting(self):\n",
    "        print(f\"{self.hello} 제 이름은 {self.name}입니다.\")\n",
    "maria = Person(\"마리아\", 20, \"서울시 서초구 반포동\")\n",
    "maria.greeting()\n",
    "print(\"이름:\", maria.name)\n",
    "print(\"이름:\", maria.age)\n",
    "print(\"이름:\", maria.address)"
   ]
  },
  {
   "cell_type": "code",
   "execution_count": 27,
   "id": "08d6b0b1-e097-41ae-88bf-22cc89acb2c2",
   "metadata": {},
   "outputs": [
    {
     "name": "stdout",
     "output_type": "stream",
     "text": [
      "이름은 무엇인가요?: 마리아\n",
      "나이는 무엇인가요?: 20\n",
      "주소는 무엇인가요?: 서울시 강남구\n",
      "이름은 무엇인가요?: 제임스\n",
      "나이는 무엇인가요?: 21\n",
      "주소는 무엇인가요?: 서울시 구로구\n",
      "첫번째 이름: 마리아\n",
      "첫번째 나이: 20\n",
      "첫번째 주소: 서울시 강남구\n",
      "두번째 이름: 제임스\n",
      "두번째 나이: 21\n",
      "두번째 주소: 서울시 구로구\n"
     ]
    }
   ],
   "source": [
    "class Person:\n",
    "    def __init__(self, name, age, address):\n",
    "        self.name = name\n",
    "        self.age = age\n",
    "        self.address = address\n",
    "        \n",
    "maria = Person(\"마리아\", 20, \"서울시 강남구\")\n",
    "james = Person(\"제임스\", 21, \"서울시 구로구\")\n",
    "\n",
    "print(\"이름은 무엇인가요?:\", maria.name)\n",
    "print(\"나이는 무엇인가요?:\", maria.age)\n",
    "print(\"주소는 무엇인가요?:\", maria.address)\n",
    "print(\"이름은 무엇인가요?:\", james.name)\n",
    "print(\"나이는 무엇인가요?:\", james.age)\n",
    "print(\"주소는 무엇인가요?:\", james.address)\n",
    "print(\"첫번째 이름:\", maria.name)\n",
    "print(\"첫번째 나이:\", maria.age)\n",
    "print(\"첫번째 주소:\", maria.address)\n",
    "print(\"두번째 이름:\", james.name)\n",
    "print(\"두번째 나이:\", james.age)\n",
    "print(\"두번째 주소:\", james.address)"
   ]
  },
  {
   "cell_type": "code",
   "execution_count": 28,
   "id": "e0a2ea0e-099d-401c-9f81-59c87866f586",
   "metadata": {},
   "outputs": [
    {
     "name": "stdin",
     "output_type": "stream",
     "text": [
      "이름은 무엇인가요?: d\n",
      "나이는 무엇인가요?: d\n",
      "주소는 무엇인가요?: d\n",
      "이름은 무엇인가요?: d\n",
      "나이는 무엇인가요?: d\n",
      "주소는 무엇인가요?: d\n"
     ]
    },
    {
     "name": "stdout",
     "output_type": "stream",
     "text": [
      "첫번째 이름: d\n",
      "첫번째 나이: d\n",
      "첫번째 주소: d\n",
      "두번째 이름: d\n",
      "두번째 나이: d\n",
      "두번째 주소: d\n"
     ]
    }
   ],
   "source": [
    "class Person:\n",
    "    def __init__(self, name, age, address):\n",
    "        self.name = name\n",
    "        self.age = age\n",
    "        self.address = address\n",
    "        \n",
    "maria = Person(\"마리아\", 20, \"서울시 강남구\")\n",
    "james = Person(\"제임스\", 21, \"서울시 구로구\")\n",
    "\n",
    "a = input(\"이름은 무엇인가요?:\")\n",
    "b = input(\"나이는 무엇인가요?:\")\n",
    "c = input(\"주소는 무엇인가요?:\")\n",
    "d = input(\"이름은 무엇인가요?:\")\n",
    "e = input(\"나이는 무엇인가요?:\")\n",
    "f = input(\"주소는 무엇인가요?:\")\n",
    "print(\"첫번째 이름:\", a)\n",
    "print(\"첫번째 나이:\", b)\n",
    "print(\"첫번째 주소:\", c)\n",
    "print(\"두번째 이름:\", d)\n",
    "print(\"두번째 나이:\", e)\n",
    "print(\"두번째 주소:\", f)"
   ]
  },
  {
   "cell_type": "code",
   "execution_count": 29,
   "id": "3e8bbe52-532c-4910-a743-d388b70ac1ab",
   "metadata": {},
   "outputs": [],
   "source": [
    "# 비공개 속성\n",
    "# 우리가 인스턴스.속성 = 값을 통해 새롭게 인스턴스의 속성 값을 변경 못하도록\n",
    "#막고 싶을 때는 비공개 속성을 사용하면 된다.\n",
    "\n",
    "#사용법은 해당하는 속성 앞에 던더(__)를 붙이면 비공개 속성이 된다.\n",
    "\n",
    "class ClassName:\n",
    "    def __init__(self, param1, param2):\n",
    "        self.attr1 = param1\n",
    "        self.__attr2 = param2  #비공개 속성"
   ]
  },
  {
   "cell_type": "code",
   "execution_count": 30,
   "id": "82f6b2f1-ad7b-4fed-a113-7fff9cb1c4e1",
   "metadata": {},
   "outputs": [],
   "source": [
    "class Person:\n",
    "    def __init__(self, name, age, address):\n",
    "        self.name = name\n",
    "        self.age = age\n",
    "        self.address = address\n",
    "        self.__wallet = wallet #변수 앞에 __를 붙여서 비공개 속성으로 만듦\n",
    "\n",
    "# maria = Person(\"마리아\", 20, \"서울시 서초구 반포동\", 10000)\n",
    "# maria.__wallet -= 10000 # 클래스 바깥에서 비공개 속성에 접근하면 에러가 발생"
   ]
  },
  {
   "cell_type": "code",
   "execution_count": 31,
   "id": "8a0f3954-0e28-4b49-885f-93331ffc83c6",
   "metadata": {},
   "outputs": [
    {
     "name": "stdout",
     "output_type": "stream",
     "text": [
      "이제 7000원 남았네요.\n"
     ]
    }
   ],
   "source": [
    "# pay 메서드의 정의와 사용\n",
    "\n",
    "class Person:\n",
    "    def __init__(self, name, age, address, wallet):\n",
    "        self.name = name\n",
    "        self.age = age\n",
    "        self.address = address\n",
    "        self.__wallet = wallet #변수 앞에 __를 붙여서 비공개 속성으로 만듦\n",
    "    def pay(self, amount):\n",
    "        if self.__wallet < amount:\n",
    "            print(\"돈이 모자랍니다.\")\n",
    "            return\n",
    "        self.__wallet -= amount #비공개 속성은 클래스 안의 메서드에서만 접근할 수 있음\n",
    "        print(\"이제 {0}원 남았네요.\".format(self.__wallet))\n",
    "        \n",
    "maria = Person(\"마리아\", 20, \"서울시 서초구 반포동\", 10000)\n",
    "maria.pay(3000)"
   ]
  },
  {
   "cell_type": "code",
   "execution_count": 32,
   "id": "49273002-88d5-480b-9670-15e401973e31",
   "metadata": {},
   "outputs": [],
   "source": [
    "class Annie:\n",
    "    def __init__(self, hp=0, mp=0, ap=0):\n",
    "        self.hp = hp\n",
    "        self.mp = mp\n",
    "        self.ap = ap\n",
    "    \n",
    "    def tibbers(self):\n",
    "        return self.ap * 0.65 * 400"
   ]
  },
  {
   "cell_type": "code",
   "execution_count": 33,
   "id": "6a8210c6-aa64-4361-a5b7-9de743e3376e",
   "metadata": {},
   "outputs": [],
   "source": [
    "a1 = Annie()"
   ]
  },
  {
   "cell_type": "code",
   "execution_count": 34,
   "id": "bc34ffdf-e8f4-4eb9-a411-e45329a5a990",
   "metadata": {},
   "outputs": [
    {
     "name": "stdout",
     "output_type": "stream",
     "text": [
      "0 0 0\n"
     ]
    }
   ],
   "source": [
    "print(a1.hp, a1.mp, a1.ap)"
   ]
  },
  {
   "cell_type": "code",
   "execution_count": null,
   "id": "fb4f0fb5-bc60-4fad-b56e-0bdef8ae837e",
   "metadata": {},
   "outputs": [],
   "source": [
    "# 511.68 334.0 298\n",
    "# 풀이 놓침ㅠㅠ"
   ]
  },
  {
   "cell_type": "code",
   "execution_count": null,
   "id": "4dd80e76-988d-422f-bfab-5e06ee6b805a",
   "metadata": {},
   "outputs": [],
   "source": []
  }
 ],
 "metadata": {
  "kernelspec": {
   "display_name": "Python 3 (ipykernel)",
   "language": "python",
   "name": "python3"
  },
  "language_info": {
   "codemirror_mode": {
    "name": "ipython",
    "version": 3
   },
   "file_extension": ".py",
   "mimetype": "text/x-python",
   "name": "python",
   "nbconvert_exporter": "python",
   "pygments_lexer": "ipython3",
   "version": "3.9.13"
  }
 },
 "nbformat": 4,
 "nbformat_minor": 5
}
