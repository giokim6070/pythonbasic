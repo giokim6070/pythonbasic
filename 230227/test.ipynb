{
 "cells": [
  {
   "cell_type": "code",
   "execution_count": 1,
   "id": "220ff335-3257-4293-bdd3-356425b29d2b",
   "metadata": {},
   "outputs": [
    {
     "data": {
      "text/plain": [
       "135"
      ]
     },
     "execution_count": 1,
     "metadata": {},
     "output_type": "execute_result"
    }
   ],
   "source": [
    "7+3*2**7-256"
   ]
  },
  {
   "cell_type": "code",
   "execution_count": 10,
   "id": "5310775f-c9d1-414a-88f9-a8daa11bf47f",
   "metadata": {},
   "outputs": [
    {
     "name": "stdout",
     "output_type": "stream",
     "text": [
      "\n"
     ]
    }
   ],
   "source": [
    "letters = 'abcdefghijklmnopqrstuvwxyz'\n",
    "print(letters[26:-1:2])"
   ]
  },
  {
   "cell_type": "code",
   "execution_count": null,
   "id": "c61237ac-4d4f-41e4-a867-a44e187f73a6",
   "metadata": {},
   "outputs": [],
   "source": [
    "a = \"2023년\"\n",
    "b = 100\n",
    "c = None\n",
    "d = False\n",
    "print(a)\n",
    "print(b)\n",
    "print(c)\n",
    "print(d)"
   ]
  },
  {
   "cell_type": "code",
   "execution_count": 8,
   "id": "075da993-ab87-46f4-bed3-e4d4c70e19ee",
   "metadata": {},
   "outputs": [
    {
     "name": "stdout",
     "output_type": "stream",
     "text": [
      "t t l\n"
     ]
    }
   ],
   "source": [
    "x = \"Don't want to riddle\"\n",
    "print(x[4],x[9],x[18])"
   ]
  },
  {
   "cell_type": "code",
   "execution_count": 14,
   "id": "b15761d0-8568-4b66-8e58-8c3179147e24",
   "metadata": {},
   "outputs": [
    {
     "name": "stdout",
     "output_type": "stream",
     "text": [
      "zxvtrpnlj\n"
     ]
    }
   ],
   "source": [
    "letters = 'abcdefghijklmnopqrstuvwxyz'\n",
    "print(letters[26:7:-2])"
   ]
  },
  {
   "cell_type": "code",
   "execution_count": null,
   "id": "a1a778fb-87b7-4697-987b-6c5a2328b403",
   "metadata": {},
   "outputs": [],
   "source": []
  }
 ],
 "metadata": {
  "kernelspec": {
   "display_name": "Python 3 (ipykernel)",
   "language": "python",
   "name": "python3"
  },
  "language_info": {
   "codemirror_mode": {
    "name": "ipython",
    "version": 3
   },
   "file_extension": ".py",
   "mimetype": "text/x-python",
   "name": "python",
   "nbconvert_exporter": "python",
   "pygments_lexer": "ipython3",
   "version": "3.9.13"
  }
 },
 "nbformat": 4,
 "nbformat_minor": 5
}
