{
 "cells": [
  {
   "cell_type": "code",
   "execution_count": 1,
   "id": "5ee416f6-0ccb-4949-b3f8-2089c2fcbba9",
   "metadata": {},
   "outputs": [],
   "source": [
    "# 예외란 코드를 실행하다가 에러가 발생되는 것\n",
    "# 에러가 발생되는 예외가 발생했을 때도 프로그램 중단 없이 계속 실행되도록 하는 것이 예외 처리"
   ]
  },
  {
   "cell_type": "code",
   "execution_count": 1,
   "id": "8fc22436-2ec2-4741-a15b-0cc27b234b22",
   "metadata": {},
   "outputs": [
    {
     "name": "stdout",
     "output_type": "stream",
     "text": [
      "0으로 나눌 수 없습니다.\n"
     ]
    }
   ],
   "source": [
    "try:\n",
    "    #나눗셈 연산 시 0으로 나누면 에러 발생\n",
    "    result = 120/0\n",
    "    print(f'연산의 결과는 {result}입니다.')\n",
    "except:\n",
    "    print('0으로 나눌 수 없습니다.')"
   ]
  },
  {
   "cell_type": "code",
   "execution_count": 7,
   "id": "ac3f1402-fe97-48ae-b042-549b10741703",
   "metadata": {},
   "outputs": [
    {
     "name": "stdin",
     "output_type": "stream",
     "text": [
      "숫자 두개를 입력하세요. 1,2\n"
     ]
    },
    {
     "name": "stdout",
     "output_type": "stream",
     "text": [
      "값을 잘못 입력하셨습니다.\n"
     ]
    }
   ],
   "source": [
    "try:\n",
    "    x, y = input('숫자 두개를 입력하세요.').split()\n",
    "except:\n",
    "    print('값을 잘못 입력하셨습니다.')"
   ]
  },
  {
   "cell_type": "code",
   "execution_count": 12,
   "id": "0672be10-01a0-406c-b1ee-fa5a75300698",
   "metadata": {},
   "outputs": [
    {
     "name": "stdout",
     "output_type": "stream",
     "text": [
      "Wall time: 0 ns\n"
     ]
    }
   ],
   "source": [
    "%%time\n",
    "# 셀에서 걸린 실행시간 체크\n",
    "\n",
    "a = []\n",
    "for _ in range(1000):\n",
    "    a.append((_, _, _))"
   ]
  },
  {
   "cell_type": "code",
   "execution_count": 13,
   "id": "3280a613-213e-42ea-b33b-d37eaf41341c",
   "metadata": {},
   "outputs": [
    {
     "name": "stdout",
     "output_type": "stream",
     "text": [
      "0으로 나눌 수 없습니다.\n",
      "division by zero\n"
     ]
    }
   ],
   "source": [
    "# 에러 분기 except 다음에 에러명을 적어주면 된다\n",
    "\n",
    "x = range(4) # 0, 1, 2, 3\n",
    "\n",
    "try:\n",
    "    for i in range(4):\n",
    "        y = 10 / x[i]\n",
    "except ZeroDivisionError as e:\n",
    "    print('0으로 나눌 수 없습니다.')\n",
    "    print(e)\n",
    "except IndexError as e:\n",
    "    print('인덱스 에러 발생')\n",
    "    print(e)"
   ]
  },
  {
   "cell_type": "code",
   "execution_count": 14,
   "id": "40dd0346-841d-4aaf-a9e1-1dbf5cc43549",
   "metadata": {},
   "outputs": [
    {
     "name": "stdout",
     "output_type": "stream",
     "text": [
      "인덱스 에러 발생\n",
      "range object index out of range\n"
     ]
    }
   ],
   "source": [
    "# 에러 분기 except 다음에 에러명을 적어주면 된다\n",
    "\n",
    "x = range(1, 4) # 1, 2, 3\n",
    "\n",
    "try:\n",
    "    for i in range(4):\n",
    "        y = 10 / x[i]\n",
    "except ZeroDivisionError as e:\n",
    "    print('0으로 나눌 수 없습니다.')\n",
    "    print(e)\n",
    "except IndexError as e:\n",
    "    print('인덱스 에러 발생')\n",
    "    print(e)\n",
    "    \n",
    "# as라는 키워드를 써서 별칭을 만들 수 있다."
   ]
  },
  {
   "cell_type": "code",
   "execution_count": 15,
   "id": "61ac0f60-abb0-443c-a665-8a224e7f84f4",
   "metadata": {},
   "outputs": [
    {
     "name": "stdout",
     "output_type": "stream",
     "text": [
      "에러 없이 실행되었습니다.\n"
     ]
    }
   ],
   "source": [
    "# 예외 처리, else\n",
    "# else를 사용하면 에러가 발생되지 않았을 때 실행되는 부분을 작성할 수 있다.\n",
    "\n",
    "x = range(1, 5) # 1, 2, 3, 4\n",
    "\n",
    "try:\n",
    "    for i in range(4):\n",
    "        y = 10 / x[i]\n",
    "except ZeroDivisionError as e:\n",
    "    print('0으로 나눌 수 없습니다.')\n",
    "    print(e)\n",
    "except IndexError as e:\n",
    "    print('인덱스 에러 발생')\n",
    "    print(e)\n",
    "else:\n",
    "    print('에러 없이 실행되었습니다.')"
   ]
  },
  {
   "cell_type": "code",
   "execution_count": 23,
   "id": "e3d5f5e8-b4d0-4cee-8405-5dad21317dab",
   "metadata": {},
   "outputs": [
    {
     "name": "stdin",
     "output_type": "stream",
     "text": [
      "숫자 두개를 입력하세요. 1\n"
     ]
    },
    {
     "name": "stdout",
     "output_type": "stream",
     "text": [
      "값을 잘못 입력하셨습니다.\n"
     ]
    }
   ],
   "source": [
    "try:\n",
    "    x, y = map(int,input('숫자 두개를 입력하세요.').split(' '))\n",
    "    result = x/y\n",
    "except ValueError:\n",
    "    print('값을 잘못 입력하셨습니다.')\n",
    "except ZeroDivisionError:\n",
    "    print('0으로 나눌 수 없습니다.')\n",
    "else:\n",
    "    print(result)"
   ]
  },
  {
   "cell_type": "code",
   "execution_count": 25,
   "id": "2a4e1a93-a75e-4c32-9b7c-dc1956430ddc",
   "metadata": {},
   "outputs": [],
   "source": [
    "# 예외 처리, finally\n",
    "# try와 finally를 사용하면 프로그램에서 무조건 실행되는 부분을 작성할 수 있다.\n",
    "# 특정 동작에 대해 반드시 뒤따라오는 부분, 꼭 해야하는 구문을 작성할 때 try와 finally를 활용하면 좋다.\n",
    "# try:\n",
    "    # raise KeyError\n",
    "# finally:\n",
    "    # print('무조건 실행됩니다.')"
   ]
  },
  {
   "cell_type": "code",
   "execution_count": 27,
   "id": "8b8f5fe1-7482-4d22-96ba-4cc2468ed9f0",
   "metadata": {},
   "outputs": [
    {
     "name": "stdin",
     "output_type": "stream",
     "text": [
      "숫자 두개를 입력하세요. 5, 0\n"
     ]
    },
    {
     "name": "stdout",
     "output_type": "stream",
     "text": [
      "값을 잘못 입력하셨습니다.\n",
      "프로그램을 종료합니다\n"
     ]
    }
   ],
   "source": [
    "try:\n",
    "    x, y = map(int,input('숫자 두개를 입력하세요.').split(' '))\n",
    "    result = x/y\n",
    "except ValueError:\n",
    "    print('값을 잘못 입력하셨습니다.')\n",
    "except ZeroDivisionError:\n",
    "    print('0으로 나눌 수 없습니다.')\n",
    "else:\n",
    "    print(result)\n",
    "finally:\n",
    "    print('프로그램을 종료합니다')"
   ]
  },
  {
   "cell_type": "code",
   "execution_count": null,
   "id": "cf9b4117-c89d-4fca-a995-ed7c466057a1",
   "metadata": {},
   "outputs": [],
   "source": []
  }
 ],
 "metadata": {
  "kernelspec": {
   "display_name": "Python 3 (ipykernel)",
   "language": "python",
   "name": "python3"
  },
  "language_info": {
   "codemirror_mode": {
    "name": "ipython",
    "version": 3
   },
   "file_extension": ".py",
   "mimetype": "text/x-python",
   "name": "python",
   "nbconvert_exporter": "python",
   "pygments_lexer": "ipython3",
   "version": "3.9.13"
  }
 },
 "nbformat": 4,
 "nbformat_minor": 5
}
