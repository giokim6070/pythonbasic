{
 "cells": [
  {
   "cell_type": "code",
   "execution_count": 2,
   "id": "6fa468b1-9c8e-441b-ab5b-ffe581bc07c8",
   "metadata": {},
   "outputs": [
    {
     "name": "stdout",
     "output_type": "stream",
     "text": [
      "value 1 1.1 [1, 2, 'text']\n"
     ]
    }
   ],
   "source": [
    "print(\"value\", 1, 1.1, [1, 2, 'text'])\n",
    "# 여러 값을 동시에 출력하는 방법"
   ]
  },
  {
   "cell_type": "code",
   "execution_count": 7,
   "id": "9d4fb076-8400-49b3-a3d1-f7ddc1539962",
   "metadata": {},
   "outputs": [
    {
     "name": "stdout",
     "output_type": "stream",
     "text": [
      "value,1,1.1,[1, 2, 'text']\n"
     ]
    }
   ],
   "source": [
    "print(\"value\", 1, 1.1, [1, 2, 'text'],sep=\",\")\n",
    "# sep = 구분기호 \n",
    "# 값과 값을 구분하는 단위 변경하기\n",
    "# sep =\", \""
   ]
  },
  {
   "cell_type": "code",
   "execution_count": 13,
   "id": "2f634691-7186-44d0-a6b4-d912a423deef",
   "metadata": {},
   "outputs": [
    {
     "name": "stdout",
     "output_type": "stream",
     "text": [
      "줄이 바뀌지 않습니다. 그 이유는 end=\\n\"과 같이 기본 설정된 값을 빈 스트링으로 변경했기 때문입니다.\n",
      "sep,end는 맨 뒤에 써야하며 둘 간 순서는 상관없습니다.어떻게 사용하는지\n",
      "이해가 되시나요?"
     ]
    }
   ],
   "source": [
    "# print() 함수마다 줄바꿈이 되어있다\n",
    "print(\"줄이 바뀌지 않습니다.\", end=\" \")\n",
    "print(\"그 이유는 end=\\\\n\\\"과 같이 기본 설정된 값을 빈 스트링으로 변경했기 때문입니다.\")\n",
    "print(\"sep\",\"end는 맨 뒤에 써야하며 둘 간 순서는 상관없습니다.\",sep=\",\",end=\"\")\n",
    "print(\"어떻게 사용하는지\", \"이해가 되시나요\",sep=\"\\n\",end=\"?\")"
   ]
  },
  {
   "cell_type": "code",
   "execution_count": 12,
   "id": "94091dbe-c120-4bba-a7a1-e0f0dcaa37f7",
   "metadata": {},
   "outputs": [
    {
     "name": "stdout",
     "output_type": "stream",
     "text": [
      "2021/02/03 18:33:23\n"
     ]
    }
   ],
   "source": [
    "year = '2021'\n",
    "month = '02'\n",
    "day = '03'\n",
    "hour = '18'\n",
    "minute = '33'\n",
    "second = '23'\n",
    "\n",
    "print(year, month, day, sep=\"/\", end=\" \")\n",
    "print(hour, minute, second, sep=\":\")"
   ]
  },
  {
   "cell_type": "code",
   "execution_count": 33,
   "id": "2c384645-c4bd-4541-ab08-f8cdf3e930ea",
   "metadata": {},
   "outputs": [
    {
     "name": "stdin",
     "output_type": "stream",
     "text": [
      "사과와 귤을 몇개 드릴까요? 10, 20\n"
     ]
    },
    {
     "name": "stdout",
     "output_type": "stream",
     "text": [
      "총 가격은14000원입니다.\n"
     ]
    }
   ],
   "source": [
    "apple_price = 1000\n",
    "tangerine_price = 200\n",
    "apple, tangerine = map(int, input('사과와 귤을 몇개 드릴까요?').split(','))\n",
    "\n",
    "total_price = apple_price * apple + tangerine_price * tangerine\n",
    "\n",
    "print(\"총 가격은\", total_price, \"원입니다.\", sep=\"\")"
   ]
  },
  {
   "cell_type": "code",
   "execution_count": 23,
   "id": "cf6e5d34-ac17-4571-82e3-f11456f41fe9",
   "metadata": {},
   "outputs": [
    {
     "name": "stdout",
     "output_type": "stream",
     "text": [
      "10\n",
      "10 20 30\n",
      "101 202 303 404 505\n"
     ]
    }
   ],
   "source": [
    "# format() 메서드\n",
    "print(\"{}\".format(10))\n",
    "print(\"{} {} {}\".format(10, 20, 30))\n",
    "print(\"{} {} {} {} {}\".format(101, 202, 303, 404, 505))"
   ]
  },
  {
   "cell_type": "code",
   "execution_count": 30,
   "id": "0df78da2-f575-4516-80b2-fe97ef817ec2",
   "metadata": {},
   "outputs": [
    {
     "name": "stdout",
     "output_type": "stream",
     "text": [
      "오늘의 날짜를 알려드립니다!\n",
      "2023년 2월 15일입니다.\n"
     ]
    }
   ],
   "source": [
    "# 삼중 따옴표를 활용한 문자열의 format() 메서드\n",
    "# time. Tab키 누르면 여러가지 나옴\n",
    "import time\n",
    "\n",
    "today = \"\"\"오늘의 날짜를 알려드립니다!\n",
    "{}년 {}월 {}일입니다.\\\n",
    "\"\"\".format(time.localtime().tm_year,\n",
    "           time.localtime().tm_mon,\n",
    "           time.localtime().tm_mday)\n",
    "print(today)"
   ]
  },
  {
   "cell_type": "code",
   "execution_count": 31,
   "id": "805b659a-6aff-4d58-be40-c53825998f30",
   "metadata": {},
   "outputs": [
    {
     "name": "stdout",
     "output_type": "stream",
     "text": [
      "중괄호는 2개이고, 여기 인수는\n"
     ]
    }
   ],
   "source": [
    "# 문자열의 format 메서드\n",
    "# 중괄호 개수보다 format 메서드의 인수가 많으면\n",
    "# 초과되는 format 메서드의 인수는 버려집니다.\n",
    "\n",
    "some_str = \"중괄호는 2개이고, {} {}\".format(\"여기\",\"인수는\",\"3개 입니다.\")\n",
    "print(some_str)"
   ]
  },
  {
   "cell_type": "code",
   "execution_count": 32,
   "id": "7f33ab90-0f32-4614-a507-8a6eda8d158c",
   "metadata": {},
   "outputs": [],
   "source": [
    "# 중괄호 개수보다 ,format 메서드의 인수가 적으면\n",
    "# IndexError가 발생합니다.\n",
    "# ex) some_str = \"중괄호는 4개이고, {} {} {} {}\".format(\"여기\",\"인수는\",\"3개 입니다.\")"
   ]
  },
  {
   "cell_type": "code",
   "execution_count": 34,
   "id": "34a8dfff-d3c0-4561-8382-b405123f3987",
   "metadata": {},
   "outputs": [
    {
     "name": "stdout",
     "output_type": "stream",
     "text": [
      "10\n",
      "10 20 30\n",
      "101 202 303 404 505\n"
     ]
    }
   ],
   "source": [
    "# 문자열의 f-string\n",
    "print(f\"{10}\")\n",
    "print(f\"{10} {20} {30}\")\n",
    "print(f\"{101} {202} {303} {404} {505}\")"
   ]
  },
  {
   "cell_type": "code",
   "execution_count": null,
   "id": "4b3959f9-76ac-45d4-ae4a-91808b765842",
   "metadata": {},
   "outputs": [],
   "source": [
    "# f-string은 삼중 따옴표를 쓴 문자열에도 적용가능\n",
    "#import time\n",
    "\n",
    "#today = f\"\"\"오늘의 날짜를 알려드립니다!\n",
    "#{time.localtime().tm_year}년, {time.localtime().tm_mon},{time.localtime().tm_mday)\n",
    "#print(today)"
   ]
  },
  {
   "cell_type": "code",
   "execution_count": null,
   "id": "4721f153-ba2c-403d-9b0a-68f789cafe86",
   "metadata": {},
   "outputs": [],
   "source": [
    "# if문 (들여쓰기 중요!! 파이썬 전체적으로 들여쓰기 중요...)\n",
    "# True일 때, it문 블록 (콜론 다음 줄 들여쓰기가 된 부분임(띄어쓰기 4칸))\n",
    "# False일 때, main\n",
    "\n",
    "# 만약 이 조건이 True면 아래 들여쓰기한 부분을 실행해:\n",
    "#     들여쓰기(제발 띄어쓰기 4칸)\n",
    "#     들여쓰기(제발 띄어쓰기 4칸)\n",
    "#     들여쓰기(제발 띄어쓰기 4칸)\n",
    "# 다시 주 흐름으로..."
   ]
  }
 ],
 "metadata": {
  "kernelspec": {
   "display_name": "Python 3 (ipykernel)",
   "language": "python",
   "name": "python3"
  },
  "language_info": {
   "codemirror_mode": {
    "name": "ipython",
    "version": 3
   },
   "file_extension": ".py",
   "mimetype": "text/x-python",
   "name": "python",
   "nbconvert_exporter": "python",
   "pygments_lexer": "ipython3",
   "version": "3.9.13"
  }
 },
 "nbformat": 4,
 "nbformat_minor": 5
}
