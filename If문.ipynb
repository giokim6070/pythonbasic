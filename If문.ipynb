{
 "cells": [
  {
   "cell_type": "code",
   "execution_count": null,
   "id": "34305906-c001-4771-88bb-de021eeaf2ab",
   "metadata": {},
   "outputs": [],
   "source": [
    "# if문 (들여쓰기 중요!! 파이썬 전체적으로 들여쓰기 중요...)\n",
    "# True일 때, it문 블록 (콜론 다음 줄 들여쓰기가 된 부분임(띄어쓰기 4칸))\n",
    "# False일 때, 주 흐름으로\n",
    "\n",
    "# 만약 이 조건이 True면 아래 들여쓰기한 부분을 실행해:\n",
    "#     들여쓰기(제발 띄어쓰기 4칸)\n",
    "#     들여쓰기(제발 띄어쓰기 4칸)\n",
    "#     들여쓰기(제발 띄어쓰기 4칸)\n",
    "# 다시 주 흐름으로..."
   ]
  },
  {
   "cell_type": "code",
   "execution_count": 5,
   "id": "3a868876-a792-41a7-b1ae-cfba2c162078",
   "metadata": {},
   "outputs": [
    {
     "ename": "NameError",
     "evalue": "name 'input_value4' is not defined",
     "output_type": "error",
     "traceback": [
      "\u001b[1;31m---------------------------------------------------------------------------\u001b[0m",
      "\u001b[1;31mNameError\u001b[0m                                 Traceback (most recent call last)",
      "\u001b[1;32m~\\AppData\\Local\\Temp\\ipykernel_13220\\1882164984.py\u001b[0m in \u001b[0;36m<module>\u001b[1;34m\u001b[0m\n\u001b[0;32m      1\u001b[0m \u001b[1;31m# input_value4가 정수일 때만 실행되는 코드를 작성해봅시다.\u001b[0m\u001b[1;33m\u001b[0m\u001b[1;33m\u001b[0m\u001b[0m\n\u001b[0;32m      2\u001b[0m \u001b[1;33m\u001b[0m\u001b[0m\n\u001b[1;32m----> 3\u001b[1;33m \u001b[1;32mif\u001b[0m \u001b[0mtype\u001b[0m\u001b[1;33m(\u001b[0m\u001b[0minput_value4\u001b[0m\u001b[1;33m)\u001b[0m \u001b[1;32mis\u001b[0m \u001b[0mint\u001b[0m\u001b[1;33m:\u001b[0m\u001b[1;33m\u001b[0m\u001b[1;33m\u001b[0m\u001b[0m\n\u001b[0m\u001b[0;32m      4\u001b[0m         \u001b[0mprint\u001b[0m\u001b[1;33m(\u001b[0m\u001b[1;34m\"input_value4는 정수입니다.\"\u001b[0m\u001b[1;33m)\u001b[0m\u001b[1;33m\u001b[0m\u001b[1;33m\u001b[0m\u001b[0m\n",
      "\u001b[1;31mNameError\u001b[0m: name 'input_value4' is not defined"
     ]
    }
   ],
   "source": [
    "# input_value4가 정수일 때만 실행되는 코드를 작성해봅시다.\n",
    "\n",
    "#if type(input_value4) is int:\n",
    "    #    print(\"input_value4는 정수입니다.\")"
   ]
  },
  {
   "cell_type": "code",
   "execution_count": null,
   "id": "e80952ca-f3fb-4ede-9601-238a4c7fe8e0",
   "metadata": {},
   "outputs": [],
   "source": [
    "# 논리연산자를 사용하자! (반환 = return)\n",
    "# and  True and True\n",
    "# or  True or False\n",
    "# not  "
   ]
  },
  {
   "cell_type": "code",
   "execution_count": 7,
   "id": "8b114dc7-f12b-4727-a941-45e9d3013cb5",
   "metadata": {},
   "outputs": [
    {
     "ename": "NameError",
     "evalue": "name 'a' is not defined",
     "output_type": "error",
     "traceback": [
      "\u001b[1;31m---------------------------------------------------------------------------\u001b[0m",
      "\u001b[1;31mNameError\u001b[0m                                 Traceback (most recent call last)",
      "\u001b[1;32m~\\AppData\\Local\\Temp\\ipykernel_13220\\1174828403.py\u001b[0m in \u001b[0;36m<module>\u001b[1;34m\u001b[0m\n\u001b[0;32m      4\u001b[0m \u001b[1;33m\u001b[0m\u001b[0m\n\u001b[0;32m      5\u001b[0m \u001b[1;31m# a라는 변수의 타입이 int라면 True, int가 아니라면 False\u001b[0m\u001b[1;33m\u001b[0m\u001b[1;33m\u001b[0m\u001b[0m\n\u001b[1;32m----> 6\u001b[1;33m \u001b[1;32mif\u001b[0m \u001b[0mtype\u001b[0m\u001b[1;33m(\u001b[0m\u001b[0ma\u001b[0m\u001b[1;33m)\u001b[0m \u001b[1;32mis\u001b[0m \u001b[0mint\u001b[0m\u001b[1;33m:\u001b[0m\u001b[1;33m\u001b[0m\u001b[1;33m\u001b[0m\u001b[0m\n\u001b[0m\u001b[0;32m      7\u001b[0m     \u001b[0mprint\u001b[0m\u001b[1;33m(\u001b[0m\u001b[1;34m\"a는 정수입니다\"\u001b[0m\u001b[1;33m)\u001b[0m\u001b[1;33m\u001b[0m\u001b[1;33m\u001b[0m\u001b[0m\n",
      "\u001b[1;31mNameError\u001b[0m: name 'a' is not defined"
     ]
    }
   ],
   "source": [
    "# if문과 elif문\n",
    "# if : 조건이 맞으면 실행하라.\n",
    "a : \"100\"\n",
    "\n",
    "# a라는 변수의 타입이 int라면 True, int가 아니라면 False\n",
    "#if type(a) is int:\n",
    "   # print(\"a는 정수입니다\")"
   ]
  },
  {
   "cell_type": "code",
   "execution_count": 9,
   "id": "eae0317d-214d-457b-9739-8c2a6671a68e",
   "metadata": {},
   "outputs": [
    {
     "name": "stdout",
     "output_type": "stream",
     "text": [
      "문자열입니다.\n"
     ]
    }
   ],
   "source": [
    "b = \"10\"\n",
    "if type(b) is int:\n",
    "    print(\"정수입니다.\")\n",
    "          \n",
    "# 앞의 조건이 전부 False일 때만 실행되는 부분입니다.\n",
    "elif type(b) is str:\n",
    "          print(\"문자열입니다.\")"
   ]
  },
  {
   "cell_type": "code",
   "execution_count": 11,
   "id": "61779c7b-86ac-4551-a33e-370887232ff5",
   "metadata": {},
   "outputs": [],
   "source": [
    "c = 10\n",
    "\n",
    "if c > 10:   #False\n",
    "    print(\"10보다 큽니다\")\n",
    "    \n",
    "elif c < 5:   #False\n",
    "    print(\"10보다 작고, 5보다도 작습니다.\")"
   ]
  },
  {
   "cell_type": "code",
   "execution_count": null,
   "id": "2233edc1-f692-4ffe-85be-61e6637630a8",
   "metadata": {},
   "outputs": [],
   "source": [
    "c = 100   #0~100 정수\n",
    "print(\"시작\")\n",
    "\n",
    "if c >= 90:   \n",
    "    print(\"수\")\n",
    "    \n",
    "elif 90 > c and c >= 80:   \n",
    "    print(\"우\")\n",
    "\n",
    "elif 80 > c and \n",
    "    print()\"1보다 작고, 5보단 큽니다.\")"
   ]
  },
  {
   "cell_type": "code",
   "execution_count": 12,
   "id": "cdf8df58-4828-4f4d-9563-bccac5456e5f",
   "metadata": {},
   "outputs": [],
   "source": [
    "age = 39\n",
    "\n",
    "if 20 <= age <30:\n",
    "    print(\"20대 입니다.\")"
   ]
  },
  {
   "cell_type": "code",
   "execution_count": 14,
   "id": "6a7c654d-d4eb-4441-a5f1-7b4deaeb108e",
   "metadata": {},
   "outputs": [
    {
     "name": "stdout",
     "output_type": "stream",
     "text": [
      "불혹입니다.\n"
     ]
    }
   ],
   "source": [
    "#if elif else\n",
    "age = 40\n",
    "\n",
    "if 20 <= age < 30:\n",
    "    print(\"20대 입니다.\")\n",
    "elif 30 <= age < 40:\n",
    "    print(\"33대 입니다.\")\n",
    "else:\n",
    "    print(\"불혹입니다.\")"
   ]
  },
  {
   "cell_type": "code",
   "execution_count": 25,
   "id": "1ddce203-b45f-4da1-82f5-9ac458337887",
   "metadata": {},
   "outputs": [
    {
     "name": "stdin",
     "output_type": "stream",
     "text": [
      "아이디를 입력하세요 : biana\n",
      "회원 등급을 입력해주세요 : 3\n"
     ]
    },
    {
     "name": "stdout",
     "output_type": "stream",
     "text": [
      "\n",
      "제한적인 권한을 갖습니다.\n"
     ]
    }
   ],
   "source": [
    "name = input(\"아이디를 입력하세요 :\")\n",
    "\n",
    "if a == 'admin':   #같다는 등호 두개 사용\n",
    "    print('최고 관리자. 모든 권한을 갖습니다.')\n",
    "else: \n",
    "    grade = int(input('회원 등급을 입력해주세요 :'))\n",
    "    if 1<= grade <=3:\n",
    "        print('\\n제한적인 권한을 갖습니다.')\n",
    "    else:\n",
    "        print('\\n권한이 없습니다.')"
   ]
  },
  {
   "cell_type": "code",
   "execution_count": null,
   "id": "b745ba89-2c91-4122-9901-891635aec5ba",
   "metadata": {},
   "outputs": [],
   "source": [
    "# if문의 바디를 나중에 작성할 예정이라면 pass 키워드 사용\n",
    "# if 조건식:\n",
    "     pass # TOBE\n",
    "# if문은 중첩해서 사용할 수 있다."
   ]
  },
  {
   "cell_type": "code",
   "execution_count": 27,
   "id": "7c63ce71-646b-45d0-a93f-b77684e9ef3d",
   "metadata": {},
   "outputs": [
    {
     "name": "stdin",
     "output_type": "stream",
     "text": [
      "자연수 하나 입력해주세요 : 70\n"
     ]
    },
    {
     "name": "stdout",
     "output_type": "stream",
     "text": [
      "20\n"
     ]
    }
   ],
   "source": [
    "a = int(input('자연수 하나 입력해주세요 :'))\n",
    "result = a-50\n",
    "\n",
    "if result >=0:\n",
    "    print(result)\n",
    "else:\n",
    "    print(0)\n",
    "    \n",
    "# 서현님이 도와주신 풀이"
   ]
  },
  {
   "cell_type": "code",
   "execution_count": 28,
   "id": "435d37bb-008d-4858-9ef4-2f44f143316e",
   "metadata": {},
   "outputs": [
    {
     "name": "stdin",
     "output_type": "stream",
     "text": [
      "자연수 하나 입력해주세요 : 21\n"
     ]
    },
    {
     "name": "stdout",
     "output_type": "stream",
     "text": [
      "0\n"
     ]
    }
   ],
   "source": [
    "int_value = int(input('자연수 하나 입력해주세요 :'))\n",
    "result = int_value - 50\n",
    "\n",
    "if result < 0:\n",
    "    result = 0\n",
    "\n",
    "print(result)\n",
    "\n",
    "# 선생님 풀이"
   ]
  },
  {
   "cell_type": "code",
   "execution_count": 30,
   "id": "1f5fd6f6-0665-4a72-aa8a-22b6da2aac8b",
   "metadata": {},
   "outputs": [
    {
     "name": "stdin",
     "output_type": "stream",
     "text": [
      "자연수 하나 입력해주세요 : 21\n"
     ]
    },
    {
     "name": "stdout",
     "output_type": "stream",
     "text": [
      "홀수입니다.\n"
     ]
    }
   ],
   "source": [
    "int_value = int(input('자연수 하나 입력해주세요 :'))\n",
    "result = int_value % 2\n",
    "\n",
    "if result == 0:\n",
    "    print('짝수입니다.')\n",
    "else:\n",
    "    print('홀수입니다.')\n",
    "    \n",
    "#서현님이 도와주신 풀이"
   ]
  },
  {
   "cell_type": "code",
   "execution_count": null,
   "id": "f6afbf50-8844-4da3-b37b-af2cf3b29f10",
   "metadata": {},
   "outputs": [],
   "source": [
    "number = int(input('자연수 하나 입력해주세요 :'))\n",
    "\n",
    "if number%2 == 0:\n",
    "    print('짝수입니다.')\n",
    "else:\n",
    "    print('홀수입니다.')\n",
    "    \n",
    "# 선생님 풀이"
   ]
  },
  {
   "cell_type": "code",
   "execution_count": 35,
   "id": "a55fe3de-c81b-47ac-82f5-2f93cc44b427",
   "metadata": {},
   "outputs": [
    {
     "name": "stdin",
     "output_type": "stream",
     "text": [
      "소프트웨어 설계 점수를 입력하세요. -7\n",
      "소프트웨어 개발 점수를 입력하세요. 50\n",
      "데이터베이스 구축 점수를 입력하세요. 40\n",
      "프로그래밍 언어 활용 점수를 입력하세요. 30\n",
      "정보시스템 구축관리 점수를 입력하세요. 70\n"
     ]
    },
    {
     "name": "stdout",
     "output_type": "stream",
     "text": [
      "잘못된 점수입니다.\n"
     ]
    }
   ],
   "source": [
    "a = int(input('소프트웨어 설계 점수를 입력하세요.'))\n",
    "b = int(input('소프트웨어 개발 점수를 입력하세요.'))\n",
    "c = int(input('데이터베이스 구축 점수를 입력하세요.'))\n",
    "d = int(input('프로그래밍 언어 활용 점수를 입력하세요.'))\n",
    "e = int(input('정보시스템 구축관리 점수를 입력하세요.'))\n",
    "\n",
    "avg = (a+b+c+d+e)/5\n",
    "\n",
    "if 0<=a<=100 and 0<=b<=100 and 0<=c<=100 and 0<=d<=100 and 0<=e<=100:\n",
    "    if avg >= 60:\n",
    "        print('합격')\n",
    "    else:\n",
    "        print('불합격.')\n",
    "else:\n",
    "    print('잘못된 점수입니다.')"
   ]
  },
  {
   "cell_type": "code",
   "execution_count": 36,
   "id": "6dc71b10-0769-48dc-8baf-9f5681dd359c",
   "metadata": {},
   "outputs": [
    {
     "name": "stdin",
     "output_type": "stream",
     "text": [
      "현재 물의 온도를 입력해주세요 -0.12\n"
     ]
    },
    {
     "name": "stdout",
     "output_type": "stream",
     "text": [
      "고체로 예상됩니다.\n"
     ]
    }
   ],
   "source": [
    "temp = float(input('현재 물의 온도를 입력해주세요'))\n",
    "# float 사용하는거 잊지말기!!\n",
    "\n",
    "if temp >= 100:\n",
    "    print('기체로 예상됩니다.')\n",
    "elif 0 <= temp <100:\n",
    "    print('액체로 예상됩니다.')\n",
    "else:\n",
    "    print('고체로 예상됩니다.')    "
   ]
  },
  {
   "cell_type": "code",
   "execution_count": 42,
   "id": "64a4e680-cdd3-4ec2-a396-337c3f12268b",
   "metadata": {},
   "outputs": [
    {
     "name": "stdin",
     "output_type": "stream",
     "text": [
      "자신의 나이를 입력하세요 19\n"
     ]
    },
    {
     "name": "stdout",
     "output_type": "stream",
     "text": [
      "1500원\n"
     ]
    }
   ],
   "source": [
    "age = int(input('자신의 나이를 입력하세요'))\n",
    "\n",
    "if age >= 19:\n",
    "    print('1500원')\n",
    "elif 12 <= age <= 18:\n",
    "    print('1100원')\n",
    "elif 6 <= age <= 11:\n",
    "    print('800원')\n",
    "else:\n",
    "    print('무임승차입니다.')"
   ]
  },
  {
   "cell_type": "code",
   "execution_count": 49,
   "id": "6c540c82-0b2c-4c5c-b774-7ae7770ed882",
   "metadata": {},
   "outputs": [
    {
     "ename": "SyntaxError",
     "evalue": "EOL while scanning string literal (787369236.py, line 4)",
     "output_type": "error",
     "traceback": [
      "\u001b[1;36m  File \u001b[1;32m\"C:\\Users\\user\\AppData\\Local\\Temp\\ipykernel_13220\\787369236.py\"\u001b[1;36m, line \u001b[1;32m4\u001b[0m\n\u001b[1;33m    print('수량할인이 적용되지 않습니다.', '\\n 총 발주 금액은 $\",int(count*10, \"입니다.\", sep=\"\"))\u001b[0m\n\u001b[1;37m                                                                            ^\u001b[0m\n\u001b[1;31mSyntaxError\u001b[0m\u001b[1;31m:\u001b[0m EOL while scanning string literal\n"
     ]
    }
   ],
   "source": [
    "item = int(input('발주 수량을 입력하세요 : '))\n",
    "print(item,\"개를 주문하셨습니다.\",sep=\"\")\n",
    "if item < 1000:\n",
    "    print('수량할인이 적용되지 않습니다.', '\\n 총 발주 금액은 $\",int(count*10, \"입니다.\", sep=\"\"))\n",
    "elif 1000 <= item <= 1500:\n",
    "    print('적용 할인율은 5%입니다.', '\\n 총 발주 금액은 $\",int(count*10*0.95, \"입니다.\", sep=\"\"))\n",
    "elif 1500 < item <= 2000:\n",
    "    print('적용 할인율은 10%입니다.', '\\n 총 발주 금액은 $\",int(count*10*0.9, \"입니다.\", sep=\"\"))\n",
    "else:\n",
    "    print('적용 할인율은 20%입니다.', '\\n 총 발주 금액은 $\",int(count*10*0.8, \"입니다.\", sep=\"\"))"
   ]
  },
  {
   "cell_type": "code",
   "execution_count": 57,
   "id": "ebb74792-e187-4782-8257-f0bbdb05fff8",
   "metadata": {},
   "outputs": [
    {
     "name": "stdin",
     "output_type": "stream",
     "text": [
      "주민번호 뒷자리를 입력하세요:  2860116\n"
     ]
    },
    {
     "ename": "TypeError",
     "evalue": "object of type 'int' has no len()",
     "output_type": "error",
     "traceback": [
      "\u001b[1;31m---------------------------------------------------------------------------\u001b[0m",
      "\u001b[1;31mTypeError\u001b[0m                                 Traceback (most recent call last)",
      "\u001b[1;32m~\\AppData\\Local\\Temp\\ipykernel_13220\\2081183614.py\u001b[0m in \u001b[0;36m<module>\u001b[1;34m\u001b[0m\n\u001b[0;32m      1\u001b[0m \u001b[0mnumber\u001b[0m \u001b[1;33m=\u001b[0m \u001b[0mint\u001b[0m\u001b[1;33m(\u001b[0m\u001b[0minput\u001b[0m\u001b[1;33m(\u001b[0m\u001b[1;34m'주민번호 뒷자리를 입력하세요: '\u001b[0m\u001b[1;33m)\u001b[0m\u001b[1;33m)\u001b[0m\u001b[1;33m\u001b[0m\u001b[1;33m\u001b[0m\u001b[0m\n\u001b[0;32m      2\u001b[0m \u001b[1;33m\u001b[0m\u001b[0m\n\u001b[1;32m----> 3\u001b[1;33m \u001b[1;32mif\u001b[0m \u001b[0mlen\u001b[0m\u001b[1;33m(\u001b[0m\u001b[0mnumber\u001b[0m\u001b[1;33m)\u001b[0m \u001b[1;33m!=\u001b[0m \u001b[1;36m7\u001b[0m\u001b[1;33m:\u001b[0m\u001b[1;33m\u001b[0m\u001b[1;33m\u001b[0m\u001b[0m\n\u001b[0m\u001b[0;32m      4\u001b[0m     \u001b[0mprint\u001b[0m\u001b[1;33m(\u001b[0m\u001b[1;34m'자리수를 잘못 입력했습니다.'\u001b[0m\u001b[1;33m)\u001b[0m\u001b[1;33m\u001b[0m\u001b[1;33m\u001b[0m\u001b[0m\n\u001b[0;32m      5\u001b[0m \u001b[1;32melse\u001b[0m\u001b[1;33m:\u001b[0m\u001b[1;33m\u001b[0m\u001b[1;33m\u001b[0m\u001b[0m\n",
      "\u001b[1;31mTypeError\u001b[0m: object of type 'int' has no len()"
     ]
    }
   ],
   "source": [
    "reg_num = (input('주민번호 뒷자리를 입력하세요: ')\n",
    "\n",
    "if len(reg_num) != 7:\n",
    "    print('자리수를 잘못 입력했습니다.')\n",
    "else:\n",
    "    fst_num = int(reg_num[0])\n",
    "    if fst_num in (1, 3):\n",
    "        print(\"남자\")\n",
    "    elif fst_num in (2, 4):\n",
    "        print(\"여자\")\n",
    "    else:\n",
    "        print(\"잘못된 입력입니다.\")"
   ]
  },
  {
   "cell_type": "code",
   "execution_count": 58,
   "id": "d15127a6-1c9b-4802-ae98-fd0a2c6e359f",
   "metadata": {},
   "outputs": [
    {
     "ename": "SyntaxError",
     "evalue": "invalid syntax (3223633056.py, line 3)",
     "output_type": "error",
     "traceback": [
      "\u001b[1;36m  File \u001b[1;32m\"C:\\Users\\user\\AppData\\Local\\Temp\\ipykernel_13220\\3223633056.py\"\u001b[1;36m, line \u001b[1;32m3\u001b[0m\n\u001b[1;33m    if year % 4 = 0 or (year % 100 !== 0 and year % 400 == 0):\u001b[0m\n\u001b[1;37m                ^\u001b[0m\n\u001b[1;31mSyntaxError\u001b[0m\u001b[1;31m:\u001b[0m invalid syntax\n"
     ]
    }
   ],
   "source": [
    "year = int(input('확인할 연도를 입력하세요:'))\n",
    "\n",
    "if year % 4 = 0 or (year % 100 !== 0 and year % 400 == 0):\n",
    "    print(\"평년입니다.\")\n",
    "else:\n",
    "    print(\"윤년입니다.\")"
   ]
  },
  {
   "cell_type": "code",
   "execution_count": null,
   "id": "29c4054b-1bdd-4891-8cc7-011de635b7d1",
   "metadata": {},
   "outputs": [],
   "source": []
  }
 ],
 "metadata": {
  "kernelspec": {
   "display_name": "Python 3 (ipykernel)",
   "language": "python",
   "name": "python3"
  },
  "language_info": {
   "codemirror_mode": {
    "name": "ipython",
    "version": 3
   },
   "file_extension": ".py",
   "mimetype": "text/x-python",
   "name": "python",
   "nbconvert_exporter": "python",
   "pygments_lexer": "ipython3",
   "version": "3.9.13"
  }
 },
 "nbformat": 4,
 "nbformat_minor": 5
}
