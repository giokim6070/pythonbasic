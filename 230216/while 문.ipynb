{
 "cells": [
  {
   "cell_type": "code",
   "execution_count": null,
   "id": "3cac60f8-49d9-4436-b00f-b80953735b48",
   "metadata": {},
   "outputs": [],
   "source": [
    "# while문  \n",
    "#   i = 0                   # 초기식(특정 변수를 세팅)\n",
    "#   while i < 100:               # while 조건식\n",
    "#       print(\"Hello world\"))      # 반복할 코드\n",
    "#       i += 1                  # 변화식\n",
    "\n",
    "# i가 100보다 작아질 때 까지 반복하겠다...? 0~99\n",
    "\n",
    "# 1. 조건식을 판별합니다.\n",
    "# 2. 조건식이 True인 동안 내내 while문의 바디를 실행합니다.\n",
    "# 3. 조건식이 False가 되면 while문을 빠져나갑니다."
   ]
  },
  {
   "cell_type": "code",
   "execution_count": 1,
   "id": "93e72d13-caf9-4480-8803-0291130c49fd",
   "metadata": {},
   "outputs": [
    {
     "name": "stdin",
     "output_type": "stream",
     "text": [
      "반복할 횟수를 입력하세요: 3\n"
     ]
    },
    {
     "name": "stdout",
     "output_type": "stream",
     "text": [
      "Hello world 3\n",
      "Hello world 2\n",
      "Hello world 1\n"
     ]
    }
   ],
   "source": [
    "count = int(input(\"반복할 횟수를 입력하세요:\"))\n",
    "while count > 0:\n",
    "    print(\"Hello world\", count)\n",
    "    count -= 1"
   ]
  },
  {
   "cell_type": "code",
   "execution_count": null,
   "id": "af6ceb6e-ea1a-4bc0-b723-7b036a334490",
   "metadata": {},
   "outputs": [],
   "source": [
    "i = 0\n",
    "while i < 100:\n",
    "    i = i+2\n",
    "    print(i, end = '\\t')\n",
    "    \n",
    "# 피피티에 선생님 풀이도 참고하기"
   ]
  },
  {
   "cell_type": "code",
   "execution_count": 2,
   "id": "86e74653-7fa4-462d-9146-15ff239e9583",
   "metadata": {},
   "outputs": [
    {
     "name": "stdin",
     "output_type": "stream",
     "text": [
      "구구단을 알려드립니다. 숫자를 입력하세요 9\n"
     ]
    },
    {
     "name": "stdout",
     "output_type": "stream",
     "text": [
      "9 * 1 = 9\n",
      "9 * 2 = 18\n",
      "9 * 3 = 27\n",
      "9 * 4 = 36\n",
      "9 * 5 = 45\n",
      "9 * 6 = 54\n",
      "9 * 7 = 63\n",
      "9 * 8 = 72\n",
      "9 * 9 = 81\n"
     ]
    }
   ],
   "source": [
    "a = int(input('구구단을 알려드립니다. 숫자를 입력하세요'))\n",
    "\n",
    "i = 1\n",
    "while i <= 9:\n",
    "    result = i * a\n",
    "    print(f\"{a} * {i} = {a*i}\")\n",
    "    i += 1"
   ]
  }
 ],
 "metadata": {
  "kernelspec": {
   "display_name": "Python 3 (ipykernel)",
   "language": "python",
   "name": "python3"
  },
  "language_info": {
   "codemirror_mode": {
    "name": "ipython",
    "version": 3
   },
   "file_extension": ".py",
   "mimetype": "text/x-python",
   "name": "python",
   "nbconvert_exporter": "python",
   "pygments_lexer": "ipython3",
   "version": "3.9.13"
  }
 },
 "nbformat": 4,
 "nbformat_minor": 5
}
