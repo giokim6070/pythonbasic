{
 "cells": [
  {
   "cell_type": "code",
   "execution_count": 1,
   "id": "0514a435-d469-4093-bf95-5bb305f5f115",
   "metadata": {},
   "outputs": [
    {
     "name": "stdout",
     "output_type": "stream",
     "text": [
      "97\n",
      "100\n",
      "77\n"
     ]
    }
   ],
   "source": [
    "# for문으로 시퀀스 객체의 인덱스 루프(loop) 테크닉\n",
    "scores = (97, 100, 77)\n",
    "\n",
    "for _ in range(len(scores)):  # 길이를 적어주고(인덱스보다 1개 큰 값)을 range 안에 쓰게되면.... \n",
    "    print(scores[_])          # 인덱싱 범위를 딱 쓸 수 있다"
   ]
  },
  {
   "cell_type": "code",
   "execution_count": null,
   "id": "f6bddf94-d42d-473b-9c0d-b8ef301a598b",
   "metadata": {},
   "outputs": [],
   "source": [
    "# while문으로 시퀀스 객체의 인덱스 루프(loop) 테크닉\n",
    "scores = (97, 100, 77)\n",
    "i = 0\n",
    "while i < len(scores):\n",
    "    print"
   ]
  },
  {
   "cell_type": "code",
   "execution_count": 2,
   "id": "1b3b0d5c-0559-444c-9378-917d77df6bbe",
   "metadata": {},
   "outputs": [
    {
     "name": "stdout",
     "output_type": "stream",
     "text": [
      "len(a): 4\n",
      "87\n",
      "22\n",
      "31\n",
      "98\n"
     ]
    }
   ],
   "source": [
    "#     0,  1,  2,  3\n",
    "a = [87, 22, 31, 98]\n",
    "\n",
    "print(f\"len(a): {len(a)}\")  # 4 --> 인덱스의 제일 큰 값보다 1이 큼.\n",
    "\n",
    "# 인덱스를 순서대로 접근할 수 있도록 제어할 변수\n",
    "# 0~3까지 1씩 증가\n",
    "i = 0\n",
    "\n",
    "# 인덱싱을 할 때는 정확한 범위의 인덱스에 접근해야 한다.\n",
    "while i < len(a):\n",
    "    print(a[i])\n",
    "    i += 1      # 무한반복 막기 위해서..."
   ]
  },
  {
   "cell_type": "code",
   "execution_count": 2,
   "id": "f15bf3de-2bef-4929-bc5e-01c06566450d",
   "metadata": {},
   "outputs": [
    {
     "name": "stdout",
     "output_type": "stream",
     "text": [
      "1 2 3 4 5 6 7 8 9 10 "
     ]
    }
   ],
   "source": [
    "# 연습문제 (for / while 모두 작성)\n",
    "for i in range(1, 11):\n",
    "    print(i, end=\" \")"
   ]
  },
  {
   "cell_type": "code",
   "execution_count": 5,
   "id": "1ceee81c-a670-4ff1-a6b4-c3f48638dfcf",
   "metadata": {},
   "outputs": [
    {
     "name": "stdout",
     "output_type": "stream",
     "text": [
      "1 2 3 4 5 6 7 8 9 10 "
     ]
    }
   ],
   "source": [
    "i = 1\n",
    "while i <= 10:\n",
    "     print(i, end=\" \")\n",
    "     i += 1"
   ]
  },
  {
   "cell_type": "code",
   "execution_count": 7,
   "id": "40172416-276c-4d1e-9797-6b5b20d2395c",
   "metadata": {},
   "outputs": [
    {
     "name": "stdout",
     "output_type": "stream",
     "text": [
      "79.0\n"
     ]
    }
   ],
   "source": [
    "class_a = (70, 60, 55, 75, 95, 90, 80, 80, 85, 100)\n",
    "\n",
    "i = 0\n",
    "while i < len(class_a):\n",
    "    result = sum(class_a)/10\n",
    "    i += 1\n",
    "print(result)\n",
    "\n",
    "# 서현님 도움받은 풀이. sum 사용은 좋은 아이디어지만 \n",
    "# 문제에서 while을 써보시라고 한 것은 시퀀스 자료형인 리스트에 인덱싱을 반복문을 통해서 해야함."
   ]
  },
  {
   "cell_type": "code",
   "execution_count": 8,
   "id": "b84f5bc1-bc0c-4c7f-930e-63f4ec6df138",
   "metadata": {},
   "outputs": [
    {
     "name": "stdout",
     "output_type": "stream",
     "text": [
      "79.0\n"
     ]
    }
   ],
   "source": [
    "class_a = (70, 60, 55, 75, 95, 90, 80, 80, 85, 100)\n",
    "i = 0\n",
    "res = 0       # 인덱스\n",
    "while i < len(class_a):\n",
    "    res += class_a[i]\n",
    "    i += 1\n",
    "print(res/len(class_a))\n",
    "\n",
    "# 진명님 풀이"
   ]
  },
  {
   "cell_type": "code",
   "execution_count": 11,
   "id": "8f27a350-7ee1-4725-9195-88885652232a",
   "metadata": {},
   "outputs": [
    {
     "name": "stdout",
     "output_type": "stream",
     "text": [
      "79.0\n"
     ]
    }
   ],
   "source": [
    "class_a = (70, 60, 55, 75, 95, 90, 80, 80, 85, 100)\n",
    "total = 0\n",
    "i = 0\n",
    "while i < len(class_a):\n",
    "    total += class_a[i]\n",
    "    i += 1\n",
    "    \n",
    "average = total / len(class_a)\n",
    "\n",
    "print(average)\n",
    "\n",
    "# 선생님 풀이"
   ]
  },
  {
   "cell_type": "code",
   "execution_count": null,
   "id": "d2b1821f-ade0-4307-913f-f139ddf26151",
   "metadata": {},
   "outputs": [],
   "source": []
  }
 ],
 "metadata": {
  "kernelspec": {
   "display_name": "Python 3 (ipykernel)",
   "language": "python",
   "name": "python3"
  },
  "language_info": {
   "codemirror_mode": {
    "name": "ipython",
    "version": 3
   },
   "file_extension": ".py",
   "mimetype": "text/x-python",
   "name": "python",
   "nbconvert_exporter": "python",
   "pygments_lexer": "ipython3",
   "version": "3.9.13"
  }
 },
 "nbformat": 4,
 "nbformat_minor": 5
}
