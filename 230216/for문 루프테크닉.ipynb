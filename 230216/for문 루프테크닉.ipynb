{
 "cells": [
  {
   "cell_type": "code",
   "execution_count": 1,
   "id": "0514a435-d469-4093-bf95-5bb305f5f115",
   "metadata": {},
   "outputs": [
    {
     "name": "stdout",
     "output_type": "stream",
     "text": [
      "97\n",
      "100\n",
      "77\n"
     ]
    }
   ],
   "source": [
    "# for문으로 시퀀스 객체의 인덱스 루프(loop) 테크닉\n",
    "scores = (97, 100, 77)\n",
    "\n",
    "for _ in range(len(scores)):\n",
    "    print(scores[_])"
   ]
  },
  {
   "cell_type": "code",
   "execution_count": null,
   "id": "f6bddf94-d42d-473b-9c0d-b8ef301a598b",
   "metadata": {},
   "outputs": [],
   "source": [
    "# while문으로 시퀀스 객체의 인덱스 루프(loop) 테크닉\n",
    "scores = (97, 100, 77)\n",
    "i = 0\n",
    "while i < len(scores):\n",
    "    print"
   ]
  },
  {
   "cell_type": "code",
   "execution_count": 2,
   "id": "1b3b0d5c-0559-444c-9378-917d77df6bbe",
   "metadata": {},
   "outputs": [
    {
     "name": "stdout",
     "output_type": "stream",
     "text": [
      "len(a): 4\n",
      "87\n",
      "22\n",
      "31\n",
      "98\n"
     ]
    }
   ],
   "source": [
    "#     0,  1,  2,  3\n",
    "a = [87, 22, 31, 98]\n",
    "\n",
    "print(f\"len(a): {len(a)}\")  # 4 --> 인덱스의 제일 큰 값보다 1이 큼.\n",
    "\n",
    "# 인덱스를 순서대로 접근할 수 있도록 제어할 변수\n",
    "# 0~3까지 1씩 증가\n",
    "i = 0\n",
    "\n",
    "# 인덱싱을 할 때는 정확한 범위의 인덱스에 접근해야 한다.\n",
    "while i < len(a):\n",
    "    print(a[i])\n",
    "    i += 1 # 무한반복 막기 위해서..."
   ]
  },
  {
   "cell_type": "code",
   "execution_count": null,
   "id": "f15bf3de-2bef-4929-bc5e-01c06566450d",
   "metadata": {},
   "outputs": [],
   "source": []
  }
 ],
 "metadata": {
  "kernelspec": {
   "display_name": "Python 3 (ipykernel)",
   "language": "python",
   "name": "python3"
  },
  "language_info": {
   "codemirror_mode": {
    "name": "ipython",
    "version": 3
   },
   "file_extension": ".py",
   "mimetype": "text/x-python",
   "name": "python",
   "nbconvert_exporter": "python",
   "pygments_lexer": "ipython3",
   "version": "3.9.13"
  }
 },
 "nbformat": 4,
 "nbformat_minor": 5
}
