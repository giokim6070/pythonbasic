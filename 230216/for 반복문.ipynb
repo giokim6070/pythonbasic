{
 "cells": [
  {
   "cell_type": "code",
   "execution_count": null,
   "id": "d5499345-bd5d-4923-937b-efe6e2e4f921",
   "metadata": {},
   "outputs": [],
   "source": [
    "# argument = 인수\n",
    "# print(\"Hello world\") 1000번 출력하기? 해결방법으로 반복문이 있다.(아래참고)\n",
    "# 파이썬 반복문은 range() 함수와 사용했을 때 궁합이 좋다.\n",
    "# method는 대상.append(요소)의 형태로 쓰이지만 range() 함수는 덩그라니 쓰인다.\n",
    "# range변수 = range(시작. 끝. 증감크기) # 함수 호출시 소괄호 동반!!!\n",
    "# 시퀀스자료형변수[시작:끝:증감크기] # 슬라이싱 구조 꼭 기억하기!!!"
   ]
  },
  {
   "cell_type": "code",
   "execution_count": 1,
   "id": "e3b114e4-80ad-43f3-8682-f478907ab1e8",
   "metadata": {},
   "outputs": [
    {
     "data": {
      "text/plain": [
       "[0, 1, 2, 3, 4, 5, 6, 7]"
      ]
     },
     "execution_count": 1,
     "metadata": {},
     "output_type": "execute_result"
    }
   ],
   "source": [
    "list(range(8)) # (range(0, 8, 1)의 형태라서 range(8)로 생략가능"
   ]
  },
  {
   "cell_type": "code",
   "execution_count": 2,
   "id": "50ed6b59-3201-4da5-bfba-bb8fab05bde4",
   "metadata": {},
   "outputs": [
    {
     "name": "stdout",
     "output_type": "stream",
     "text": [
      "[2, 4, 6, 8, 10, 12, 14, 16, 18, 20, 22, 24, 26, 28, 30, 32, 34, 36, 38, 40, 42, 44, 46, 48, 50, 52, 54, 56, 58, 60, 62, 64, 66, 68, 70, 72, 74, 76, 78, 80, 82, 84, 86, 88, 90, 92, 94, 96, 98]\n"
     ]
    }
   ],
   "source": [
    "even_numbers = list(range(2, 100, 2)) # even_numbers = 짝수\n",
    "print(even_numbers)\n",
    "# 이는 list() 내장 함수를 활용해서 리스트로 변경이 가능하다."
   ]
  },
  {
   "cell_type": "code",
   "execution_count": 3,
   "id": "e9da5278-d1ef-43e9-97e1-8c7a136e2cc2",
   "metadata": {},
   "outputs": [
    {
     "data": {
      "text/plain": [
       "range"
      ]
     },
     "execution_count": 3,
     "metadata": {},
     "output_type": "execute_result"
    }
   ],
   "source": [
    "type(range(8))"
   ]
  },
  {
   "cell_type": "code",
   "execution_count": 4,
   "id": "e6386343-e88e-49d8-a7b2-3ab6614fe0e4",
   "metadata": {},
   "outputs": [],
   "source": [
    "# 이는 list() 내장 함수를 활용해서 리스트로 변경이 가능하다.\n",
    "# range()가 돌려준 객체(메모리 상에 실제 존재하는 것)는 마치 리스트인 것처럼 동작하지만, 사실 리스트와는 다르다.\n",
    "# range 객체는 iterate할 때 원하는 시퀀스 항목들을 순서대로 요소를 돌려주는 객체이지만, 메모리에 공간을 할당하여 미리 모든 요소들을 만들어 두는 것이 아니라 필요할 때 그때그때 다음 요소를 만들어 반환하기에 공간 효율적이다."
   ]
  },
  {
   "cell_type": "code",
   "execution_count": null,
   "id": "9fd9c558-6ac6-4085-ae8b-982ef998dcac",
   "metadata": {},
   "outputs": [],
   "source": [
    "# for문 시퀀스 자료형(iterable(반복가능한)객체)의 (=여러 개의 요소를 가진)항목들을 순서대로 요소를 하나씩 꺼냅니다.\n",
    "# 반복되는 부분을 만들 때 활용하면 좋다.\n",
    "# 혹은 iterble(객체)를 루핑할 때 좋습니다.\n",
    "# 반복 횟수가 정해져 있을 때(유한할 때) 주로 사용합니다."
   ]
  },
  {
   "cell_type": "code",
   "execution_count": null,
   "id": "1fe3c272-2b60-400a-8439-ad2a30d2518b",
   "metadata": {},
   "outputs": [],
   "source": [
    "# iterable : '반복 가능한'\n",
    "# = 여러개의 요소들로 구성돼있으면서 요소를 한 번에 하나씩 돌려줄 수 있는 객체\n",
    "# ex) list, str, tuple, range와 같은 시퀀스 자료형이 있으며\n",
    "# 비 시권스 자료형으로 앞으로 배울 dictionary가 있다."
   ]
  },
  {
   "cell_type": "code",
   "execution_count": null,
   "id": "f200f0c0-8ea7-45d4-befd-d49e1432d228",
   "metadata": {},
   "outputs": [],
   "source": [
    "# python의 for문의 컨셉!! = 순서가 있는 여러 값을 가진 애를 하나씩 꺼내서 모두 가져옵니다.\n",
    "# python의 for문은 다른 프로그래밍 언어와 사뭇 다르다."
   ]
  },
  {
   "cell_type": "code",
   "execution_count": 6,
   "id": "16569be7-c461-4607-adb5-a8876ebc3aaf",
   "metadata": {},
   "outputs": [],
   "source": [
    "# print(\"Hello world\") 1000번 출력\n",
    "# for i in range(1000):\n",
    "    #print(\"hello world\")"
   ]
  },
  {
   "cell_type": "code",
   "execution_count": 8,
   "id": "2ba941c5-f82e-4b80-8e74-aa4df7795eaa",
   "metadata": {},
   "outputs": [
    {
     "name": "stdout",
     "output_type": "stream",
     "text": [
      "hello world0\n",
      "hello world1\n",
      "hello world2\n",
      "hello world3\n",
      "hello world4\n",
      "hello world5\n",
      "hello world6\n",
      "hello world7\n",
      "hello world8\n",
      "hello world9\n",
      "끝\n"
     ]
    }
   ],
   "source": [
    "for i in range(10):\n",
    "    print(f\"hello world{i}\")\n",
    "print(\"끝\")"
   ]
  },
  {
   "cell_type": "code",
   "execution_count": null,
   "id": "3a54113b-5bc7-4f2c-a76d-97b39a5447f4",
   "metadata": {},
   "outputs": [],
   "source": [
    "# for 요소를 담을 변수 in 반복 가능한 객체\n",
    "    # 반복할 코드(띄어쓰기 4칸)\n",
    "# for 변수 in range(횟수):\n",
    "    # 반복할 코드(띄어쓰기 4칸)"
   ]
  },
  {
   "cell_type": "code",
   "execution_count": 27,
   "id": "2b492b97-2b57-427c-bdd6-dd11b3520fba",
   "metadata": {},
   "outputs": [],
   "source": [
    "# for i in range(1, 101):\n",
    "    # print(f\"hello world{i}\")\n",
    "# f-스트링 0215일 학습내용 참고"
   ]
  },
  {
   "cell_type": "code",
   "execution_count": 33,
   "id": "4e84e728-c087-4072-8328-7346f93dfa8f",
   "metadata": {},
   "outputs": [
    {
     "name": "stdin",
     "output_type": "stream",
     "text": [
      "인사 몇 번 해드릴까요? 3\n"
     ]
    },
    {
     "name": "stdout",
     "output_type": "stream",
     "text": [
      "Hello world  1\n",
      "Hello world  2\n",
      "Hello world  3\n"
     ]
    }
   ],
   "source": [
    "count = int(input('인사 몇 번 해드릴까요?'))\n",
    "for _ in range(1, count + 1):\n",
    "    print(\"Hello world \", _) "
   ]
  },
  {
   "cell_type": "code",
   "execution_count": 34,
   "id": "5504de02-e3a7-4925-8440-3397c5382857",
   "metadata": {},
   "outputs": [
    {
     "data": {
      "text/plain": [
       "[5, 6, 7, 8, 9]"
      ]
     },
     "execution_count": 34,
     "metadata": {},
     "output_type": "execute_result"
    }
   ],
   "source": [
    "list(range(5, 10))"
   ]
  },
  {
   "cell_type": "code",
   "execution_count": 31,
   "id": "5dd49cba-1d23-4363-b409-47c1d50be177",
   "metadata": {},
   "outputs": [
    {
     "data": {
      "text/plain": [
       "[0, 3, 6, 9]"
      ]
     },
     "execution_count": 31,
     "metadata": {},
     "output_type": "execute_result"
    }
   ],
   "source": [
    "list(range(0 ,10, 3))"
   ]
  },
  {
   "cell_type": "code",
   "execution_count": 32,
   "id": "0fae6959-eaed-46ca-9ecd-4135e1c22381",
   "metadata": {},
   "outputs": [
    {
     "data": {
      "text/plain": [
       "[-10, -40, -70]"
      ]
     },
     "execution_count": 32,
     "metadata": {},
     "output_type": "execute_result"
    }
   ],
   "source": [
    "list(range(-10, -80, -30))"
   ]
  },
  {
   "cell_type": "code",
   "execution_count": 44,
   "id": "a5a8f62d-7f5d-41b2-8608-ed5849db680c",
   "metadata": {},
   "outputs": [
    {
     "name": "stdin",
     "output_type": "stream",
     "text": [
      "자연수 하나 입력해주세요: 6\n"
     ]
    },
    {
     "name": "stdout",
     "output_type": "stream",
     "text": [
      "6\t6\t6\t6\t6\t6\t\n",
      "5\t5\t5\t5\t5\t\n",
      "4\t4\t4\t4\t\n",
      "3\t3\t3\t\n",
      "2\t2\t\n",
      "1\t\n"
     ]
    }
   ],
   "source": [
    "a = int(input('자연수 하나 입력해주세요:'))\n",
    "for i in range (a):\n",
    "    print((a-i)*f\"{(a-i)}\\t\")"
   ]
  },
  {
   "cell_type": "code",
   "execution_count": 53,
   "id": "b104dfaa-c54b-442b-b096-888eb152452c",
   "metadata": {},
   "outputs": [
    {
     "name": "stdin",
     "output_type": "stream",
     "text": [
      "자연수 하나 입력해주세요: 6\n"
     ]
    },
    {
     "name": "stdout",
     "output_type": "stream",
     "text": [
      "6\t6\t6\t6\t6\t6\t\n",
      "5\t5\t5\t5\t5\t\n",
      "4\t4\t4\t4\t\n",
      "3\t3\t3\t\n",
      "2\t2\t\n",
      "1\t\n"
     ]
    }
   ],
   "source": [
    "# 선생님 풀이\n",
    "input_value = int(input('자연수 하나 입력해주세요:'))\n",
    "for i in range(input_value, 0, -1):\n",
    "    print(f\"{i}\\t\"*i)\n",
    "\n",
    "# f-스트링 0215일 학습내용 참고\n",
    "# 문자열의 f-string\n",
    "# 문자열 앞에 f 알파벳을 붙이고 중괄호 안에 리터러 값 혹은 변수를 넣음"
   ]
  },
  {
   "cell_type": "code",
   "execution_count": 66,
   "id": "434260f0-6453-41e8-ba03-83d847fb4804",
   "metadata": {},
   "outputs": [
    {
     "name": "stdout",
     "output_type": "stream",
     "text": [
      "* * * * * * * * * * \n",
      "*\t\t  *\t\t  \n",
      "*\t\t  *\t\t  \n",
      "*\t\t  *\t\t  \n",
      "*\t\t  *\t\t  \n",
      "*\t\t  *\t\t  \n",
      "*\t\t  *\t\t  \n",
      "*\t\t  *\t\t  \n",
      "*\t\t  *\t\t  \n",
      "* * * * * * * * * * \n"
     ]
    }
   ],
   "source": [
    "# for(), if(), range() 활용 \n",
    "print('* '*10)\n",
    "for i in range(8):\n",
    "    print('*\\t\\t  '*2)\n",
    "print('* '*10)\n",
    "# 서현님 풀이"
   ]
  },
  {
   "cell_type": "code",
   "execution_count": 64,
   "id": "af4be073-aa10-4806-ab11-21a148da840c",
   "metadata": {},
   "outputs": [
    {
     "name": "stdout",
     "output_type": "stream",
     "text": [
      "* * * * * * * * * * \n",
      "*\t\t  *\n",
      "*\t\t  *\n",
      "*\t\t  *\n",
      "*\t\t  *\n",
      "*\t\t  *\n",
      "*\t\t  *\n",
      "*\t\t  *\n",
      "*\t\t  *\n",
      "* * * * * * * * * * \n"
     ]
    }
   ],
   "source": [
    "a = 10\n",
    "for i in range(10):\n",
    "    if i == 0:\n",
    "        print(\"* \"*a)\n",
    "    elif 0 < i <9:\n",
    "        print(\"*\\t\\t  *\")\n",
    "    else:\n",
    "        print(\"* \"*a)\n",
    "# 진명님 풀이"
   ]
  },
  {
   "cell_type": "code",
   "execution_count": 69,
   "id": "d148cb8b-e469-470e-b75e-d2cd4d63f1fa",
   "metadata": {},
   "outputs": [
    {
     "name": "stdout",
     "output_type": "stream",
     "text": [
      "* * * * * * * * * * \n",
      "*                 *\n",
      "*                 *\n",
      "*                 *\n",
      "*                 *\n",
      "*                 *\n",
      "*                 *\n",
      "*                 *\n",
      "*                 *\n",
      "* * * * * * * * * * \n"
     ]
    }
   ],
   "source": [
    "for i in range(10):\n",
    "    if i == 0 or i == 9:\n",
    "        print('* ' * 10)\n",
    "    else:\n",
    "        print('*                 *')\n",
    "# 선생님 풀이"
   ]
  },
  {
   "cell_type": "code",
   "execution_count": 90,
   "id": "a342f791-96d1-4348-be04-c74fe70f4d85",
   "metadata": {},
   "outputs": [
    {
     "name": "stdin",
     "output_type": "stream",
     "text": [
      "1부터 입력한 자연수까지 모든 홀수의 합을 구합니다 100\n"
     ]
    },
    {
     "name": "stdout",
     "output_type": "stream",
     "text": [
      "1 + 3 + 5 + 7 + 9 + 11 + 13 + 15 + 17 + 19 + 21 + 23 + 25 + 27 + 29 + 31 + 33 + 35 + 37 + 39 + 41 + 43 + 45 + 47 + 49 + 51 + 53 + 55 + 57 + 59 + 61 + 63 + 65 + 67 + 69 + 71 + 73 + 75 + 77 + 79 + 81 + 83 + 85 + 87 + 89 + 91 + 93 + 95 + 97 + 99 = 2500\n"
     ]
    }
   ],
   "source": [
    "input_value = int(input('1부터 입력한 자연수까지 모든 홀수의 합을 구합니다'))\n",
    "result = 0 # 이 테크닉 기억하기. 뭔가 더하는 경우에 이런식으로 변수 정하기!!\n",
    "for i in range(1, input_value + 1):\n",
    "    if i % 2 == 1:  # i를 2로 나눴을 때, 나머지가 1인것.\n",
    "        if (input_value - 1) == i or input_value == i:\n",
    "            print(i, end=' = ')\n",
    "        else:\n",
    "            print(i, end=' + ')\n",
    "        result += i  # result = result + i\n",
    "print(result)"
   ]
  },
  {
   "cell_type": "code",
   "execution_count": 20,
   "id": "a4f8817a-95f3-432c-8a6e-160d6f069891",
   "metadata": {},
   "outputs": [
    {
     "name": "stdin",
     "output_type": "stream",
     "text": [
      "자연수 하나 입력하세요: 10\n"
     ]
    },
    {
     "name": "stdout",
     "output_type": "stream",
     "text": [
      "1 + 3 + 5 + 7 + 9 = 25\n"
     ]
    }
   ],
   "source": [
    "input_value = int(input(\"자연수 하나 입력하세요:\"))\n",
    "print(\"1\", end=\"\")\n",
    "result = 1\n",
    "# 이미 1에 대한 덧셈을 했다는 가정이 있어서 1부터 시작.(result =0+1)\n",
    "for i in range(3, input_value + 1):\n",
    "    if i % 2 == 1: # 홀수\n",
    "        print(f\" + {i}\", end=\"\") \n",
    "        result += i\n",
    "print(f\" = {result}\")"
   ]
  },
  {
   "cell_type": "code",
   "execution_count": 89,
   "id": "4420fb9e-b5c4-40f2-ae07-c9e542d448d3",
   "metadata": {},
   "outputs": [
    {
     "name": "stdin",
     "output_type": "stream",
     "text": [
      "자연수 하나 입력하세요: 10\n"
     ]
    },
    {
     "name": "stdout",
     "output_type": "stream",
     "text": [
      "1 + 3 + 5 + 7 + 9 = 25\n"
     ]
    }
   ],
   "source": [
    "input_value = int(input(\"자연수 하나 입력하세요:\"))\n",
    "print(\"1\", end=\"\")\n",
    "result = 1\n",
    "for i in range(3, input_value + 1, 2):\n",
    "    print(f\" + {i}\", end=\"\")\n",
    "    result += i  # += 누적덧셈기호\n",
    "print(f\" = {result}\")"
   ]
  },
  {
   "cell_type": "code",
   "execution_count": 92,
   "id": "84c4d690-63ee-4c72-9316-edaa9474c71f",
   "metadata": {},
   "outputs": [
    {
     "name": "stdin",
     "output_type": "stream",
     "text": [
      "계승을 구할 숫자를 입력하세요. 4\n"
     ]
    },
    {
     "name": "stdout",
     "output_type": "stream",
     "text": [
      "24\n"
     ]
    }
   ],
   "source": [
    "# Factorial\n",
    "a = int(input(\"계승을 구할 숫자를 입력하세요.\"))\n",
    "result = 1\n",
    "for i in range(1, a+1):\n",
    "    result *= i  # *= 누적곱셈기호\n",
    "print(result)"
   ]
  },
  {
   "cell_type": "code",
   "execution_count": null,
   "id": "512c04ff-0b16-40d5-822b-1e2a1f7c5f94",
   "metadata": {},
   "outputs": [],
   "source": [
    "# 이 테크닉 기억하기!\n",
    "# 누적 덧셈인 경우 result = 0\n",
    "# 누적 곱셈인 경우 result = 1"
   ]
  },
  {
   "cell_type": "code",
   "execution_count": 94,
   "id": "3f010e66-610d-4f02-8f5a-5b8b208bfb36",
   "metadata": {},
   "outputs": [
    {
     "name": "stdout",
     "output_type": "stream",
     "text": [
      "시\n",
      "미\n",
      "라\n",
      "레\n",
      "솔\n",
      "도\n",
      "파\n"
     ]
    }
   ],
   "source": [
    "for _ in [\"시\", \"미\", \"라\", \"레\", \"솔\", \"도\", \"파\"]:\n",
    "    print(_);\n",
    "# [] 안에 iterable한 것들이 온다"
   ]
  },
  {
   "cell_type": "code",
   "execution_count": 95,
   "id": "646cb0f3-109b-46b0-aadf-090e3fb0e2bc",
   "metadata": {},
   "outputs": [
    {
     "name": "stdout",
     "output_type": "stream",
     "text": [
      "시미라레솔도파"
     ]
    }
   ],
   "source": [
    "for _ in [\"시\", \"미\", \"라\", \"레\", \"솔\", \"도\", \"파\"]:\n",
    "    print(_, end=\"\")\n",
    "# Tuple"
   ]
  },
  {
   "cell_type": "code",
   "execution_count": 2,
   "id": "6eb92dd1-9a01-4ca2-8090-8b721d5c69f1",
   "metadata": {},
   "outputs": [
    {
     "name": "stdout",
     "output_type": "stream",
     "text": [
      "일 이 삼 사 오 육 칠 팔 구 십 "
     ]
    }
   ],
   "source": [
    "for _ in \"일이삼사오육칠팔구십\":\n",
    "    print(_, end=\" \")"
   ]
  },
  {
   "cell_type": "code",
   "execution_count": null,
   "id": "d26fca9c-5fba-4064-990a-02ca5a7a032d",
   "metadata": {},
   "outputs": [],
   "source": [
    "# reverse() 함수 역순변경 가능\n",
    "# 리스트 메서드에 있는 reverse()와 다른 함수임#"
   ]
  },
  {
   "cell_type": "code",
   "execution_count": null,
   "id": "b46ff183-3416-4d94-93d6-4a7dac9bb45c",
   "metadata": {},
   "outputs": [],
   "source": [
    "# reversed(시퀀스) 함수(built-in)는 반환값을 주지만 해당 시퀀스를 변경하지 않습니다.\n",
    "# 리스트 reverse() 함수(메서드)는 리스트 요소 순서를 뒤집어주며 반환값이 없습니다.(None)\n",
    "# jupyter는 None 값 안주니까 굳이 보고싶으면 print(리스트,reverse()) 하면 됨"
   ]
  },
  {
   "cell_type": "code",
   "execution_count": 14,
   "id": "eabb6179-4d06-478c-a0e0-264a2e6d4c44",
   "metadata": {},
   "outputs": [
    {
     "name": "stdout",
     "output_type": "stream",
     "text": [
      "십 구 팔 칠 육 오 사 삼 이 일 "
     ]
    }
   ],
   "source": [
    "for _ in reversed(\"일이삼사오육칠팔구십\"):\n",
    "    print(_, end=\" \")\n",
    "\n",
    "# 슬라이싱을 통해서 요소들의 순서를 반대로 반전할 수 있습니다.\n",
    "# 변수[::-1] 얘도 reversed처럼 결과를 뒤집어준다.....?"
   ]
  },
  {
   "cell_type": "code",
   "execution_count": 6,
   "id": "ccc4d307-caed-4e64-b357-70f3badfba4f",
   "metadata": {},
   "outputs": [
    {
     "name": "stdout",
     "output_type": "stream",
     "text": [
      "100 -420 250 1030 210 770 240 "
     ]
    }
   ],
   "source": [
    "x = [10, -42, 25, 103, 21, 77, 24]\n",
    "\n",
    "for i in x:      # for문 사용. 요소를 하나하나씩 가져와서~ 블라블라\n",
    "    print(i*10, end=\" \")"
   ]
  },
  {
   "cell_type": "code",
   "execution_count": 12,
   "id": "c0ad91e2-9071-468d-93f8-d44b333b4581",
   "metadata": {},
   "outputs": [
    {
     "name": "stdin",
     "output_type": "stream",
     "text": [
      "구구단을 알려드립니다. 숫자를 입력하세요 9\n"
     ]
    },
    {
     "name": "stdout",
     "output_type": "stream",
     "text": [
      "9 * 1 = 9\n",
      "9 * 2 = 18\n",
      "9 * 3 = 27\n",
      "9 * 4 = 36\n",
      "9 * 5 = 45\n",
      "9 * 6 = 54\n",
      "9 * 7 = 63\n",
      "9 * 8 = 72\n",
      "9 * 9 = 81\n"
     ]
    }
   ],
   "source": [
    "# 자주 나오는 구구단 문제......for문 활용\n",
    "\n",
    "a = int(input('구구단을 알려드립니다. 숫자를 입력하세요'))\n",
    "for i in range(1, 10):   # range 범위가 1~9 (1, 10)\n",
    "    print(f\"{a} * {i} = {a*i}\")    # f-스트링\n",
    "    \n",
    "# 강의자료 선생님 풀이도 참고하기"
   ]
  },
  {
   "cell_type": "code",
   "execution_count": 21,
   "id": "acadf147-374a-4fe9-b921-3feaa6b210f7",
   "metadata": {},
   "outputs": [
    {
     "name": "stdin",
     "output_type": "stream",
     "text": [
      "자연수를 입력해주세요. 100\n"
     ]
    },
    {
     "name": "stdout",
     "output_type": "stream",
     "text": [
      "5050\n"
     ]
    }
   ],
   "source": [
    "a = int(input(\"자연수를 입력해주세요.\"))\n",
    "result = 0\n",
    "for i in range(1, a+1):\n",
    "    result += i  \n",
    "print(result)"
   ]
  },
  {
   "cell_type": "code",
   "execution_count": 37,
   "id": "e35b19e5-1430-4915-ab06-793014409e7f",
   "metadata": {},
   "outputs": [
    {
     "name": "stdout",
     "output_type": "stream",
     "text": [
      "*****\n",
      "*****\n",
      "*****\n",
      "*****\n",
      "*****\n"
     ]
    }
   ],
   "source": [
    "# for문 안에 for문을 중첩한다는 것은 무슨 의미인가?\n",
    "for i in range(5):\n",
    "    for i in range(5):\n",
    "        print('*', end=\"\")\n",
    "    print('')    \n",
    "\n",
    "# for문 안에 for문을 중첩한다는 것은 무슨 의미인가? 왜때문에!!!"
   ]
  },
  {
   "cell_type": "code",
   "execution_count": 39,
   "id": "b444c58b-e062-451a-804a-fba5984a10e0",
   "metadata": {},
   "outputs": [
    {
     "name": "stdout",
     "output_type": "stream",
     "text": [
      "*****\n",
      "*****\n",
      "*****\n",
      "*****\n",
      "*****\n"
     ]
    }
   ],
   "source": [
    "for j in range(5):\n",
    "    for i in range(5):\n",
    "        print('*', end=\"\")\n",
    "    print()\n",
    "# 선생님 풀이"
   ]
  },
  {
   "cell_type": "code",
   "execution_count": null,
   "id": "f9dac30b-381b-40de-8dfa-bc4c043356b0",
   "metadata": {},
   "outputs": [],
   "source": []
  }
 ],
 "metadata": {
  "kernelspec": {
   "display_name": "Python 3 (ipykernel)",
   "language": "python",
   "name": "python3"
  },
  "language_info": {
   "codemirror_mode": {
    "name": "ipython",
    "version": 3
   },
   "file_extension": ".py",
   "mimetype": "text/x-python",
   "name": "python",
   "nbconvert_exporter": "python",
   "pygments_lexer": "ipython3",
   "version": "3.9.13"
  }
 },
 "nbformat": 4,
 "nbformat_minor": 5
}
