{
 "cells": [
  {
   "cell_type": "markdown",
   "id": "0861f49c-3ce1-41ce-8dfb-4646dd7b441f",
   "metadata": {},
   "source": [
    "# Titnic Survival Prediction"
   ]
  },
  {
   "cell_type": "code",
   "execution_count": 1,
   "id": "bf9e132b-13db-4fe4-b710-7d6566680856",
   "metadata": {},
   "outputs": [],
   "source": [
    "import pandas as pd\n",
    "import numpy as np\n",
    "import matplotlib as mpl\n",
    "import matplotlib.pyplot as plt\n",
    "import seaborn as sns\n",
    "import warnings\n",
    "warnings.filterwarnings('ignore')"
   ]
  },
  {
   "cell_type": "markdown",
   "id": "ac4d985b-9a85-44ca-9213-eeaf24b1475a",
   "metadata": {},
   "source": [
    "# Global Variables"
   ]
  },
  {
   "cell_type": "code",
   "execution_count": 2,
   "id": "9fff8274-55fc-4f2f-b02d-7fb2f9b3a6d2",
   "metadata": {},
   "outputs": [],
   "source": [
    "import easydict\n",
    "args = easydict.EasyDict()     # Dict --- args 딕셔너리형이다. 들고다니기 편해서 실제로 easydict.EasyDict() 많이 씀"
   ]
  },
  {
   "cell_type": "code",
   "execution_count": 3,
   "id": "c001cc1c-e9bb-443d-a7fe-314683074d7a",
   "metadata": {},
   "outputs": [],
   "source": [
    "# path 정보\n",
    "args.default_path = 'C:/titanic_datas/'\n",
    "args.train_csv = args.default_path+'train.csv'\n",
    "args.test_csv = args.default_path+'test.csv'\n",
    "args.default_submission_csv = args.default_path+'submission.csv'\n",
    "\n",
    "args.submission_csv = args.default_path+'result/submission_0220.csv'\n",
    "args.save_results = args.default_path+\"result/model_results.json\"    \n",
    "                    # 아래 args.results = [] 결과부분을 제이슨 형태로 저장함\n",
    "\n",
    "# 데이터 분석을 위한 변수들\n",
    "args.random_state = 21   # random_state = seed값 설정\n",
    "args.results=[]"
   ]
  },
  {
   "cell_type": "markdown",
   "id": "ef5211ba-b1b7-4eba-bfe2-6ea9986ee0af",
   "metadata": {},
   "source": [
    "# Load Titanic "
   ]
  },
  {
   "cell_type": "markdown",
   "id": "28ed61ac-53a4-474c-8159-990176a99bc9",
   "metadata": {},
   "source": [
    "- Surived : 0 = 사망, 1 = 생존\n",
    "- Pclass : 1 = 1등석, 2 = 2등석, 3 = 3등석\n",
    "- gender : male = 남성, female = 여성\n",
    "- Age : 나이\n",
    "- SibSp : 타이타닉 호에 동승한 자매/배우자의 수\n",
    "- Parch : 타이타닉 호에 동승한 부모/자식의 수\n",
    "- Ticket : 티켓 번호\n",
    "- Fare : 승객 요금\n",
    "- Cabin : 방 호수\n",
    "- Embarked : 탑승지; C = 셰르부르, Q = 퀴즈타운, S = 사우샘프턴"
   ]
  },
  {
   "cell_type": "code",
   "execution_count": 4,
   "id": "61844916-27f9-4d4d-b99f-c5a7c8d84da7",
   "metadata": {},
   "outputs": [
    {
     "data": {
      "text/plain": [
       "((916, 12), (393, 11))"
      ]
     },
     "execution_count": 4,
     "metadata": {},
     "output_type": "execute_result"
    }
   ],
   "source": [
    "ori_train = pd.read_csv(args.train_csv)\n",
    "ori_test = pd.read_csv(args.test_csv)VVFFFFFFFFFFFFFVV\n",
    "\n",
    "ori_train.shape, ori_test.shape"
   ]
  },
  {
   "cell_type": "code",
   "execution_count": 5,
   "id": "023e990f-6cba-4975-abd4-0de3cf0a0899",
   "metadata": {},
   "outputs": [
    {
     "data": {
      "text/plain": [
       "(Index(['passengerid', 'survived', 'pclass', 'name', 'gender', 'age', 'sibsp',\n",
       "        'parch', 'ticket', 'fare', 'cabin', 'embarked'],\n",
       "       dtype='object'),\n",
       " Index(['passengerid', 'pclass', 'name', 'gender', 'age', 'sibsp', 'parch',\n",
       "        'ticket', 'fare', 'cabin', 'embarked'],\n",
       "       dtype='object'))"
      ]
     },
     "execution_count": 5,
     "metadata": {},
     "output_type": "execute_result"
    }
   ],
   "source": [
    "ori_train.columns, ori_test.columns"
   ]
  },
  {
   "cell_type": "code",
   "execution_count": 6,
   "id": "35b3650e-ccf9-456d-905e-14808ff7f223",
   "metadata": {},
   "outputs": [
    {
     "data": {
      "text/html": [
       "<div>\n",
       "<style scoped>\n",
       "    .dataframe tbody tr th:only-of-type {\n",
       "        vertical-align: middle;\n",
       "    }\n",
       "\n",
       "    .dataframe tbody tr th {\n",
       "        vertical-align: top;\n",
       "    }\n",
       "\n",
       "    .dataframe thead th {\n",
       "        text-align: right;\n",
       "    }\n",
       "</style>\n",
       "<table border=\"1\" class=\"dataframe\">\n",
       "  <thead>\n",
       "    <tr style=\"text-align: right;\">\n",
       "      <th></th>\n",
       "      <th>passengerid</th>\n",
       "      <th>survived</th>\n",
       "      <th>pclass</th>\n",
       "      <th>name</th>\n",
       "      <th>gender</th>\n",
       "      <th>age</th>\n",
       "      <th>sibsp</th>\n",
       "      <th>parch</th>\n",
       "      <th>ticket</th>\n",
       "      <th>fare</th>\n",
       "      <th>cabin</th>\n",
       "      <th>embarked</th>\n",
       "    </tr>\n",
       "  </thead>\n",
       "  <tbody>\n",
       "    <tr>\n",
       "      <th>0</th>\n",
       "      <td>0</td>\n",
       "      <td>0</td>\n",
       "      <td>2</td>\n",
       "      <td>Wheeler, Mr. Edwin Frederick\"\"</td>\n",
       "      <td>male</td>\n",
       "      <td>NaN</td>\n",
       "      <td>0</td>\n",
       "      <td>0</td>\n",
       "      <td>SC/PARIS 2159</td>\n",
       "      <td>12.8750</td>\n",
       "      <td>NaN</td>\n",
       "      <td>S</td>\n",
       "    </tr>\n",
       "    <tr>\n",
       "      <th>1</th>\n",
       "      <td>1</td>\n",
       "      <td>0</td>\n",
       "      <td>3</td>\n",
       "      <td>Henry, Miss. Delia</td>\n",
       "      <td>female</td>\n",
       "      <td>NaN</td>\n",
       "      <td>0</td>\n",
       "      <td>0</td>\n",
       "      <td>382649</td>\n",
       "      <td>7.7500</td>\n",
       "      <td>NaN</td>\n",
       "      <td>Q</td>\n",
       "    </tr>\n",
       "    <tr>\n",
       "      <th>2</th>\n",
       "      <td>2</td>\n",
       "      <td>1</td>\n",
       "      <td>1</td>\n",
       "      <td>Hays, Mrs. Charles Melville (Clara Jennings Gr...</td>\n",
       "      <td>female</td>\n",
       "      <td>52.0</td>\n",
       "      <td>1</td>\n",
       "      <td>1</td>\n",
       "      <td>12749</td>\n",
       "      <td>93.5000</td>\n",
       "      <td>B69</td>\n",
       "      <td>S</td>\n",
       "    </tr>\n",
       "    <tr>\n",
       "      <th>3</th>\n",
       "      <td>3</td>\n",
       "      <td>1</td>\n",
       "      <td>3</td>\n",
       "      <td>Andersson, Mr. August Edvard (\"Wennerstrom\")</td>\n",
       "      <td>male</td>\n",
       "      <td>27.0</td>\n",
       "      <td>0</td>\n",
       "      <td>0</td>\n",
       "      <td>350043</td>\n",
       "      <td>7.7958</td>\n",
       "      <td>NaN</td>\n",
       "      <td>S</td>\n",
       "    </tr>\n",
       "    <tr>\n",
       "      <th>4</th>\n",
       "      <td>4</td>\n",
       "      <td>0</td>\n",
       "      <td>2</td>\n",
       "      <td>Hold, Mr. Stephen</td>\n",
       "      <td>male</td>\n",
       "      <td>44.0</td>\n",
       "      <td>1</td>\n",
       "      <td>0</td>\n",
       "      <td>26707</td>\n",
       "      <td>26.0000</td>\n",
       "      <td>NaN</td>\n",
       "      <td>S</td>\n",
       "    </tr>\n",
       "  </tbody>\n",
       "</table>\n",
       "</div>"
      ],
      "text/plain": [
       "   passengerid  survived  pclass  \\\n",
       "0            0         0       2   \n",
       "1            1         0       3   \n",
       "2            2         1       1   \n",
       "3            3         1       3   \n",
       "4            4         0       2   \n",
       "\n",
       "                                                name  gender   age  sibsp  \\\n",
       "0                     Wheeler, Mr. Edwin Frederick\"\"    male   NaN      0   \n",
       "1                                 Henry, Miss. Delia  female   NaN      0   \n",
       "2  Hays, Mrs. Charles Melville (Clara Jennings Gr...  female  52.0      1   \n",
       "3       Andersson, Mr. August Edvard (\"Wennerstrom\")    male  27.0      0   \n",
       "4                                  Hold, Mr. Stephen    male  44.0      1   \n",
       "\n",
       "   parch         ticket     fare cabin embarked  \n",
       "0      0  SC/PARIS 2159  12.8750   NaN        S  \n",
       "1      0         382649   7.7500   NaN        Q  \n",
       "2      1          12749  93.5000   B69        S  \n",
       "3      0         350043   7.7958   NaN        S  \n",
       "4      0          26707  26.0000   NaN        S  "
      ]
     },
     "execution_count": 6,
     "metadata": {},
     "output_type": "execute_result"
    }
   ],
   "source": [
    "ori_train.head() "
   ]
  },
  {
   "cell_type": "code",
   "execution_count": 7,
   "id": "b2c0d931-deb9-40e3-8496-826c807c919a",
   "metadata": {},
   "outputs": [
    {
     "data": {
      "text/plain": [
       "(916, 916)"
      ]
     },
     "execution_count": 7,
     "metadata": {},
     "output_type": "execute_result"
    }
   ],
   "source": [
    "ori_train['passengerid'].nunique(), ori_train.shape[0]"
   ]
  },
  {
   "cell_type": "code",
   "execution_count": 8,
   "id": "6837ecd7-81c7-4fd0-b4b1-d3685e6ffb7b",
   "metadata": {},
   "outputs": [
    {
     "data": {
      "text/html": [
       "<div>\n",
       "<style scoped>\n",
       "    .dataframe tbody tr th:only-of-type {\n",
       "        vertical-align: middle;\n",
       "    }\n",
       "\n",
       "    .dataframe tbody tr th {\n",
       "        vertical-align: top;\n",
       "    }\n",
       "\n",
       "    .dataframe thead th {\n",
       "        text-align: right;\n",
       "    }\n",
       "</style>\n",
       "<table border=\"1\" class=\"dataframe\">\n",
       "  <thead>\n",
       "    <tr style=\"text-align: right;\">\n",
       "      <th></th>\n",
       "      <th>survived</th>\n",
       "      <th>pclass</th>\n",
       "      <th>name</th>\n",
       "      <th>gender</th>\n",
       "      <th>age</th>\n",
       "      <th>sibsp</th>\n",
       "      <th>parch</th>\n",
       "      <th>ticket</th>\n",
       "      <th>fare</th>\n",
       "      <th>cabin</th>\n",
       "      <th>embarked</th>\n",
       "    </tr>\n",
       "  </thead>\n",
       "  <tbody>\n",
       "    <tr>\n",
       "      <th>0</th>\n",
       "      <td>0</td>\n",
       "      <td>2</td>\n",
       "      <td>Wheeler, Mr. Edwin Frederick\"\"</td>\n",
       "      <td>male</td>\n",
       "      <td>NaN</td>\n",
       "      <td>0</td>\n",
       "      <td>0</td>\n",
       "      <td>SC/PARIS 2159</td>\n",
       "      <td>12.8750</td>\n",
       "      <td>NaN</td>\n",
       "      <td>S</td>\n",
       "    </tr>\n",
       "    <tr>\n",
       "      <th>1</th>\n",
       "      <td>0</td>\n",
       "      <td>3</td>\n",
       "      <td>Henry, Miss. Delia</td>\n",
       "      <td>female</td>\n",
       "      <td>NaN</td>\n",
       "      <td>0</td>\n",
       "      <td>0</td>\n",
       "      <td>382649</td>\n",
       "      <td>7.7500</td>\n",
       "      <td>NaN</td>\n",
       "      <td>Q</td>\n",
       "    </tr>\n",
       "    <tr>\n",
       "      <th>2</th>\n",
       "      <td>1</td>\n",
       "      <td>1</td>\n",
       "      <td>Hays, Mrs. Charles Melville (Clara Jennings Gr...</td>\n",
       "      <td>female</td>\n",
       "      <td>52.0</td>\n",
       "      <td>1</td>\n",
       "      <td>1</td>\n",
       "      <td>12749</td>\n",
       "      <td>93.5000</td>\n",
       "      <td>B69</td>\n",
       "      <td>S</td>\n",
       "    </tr>\n",
       "    <tr>\n",
       "      <th>3</th>\n",
       "      <td>1</td>\n",
       "      <td>3</td>\n",
       "      <td>Andersson, Mr. August Edvard (\"Wennerstrom\")</td>\n",
       "      <td>male</td>\n",
       "      <td>27.0</td>\n",
       "      <td>0</td>\n",
       "      <td>0</td>\n",
       "      <td>350043</td>\n",
       "      <td>7.7958</td>\n",
       "      <td>NaN</td>\n",
       "      <td>S</td>\n",
       "    </tr>\n",
       "    <tr>\n",
       "      <th>4</th>\n",
       "      <td>0</td>\n",
       "      <td>2</td>\n",
       "      <td>Hold, Mr. Stephen</td>\n",
       "      <td>male</td>\n",
       "      <td>44.0</td>\n",
       "      <td>1</td>\n",
       "      <td>0</td>\n",
       "      <td>26707</td>\n",
       "      <td>26.0000</td>\n",
       "      <td>NaN</td>\n",
       "      <td>S</td>\n",
       "    </tr>\n",
       "  </tbody>\n",
       "</table>\n",
       "</div>"
      ],
      "text/plain": [
       "   survived  pclass                                               name  \\\n",
       "0         0       2                     Wheeler, Mr. Edwin Frederick\"\"   \n",
       "1         0       3                                 Henry, Miss. Delia   \n",
       "2         1       1  Hays, Mrs. Charles Melville (Clara Jennings Gr...   \n",
       "3         1       3       Andersson, Mr. August Edvard (\"Wennerstrom\")   \n",
       "4         0       2                                  Hold, Mr. Stephen   \n",
       "\n",
       "   gender   age  sibsp  parch         ticket     fare cabin embarked  \n",
       "0    male   NaN      0      0  SC/PARIS 2159  12.8750   NaN        S  \n",
       "1  female   NaN      0      0         382649   7.7500   NaN        Q  \n",
       "2  female  52.0      1      1          12749  93.5000   B69        S  \n",
       "3    male  27.0      0      0         350043   7.7958   NaN        S  \n",
       "4    male  44.0      1      0          26707  26.0000   NaN        S  "
      ]
     },
     "execution_count": 8,
     "metadata": {},
     "output_type": "execute_result"
    }
   ],
   "source": [
    "ori_train.drop('passengerid', axis=1, inplace=True)\n",
    "ori_train.head()"
   ]
  },
  {
   "cell_type": "code",
   "execution_count": 9,
   "id": "84da6d9e-84a4-45f8-a4cd-d53566c8ce1b",
   "metadata": {},
   "outputs": [
    {
     "name": "stdout",
     "output_type": "stream",
     "text": [
      "(393, 10)\n"
     ]
    },
    {
     "data": {
      "text/html": [
       "<div>\n",
       "<style scoped>\n",
       "    .dataframe tbody tr th:only-of-type {\n",
       "        vertical-align: middle;\n",
       "    }\n",
       "\n",
       "    .dataframe tbody tr th {\n",
       "        vertical-align: top;\n",
       "    }\n",
       "\n",
       "    .dataframe thead th {\n",
       "        text-align: right;\n",
       "    }\n",
       "</style>\n",
       "<table border=\"1\" class=\"dataframe\">\n",
       "  <thead>\n",
       "    <tr style=\"text-align: right;\">\n",
       "      <th></th>\n",
       "      <th>pclass</th>\n",
       "      <th>name</th>\n",
       "      <th>gender</th>\n",
       "      <th>age</th>\n",
       "      <th>sibsp</th>\n",
       "      <th>parch</th>\n",
       "      <th>ticket</th>\n",
       "      <th>fare</th>\n",
       "      <th>cabin</th>\n",
       "      <th>embarked</th>\n",
       "    </tr>\n",
       "    <tr>\n",
       "      <th>passengerid</th>\n",
       "      <th></th>\n",
       "      <th></th>\n",
       "      <th></th>\n",
       "      <th></th>\n",
       "      <th></th>\n",
       "      <th></th>\n",
       "      <th></th>\n",
       "      <th></th>\n",
       "      <th></th>\n",
       "      <th></th>\n",
       "    </tr>\n",
       "  </thead>\n",
       "  <tbody>\n",
       "    <tr>\n",
       "      <th>916</th>\n",
       "      <td>3</td>\n",
       "      <td>McGowan, Miss. Anna \"Annie\"</td>\n",
       "      <td>female</td>\n",
       "      <td>15.0</td>\n",
       "      <td>0</td>\n",
       "      <td>0</td>\n",
       "      <td>330923</td>\n",
       "      <td>8.0292</td>\n",
       "      <td>NaN</td>\n",
       "      <td>Q</td>\n",
       "    </tr>\n",
       "    <tr>\n",
       "      <th>917</th>\n",
       "      <td>2</td>\n",
       "      <td>Pinsky, Mrs. (Rosa)</td>\n",
       "      <td>female</td>\n",
       "      <td>32.0</td>\n",
       "      <td>0</td>\n",
       "      <td>0</td>\n",
       "      <td>234604</td>\n",
       "      <td>13.0000</td>\n",
       "      <td>NaN</td>\n",
       "      <td>S</td>\n",
       "    </tr>\n",
       "    <tr>\n",
       "      <th>918</th>\n",
       "      <td>3</td>\n",
       "      <td>McCarthy, Miss. Catherine Katie\"\"</td>\n",
       "      <td>female</td>\n",
       "      <td>NaN</td>\n",
       "      <td>0</td>\n",
       "      <td>0</td>\n",
       "      <td>383123</td>\n",
       "      <td>7.7500</td>\n",
       "      <td>NaN</td>\n",
       "      <td>Q</td>\n",
       "    </tr>\n",
       "    <tr>\n",
       "      <th>919</th>\n",
       "      <td>3</td>\n",
       "      <td>Franklin, Mr. Charles (Charles Fardon)</td>\n",
       "      <td>male</td>\n",
       "      <td>NaN</td>\n",
       "      <td>0</td>\n",
       "      <td>0</td>\n",
       "      <td>SOTON/O.Q. 3101314</td>\n",
       "      <td>7.2500</td>\n",
       "      <td>NaN</td>\n",
       "      <td>S</td>\n",
       "    </tr>\n",
       "    <tr>\n",
       "      <th>920</th>\n",
       "      <td>1</td>\n",
       "      <td>Wick, Mrs. George Dennick (Mary Hitchcock)</td>\n",
       "      <td>female</td>\n",
       "      <td>45.0</td>\n",
       "      <td>1</td>\n",
       "      <td>1</td>\n",
       "      <td>36928</td>\n",
       "      <td>164.8667</td>\n",
       "      <td>NaN</td>\n",
       "      <td>S</td>\n",
       "    </tr>\n",
       "  </tbody>\n",
       "</table>\n",
       "</div>"
      ],
      "text/plain": [
       "             pclass                                        name  gender   age  \\\n",
       "passengerid                                                                     \n",
       "916               3                 McGowan, Miss. Anna \"Annie\"  female  15.0   \n",
       "917               2                         Pinsky, Mrs. (Rosa)  female  32.0   \n",
       "918               3           McCarthy, Miss. Catherine Katie\"\"  female   NaN   \n",
       "919               3      Franklin, Mr. Charles (Charles Fardon)    male   NaN   \n",
       "920               1  Wick, Mrs. George Dennick (Mary Hitchcock)  female  45.0   \n",
       "\n",
       "             sibsp  parch              ticket      fare cabin embarked  \n",
       "passengerid                                                             \n",
       "916              0      0              330923    8.0292   NaN        Q  \n",
       "917              0      0              234604   13.0000   NaN        S  \n",
       "918              0      0              383123    7.7500   NaN        Q  \n",
       "919              0      0  SOTON/O.Q. 3101314    7.2500   NaN        S  \n",
       "920              1      1               36928  164.8667   NaN        S  "
      ]
     },
     "execution_count": 9,
     "metadata": {},
     "output_type": "execute_result"
    }
   ],
   "source": [
    "ori_test.set_index(['passengerid'], inplace=True) \n",
    "print(f'{ori_test.shape}')\n",
    "ori_test.head()"
   ]
  },
  {
   "cell_type": "markdown",
   "id": "6d06344f-fb68-4997-998f-d6c503737890",
   "metadata": {},
   "source": [
    "# train_test_split"
   ]
  },
  {
   "cell_type": "code",
   "execution_count": 10,
   "id": "205137c6-6404-4f9c-b4a4-9bc675e9bfe8",
   "metadata": {},
   "outputs": [
    {
     "data": {
      "text/html": [
       "<div>\n",
       "<style scoped>\n",
       "    .dataframe tbody tr th:only-of-type {\n",
       "        vertical-align: middle;\n",
       "    }\n",
       "\n",
       "    .dataframe tbody tr th {\n",
       "        vertical-align: top;\n",
       "    }\n",
       "\n",
       "    .dataframe thead th {\n",
       "        text-align: right;\n",
       "    }\n",
       "</style>\n",
       "<table border=\"1\" class=\"dataframe\">\n",
       "  <thead>\n",
       "    <tr style=\"text-align: right;\">\n",
       "      <th></th>\n",
       "      <th>counts</th>\n",
       "      <th>freqs</th>\n",
       "    </tr>\n",
       "    <tr>\n",
       "      <th>categories</th>\n",
       "      <th></th>\n",
       "      <th></th>\n",
       "    </tr>\n",
       "  </thead>\n",
       "  <tbody>\n",
       "    <tr>\n",
       "      <th>Died</th>\n",
       "      <td>570</td>\n",
       "      <td>0.622271</td>\n",
       "    </tr>\n",
       "    <tr>\n",
       "      <th>Survived</th>\n",
       "      <td>346</td>\n",
       "      <td>0.377729</td>\n",
       "    </tr>\n",
       "  </tbody>\n",
       "</table>\n",
       "</div>"
      ],
      "text/plain": [
       "            counts     freqs\n",
       "categories                  \n",
       "Died           570  0.622271\n",
       "Survived       346  0.377729"
      ]
     },
     "execution_count": 10,
     "metadata": {},
     "output_type": "execute_result"
    }
   ],
   "source": [
    "new_survived = pd.Categorical(ori_train[\"survived\"])\n",
    "new_survived = new_survived.rename_categories([\"Died\",\"Survived\"])              \n",
    "\n",
    "new_survived.describe()"
   ]
  },
  {
   "cell_type": "code",
   "execution_count": 11,
   "id": "db15beb6-0e9b-48f8-9a8c-13423b35b826",
   "metadata": {},
   "outputs": [],
   "source": [
    "from sklearn.model_selection import train_test_split # 사이킷런"
   ]
  },
  {
   "cell_type": "code",
   "execution_count": 12,
   "id": "505fe293-3573-405e-aa4e-1b746ec7fb92",
   "metadata": {},
   "outputs": [],
   "source": [
    "y = ori_train['survived']\n",
    "X = ori_train.drop(['survived'], axis=1)"
   ]
  },
  {
   "cell_type": "code",
   "execution_count": 13,
   "id": "8821c07d-297e-4096-bdf9-2045882206e8",
   "metadata": {},
   "outputs": [
    {
     "data": {
      "text/plain": [
       "((641, 10), (275, 10), (641,), (275,))"
      ]
     },
     "execution_count": 13,
     "metadata": {},
     "output_type": "execute_result"
    }
   ],
   "source": [
    "X_tr, X_te, y_tr, y_te = train_test_split(X, y, test_size=0.3, stratify=ori_train['survived'], random_state=args.random_state)\n",
    "X_tr.shape, X_te.shape, y_tr.shape, y_te.shape"
   ]
  },
  {
   "cell_type": "markdown",
   "id": "759876c1-1f89-481f-a0dd-5fc59db62ad5",
   "metadata": {},
   "source": [
    "# Base ModelV0"
   ]
  },
  {
   "cell_type": "code",
   "execution_count": 14,
   "id": "0c6a69e2-a419-4002-8994-3c02132ae370",
   "metadata": {},
   "outputs": [
    {
     "data": {
      "text/plain": [
       "((641, 10), (275, 10), (393, 10))"
      ]
     },
     "execution_count": 14,
     "metadata": {},
     "output_type": "execute_result"
    }
   ],
   "source": [
    "train = X_tr.copy()  \n",
    "test = X_te.copy()\n",
    "ori_te = ori_test.copy()\n",
    "\n",
    "train.shape, test.shape, ori_te.shape"
   ]
  },
  {
   "cell_type": "markdown",
   "id": "f21b30d1-02f2-4c05-9776-cc429e407fd9",
   "metadata": {},
   "source": [
    "## Data Preprocessing"
   ]
  },
  {
   "cell_type": "code",
   "execution_count": 15,
   "id": "2341b0dc-a650-4fba-b70f-ff173a3ca498",
   "metadata": {},
   "outputs": [
    {
     "name": "stdout",
     "output_type": "stream",
     "text": [
      "<class 'pandas.core.frame.DataFrame'>\n",
      "Int64Index: 641 entries, 812 to 277\n",
      "Data columns (total 10 columns):\n",
      " #   Column    Non-Null Count  Dtype  \n",
      "---  ------    --------------  -----  \n",
      " 0   pclass    641 non-null    int64  \n",
      " 1   name      641 non-null    object \n",
      " 2   gender    641 non-null    object \n",
      " 3   age       512 non-null    float64\n",
      " 4   sibsp     641 non-null    int64  \n",
      " 5   parch     641 non-null    int64  \n",
      " 6   ticket    641 non-null    object \n",
      " 7   fare      641 non-null    float64\n",
      " 8   cabin     135 non-null    object \n",
      " 9   embarked  641 non-null    object \n",
      "dtypes: float64(2), int64(3), object(5)\n",
      "memory usage: 55.1+ KB\n"
     ]
    }
   ],
   "source": [
    "train.info()"
   ]
  },
  {
   "cell_type": "markdown",
   "id": "8adb2c81-1967-431b-b852-94e12ad596ef",
   "metadata": {},
   "source": [
    "drop columns"
   ]
  },
  {
   "cell_type": "code",
   "execution_count": 16,
   "id": "de1adccb-4990-4bb6-aa08-986112e271c9",
   "metadata": {},
   "outputs": [
    {
     "name": "stdout",
     "output_type": "stream",
     "text": [
      "before: (641, 10) / (275, 10)\n",
      "after: (641, 7) / (275, 7)\n",
      "<class 'pandas.core.frame.DataFrame'>\n",
      "Int64Index: 641 entries, 812 to 277\n",
      "Data columns (total 7 columns):\n",
      " #   Column    Non-Null Count  Dtype  \n",
      "---  ------    --------------  -----  \n",
      " 0   pclass    641 non-null    int64  \n",
      " 1   gender    641 non-null    object \n",
      " 2   age       512 non-null    float64\n",
      " 3   sibsp     641 non-null    int64  \n",
      " 4   parch     641 non-null    int64  \n",
      " 5   fare      641 non-null    float64\n",
      " 6   embarked  641 non-null    object \n",
      "dtypes: float64(2), int64(3), object(2)\n",
      "memory usage: 40.1+ KB\n"
     ]
    }
   ],
   "source": [
    "print(f'before: {train.shape} / {test.shape}')\n",
    "drop_cols = ['name', 'ticket', 'cabin']  \n",
    "\n",
    "train.drop(drop_cols, axis=1, inplace=True)\n",
    "test.drop(drop_cols, axis=1, inplace=True)\n",
    "ori_te.drop(drop_cols, axis=1, inplace=True)\n",
    "\n",
    "print(f'after: {train.shape} / {test.shape}')\n",
    "train.info()"
   ]
  },
  {
   "cell_type": "markdown",
   "id": "945e8ba0-da19-4ca8-820f-c68615f93e25",
   "metadata": {},
   "source": [
    "missing value"
   ]
  },
  {
   "cell_type": "code",
   "execution_count": 17,
   "id": "fc8a04c6-efd5-4e01-902c-5370bbb93b85",
   "metadata": {},
   "outputs": [
    {
     "data": {
      "text/plain": [
       "pclass        0\n",
       "gender        0\n",
       "age         129\n",
       "sibsp         0\n",
       "parch         0\n",
       "fare          0\n",
       "embarked      0\n",
       "dtype: int64"
      ]
     },
     "execution_count": 17,
     "metadata": {},
     "output_type": "execute_result"
    }
   ],
   "source": [
    "train.isnull().sum()  "
   ]
  },
  {
   "cell_type": "code",
   "execution_count": 18,
   "id": "b1e8ffd2-df51-46b6-a6c3-ffcbc80b13e7",
   "metadata": {},
   "outputs": [
    {
     "data": {
      "text/plain": [
       "pclass       0\n",
       "gender       0\n",
       "age         51\n",
       "sibsp        0\n",
       "parch        0\n",
       "fare         0\n",
       "embarked     1\n",
       "dtype: int64"
      ]
     },
     "execution_count": 18,
     "metadata": {},
     "output_type": "execute_result"
    }
   ],
   "source": [
    "test.isnull().sum()"
   ]
  },
  {
   "cell_type": "code",
   "execution_count": 19,
   "id": "85908310-c5eb-4959-a123-d0bebee7c0c6",
   "metadata": {},
   "outputs": [
    {
     "data": {
      "text/plain": [
       "pclass       0\n",
       "gender       0\n",
       "age         83\n",
       "sibsp        0\n",
       "parch        0\n",
       "fare         1\n",
       "embarked     1\n",
       "dtype: int64"
      ]
     },
     "execution_count": 19,
     "metadata": {},
     "output_type": "execute_result"
    }
   ],
   "source": [
    "ori_te.isnull().sum()"
   ]
  },
  {
   "cell_type": "code",
   "execution_count": 20,
   "id": "5cd1dd52-2179-416e-8cbf-296a15774068",
   "metadata": {},
   "outputs": [
    {
     "data": {
      "text/plain": [
       "(28.0, 14.4, 'S')"
      ]
     },
     "execution_count": 20,
     "metadata": {},
     "output_type": "execute_result"
    }
   ],
   "source": [
    "age_median = train['age'].median()\n",
    "fare_median = train['fare'].median()\n",
    "embarked_mode = train['embarked'].mode().values[0]   # 최빈값?\n",
    "\n",
    "age_median, fare_median, embarked_mode"
   ]
  },
  {
   "cell_type": "code",
   "execution_count": 21,
   "id": "25abe844-0c8f-423a-b553-01e1ac191b37",
   "metadata": {},
   "outputs": [
    {
     "data": {
      "text/plain": [
       "(0, 0, 0)"
      ]
     },
     "execution_count": 21,
     "metadata": {},
     "output_type": "execute_result"
    }
   ],
   "source": [
    "train['age'].fillna(age_median, inplace=True)\n",
    "test['age'].fillna(age_median, inplace=True)\n",
    "ori_te['age'].fillna(age_median, inplace=True)\n",
    "\n",
    "train['fare'].fillna(fare_median, inplace=True)\n",
    "test['fare'].fillna(fare_median, inplace=True)\n",
    "ori_te['fare'].fillna(fare_median, inplace=True)\n",
    "\n",
    "train['embarked'].fillna(embarked_mode, inplace=True)\n",
    "test['embarked'].fillna(embarked_mode, inplace=True)\n",
    "ori_te['embarked'].fillna(embarked_mode, inplace=True)\n",
    "\n",
    "train.isnull().sum().sum(), test.isnull().sum().sum(), ori_te.isnull().sum().sum()"
   ]
  },
  {
   "cell_type": "markdown",
   "id": "88d593d3-86ad-4ab4-8238-6a28e12cb07a",
   "metadata": {},
   "source": [
    "data encoding"
   ]
  },
  {
   "cell_type": "code",
   "execution_count": 22,
   "id": "e3c7c5ce-84ea-4df7-aaf9-cc8b582f589b",
   "metadata": {},
   "outputs": [],
   "source": [
    "from sklearn.preprocessing import OneHotEncoder"
   ]
  },
  {
   "cell_type": "code",
   "execution_count": 23,
   "id": "0c2dd512-67ba-4d66-9618-90cc605cc383",
   "metadata": {},
   "outputs": [
    {
     "data": {
      "text/plain": [
       "Index(['pclass', 'gender', 'age', 'sibsp', 'parch', 'fare', 'embarked'], dtype='object')"
      ]
     },
     "execution_count": 23,
     "metadata": {},
     "output_type": "execute_result"
    }
   ],
   "source": [
    "train.columns"
   ]
  },
  {
   "cell_type": "code",
   "execution_count": 24,
   "id": "ec050033-baa3-405e-a47d-9558f0cc8ba7",
   "metadata": {},
   "outputs": [
    {
     "data": {
      "text/plain": [
       "['age', 'fare', 'parch', 'pclass', 'sibsp']"
      ]
     },
     "execution_count": 24,
     "metadata": {},
     "output_type": "execute_result"
    }
   ],
   "source": [
    "enc_cols = ['gender', 'embarked']\n",
    "normal_cols = list(set(train.columns) - set(enc_cols)) \n",
    "normal_cols"
   ]
  },
  {
   "cell_type": "code",
   "execution_count": 25,
   "id": "eedf5fa1-eb6f-4b4f-865a-e8b2935cf0d3",
   "metadata": {},
   "outputs": [
    {
     "name": "stdout",
     "output_type": "stream",
     "text": [
      "before: (641, 7) / (275, 7)\n",
      "after: (641, 10) / (275, 10)\n"
     ]
    },
    {
     "data": {
      "text/html": [
       "<div>\n",
       "<style scoped>\n",
       "    .dataframe tbody tr th:only-of-type {\n",
       "        vertical-align: middle;\n",
       "    }\n",
       "\n",
       "    .dataframe tbody tr th {\n",
       "        vertical-align: top;\n",
       "    }\n",
       "\n",
       "    .dataframe thead th {\n",
       "        text-align: right;\n",
       "    }\n",
       "</style>\n",
       "<table border=\"1\" class=\"dataframe\">\n",
       "  <thead>\n",
       "    <tr style=\"text-align: right;\">\n",
       "      <th></th>\n",
       "      <th>age</th>\n",
       "      <th>fare</th>\n",
       "      <th>parch</th>\n",
       "      <th>pclass</th>\n",
       "      <th>sibsp</th>\n",
       "      <th>gender_female</th>\n",
       "      <th>gender_male</th>\n",
       "      <th>embarked_C</th>\n",
       "      <th>embarked_Q</th>\n",
       "      <th>embarked_S</th>\n",
       "    </tr>\n",
       "  </thead>\n",
       "  <tbody>\n",
       "    <tr>\n",
       "      <th>0</th>\n",
       "      <td>22.0</td>\n",
       "      <td>7.7750</td>\n",
       "      <td>0</td>\n",
       "      <td>3</td>\n",
       "      <td>0</td>\n",
       "      <td>1.0</td>\n",
       "      <td>0.0</td>\n",
       "      <td>0.0</td>\n",
       "      <td>0.0</td>\n",
       "      <td>1.0</td>\n",
       "    </tr>\n",
       "    <tr>\n",
       "      <th>1</th>\n",
       "      <td>21.0</td>\n",
       "      <td>7.8208</td>\n",
       "      <td>0</td>\n",
       "      <td>3</td>\n",
       "      <td>0</td>\n",
       "      <td>0.0</td>\n",
       "      <td>1.0</td>\n",
       "      <td>0.0</td>\n",
       "      <td>1.0</td>\n",
       "      <td>0.0</td>\n",
       "    </tr>\n",
       "    <tr>\n",
       "      <th>2</th>\n",
       "      <td>32.0</td>\n",
       "      <td>7.8542</td>\n",
       "      <td>0</td>\n",
       "      <td>3</td>\n",
       "      <td>0</td>\n",
       "      <td>0.0</td>\n",
       "      <td>1.0</td>\n",
       "      <td>0.0</td>\n",
       "      <td>0.0</td>\n",
       "      <td>1.0</td>\n",
       "    </tr>\n",
       "    <tr>\n",
       "      <th>3</th>\n",
       "      <td>11.0</td>\n",
       "      <td>18.7875</td>\n",
       "      <td>0</td>\n",
       "      <td>3</td>\n",
       "      <td>0</td>\n",
       "      <td>0.0</td>\n",
       "      <td>1.0</td>\n",
       "      <td>1.0</td>\n",
       "      <td>0.0</td>\n",
       "      <td>0.0</td>\n",
       "    </tr>\n",
       "    <tr>\n",
       "      <th>4</th>\n",
       "      <td>30.0</td>\n",
       "      <td>8.0500</td>\n",
       "      <td>0</td>\n",
       "      <td>3</td>\n",
       "      <td>0</td>\n",
       "      <td>0.0</td>\n",
       "      <td>1.0</td>\n",
       "      <td>0.0</td>\n",
       "      <td>0.0</td>\n",
       "      <td>1.0</td>\n",
       "    </tr>\n",
       "  </tbody>\n",
       "</table>\n",
       "</div>"
      ],
      "text/plain": [
       "    age     fare  parch  pclass  sibsp  gender_female  gender_male  \\\n",
       "0  22.0   7.7750      0       3      0            1.0          0.0   \n",
       "1  21.0   7.8208      0       3      0            0.0          1.0   \n",
       "2  32.0   7.8542      0       3      0            0.0          1.0   \n",
       "3  11.0  18.7875      0       3      0            0.0          1.0   \n",
       "4  30.0   8.0500      0       3      0            0.0          1.0   \n",
       "\n",
       "   embarked_C  embarked_Q  embarked_S  \n",
       "0         0.0         0.0         1.0  \n",
       "1         0.0         1.0         0.0  \n",
       "2         0.0         0.0         1.0  \n",
       "3         1.0         0.0         0.0  \n",
       "4         0.0         0.0         1.0  "
      ]
     },
     "execution_count": 25,
     "metadata": {},
     "output_type": "execute_result"
    }
   ],
   "source": [
    "print(f'before: {train.shape} / {test.shape}')\n",
    "\n",
    "enc = OneHotEncoder()\n",
    "# train\n",
    "tmp_tr = pd.DataFrame(\n",
    "    enc.fit_transform(train[enc_cols]).toarray(),  \n",
    "    columns = enc.get_feature_names_out()     \n",
    ")\n",
    "enc_tr = pd.concat(   \n",
    "    [train[normal_cols].reset_index(drop=True), tmp_tr.reset_index(drop=True)] \n",
    "    , axis=1\n",
    ")\n",
    "# test\n",
    "tmp_te = pd.DataFrame(\n",
    "    enc.transform(test[enc_cols]).toarray(),    \n",
    "    columns = enc.get_feature_names_out()\n",
    ")\n",
    "enc_te = pd.concat(\n",
    "    [test[normal_cols].reset_index(drop=True), tmp_te.reset_index(drop=True)]\n",
    "    , axis=1\n",
    ")\n",
    "# ori_test\n",
    "tmp_te = pd.DataFrame(\n",
    "    enc.transform(ori_te[enc_cols]).toarray(), \n",
    "    columns = enc.get_feature_names_out()\n",
    ")\n",
    "enc_ori_te = pd.concat(\n",
    "    [ori_te[normal_cols].reset_index(drop=True), tmp_te.reset_index(drop=True)]\n",
    "    , axis=1\n",
    ")\n",
    "\n",
    "print(f'after: {enc_tr.shape} / {enc_te.shape}')\n",
    "enc_tr.head()"
   ]
  },
  {
   "cell_type": "markdown",
   "id": "6999ee52-e954-4bbe-a54d-640a0ec029b8",
   "metadata": {},
   "source": [
    "## Training"
   ]
  },
  {
   "cell_type": "code",
   "execution_count": 26,
   "id": "53bf5dec-191e-4bea-af1a-a6f39094fe2d",
   "metadata": {},
   "outputs": [
    {
     "data": {
      "text/plain": [
       "(0, 0, 0)"
      ]
     },
     "execution_count": 26,
     "metadata": {},
     "output_type": "execute_result"
    }
   ],
   "source": [
    "enc_tr.isnull().sum().sum(), enc_te.isnull().sum().sum(), enc_ori_te.isnull().sum().sum()"
   ]
  },
  {
   "cell_type": "code",
   "execution_count": 27,
   "id": "9fbe6d48-d94c-41c9-9a2f-acb0cf3aba7c",
   "metadata": {},
   "outputs": [
    {
     "data": {
      "text/plain": [
       "((641, 10), (275, 10), (393, 10))"
      ]
     },
     "execution_count": 27,
     "metadata": {},
     "output_type": "execute_result"
    }
   ],
   "source": [
    "enc_tr.shape, enc_te.shape, enc_ori_te.shape"
   ]
  },
  {
   "cell_type": "code",
   "execution_count": 28,
   "id": "c666d6e2-a3e0-4a73-ab3b-18b6c65cb9f5",
   "metadata": {},
   "outputs": [],
   "source": [
    "from sklearn.tree import DecisionTreeClassifier"
   ]
  },
  {
   "cell_type": "code",
   "execution_count": 29,
   "id": "701f82d6-95c7-4540-b5dc-13fcb577121c",
   "metadata": {},
   "outputs": [
    {
     "name": "stdout",
     "output_type": "stream",
     "text": [
      "(641, 10) / (641,)\n"
     ]
    },
    {
     "data": {
      "text/plain": [
       "DecisionTreeClassifier(random_state=21)"
      ]
     },
     "execution_count": 29,
     "metadata": {},
     "output_type": "execute_result"
    }
   ],
   "source": [
    "modelV0 = DecisionTreeClassifier(random_state=args.random_state)\n",
    "\n",
    "print(f'{enc_tr.shape} / {y_tr.shape}')\n",
    "modelV0.fit(enc_tr, y_tr)"
   ]
  },
  {
   "cell_type": "markdown",
   "id": "1120fa48-cdd6-4f40-a73d-6472d9820f0d",
   "metadata": {},
   "source": [
    "## Evaluation"
   ]
  },
  {
   "cell_type": "code",
   "execution_count": 30,
   "id": "bb358886-af08-4790-9012-81cbe2e8e70c",
   "metadata": {},
   "outputs": [
    {
     "data": {
      "text/plain": [
       "(0.982839313572543, 0.7745454545454545)"
      ]
     },
     "execution_count": 30,
     "metadata": {},
     "output_type": "execute_result"
    }
   ],
   "source": [
    "score_tr = modelV0.score(enc_tr, y_tr)   \n",
    "score_te = modelV0.score(enc_te, y_te) \n",
    "\n",
    "score_tr, score_te  "
   ]
  },
  {
   "cell_type": "code",
   "execution_count": 31,
   "id": "ba8f81ba-dfba-4ea3-b290-ba26f30de267",
   "metadata": {},
   "outputs": [
    {
     "name": "stdout",
     "output_type": "stream",
     "text": [
      "model: 0.7635796221322538\n"
     ]
    }
   ],
   "source": [
    "from sklearn.metrics import roc_curve, auc \n",
    "                    \n",
    "y_pred = modelV0.predict_proba(enc_te)[:,1] \n",
    "fpr, tpr, thresholds = roc_curve(y_te,y_pred)\n",
    "auc_te = auc(fpr, tpr)\n",
    "print(f'model: {auc_te}')"
   ]
  },
  {
   "cell_type": "code",
   "execution_count": 32,
   "id": "46a61cc6-13c4-4822-9607-ee532d09f592",
   "metadata": {},
   "outputs": [
    {
     "data": {
      "text/plain": [
       "(393,)"
      ]
     },
     "execution_count": 32,
     "metadata": {},
     "output_type": "execute_result"
    }
   ],
   "source": [
    "ori_te_pred = modelV0.predict_proba(enc_ori_te)[:,1]\n",
    "ori_te_pred.shape"
   ]
  },
  {
   "cell_type": "code",
   "execution_count": 33,
   "id": "f60bd1d8-a392-42e1-b55b-04d2eacb7bff",
   "metadata": {},
   "outputs": [
    {
     "data": {
      "text/plain": [
       "array([0.17352864, 0.19704895, 0.00739608, 0.0638137 , 0.0388822 ,\n",
       "       0.49297873, 0.        , 0.01206258, 0.        , 0.01428912])"
      ]
     },
     "execution_count": 33,
     "metadata": {},
     "output_type": "execute_result"
    }
   ],
   "source": [
    "modelV0.feature_importances_"
   ]
  },
  {
   "cell_type": "code",
   "execution_count": 34,
   "id": "af15d05b-9b9e-4378-a214-018b109e209b",
   "metadata": {},
   "outputs": [
    {
     "name": "stdout",
     "output_type": "stream",
     "text": [
      "(10, 2)\n"
     ]
    },
    {
     "data": {
      "text/html": [
       "<div>\n",
       "<style scoped>\n",
       "    .dataframe tbody tr th:only-of-type {\n",
       "        vertical-align: middle;\n",
       "    }\n",
       "\n",
       "    .dataframe tbody tr th {\n",
       "        vertical-align: top;\n",
       "    }\n",
       "\n",
       "    .dataframe thead th {\n",
       "        text-align: right;\n",
       "    }\n",
       "</style>\n",
       "<table border=\"1\" class=\"dataframe\">\n",
       "  <thead>\n",
       "    <tr style=\"text-align: right;\">\n",
       "      <th></th>\n",
       "      <th>index</th>\n",
       "      <th>0</th>\n",
       "    </tr>\n",
       "  </thead>\n",
       "  <tbody>\n",
       "    <tr>\n",
       "      <th>0</th>\n",
       "      <td>gender_female</td>\n",
       "      <td>0.492979</td>\n",
       "    </tr>\n",
       "    <tr>\n",
       "      <th>1</th>\n",
       "      <td>fare</td>\n",
       "      <td>0.197049</td>\n",
       "    </tr>\n",
       "    <tr>\n",
       "      <th>2</th>\n",
       "      <td>age</td>\n",
       "      <td>0.173529</td>\n",
       "    </tr>\n",
       "    <tr>\n",
       "      <th>3</th>\n",
       "      <td>pclass</td>\n",
       "      <td>0.063814</td>\n",
       "    </tr>\n",
       "    <tr>\n",
       "      <th>4</th>\n",
       "      <td>sibsp</td>\n",
       "      <td>0.038882</td>\n",
       "    </tr>\n",
       "    <tr>\n",
       "      <th>5</th>\n",
       "      <td>embarked_S</td>\n",
       "      <td>0.014289</td>\n",
       "    </tr>\n",
       "    <tr>\n",
       "      <th>6</th>\n",
       "      <td>embarked_C</td>\n",
       "      <td>0.012063</td>\n",
       "    </tr>\n",
       "    <tr>\n",
       "      <th>7</th>\n",
       "      <td>parch</td>\n",
       "      <td>0.007396</td>\n",
       "    </tr>\n",
       "    <tr>\n",
       "      <th>8</th>\n",
       "      <td>gender_male</td>\n",
       "      <td>0.000000</td>\n",
       "    </tr>\n",
       "    <tr>\n",
       "      <th>9</th>\n",
       "      <td>embarked_Q</td>\n",
       "      <td>0.000000</td>\n",
       "    </tr>\n",
       "  </tbody>\n",
       "</table>\n",
       "</div>"
      ],
      "text/plain": [
       "           index         0\n",
       "0  gender_female  0.492979\n",
       "1           fare  0.197049\n",
       "2            age  0.173529\n",
       "3         pclass  0.063814\n",
       "4          sibsp  0.038882\n",
       "5     embarked_S  0.014289\n",
       "6     embarked_C  0.012063\n",
       "7          parch  0.007396\n",
       "8    gender_male  0.000000\n",
       "9     embarked_Q  0.000000"
      ]
     },
     "execution_count": 34,
     "metadata": {},
     "output_type": "execute_result"
    }
   ],
   "source": [
    "df_feature_importances = pd.DataFrame(modelV0.feature_importances_, enc_tr.columns).sort_values(by=[0], ascending=False).reset_index()\n",
    "\n",
    "print(f'{df_feature_importances.shape}')\n",
    "df_feature_importances"
   ]
  },
  {
   "cell_type": "code",
   "execution_count": 35,
   "id": "fbddd027-ba6b-468b-a25f-e9cb89fc3f39",
   "metadata": {},
   "outputs": [
    {
     "data": {
      "text/plain": [
       "[{'model': 'modelV0',\n",
       "  'score_tr': 0.982839313572543,\n",
       "  'score_te': 0.7745454545454545,\n",
       "  'auc_te': 0.7635796221322538,\n",
       "  'ori_te_pred': array([1.        , 1.        , 1.        , 0.        , 1.        ,\n",
       "         1.        , 0.        , 0.125     , 1.        , 0.        ,\n",
       "         0.        , 0.        , 1.        , 0.        , 1.        ,\n",
       "         0.        , 1.        , 0.        , 0.        , 0.125     ,\n",
       "         0.        , 0.        , 0.        , 0.        , 0.125     ,\n",
       "         0.        , 0.        , 1.        , 0.        , 0.        ,\n",
       "         1.        , 0.        , 0.        , 0.        , 0.        ,\n",
       "         0.5       , 1.        , 0.        , 0.        , 0.        ,\n",
       "         0.        , 1.        , 0.        , 1.        , 0.        ,\n",
       "         0.        , 0.        , 0.        , 0.        , 0.        ,\n",
       "         1.        , 0.        , 1.        , 0.        , 1.        ,\n",
       "         1.        , 0.        , 0.        , 0.        , 0.        ,\n",
       "         1.        , 1.        , 1.        , 0.        , 0.        ,\n",
       "         0.        , 0.        , 1.        , 0.        , 1.        ,\n",
       "         0.2       , 1.        , 1.        , 1.        , 0.        ,\n",
       "         0.        , 0.        , 1.        , 0.        , 0.        ,\n",
       "         0.        , 0.        , 0.        , 1.        , 1.        ,\n",
       "         1.        , 1.        , 1.        , 0.        , 1.        ,\n",
       "         0.        , 1.        , 1.        , 0.        , 0.        ,\n",
       "         0.        , 0.        , 1.        , 0.        , 0.        ,\n",
       "         1.        , 1.        , 0.        , 1.        , 0.125     ,\n",
       "         0.        , 0.        , 1.        , 0.        , 1.        ,\n",
       "         0.        , 0.        , 1.        , 0.        , 0.        ,\n",
       "         0.        , 0.        , 1.        , 1.        , 1.        ,\n",
       "         1.        , 0.        , 0.        , 1.        , 0.33333333,\n",
       "         0.        , 1.        , 0.        , 0.        , 1.        ,\n",
       "         0.        , 0.        , 1.        , 1.        , 0.        ,\n",
       "         1.        , 1.        , 0.        , 1.        , 1.        ,\n",
       "         0.        , 0.125     , 0.        , 0.        , 0.        ,\n",
       "         0.        , 1.        , 1.        , 0.        , 0.        ,\n",
       "         0.5       , 0.        , 0.        , 0.        , 1.        ,\n",
       "         1.        , 1.        , 0.2       , 0.5       , 1.        ,\n",
       "         0.        , 0.        , 1.        , 1.        , 0.        ,\n",
       "         1.        , 1.        , 0.        , 1.        , 0.        ,\n",
       "         0.        , 0.        , 0.        , 0.        , 0.        ,\n",
       "         0.        , 1.        , 1.        , 1.        , 1.        ,\n",
       "         0.        , 0.        , 0.        , 1.        , 1.        ,\n",
       "         0.        , 1.        , 0.5       , 0.        , 0.        ,\n",
       "         0.        , 1.        , 1.        , 1.        , 0.        ,\n",
       "         0.        , 0.        , 0.        , 0.        , 0.        ,\n",
       "         0.        , 0.125     , 0.        , 1.        , 0.        ,\n",
       "         0.        , 1.        , 0.        , 1.        , 0.        ,\n",
       "         0.        , 0.        , 0.        , 0.        , 1.        ,\n",
       "         1.        , 0.        , 0.        , 1.        , 0.        ,\n",
       "         0.        , 1.        , 0.        , 0.        , 0.125     ,\n",
       "         0.        , 0.        , 1.        , 1.        , 1.        ,\n",
       "         1.        , 1.        , 1.        , 0.        , 1.        ,\n",
       "         0.        , 0.        , 0.        , 0.        , 0.        ,\n",
       "         0.        , 0.        , 0.        , 0.        , 0.        ,\n",
       "         0.        , 0.        , 0.        , 1.        , 1.        ,\n",
       "         1.        , 0.        , 1.        , 0.        , 1.        ,\n",
       "         0.        , 0.        , 0.        , 1.        , 1.        ,\n",
       "         0.        , 1.        , 0.        , 0.        , 1.        ,\n",
       "         0.        , 0.        , 0.33333333, 1.        , 1.        ,\n",
       "         1.        , 0.        , 0.        , 0.2       , 1.        ,\n",
       "         0.125     , 0.        , 1.        , 0.        , 1.        ,\n",
       "         0.125     , 0.        , 1.        , 1.        , 1.        ,\n",
       "         0.        , 0.        , 0.        , 1.        , 0.5       ,\n",
       "         0.        , 0.        , 0.        , 0.        , 0.        ,\n",
       "         0.        , 0.        , 0.125     , 1.        , 0.        ,\n",
       "         0.        , 1.        , 1.        , 1.        , 1.        ,\n",
       "         0.        , 0.        , 0.        , 0.        , 0.        ,\n",
       "         1.        , 0.        , 1.        , 0.        , 1.        ,\n",
       "         1.        , 0.        , 0.        , 0.        , 0.        ,\n",
       "         1.        , 0.        , 0.        , 1.        , 1.        ,\n",
       "         0.        , 0.        , 1.        , 0.        , 0.        ,\n",
       "         0.        , 0.        , 0.125     , 0.        , 1.        ,\n",
       "         1.        , 0.        , 0.        , 1.        , 0.        ,\n",
       "         1.        , 0.        , 1.        , 0.        , 0.        ,\n",
       "         0.        , 1.        , 1.        , 1.        , 1.        ,\n",
       "         1.        , 1.        , 0.        , 0.        , 1.        ,\n",
       "         1.        , 0.        , 0.        , 1.        , 1.        ,\n",
       "         0.        , 1.        , 1.        , 0.        , 1.        ,\n",
       "         0.        , 1.        , 0.        , 1.        , 0.        ,\n",
       "         0.        , 0.        , 0.        , 1.        , 0.        ,\n",
       "         1.        , 0.        , 1.        , 0.        , 1.        ,\n",
       "         0.        , 0.        , 0.        , 0.        , 0.        ,\n",
       "         0.        , 0.        , 1.        , 1.        , 1.        ,\n",
       "         1.        , 0.        , 1.        ]),\n",
       "  'len_features': 10,\n",
       "  'feaute_importances': ['gender_female',\n",
       "   'fare',\n",
       "   'age',\n",
       "   'pclass',\n",
       "   'sibsp',\n",
       "   'embarked_S',\n",
       "   'embarked_C',\n",
       "   'parch',\n",
       "   'gender_male',\n",
       "   'embarked_Q'],\n",
       "  'create_dt': '0217'}]"
      ]
     },
     "execution_count": 35,
     "metadata": {},
     "output_type": "execute_result"
    }
   ],
   "source": [
    "args.results.append(\n",
    "    {\n",
    "        'model': 'modelV0',\n",
    "        'score_tr': score_tr,\n",
    "        'score_te': score_te,\n",
    "        'auc_te': auc_te,\n",
    "        'ori_te_pred': ori_te_pred,\n",
    "        'len_features': X_tr.shape[1],\n",
    "        'feaute_importances': list(df_feature_importances['index'].values[:X_tr.shape[1]]),\n",
    "        'create_dt': '0217'\n",
    "    }\n",
    ")\n",
    "\n",
    "args.results"
   ]
  },
  {
   "cell_type": "markdown",
   "id": "1499db15-2de0-4506-9d64-d56ad33a29a2",
   "metadata": {},
   "source": [
    "# Base ModelV1"
   ]
  },
  {
   "cell_type": "code",
   "execution_count": 36,
   "id": "cda17881-def2-41c8-9706-ca5ba8a574d9",
   "metadata": {},
   "outputs": [
    {
     "data": {
      "text/plain": [
       "((641, 10), (275, 10), (393, 10))"
      ]
     },
     "execution_count": 36,
     "metadata": {},
     "output_type": "execute_result"
    }
   ],
   "source": [
    "train = X_tr.copy() \n",
    "test = X_te.copy()\n",
    "ori_te = ori_test.copy()\n",
    "\n",
    "train.shape, test.shape, ori_te.shape"
   ]
  },
  {
   "cell_type": "markdown",
   "id": "9f1e2d69-d921-4820-9e04-b44aed0ea079",
   "metadata": {},
   "source": [
    "## Data Preprocessing"
   ]
  },
  {
   "cell_type": "code",
   "execution_count": 37,
   "id": "7dc40502-1d49-4a76-9948-d6965f28a380",
   "metadata": {},
   "outputs": [
    {
     "name": "stdout",
     "output_type": "stream",
     "text": [
      "before: (641, 10) / (275, 10)\n",
      "after: (641, 7) / (275, 7)\n",
      "<class 'pandas.core.frame.DataFrame'>\n",
      "Int64Index: 641 entries, 812 to 277\n",
      "Data columns (total 7 columns):\n",
      " #   Column    Non-Null Count  Dtype  \n",
      "---  ------    --------------  -----  \n",
      " 0   pclass    641 non-null    int64  \n",
      " 1   gender    641 non-null    object \n",
      " 2   age       512 non-null    float64\n",
      " 3   sibsp     641 non-null    int64  \n",
      " 4   parch     641 non-null    int64  \n",
      " 5   fare      641 non-null    float64\n",
      " 6   embarked  641 non-null    object \n",
      "dtypes: float64(2), int64(3), object(2)\n",
      "memory usage: 40.1+ KB\n"
     ]
    }
   ],
   "source": [
    "print(f'before: {train.shape} / {test.shape}')\n",
    "drop_cols = ['name', 'ticket', 'cabin']\n",
    "\n",
    "train.drop(drop_cols, axis=1, inplace=True)\n",
    "test.drop(drop_cols, axis=1, inplace=True)\n",
    "ori_te.drop(drop_cols, axis=1, inplace=True)\n",
    "\n",
    "print(f'after: {train.shape} / {test.shape}')\n",
    "train.info()"
   ]
  },
  {
   "cell_type": "code",
   "execution_count": 38,
   "id": "9377e4f8-31d4-4267-9f8a-4f8986ed61e4",
   "metadata": {},
   "outputs": [
    {
     "data": {
      "text/plain": [
       "(28.0, 14.4, 'S')"
      ]
     },
     "execution_count": 38,
     "metadata": {},
     "output_type": "execute_result"
    }
   ],
   "source": [
    "age_median = train['age'].median()\n",
    "fare_median = train['fare'].median()\n",
    "embarked_mode = train['embarked'].mode().values[0]\n",
    "\n",
    "age_median, fare_median, embarked_mode"
   ]
  },
  {
   "cell_type": "code",
   "execution_count": 39,
   "id": "46cfc0f0-302b-4a51-b95a-3e7fbfe87604",
   "metadata": {},
   "outputs": [
    {
     "data": {
      "text/plain": [
       "(0, 0, 0)"
      ]
     },
     "execution_count": 39,
     "metadata": {},
     "output_type": "execute_result"
    }
   ],
   "source": [
    "train['age'].fillna(age_median, inplace=True)\n",
    "test['age'].fillna(age_median, inplace=True)\n",
    "ori_te['age'].fillna(age_median, inplace=True)\n",
    "\n",
    "train['fare'].fillna(fare_median, inplace=True)\n",
    "test['fare'].fillna(fare_median, inplace=True)\n",
    "ori_te['fare'].fillna(fare_median, inplace=True)\n",
    "\n",
    "train['embarked'].fillna(embarked_mode, inplace=True)\n",
    "test['embarked'].fillna(embarked_mode, inplace=True)\n",
    "ori_te['embarked'].fillna(embarked_mode, inplace=True)\n",
    "\n",
    "train.isnull().sum().sum(), test.isnull().sum().sum(), ori_te.isnull().sum().sum()"
   ]
  },
  {
   "cell_type": "code",
   "execution_count": 40,
   "id": "a85e746b-67ec-4854-9bcb-ec20f74e1700",
   "metadata": {},
   "outputs": [],
   "source": [
    "from sklearn.preprocessing import OneHotEncoder"
   ]
  },
  {
   "cell_type": "code",
   "execution_count": 41,
   "id": "1d7ee8d2-055f-4f8d-ba99-a2b34ac61b87",
   "metadata": {},
   "outputs": [
    {
     "data": {
      "text/plain": [
       "['age', 'fare', 'parch', 'pclass', 'sibsp']"
      ]
     },
     "execution_count": 41,
     "metadata": {},
     "output_type": "execute_result"
    }
   ],
   "source": [
    "enc_cols = ['gender', 'embarked']\n",
    "normal_cols = list(set(train.columns) - set(enc_cols))\n",
    "normal_cols"
   ]
  },
  {
   "cell_type": "code",
   "execution_count": 42,
   "id": "00e08881-c836-46c5-b07b-8fc989e99698",
   "metadata": {},
   "outputs": [
    {
     "name": "stdout",
     "output_type": "stream",
     "text": [
      "before: (641, 7) / (275, 7)\n",
      "after: (641, 10) / (275, 10)\n"
     ]
    }
   ],
   "source": [
    "print(f'before: {train.shape} / {test.shape}')\n",
    "\n",
    "enc = OneHotEncoder()\n",
    "# train\n",
    "tmp_tr = pd.DataFrame(\n",
    "    enc.fit_transform(train[enc_cols]).toarray(), \n",
    "    columns = enc.get_feature_names_out()\n",
    ")\n",
    "enc_tr = pd.concat(\n",
    "    [train[normal_cols].reset_index(drop=True), tmp_tr.reset_index(drop=True)]\n",
    "    , axis=1\n",
    ")\n",
    "# test\n",
    "tmp_te = pd.DataFrame(\n",
    "    enc.transform(test[enc_cols]).toarray(), \n",
    "    columns = enc.get_feature_names_out()\n",
    ")\n",
    "enc_te = pd.concat(\n",
    "    [test[normal_cols].reset_index(drop=True), tmp_te.reset_index(drop=True)]\n",
    "    , axis=1\n",
    ")\n",
    "# ori_test\n",
    "tmp_te = pd.DataFrame(\n",
    "    enc.transform(ori_te[enc_cols]).toarray(), \n",
    "    columns = enc.get_feature_names_out()\n",
    ")\n",
    "enc_ori_te = pd.concat(\n",
    "    [ori_te[normal_cols].reset_index(drop=True), tmp_te.reset_index(drop=True)]\n",
    "    , axis=1\n",
    ")\n",
    "\n",
    "print(f'after: {enc_tr.shape} / {enc_te.shape}')"
   ]
  },
  {
   "cell_type": "markdown",
   "id": "5c7f3755-ae61-4dcf-b5ba-40f905b2a666",
   "metadata": {},
   "source": [
    "scaler"
   ]
  },
  {
   "cell_type": "code",
   "execution_count": 43,
   "id": "f0fc319d-8e19-4caa-a5a3-eb9b3b07b3ff",
   "metadata": {},
   "outputs": [
    {
     "data": {
      "text/plain": [
       "(0, 0, 0)"
      ]
     },
     "execution_count": 43,
     "metadata": {},
     "output_type": "execute_result"
    }
   ],
   "source": [
    "enc_tr.isnull().sum().sum(), enc_te.isnull().sum().sum(), enc_ori_te.isnull().sum().sum()"
   ]
  },
  {
   "cell_type": "code",
   "execution_count": 44,
   "id": "b7c983cf-2b87-4882-ba3d-8e8f93cfbaab",
   "metadata": {},
   "outputs": [
    {
     "data": {
      "text/plain": [
       "Index(['age', 'fare', 'parch', 'pclass', 'sibsp', 'gender_female',\n",
       "       'gender_male', 'embarked_C', 'embarked_Q', 'embarked_S'],\n",
       "      dtype='object')"
      ]
     },
     "execution_count": 44,
     "metadata": {},
     "output_type": "execute_result"
    }
   ],
   "source": [
    "enc_tr.columns"
   ]
  },
  {
   "cell_type": "code",
   "execution_count": 45,
   "id": "1f01610f-7517-44df-93a7-92d16d260c89",
   "metadata": {},
   "outputs": [
    {
     "data": {
      "text/plain": [
       "['embarked_S',\n",
       " 'gender_male',\n",
       " 'embarked_Q',\n",
       " 'parch',\n",
       " 'gender_female',\n",
       " 'pclass',\n",
       " 'embarked_C',\n",
       " 'sibsp']"
      ]
     },
     "execution_count": 45,
     "metadata": {},
     "output_type": "execute_result"
    }
   ],
   "source": [
    "scaling_cols = ['age', 'fare']\n",
    "not_scaling_cols = list(set(enc_tr.columns) - set(scaling_cols))\n",
    "not_scaling_cols "
   ]
  },
  {
   "cell_type": "code",
   "execution_count": 46,
   "id": "c3d4e665-6517-4096-810a-a37b71413c67",
   "metadata": {},
   "outputs": [],
   "source": [
    "from sklearn.preprocessing import StandardScaler"
   ]
  },
  {
   "cell_type": "code",
   "execution_count": 47,
   "id": "f0235f8f-f7d6-49a0-b5b1-ca597d5bc6f6",
   "metadata": {},
   "outputs": [],
   "source": [
    "std = StandardScaler()\n",
    "\n",
    "_scaled_tr = std.fit_transform(enc_tr[scaling_cols])\n",
    "_scaled_te = std.transform(enc_te[scaling_cols])\n",
    "_scaled_ori_te = std.transform(enc_ori_te[scaling_cols])"
   ]
  },
  {
   "cell_type": "code",
   "execution_count": 48,
   "id": "1e2f0cf4-2eb2-4e1d-8888-4e53f8c04b61",
   "metadata": {},
   "outputs": [
    {
     "name": "stdout",
     "output_type": "stream",
     "text": [
      "before: (641, 10) / (275, 10)\n",
      "after: (641, 10) / (275, 10)\n"
     ]
    },
    {
     "data": {
      "text/html": [
       "<div>\n",
       "<style scoped>\n",
       "    .dataframe tbody tr th:only-of-type {\n",
       "        vertical-align: middle;\n",
       "    }\n",
       "\n",
       "    .dataframe tbody tr th {\n",
       "        vertical-align: top;\n",
       "    }\n",
       "\n",
       "    .dataframe thead th {\n",
       "        text-align: right;\n",
       "    }\n",
       "</style>\n",
       "<table border=\"1\" class=\"dataframe\">\n",
       "  <thead>\n",
       "    <tr style=\"text-align: right;\">\n",
       "      <th></th>\n",
       "      <th>embarked_S</th>\n",
       "      <th>gender_male</th>\n",
       "      <th>embarked_Q</th>\n",
       "      <th>parch</th>\n",
       "      <th>gender_female</th>\n",
       "      <th>pclass</th>\n",
       "      <th>embarked_C</th>\n",
       "      <th>sibsp</th>\n",
       "      <th>age</th>\n",
       "      <th>fare</th>\n",
       "    </tr>\n",
       "  </thead>\n",
       "  <tbody>\n",
       "    <tr>\n",
       "      <th>0</th>\n",
       "      <td>1.0</td>\n",
       "      <td>0.0</td>\n",
       "      <td>0.0</td>\n",
       "      <td>0</td>\n",
       "      <td>1.0</td>\n",
       "      <td>3</td>\n",
       "      <td>0.0</td>\n",
       "      <td>0</td>\n",
       "      <td>-0.606781</td>\n",
       "      <td>-0.479616</td>\n",
       "    </tr>\n",
       "    <tr>\n",
       "      <th>1</th>\n",
       "      <td>0.0</td>\n",
       "      <td>1.0</td>\n",
       "      <td>1.0</td>\n",
       "      <td>0</td>\n",
       "      <td>0.0</td>\n",
       "      <td>3</td>\n",
       "      <td>0.0</td>\n",
       "      <td>0</td>\n",
       "      <td>-0.683858</td>\n",
       "      <td>-0.478696</td>\n",
       "    </tr>\n",
       "    <tr>\n",
       "      <th>2</th>\n",
       "      <td>1.0</td>\n",
       "      <td>1.0</td>\n",
       "      <td>0.0</td>\n",
       "      <td>0</td>\n",
       "      <td>0.0</td>\n",
       "      <td>3</td>\n",
       "      <td>0.0</td>\n",
       "      <td>0</td>\n",
       "      <td>0.163995</td>\n",
       "      <td>-0.478025</td>\n",
       "    </tr>\n",
       "    <tr>\n",
       "      <th>3</th>\n",
       "      <td>0.0</td>\n",
       "      <td>1.0</td>\n",
       "      <td>0.0</td>\n",
       "      <td>0</td>\n",
       "      <td>0.0</td>\n",
       "      <td>3</td>\n",
       "      <td>1.0</td>\n",
       "      <td>0</td>\n",
       "      <td>-1.454634</td>\n",
       "      <td>-0.258431</td>\n",
       "    </tr>\n",
       "    <tr>\n",
       "      <th>4</th>\n",
       "      <td>1.0</td>\n",
       "      <td>1.0</td>\n",
       "      <td>0.0</td>\n",
       "      <td>0</td>\n",
       "      <td>0.0</td>\n",
       "      <td>3</td>\n",
       "      <td>0.0</td>\n",
       "      <td>0</td>\n",
       "      <td>0.009840</td>\n",
       "      <td>-0.474092</td>\n",
       "    </tr>\n",
       "  </tbody>\n",
       "</table>\n",
       "</div>"
      ],
      "text/plain": [
       "   embarked_S  gender_male  embarked_Q  parch  gender_female  pclass  \\\n",
       "0         1.0          0.0         0.0      0            1.0       3   \n",
       "1         0.0          1.0         1.0      0            0.0       3   \n",
       "2         1.0          1.0         0.0      0            0.0       3   \n",
       "3         0.0          1.0         0.0      0            0.0       3   \n",
       "4         1.0          1.0         0.0      0            0.0       3   \n",
       "\n",
       "   embarked_C  sibsp       age      fare  \n",
       "0         0.0      0 -0.606781 -0.479616  \n",
       "1         0.0      0 -0.683858 -0.478696  \n",
       "2         0.0      0  0.163995 -0.478025  \n",
       "3         1.0      0 -1.454634 -0.258431  \n",
       "4         0.0      0  0.009840 -0.474092  "
      ]
     },
     "execution_count": 48,
     "metadata": {},
     "output_type": "execute_result"
    }
   ],
   "source": [
    "print(f'before: {enc_tr.shape} / {enc_te.shape}')\n",
    "# train\n",
    "tmp_tr = pd.DataFrame(\n",
    "    _scaled_tr, \n",
    "    columns = scaling_cols\n",
    ")\n",
    "scaled_tr = pd.concat(\n",
    "    [enc_tr[not_scaling_cols].reset_index(drop=True), tmp_tr.reset_index(drop=True)]\n",
    "    , axis=1\n",
    ").reset_index(drop=True)\n",
    "# test\n",
    "tmp_te = pd.DataFrame(\n",
    "    _scaled_te, \n",
    "    columns = scaling_cols\n",
    ")\n",
    "scaled_te = pd.concat(\n",
    "    [enc_te[not_scaling_cols].reset_index(drop=True), tmp_te.reset_index(drop=True)]\n",
    "    , axis=1\n",
    ").reset_index(drop=True)\n",
    "# ori_test\n",
    "tmp_te = pd.DataFrame(\n",
    "    _scaled_ori_te, \n",
    "    columns = scaling_cols\n",
    ")\n",
    "scaled_ori_te = pd.concat(\n",
    "    [enc_ori_te[not_scaling_cols].reset_index(drop=True), tmp_te.reset_index(drop=True)]\n",
    "    , axis=1\n",
    ").reset_index(drop=True)\n",
    "\n",
    "print(f'after: {scaled_tr.shape} / {scaled_te.shape}')\n",
    "scaled_tr.head()"
   ]
  },
  {
   "cell_type": "markdown",
   "id": "3bb86f5f-e6c2-469c-a08a-6ca9afe0bd66",
   "metadata": {},
   "source": [
    "## Training"
   ]
  },
  {
   "cell_type": "code",
   "execution_count": 49,
   "id": "ab02ec21-6f2c-4d15-b3e7-4bf6a1d4ce03",
   "metadata": {},
   "outputs": [
    {
     "data": {
      "text/plain": [
       "(0, 0, 0)"
      ]
     },
     "execution_count": 49,
     "metadata": {},
     "output_type": "execute_result"
    }
   ],
   "source": [
    "scaled_tr.isnull().sum().sum(), scaled_te.isnull().sum().sum(), scaled_ori_te.isnull().sum().sum()"
   ]
  },
  {
   "cell_type": "code",
   "execution_count": 50,
   "id": "1340e235-c870-4668-aa80-bc2d2e2393fc",
   "metadata": {},
   "outputs": [
    {
     "data": {
      "text/plain": [
       "((641, 10), (275, 10), (393, 10))"
      ]
     },
     "execution_count": 50,
     "metadata": {},
     "output_type": "execute_result"
    }
   ],
   "source": [
    "scaled_tr.shape, scaled_te.shape, scaled_ori_te.shape"
   ]
  },
  {
   "cell_type": "code",
   "execution_count": 51,
   "id": "dcea770a-b079-4b3f-80f8-c0c40bbcdd1e",
   "metadata": {},
   "outputs": [],
   "source": [
    "from sklearn.tree import DecisionTreeClassifier"
   ]
  },
  {
   "cell_type": "code",
   "execution_count": 52,
   "id": "043c502d-f8d9-477b-ba3a-322dffa3e57c",
   "metadata": {},
   "outputs": [
    {
     "data": {
      "text/plain": [
       "DecisionTreeClassifier(random_state=21)"
      ]
     },
     "execution_count": 52,
     "metadata": {},
     "output_type": "execute_result"
    }
   ],
   "source": [
    "modelV1 = DecisionTreeClassifier(random_state=args.random_state)\n",
    "\n",
    "modelV1.fit(scaled_tr, y_tr)"
   ]
  },
  {
   "cell_type": "markdown",
   "id": "29943b51-910a-4cce-8992-14ec3c0dc892",
   "metadata": {},
   "source": [
    "## Evaluation"
   ]
  },
  {
   "cell_type": "code",
   "execution_count": 53,
   "id": "a83a1d0b-2873-40a3-b2fd-4cac83a6ac1b",
   "metadata": {},
   "outputs": [
    {
     "data": {
      "text/plain": [
       "(0.982839313572543, 0.7854545454545454)"
      ]
     },
     "execution_count": 53,
     "metadata": {},
     "output_type": "execute_result"
    }
   ],
   "source": [
    "score_tr = modelV1.score(scaled_tr, y_tr)\n",
    "score_te = modelV1.score(scaled_te, y_te) \n",
    "\n",
    "score_tr, score_te  "
   ]
  },
  {
   "cell_type": "code",
   "execution_count": 54,
   "id": "a8dee8a5-f897-4765-839e-9df6f1afbbb3",
   "metadata": {},
   "outputs": [
    {
     "name": "stdout",
     "output_type": "stream",
     "text": [
      "model: 0.4951923076923077\n"
     ]
    }
   ],
   "source": [
    "from sklearn.metrics import roc_curve, auc \n",
    "\n",
    "y_pred = modelV0.predict_proba(scaled_te)[:,1]\n",
    "fpr, tpr, thresholds = roc_curve(y_te,y_pred)\n",
    "auc_te = auc(fpr, tpr)\n",
    "print(f'model: {auc_te}')"
   ]
  },
  {
   "cell_type": "code",
   "execution_count": 55,
   "id": "d93544f8-03fd-4e92-b5f8-5e4cbc87f866",
   "metadata": {},
   "outputs": [
    {
     "data": {
      "text/plain": [
       "(393,)"
      ]
     },
     "execution_count": 55,
     "metadata": {},
     "output_type": "execute_result"
    }
   ],
   "source": [
    "ori_te_pred = modelV0.predict_proba(scaled_ori_te)[:,1]\n",
    "ori_te_pred.shape"
   ]
  },
  {
   "cell_type": "code",
   "execution_count": 56,
   "id": "0be12584-ab79-465f-9f64-953ba59bb937",
   "metadata": {},
   "outputs": [
    {
     "name": "stdout",
     "output_type": "stream",
     "text": [
      "(10, 2)\n"
     ]
    }
   ],
   "source": [
    "df_feature_importances = pd.DataFrame(modelV1.feature_importances_, scaled_tr.columns).sort_values(by=[0], ascending=False).reset_index()\n",
    "print(f'{df_feature_importances.shape}')"
   ]
  },
  {
   "cell_type": "code",
   "execution_count": 57,
   "id": "ea0b7ea2-9299-4aba-9ea2-4d838dab93a0",
   "metadata": {},
   "outputs": [
    {
     "data": {
      "text/plain": [
       "2"
      ]
     },
     "execution_count": 57,
     "metadata": {},
     "output_type": "execute_result"
    }
   ],
   "source": [
    "args.results.append(\n",
    "    {\n",
    "        'model': 'modelV1',\n",
    "        'score_tr': score_tr,\n",
    "        'score_te': score_te,\n",
    "        'auc_te': auc_te,\n",
    "        'ori_te_pred': ori_te_pred,\n",
    "        'len_features': X_tr.shape[1],\n",
    "        'feaute_importances': list(df_feature_importances['index'].values[:X_tr.shape[1]]),\n",
    "        'create_dt': '0217'\n",
    "    }\n",
    ")\n",
    "\n",
    "len(args.results)"
   ]
  },
  {
   "cell_type": "markdown",
   "id": "b73a1ffa-a42f-4681-8042-9b8ca1d3d0d9",
   "metadata": {},
   "source": [
    "# Base ModelV2"
   ]
  },
  {
   "cell_type": "code",
   "execution_count": 58,
   "id": "9eb2d53c-e7f6-4d2c-91ae-15cd5ee13b92",
   "metadata": {},
   "outputs": [
    {
     "data": {
      "text/plain": [
       "((641, 10), (275, 10), (393, 10))"
      ]
     },
     "execution_count": 58,
     "metadata": {},
     "output_type": "execute_result"
    }
   ],
   "source": [
    "train = X_tr.copy() \n",
    "test = X_te.copy()\n",
    "ori_te = ori_test.copy()\n",
    "\n",
    "train.shape, test.shape, ori_te.shape"
   ]
  },
  {
   "cell_type": "markdown",
   "id": "2ee7fd1d-2de4-4c6d-93e8-538e9fdc13e5",
   "metadata": {},
   "source": [
    "## Data Preprocessing"
   ]
  },
  {
   "cell_type": "code",
   "execution_count": 59,
   "id": "e725a327-afb9-40ce-b263-03daa75021f8",
   "metadata": {},
   "outputs": [
    {
     "name": "stdout",
     "output_type": "stream",
     "text": [
      "before: (641, 10) / (275, 10)\n",
      "after: (641, 7) / (275, 7)\n"
     ]
    }
   ],
   "source": [
    "print(f'before: {train.shape} / {test.shape}')\n",
    "drop_cols = ['name', 'ticket', 'cabin']\n",
    "\n",
    "train.drop(drop_cols, axis=1, inplace=True)\n",
    "test.drop(drop_cols, axis=1, inplace=True)\n",
    "ori_te.drop(drop_cols, axis=1, inplace=True)\n",
    "\n",
    "print(f'after: {train.shape} / {test.shape}')"
   ]
  },
  {
   "cell_type": "code",
   "execution_count": 60,
   "id": "3b7b60ef-47d7-44cc-99d0-58b250e4411d",
   "metadata": {},
   "outputs": [
    {
     "data": {
      "text/plain": [
       "(0, 0, 0)"
      ]
     },
     "execution_count": 60,
     "metadata": {},
     "output_type": "execute_result"
    }
   ],
   "source": [
    "age_median = train['age'].median()\n",
    "fare_median = train['fare'].median()\n",
    "embarked_mode = train['embarked'].mode().values[0]\n",
    "\n",
    "train['age'].fillna(age_median, inplace=True)\n",
    "test['age'].fillna(age_median, inplace=True)\n",
    "ori_te['age'].fillna(age_median, inplace=True)\n",
    "\n",
    "train['fare'].fillna(fare_median, inplace=True)\n",
    "test['fare'].fillna(fare_median, inplace=True)\n",
    "ori_te['fare'].fillna(fare_median, inplace=True)\n",
    "\n",
    "train['embarked'].fillna(embarked_mode, inplace=True)\n",
    "test['embarked'].fillna(embarked_mode, inplace=True)\n",
    "ori_te['embarked'].fillna(embarked_mode, inplace=True)\n",
    "\n",
    "train.isnull().sum().sum(), test.isnull().sum().sum(), ori_te.isnull().sum().sum()"
   ]
  },
  {
   "cell_type": "code",
   "execution_count": 61,
   "id": "1400be42-d653-4d96-a7ee-ec7c77086803",
   "metadata": {},
   "outputs": [
    {
     "name": "stdout",
     "output_type": "stream",
     "text": [
      "before: (641, 7) / (275, 7)\n",
      "after: (641, 10) / (275, 10)\n"
     ]
    }
   ],
   "source": [
    "from sklearn.preprocessing import OneHotEncoder\n",
    "\n",
    "enc_cols = ['gender', 'embarked']\n",
    "normal_cols = list(set(train.columns) - set(enc_cols))\n",
    "\n",
    "print(f'before: {train.shape} / {test.shape}')\n",
    "\n",
    "enc = OneHotEncoder()\n",
    "# train\n",
    "tmp_tr = pd.DataFrame(\n",
    "    enc.fit_transform(train[enc_cols]).toarray(), \n",
    "    columns = enc.get_feature_names_out()\n",
    ")\n",
    "enc_tr = pd.concat(\n",
    "    [train[normal_cols].reset_index(drop=True), tmp_tr.reset_index(drop=True)]\n",
    "    , axis=1\n",
    ")\n",
    "# test\n",
    "tmp_te = pd.DataFrame(\n",
    "    enc.transform(test[enc_cols]).toarray(), \n",
    "    columns = enc.get_feature_names_out()\n",
    ")\n",
    "enc_te = pd.concat(\n",
    "    [test[normal_cols].reset_index(drop=True), tmp_te.reset_index(drop=True)]\n",
    "    , axis=1\n",
    ")\n",
    "# ori_test\n",
    "tmp_te = pd.DataFrame(\n",
    "    enc.transform(ori_te[enc_cols]).toarray(), \n",
    "    columns = enc.get_feature_names_out()\n",
    ")\n",
    "enc_ori_te = pd.concat(\n",
    "    [ori_te[normal_cols].reset_index(drop=True), tmp_te.reset_index(drop=True)]\n",
    "    , axis=1\n",
    ")\n",
    "\n",
    "print(f'after: {enc_tr.shape} / {enc_te.shape}')"
   ]
  },
  {
   "cell_type": "code",
   "execution_count": 62,
   "id": "53ed9cb4-6029-4810-83c6-4bec957805f0",
   "metadata": {},
   "outputs": [
    {
     "name": "stdout",
     "output_type": "stream",
     "text": [
      "before: (641, 10) / (275, 10)\n",
      "after: (641, 10) / (275, 10)\n"
     ]
    }
   ],
   "source": [
    "scaling_cols = ['age', 'fare']\n",
    "not_scaling_cols = list(set(enc_tr.columns) - set(scaling_cols))\n",
    "\n",
    "from sklearn.preprocessing import RobustScaler\n",
    "\n",
    "rbs = RobustScaler()\n",
    "_scaled_tr = rbs.fit_transform(enc_tr[scaling_cols])\n",
    "_scaled_te = rbs.transform(enc_te[scaling_cols])\n",
    "_scaled_ori_te = rbs.transform(enc_ori_te[scaling_cols])\n",
    "\n",
    "print(f'before: {enc_tr.shape} / {enc_te.shape}')\n",
    "# train\n",
    "tmp_tr = pd.DataFrame(\n",
    "    _scaled_tr, \n",
    "    columns = scaling_cols\n",
    ")\n",
    "scaled_tr = pd.concat(\n",
    "    [enc_tr[not_scaling_cols].reset_index(drop=True), tmp_tr.reset_index(drop=True)]\n",
    "    , axis=1\n",
    ").reset_index(drop=True)\n",
    "# test\n",
    "tmp_te = pd.DataFrame(\n",
    "    _scaled_te, \n",
    "    columns = scaling_cols\n",
    ")\n",
    "scaled_te = pd.concat(\n",
    "    [enc_te[not_scaling_cols].reset_index(drop=True), tmp_te.reset_index(drop=True)]\n",
    "    , axis=1\n",
    ").reset_index(drop=True)\n",
    "# ori_test\n",
    "tmp_te = pd.DataFrame(\n",
    "    _scaled_ori_te, \n",
    "    columns = scaling_cols\n",
    ")\n",
    "scaled_ori_te = pd.concat(\n",
    "    [enc_ori_te[not_scaling_cols].reset_index(drop=True), tmp_te.reset_index(drop=True)]\n",
    "    , axis=1\n",
    ").reset_index(drop=True)\n",
    "\n",
    "print(f'after: {scaled_tr.shape} / {scaled_te.shape}')"
   ]
  },
  {
   "cell_type": "markdown",
   "id": "1d3502b7-dff5-48b1-82a0-e7c7204f7029",
   "metadata": {},
   "source": [
    "## Training"
   ]
  },
  {
   "cell_type": "code",
   "execution_count": 63,
   "id": "cb79fae6-9c3b-4a2c-b76c-69bdd61ebe02",
   "metadata": {},
   "outputs": [
    {
     "data": {
      "text/plain": [
       "(0, 0, 0)"
      ]
     },
     "execution_count": 63,
     "metadata": {},
     "output_type": "execute_result"
    }
   ],
   "source": [
    "scaled_tr.isnull().sum().sum(), scaled_te.isnull().sum().sum(), scaled_ori_te.isnull().sum().sum()"
   ]
  },
  {
   "cell_type": "code",
   "execution_count": 64,
   "id": "36bbcda5-1721-4b37-9a1a-d8e81b43f3e3",
   "metadata": {},
   "outputs": [
    {
     "data": {
      "text/plain": [
       "((641, 10), (275, 10), (393, 10))"
      ]
     },
     "execution_count": 64,
     "metadata": {},
     "output_type": "execute_result"
    }
   ],
   "source": [
    "scaled_tr.shape, scaled_te.shape, scaled_ori_te.shape"
   ]
  },
  {
   "cell_type": "code",
   "execution_count": 65,
   "id": "f2e71bf3-9aea-4cc3-b039-a018a82e7d77",
   "metadata": {},
   "outputs": [
    {
     "data": {
      "text/plain": [
       "DecisionTreeClassifier(random_state=21)"
      ]
     },
     "execution_count": 65,
     "metadata": {},
     "output_type": "execute_result"
    }
   ],
   "source": [
    "from sklearn.tree import DecisionTreeClassifier\n",
    "\n",
    "modelV2 = DecisionTreeClassifier(random_state=args.random_state)\n",
    "\n",
    "modelV2.fit(scaled_tr, y_tr)"
   ]
  },
  {
   "cell_type": "markdown",
   "id": "2cd4a935-affe-4b49-95a2-4b730820680e",
   "metadata": {},
   "source": [
    "## Evaluation"
   ]
  },
  {
   "cell_type": "code",
   "execution_count": 66,
   "id": "d1940b52-6447-401d-9ed7-20ba35a53805",
   "metadata": {},
   "outputs": [
    {
     "data": {
      "text/plain": [
       "(0.982839313572543, 0.7781818181818182)"
      ]
     },
     "execution_count": 66,
     "metadata": {},
     "output_type": "execute_result"
    }
   ],
   "source": [
    "score_tr = modelV2.score(scaled_tr, y_tr)\n",
    "score_te = modelV2.score(scaled_te, y_te) \n",
    "\n",
    "score_tr, score_te  "
   ]
  },
  {
   "cell_type": "code",
   "execution_count": 67,
   "id": "532aa0c8-b212-4d01-8952-1542ab27025f",
   "metadata": {},
   "outputs": [
    {
     "name": "stdout",
     "output_type": "stream",
     "text": [
      "model: 0.7624269005847952\n"
     ]
    }
   ],
   "source": [
    "from sklearn.metrics import roc_curve, auc \n",
    "\n",
    "y_pred = modelV2.predict_proba(scaled_te)[:,1]\n",
    "fpr, tpr, thresholds = roc_curve(y_te,y_pred)\n",
    "auc_te = auc(fpr, tpr)\n",
    "print(f'model: {auc_te}')"
   ]
  },
  {
   "cell_type": "code",
   "execution_count": 68,
   "id": "66c607fc-0f4c-4ee3-9b85-adc91f39a580",
   "metadata": {},
   "outputs": [
    {
     "data": {
      "text/plain": [
       "(393,)"
      ]
     },
     "execution_count": 68,
     "metadata": {},
     "output_type": "execute_result"
    }
   ],
   "source": [
    "ori_te_pred = modelV2.predict_proba(scaled_ori_te)[:,1]\n",
    "ori_te_pred.shape"
   ]
  },
  {
   "cell_type": "code",
   "execution_count": 69,
   "id": "bbe6842e-9fe3-48aa-ab3b-77aabd0da499",
   "metadata": {},
   "outputs": [
    {
     "name": "stdout",
     "output_type": "stream",
     "text": [
      "(10, 2)\n"
     ]
    }
   ],
   "source": [
    "df_feature_importances = pd.DataFrame(modelV2.feature_importances_, scaled_tr.columns).sort_values(by=[0], ascending=False).reset_index()\n",
    "print(f'{df_feature_importances.shape}')"
   ]
  },
  {
   "cell_type": "code",
   "execution_count": 70,
   "id": "27feabf1-faa1-448c-a0eb-6d02d4998ac3",
   "metadata": {},
   "outputs": [
    {
     "data": {
      "text/plain": [
       "[{'model': 'modelV0',\n",
       "  'score_tr': 0.982839313572543,\n",
       "  'score_te': 0.7745454545454545,\n",
       "  'auc_te': 0.7635796221322538,\n",
       "  'ori_te_pred': array([1.        , 1.        , 1.        , 0.        , 1.        ,\n",
       "         1.        , 0.        , 0.125     , 1.        , 0.        ,\n",
       "         0.        , 0.        , 1.        , 0.        , 1.        ,\n",
       "         0.        , 1.        , 0.        , 0.        , 0.125     ,\n",
       "         0.        , 0.        , 0.        , 0.        , 0.125     ,\n",
       "         0.        , 0.        , 1.        , 0.        , 0.        ,\n",
       "         1.        , 0.        , 0.        , 0.        , 0.        ,\n",
       "         0.5       , 1.        , 0.        , 0.        , 0.        ,\n",
       "         0.        , 1.        , 0.        , 1.        , 0.        ,\n",
       "         0.        , 0.        , 0.        , 0.        , 0.        ,\n",
       "         1.        , 0.        , 1.        , 0.        , 1.        ,\n",
       "         1.        , 0.        , 0.        , 0.        , 0.        ,\n",
       "         1.        , 1.        , 1.        , 0.        , 0.        ,\n",
       "         0.        , 0.        , 1.        , 0.        , 1.        ,\n",
       "         0.2       , 1.        , 1.        , 1.        , 0.        ,\n",
       "         0.        , 0.        , 1.        , 0.        , 0.        ,\n",
       "         0.        , 0.        , 0.        , 1.        , 1.        ,\n",
       "         1.        , 1.        , 1.        , 0.        , 1.        ,\n",
       "         0.        , 1.        , 1.        , 0.        , 0.        ,\n",
       "         0.        , 0.        , 1.        , 0.        , 0.        ,\n",
       "         1.        , 1.        , 0.        , 1.        , 0.125     ,\n",
       "         0.        , 0.        , 1.        , 0.        , 1.        ,\n",
       "         0.        , 0.        , 1.        , 0.        , 0.        ,\n",
       "         0.        , 0.        , 1.        , 1.        , 1.        ,\n",
       "         1.        , 0.        , 0.        , 1.        , 0.33333333,\n",
       "         0.        , 1.        , 0.        , 0.        , 1.        ,\n",
       "         0.        , 0.        , 1.        , 1.        , 0.        ,\n",
       "         1.        , 1.        , 0.        , 1.        , 1.        ,\n",
       "         0.        , 0.125     , 0.        , 0.        , 0.        ,\n",
       "         0.        , 1.        , 1.        , 0.        , 0.        ,\n",
       "         0.5       , 0.        , 0.        , 0.        , 1.        ,\n",
       "         1.        , 1.        , 0.2       , 0.5       , 1.        ,\n",
       "         0.        , 0.        , 1.        , 1.        , 0.        ,\n",
       "         1.        , 1.        , 0.        , 1.        , 0.        ,\n",
       "         0.        , 0.        , 0.        , 0.        , 0.        ,\n",
       "         0.        , 1.        , 1.        , 1.        , 1.        ,\n",
       "         0.        , 0.        , 0.        , 1.        , 1.        ,\n",
       "         0.        , 1.        , 0.5       , 0.        , 0.        ,\n",
       "         0.        , 1.        , 1.        , 1.        , 0.        ,\n",
       "         0.        , 0.        , 0.        , 0.        , 0.        ,\n",
       "         0.        , 0.125     , 0.        , 1.        , 0.        ,\n",
       "         0.        , 1.        , 0.        , 1.        , 0.        ,\n",
       "         0.        , 0.        , 0.        , 0.        , 1.        ,\n",
       "         1.        , 0.        , 0.        , 1.        , 0.        ,\n",
       "         0.        , 1.        , 0.        , 0.        , 0.125     ,\n",
       "         0.        , 0.        , 1.        , 1.        , 1.        ,\n",
       "         1.        , 1.        , 1.        , 0.        , 1.        ,\n",
       "         0.        , 0.        , 0.        , 0.        , 0.        ,\n",
       "         0.        , 0.        , 0.        , 0.        , 0.        ,\n",
       "         0.        , 0.        , 0.        , 1.        , 1.        ,\n",
       "         1.        , 0.        , 1.        , 0.        , 1.        ,\n",
       "         0.        , 0.        , 0.        , 1.        , 1.        ,\n",
       "         0.        , 1.        , 0.        , 0.        , 1.        ,\n",
       "         0.        , 0.        , 0.33333333, 1.        , 1.        ,\n",
       "         1.        , 0.        , 0.        , 0.2       , 1.        ,\n",
       "         0.125     , 0.        , 1.        , 0.        , 1.        ,\n",
       "         0.125     , 0.        , 1.        , 1.        , 1.        ,\n",
       "         0.        , 0.        , 0.        , 1.        , 0.5       ,\n",
       "         0.        , 0.        , 0.        , 0.        , 0.        ,\n",
       "         0.        , 0.        , 0.125     , 1.        , 0.        ,\n",
       "         0.        , 1.        , 1.        , 1.        , 1.        ,\n",
       "         0.        , 0.        , 0.        , 0.        , 0.        ,\n",
       "         1.        , 0.        , 1.        , 0.        , 1.        ,\n",
       "         1.        , 0.        , 0.        , 0.        , 0.        ,\n",
       "         1.        , 0.        , 0.        , 1.        , 1.        ,\n",
       "         0.        , 0.        , 1.        , 0.        , 0.        ,\n",
       "         0.        , 0.        , 0.125     , 0.        , 1.        ,\n",
       "         1.        , 0.        , 0.        , 1.        , 0.        ,\n",
       "         1.        , 0.        , 1.        , 0.        , 0.        ,\n",
       "         0.        , 1.        , 1.        , 1.        , 1.        ,\n",
       "         1.        , 1.        , 0.        , 0.        , 1.        ,\n",
       "         1.        , 0.        , 0.        , 1.        , 1.        ,\n",
       "         0.        , 1.        , 1.        , 0.        , 1.        ,\n",
       "         0.        , 1.        , 0.        , 1.        , 0.        ,\n",
       "         0.        , 0.        , 0.        , 1.        , 0.        ,\n",
       "         1.        , 0.        , 1.        , 0.        , 1.        ,\n",
       "         0.        , 0.        , 0.        , 0.        , 0.        ,\n",
       "         0.        , 0.        , 1.        , 1.        , 1.        ,\n",
       "         1.        , 0.        , 1.        ]),\n",
       "  'len_features': 10,\n",
       "  'feaute_importances': ['gender_female',\n",
       "   'fare',\n",
       "   'age',\n",
       "   'pclass',\n",
       "   'sibsp',\n",
       "   'embarked_S',\n",
       "   'embarked_C',\n",
       "   'parch',\n",
       "   'gender_male',\n",
       "   'embarked_Q'],\n",
       "  'create_dt': '0217'},\n",
       " {'model': 'modelV1',\n",
       "  'score_tr': 0.982839313572543,\n",
       "  'score_te': 0.7854545454545454,\n",
       "  'auc_te': 0.4951923076923077,\n",
       "  'ori_te_pred': array([1., 1., 1., 1., 1., 1., 1., 1., 1., 1., 1., 1., 1., 1., 1., 1., 1.,\n",
       "         1., 1., 1., 1., 1., 1., 1., 1., 1., 1., 1., 1., 1., 1., 1., 0., 1.,\n",
       "         1., 1., 1., 1., 1., 1., 1., 1., 1., 1., 1., 1., 1., 1., 1., 1., 1.,\n",
       "         1., 1., 1., 1., 1., 1., 1., 1., 1., 1., 1., 1., 0., 1., 1., 1., 1.,\n",
       "         1., 1., 1., 1., 1., 1., 1., 1., 1., 1., 1., 1., 1., 1., 1., 1., 1.,\n",
       "         1., 1., 1., 1., 1., 1., 1., 1., 1., 1., 1., 1., 1., 1., 1., 1., 1.,\n",
       "         1., 1., 1., 1., 1., 1., 1., 1., 1., 1., 1., 1., 1., 1., 0., 1., 1.,\n",
       "         1., 1., 1., 1., 1., 1., 1., 1., 1., 1., 1., 1., 1., 1., 1., 1., 1.,\n",
       "         1., 1., 1., 1., 1., 1., 1., 1., 1., 1., 1., 1., 1., 1., 1., 1., 1.,\n",
       "         1., 1., 1., 1., 1., 1., 1., 1., 1., 1., 1., 1., 1., 1., 1., 1., 1.,\n",
       "         1., 1., 1., 1., 1., 1., 1., 1., 1., 1., 1., 1., 1., 1., 1., 1., 1.,\n",
       "         1., 1., 1., 1., 1., 0., 1., 1., 1., 1., 1., 1., 1., 1., 1., 1., 1.,\n",
       "         1., 1., 1., 1., 1., 1., 1., 1., 0., 1., 1., 1., 1., 1., 1., 1., 1.,\n",
       "         1., 1., 1., 1., 1., 1., 1., 1., 1., 1., 1., 1., 1., 1., 1., 1., 1.,\n",
       "         1., 1., 1., 1., 1., 1., 1., 1., 1., 1., 1., 1., 1., 1., 1., 1., 1.,\n",
       "         1., 1., 1., 1., 1., 1., 1., 1., 1., 1., 1., 1., 1., 1., 1., 1., 1.,\n",
       "         1., 1., 1., 1., 1., 1., 1., 1., 1., 1., 1., 1., 1., 1., 1., 1., 1.,\n",
       "         1., 1., 1., 1., 1., 1., 1., 1., 1., 0., 1., 1., 1., 1., 1., 1., 1.,\n",
       "         1., 1., 1., 1., 1., 1., 1., 1., 1., 1., 1., 1., 1., 1., 1., 1., 1.,\n",
       "         1., 1., 1., 1., 1., 1., 1., 1., 1., 1., 1., 1., 1., 1., 1., 1., 1.,\n",
       "         1., 1., 1., 1., 1., 1., 1., 1., 1., 1., 1., 1., 1., 1., 1., 1., 1.,\n",
       "         1., 1., 1., 1., 1., 1., 1., 1., 1., 1., 1., 1., 1., 1., 1., 1., 1.,\n",
       "         0., 1., 1., 1., 1., 1., 1., 1., 1., 1., 1., 1., 1., 1., 1., 1., 1.,\n",
       "         0., 1.]),\n",
       "  'len_features': 10,\n",
       "  'feaute_importances': ['gender_male',\n",
       "   'fare',\n",
       "   'age',\n",
       "   'pclass',\n",
       "   'sibsp',\n",
       "   'embarked_S',\n",
       "   'parch',\n",
       "   'embarked_C',\n",
       "   'embarked_Q',\n",
       "   'gender_female'],\n",
       "  'create_dt': '0217'},\n",
       " {'model': 'modelV2',\n",
       "  'score_tr': 0.982839313572543,\n",
       "  'score_te': 0.7781818181818182,\n",
       "  'auc_te': 0.7624269005847952,\n",
       "  'ori_te_pred': array([1.        , 1.        , 1.        , 0.        , 1.        ,\n",
       "         1.        , 0.        , 0.125     , 1.        , 0.        ,\n",
       "         0.        , 0.        , 1.        , 0.        , 1.        ,\n",
       "         0.        , 1.        , 0.        , 0.        , 0.125     ,\n",
       "         0.        , 0.        , 0.        , 0.        , 0.125     ,\n",
       "         0.        , 0.        , 1.        , 1.        , 0.        ,\n",
       "         1.        , 0.        , 0.        , 0.        , 0.        ,\n",
       "         0.5       , 1.        , 0.        , 0.        , 0.        ,\n",
       "         0.        , 1.        , 0.        , 1.        , 0.        ,\n",
       "         0.        , 0.        , 0.        , 0.        , 0.        ,\n",
       "         1.        , 0.        , 1.        , 0.        , 1.        ,\n",
       "         1.        , 0.        , 0.        , 0.        , 1.        ,\n",
       "         1.        , 1.        , 1.        , 0.        , 0.        ,\n",
       "         0.        , 1.        , 1.        , 0.        , 1.        ,\n",
       "         0.2       , 1.        , 1.        , 1.        , 0.        ,\n",
       "         0.        , 0.        , 1.        , 0.        , 0.        ,\n",
       "         0.        , 0.        , 0.        , 1.        , 1.        ,\n",
       "         1.        , 1.        , 1.        , 0.        , 0.        ,\n",
       "         0.        , 1.        , 1.        , 0.        , 0.        ,\n",
       "         0.        , 0.        , 1.        , 0.        , 0.        ,\n",
       "         1.        , 1.        , 0.        , 1.        , 0.125     ,\n",
       "         0.        , 0.        , 1.        , 0.        , 1.        ,\n",
       "         0.        , 0.        , 1.        , 0.        , 0.        ,\n",
       "         0.        , 0.        , 1.        , 1.        , 1.        ,\n",
       "         1.        , 0.        , 0.        , 1.        , 0.33333333,\n",
       "         0.        , 1.        , 0.        , 0.        , 1.        ,\n",
       "         0.        , 0.        , 1.        , 1.        , 0.        ,\n",
       "         1.        , 1.        , 0.        , 1.        , 1.        ,\n",
       "         0.        , 0.125     , 0.        , 0.        , 0.        ,\n",
       "         0.        , 1.        , 0.        , 0.        , 0.        ,\n",
       "         0.5       , 0.        , 0.        , 0.        , 1.        ,\n",
       "         1.        , 1.        , 0.2       , 0.5       , 1.        ,\n",
       "         0.        , 0.        , 1.        , 1.        , 0.        ,\n",
       "         1.        , 1.        , 0.        , 1.        , 0.        ,\n",
       "         0.        , 0.        , 0.        , 0.        , 0.        ,\n",
       "         0.        , 1.        , 1.        , 1.        , 1.        ,\n",
       "         0.        , 0.        , 0.        , 1.        , 1.        ,\n",
       "         0.        , 1.        , 0.5       , 0.        , 0.        ,\n",
       "         0.        , 1.        , 1.        , 1.        , 0.        ,\n",
       "         0.        , 0.        , 0.        , 0.        , 0.        ,\n",
       "         0.        , 0.125     , 0.        , 1.        , 0.        ,\n",
       "         0.        , 1.        , 0.        , 1.        , 0.        ,\n",
       "         0.        , 0.        , 0.        , 0.        , 1.        ,\n",
       "         1.        , 0.        , 0.        , 1.        , 0.        ,\n",
       "         0.        , 1.        , 0.        , 0.        , 0.125     ,\n",
       "         0.        , 0.        , 1.        , 1.        , 1.        ,\n",
       "         1.        , 1.        , 1.        , 0.        , 1.        ,\n",
       "         0.        , 0.        , 0.        , 0.        , 0.        ,\n",
       "         0.        , 0.        , 0.        , 0.        , 0.        ,\n",
       "         0.        , 1.        , 0.        , 1.        , 1.        ,\n",
       "         1.        , 0.        , 1.        , 0.        , 1.        ,\n",
       "         0.        , 0.        , 0.        , 1.        , 1.        ,\n",
       "         0.        , 1.        , 0.        , 0.        , 1.        ,\n",
       "         0.        , 0.        , 0.33333333, 1.        , 1.        ,\n",
       "         1.        , 0.        , 0.        , 0.2       , 1.        ,\n",
       "         0.125     , 0.        , 1.        , 0.        , 1.        ,\n",
       "         0.125     , 1.        , 1.        , 1.        , 1.        ,\n",
       "         0.        , 0.        , 0.        , 1.        , 0.5       ,\n",
       "         0.        , 0.        , 0.        , 0.        , 0.        ,\n",
       "         0.        , 0.        , 0.125     , 1.        , 0.        ,\n",
       "         0.        , 1.        , 1.        , 1.        , 1.        ,\n",
       "         0.        , 0.        , 0.        , 0.        , 0.        ,\n",
       "         1.        , 0.        , 1.        , 0.        , 1.        ,\n",
       "         1.        , 0.        , 0.        , 0.        , 0.        ,\n",
       "         1.        , 0.        , 0.        , 1.        , 1.        ,\n",
       "         0.        , 0.        , 1.        , 0.        , 0.        ,\n",
       "         0.        , 0.        , 0.125     , 0.        , 1.        ,\n",
       "         1.        , 0.        , 0.        , 1.        , 0.        ,\n",
       "         1.        , 0.        , 1.        , 0.        , 0.        ,\n",
       "         0.        , 1.        , 1.        , 1.        , 1.        ,\n",
       "         1.        , 1.        , 0.        , 0.        , 1.        ,\n",
       "         1.        , 0.        , 0.        , 1.        , 1.        ,\n",
       "         0.        , 1.        , 1.        , 0.        , 1.        ,\n",
       "         0.        , 1.        , 0.        , 1.        , 0.        ,\n",
       "         0.        , 0.        , 0.        , 1.        , 1.        ,\n",
       "         1.        , 0.        , 1.        , 0.        , 1.        ,\n",
       "         0.        , 0.        , 0.        , 0.        , 0.        ,\n",
       "         0.        , 0.        , 1.        , 1.        , 1.        ,\n",
       "         1.        , 0.        , 1.        ]),\n",
       "  'len_features': 10,\n",
       "  'feaute_importances': ['gender_male',\n",
       "   'fare',\n",
       "   'age',\n",
       "   'pclass',\n",
       "   'sibsp',\n",
       "   'embarked_S',\n",
       "   'parch',\n",
       "   'embarked_C',\n",
       "   'embarked_Q',\n",
       "   'gender_female'],\n",
       "  'create_dt': '0217'}]"
      ]
     },
     "execution_count": 70,
     "metadata": {},
     "output_type": "execute_result"
    }
   ],
   "source": [
    "args.results.append(\n",
    "    {\n",
    "        'model': 'modelV2',\n",
    "        'score_tr': score_tr,\n",
    "        'score_te': score_te,\n",
    "        'auc_te': auc_te,\n",
    "        'ori_te_pred': ori_te_pred,\n",
    "        'len_features': X_tr.shape[1],\n",
    "        'feaute_importances': list(df_feature_importances['index'].values[:X_tr.shape[1]]),\n",
    "        'create_dt': '0217'\n",
    "    }\n",
    ")\n",
    "\n",
    "args.results"
   ]
  },
  {
   "cell_type": "markdown",
   "id": "178060d0-6230-4753-8f96-cee6b5ed334e",
   "metadata": {},
   "source": [
    "# Submission"
   ]
  },
  {
   "cell_type": "code",
   "execution_count": 71,
   "id": "e0532f83-eab5-4e66-9a05-2d4c0199c417",
   "metadata": {},
   "outputs": [
    {
     "data": {
      "text/html": [
       "<div>\n",
       "<style scoped>\n",
       "    .dataframe tbody tr th:only-of-type {\n",
       "        vertical-align: middle;\n",
       "    }\n",
       "\n",
       "    .dataframe tbody tr th {\n",
       "        vertical-align: top;\n",
       "    }\n",
       "\n",
       "    .dataframe thead th {\n",
       "        text-align: right;\n",
       "    }\n",
       "</style>\n",
       "<table border=\"1\" class=\"dataframe\">\n",
       "  <thead>\n",
       "    <tr style=\"text-align: right;\">\n",
       "      <th></th>\n",
       "      <th>model</th>\n",
       "      <th>score_tr</th>\n",
       "      <th>score_te</th>\n",
       "      <th>auc_te</th>\n",
       "      <th>ori_te_pred</th>\n",
       "      <th>len_features</th>\n",
       "      <th>feaute_importances</th>\n",
       "      <th>create_dt</th>\n",
       "    </tr>\n",
       "  </thead>\n",
       "  <tbody>\n",
       "    <tr>\n",
       "      <th>0</th>\n",
       "      <td>modelV0</td>\n",
       "      <td>0.982839</td>\n",
       "      <td>0.774545</td>\n",
       "      <td>0.763580</td>\n",
       "      <td>[1.0, 1.0, 1.0, 0.0, 1.0, 1.0, 0.0, 0.125, 1.0...</td>\n",
       "      <td>10</td>\n",
       "      <td>[gender_female, fare, age, pclass, sibsp, emba...</td>\n",
       "      <td>0217</td>\n",
       "    </tr>\n",
       "    <tr>\n",
       "      <th>2</th>\n",
       "      <td>modelV2</td>\n",
       "      <td>0.982839</td>\n",
       "      <td>0.778182</td>\n",
       "      <td>0.762427</td>\n",
       "      <td>[1.0, 1.0, 1.0, 0.0, 1.0, 1.0, 0.0, 0.125, 1.0...</td>\n",
       "      <td>10</td>\n",
       "      <td>[gender_male, fare, age, pclass, sibsp, embark...</td>\n",
       "      <td>0217</td>\n",
       "    </tr>\n",
       "    <tr>\n",
       "      <th>1</th>\n",
       "      <td>modelV1</td>\n",
       "      <td>0.982839</td>\n",
       "      <td>0.785455</td>\n",
       "      <td>0.495192</td>\n",
       "      <td>[1.0, 1.0, 1.0, 1.0, 1.0, 1.0, 1.0, 1.0, 1.0, ...</td>\n",
       "      <td>10</td>\n",
       "      <td>[gender_male, fare, age, pclass, sibsp, embark...</td>\n",
       "      <td>0217</td>\n",
       "    </tr>\n",
       "  </tbody>\n",
       "</table>\n",
       "</div>"
      ],
      "text/plain": [
       "     model  score_tr  score_te    auc_te  \\\n",
       "0  modelV0  0.982839  0.774545  0.763580   \n",
       "2  modelV2  0.982839  0.778182  0.762427   \n",
       "1  modelV1  0.982839  0.785455  0.495192   \n",
       "\n",
       "                                         ori_te_pred  len_features  \\\n",
       "0  [1.0, 1.0, 1.0, 0.0, 1.0, 1.0, 0.0, 0.125, 1.0...            10   \n",
       "2  [1.0, 1.0, 1.0, 0.0, 1.0, 1.0, 0.0, 0.125, 1.0...            10   \n",
       "1  [1.0, 1.0, 1.0, 1.0, 1.0, 1.0, 1.0, 1.0, 1.0, ...            10   \n",
       "\n",
       "                                  feaute_importances create_dt  \n",
       "0  [gender_female, fare, age, pclass, sibsp, emba...      0217  \n",
       "2  [gender_male, fare, age, pclass, sibsp, embark...      0217  \n",
       "1  [gender_male, fare, age, pclass, sibsp, embark...      0217  "
      ]
     },
     "execution_count": 71,
     "metadata": {},
     "output_type": "execute_result"
    }
   ],
   "source": [
    "df_results = pd.DataFrame(args.results).sort_values(by=['auc_te'], ascending=False)\n",
    "df_results"
   ]
  },
  {
   "cell_type": "code",
   "execution_count": 72,
   "id": "1805d4e9-5c24-4759-8c32-de91ae80bd19",
   "metadata": {},
   "outputs": [
    {
     "data": {
      "text/html": [
       "<div>\n",
       "<style scoped>\n",
       "    .dataframe tbody tr th:only-of-type {\n",
       "        vertical-align: middle;\n",
       "    }\n",
       "\n",
       "    .dataframe tbody tr th {\n",
       "        vertical-align: top;\n",
       "    }\n",
       "\n",
       "    .dataframe thead th {\n",
       "        text-align: right;\n",
       "    }\n",
       "</style>\n",
       "<table border=\"1\" class=\"dataframe\">\n",
       "  <thead>\n",
       "    <tr style=\"text-align: right;\">\n",
       "      <th></th>\n",
       "      <th>passengerid</th>\n",
       "      <th>survived</th>\n",
       "    </tr>\n",
       "  </thead>\n",
       "  <tbody>\n",
       "    <tr>\n",
       "      <th>0</th>\n",
       "      <td>916</td>\n",
       "      <td>0.5</td>\n",
       "    </tr>\n",
       "    <tr>\n",
       "      <th>1</th>\n",
       "      <td>917</td>\n",
       "      <td>0.5</td>\n",
       "    </tr>\n",
       "    <tr>\n",
       "      <th>2</th>\n",
       "      <td>918</td>\n",
       "      <td>0.5</td>\n",
       "    </tr>\n",
       "    <tr>\n",
       "      <th>3</th>\n",
       "      <td>919</td>\n",
       "      <td>0.5</td>\n",
       "    </tr>\n",
       "    <tr>\n",
       "      <th>4</th>\n",
       "      <td>920</td>\n",
       "      <td>0.5</td>\n",
       "    </tr>\n",
       "  </tbody>\n",
       "</table>\n",
       "</div>"
      ],
      "text/plain": [
       "   passengerid  survived\n",
       "0          916       0.5\n",
       "1          917       0.5\n",
       "2          918       0.5\n",
       "3          919       0.5\n",
       "4          920       0.5"
      ]
     },
     "execution_count": 72,
     "metadata": {},
     "output_type": "execute_result"
    }
   ],
   "source": [
    "submission = pd.read_csv(args.default_submission_csv)\n",
    "submission.head()"
   ]
  },
  {
   "cell_type": "code",
   "execution_count": 73,
   "id": "d2cb2c4a-dfa7-4178-b85d-65ed39492e1b",
   "metadata": {},
   "outputs": [
    {
     "name": "stdout",
     "output_type": "stream",
     "text": [
      "0\n"
     ]
    },
    {
     "data": {
      "text/html": [
       "<div>\n",
       "<style scoped>\n",
       "    .dataframe tbody tr th:only-of-type {\n",
       "        vertical-align: middle;\n",
       "    }\n",
       "\n",
       "    .dataframe tbody tr th {\n",
       "        vertical-align: top;\n",
       "    }\n",
       "\n",
       "    .dataframe thead th {\n",
       "        text-align: right;\n",
       "    }\n",
       "</style>\n",
       "<table border=\"1\" class=\"dataframe\">\n",
       "  <thead>\n",
       "    <tr style=\"text-align: right;\">\n",
       "      <th></th>\n",
       "      <th>passengerid</th>\n",
       "      <th>survived</th>\n",
       "    </tr>\n",
       "  </thead>\n",
       "  <tbody>\n",
       "    <tr>\n",
       "      <th>0</th>\n",
       "      <td>916</td>\n",
       "      <td>1.000</td>\n",
       "    </tr>\n",
       "    <tr>\n",
       "      <th>1</th>\n",
       "      <td>917</td>\n",
       "      <td>1.000</td>\n",
       "    </tr>\n",
       "    <tr>\n",
       "      <th>2</th>\n",
       "      <td>918</td>\n",
       "      <td>1.000</td>\n",
       "    </tr>\n",
       "    <tr>\n",
       "      <th>3</th>\n",
       "      <td>919</td>\n",
       "      <td>0.000</td>\n",
       "    </tr>\n",
       "    <tr>\n",
       "      <th>4</th>\n",
       "      <td>920</td>\n",
       "      <td>1.000</td>\n",
       "    </tr>\n",
       "    <tr>\n",
       "      <th>5</th>\n",
       "      <td>921</td>\n",
       "      <td>1.000</td>\n",
       "    </tr>\n",
       "    <tr>\n",
       "      <th>6</th>\n",
       "      <td>922</td>\n",
       "      <td>0.000</td>\n",
       "    </tr>\n",
       "    <tr>\n",
       "      <th>7</th>\n",
       "      <td>923</td>\n",
       "      <td>0.125</td>\n",
       "    </tr>\n",
       "    <tr>\n",
       "      <th>8</th>\n",
       "      <td>924</td>\n",
       "      <td>1.000</td>\n",
       "    </tr>\n",
       "    <tr>\n",
       "      <th>9</th>\n",
       "      <td>925</td>\n",
       "      <td>0.000</td>\n",
       "    </tr>\n",
       "  </tbody>\n",
       "</table>\n",
       "</div>"
      ],
      "text/plain": [
       "   passengerid  survived\n",
       "0          916     1.000\n",
       "1          917     1.000\n",
       "2          918     1.000\n",
       "3          919     0.000\n",
       "4          920     1.000\n",
       "5          921     1.000\n",
       "6          922     0.000\n",
       "7          923     0.125\n",
       "8          924     1.000\n",
       "9          925     0.000"
      ]
     },
     "execution_count": 73,
     "metadata": {},
     "output_type": "execute_result"
    }
   ],
   "source": [
    "submission['survived'] = df_results.loc[0, ['ori_te_pred']].values[0] \n",
    "  \n",
    "print(f'{submission.isnull().sum().sum()}')\n",
    "submission.head(10)"
   ]
  },
  {
   "cell_type": "code",
   "execution_count": 74,
   "id": "459fa518-e27f-4ca6-96e5-0a78acdee7d5",
   "metadata": {},
   "outputs": [],
   "source": [
    "submission.to_csv(args.submission_csv, header=True, index=False)  # to_csv 파일로 변환. 저장"
   ]
  },
  {
   "cell_type": "code",
   "execution_count": 75,
   "id": "7819a98f-d8a9-4d2a-9abb-e08674192b5b",
   "metadata": {},
   "outputs": [
    {
     "data": {
      "text/plain": [
       "'C:/titanic_datas/result/model_results.json'"
      ]
     },
     "execution_count": 75,
     "metadata": {},
     "output_type": "execute_result"
    }
   ],
   "source": [
    "args.save_results"
   ]
  },
  {
   "cell_type": "markdown",
   "id": "b47d8e3c-4da6-4269-b066-c6078d4dec61",
   "metadata": {},
   "source": [
    "# ModelV3"
   ]
  },
  {
   "cell_type": "markdown",
   "id": "eeae9789-0045-4235-a760-ccf1e82baea2",
   "metadata": {},
   "source": [
    "## train_test_split"
   ]
  },
  {
   "cell_type": "code",
   "execution_count": 76,
   "id": "80b65de0-6faa-4f98-afcc-e0ad5dd3b9a5",
   "metadata": {},
   "outputs": [],
   "source": [
    "from sklearn.model_selection import train_test_split"
   ]
  },
  {
   "cell_type": "code",
   "execution_count": 77,
   "id": "560e9a33-b90b-4836-9580-d86f60290b98",
   "metadata": {},
   "outputs": [],
   "source": [
    "ori_te = ori_test.copy()\n",
    "\n",
    "y = ori_train['survived']\n",
    "X = ori_train.drop(['survived'], axis=1)"
   ]
  },
  {
   "cell_type": "code",
   "execution_count": 78,
   "id": "b07d512f-c479-43b9-ba4b-5b4fb9c1f4ec",
   "metadata": {},
   "outputs": [
    {
     "data": {
      "text/plain": [
       "((641, 10), (275, 10), (641,), (275,))"
      ]
     },
     "execution_count": 78,
     "metadata": {},
     "output_type": "execute_result"
    }
   ],
   "source": [
    "X_tr, X_te, y_tr, y_te = train_test_split(X, y, test_size=0.3, stratify=ori_train['survived'], random_state=args.random_state)\n",
    "\n",
    "X_tr.shape, X_te.shape, y_tr.shape, y_te.shape                                                                                "
   ]
  },
  {
   "cell_type": "markdown",
   "id": "250afa0a-2002-499e-8ed7-5cfde69d4087",
   "metadata": {},
   "source": [
    "## Feature Extraction"
   ]
  },
  {
   "cell_type": "markdown",
   "id": "4fae6a3a-217c-43eb-af68-e2fa506c7231",
   "metadata": {},
   "source": [
    "Initial_name"
   ]
  },
  {
   "cell_type": "code",
   "execution_count": 79,
   "id": "13d5b355-cc45-4815-862b-853238bcbd59",
   "metadata": {},
   "outputs": [
    {
     "name": "stdout",
     "output_type": "stream",
     "text": [
      "Initial_name: 0 / 0 / 0\n"
     ]
    }
   ],
   "source": [
    "X_tr['Initial_name'] = X_tr['name'].str.extract('([A-Za-z]+)\\.') #lets extract the Salutations\n",
    "X_te['Initial_name'] = X_te['name'].str.extract('([A-Za-z]+)\\.')\n",
    "ori_te['Initial_name'] = ori_te['name'].str.extract('([A-Za-z]+)\\.')\n",
    "     \n",
    "X_tr.drop(['name'], axis=1, inplace=True)\n",
    "X_te.drop(['name'], axis=1, inplace=True)  \n",
    "ori_te.drop(['name'], axis=1, inplace=True)\n",
    "     \n",
    "print(f'Initial_name: {X_tr[\"Initial_name\"].isnull().sum()} / {X_te[\"Initial_name\"].isnull().sum()} / {ori_te[\"Initial_name\"].isnull().sum()}')"
   ]
  },
  {
   "cell_type": "markdown",
   "id": "e5559c73-e19b-441e-afa9-fef7a6e4fad5",
   "metadata": {},
   "source": [
    "Initial_name_type"
   ]
  },
  {
   "cell_type": "code",
   "execution_count": 80,
   "id": "49cefe6f-acf8-41e9-afbb-f5674145851b",
   "metadata": {},
   "outputs": [
    {
     "data": {
      "text/plain": [
       "array(['Miss', 'Mr', 'Mrs', 'Master', 'Dr', 'Rev', 'Capt', 'Mlle', 'Ms',\n",
       "       'Col', 'Major', 'Sir', 'Jonkheer'], dtype=object)"
      ]
     },
     "execution_count": 80,
     "metadata": {},
     "output_type": "execute_result"
    }
   ],
   "source": [
    "X_tr['Initial_name'].unique()"
   ]
  },
  {
   "cell_type": "code",
   "execution_count": 81,
   "id": "6c496dad-4195-427f-a1c9-354e21aedeb2",
   "metadata": {},
   "outputs": [
    {
     "data": {
      "text/plain": [
       "Mr          370\n",
       "Miss        126\n",
       "Mrs         106\n",
       "Master       22\n",
       "Rev           4\n",
       "Dr            3\n",
       "Col           3\n",
       "Major         2\n",
       "Capt          1\n",
       "Mlle          1\n",
       "Ms            1\n",
       "Sir           1\n",
       "Jonkheer      1\n",
       "Name: Initial_name, dtype: int64"
      ]
     },
     "execution_count": 81,
     "metadata": {},
     "output_type": "execute_result"
    }
   ],
   "source": [
    "X_tr['Initial_name'].value_counts() "
   ]
  },
  {
   "cell_type": "markdown",
   "id": "ce041edc-5493-43f1-b59a-81d3e39b456b",
   "metadata": {},
   "source": [
    "성별 기준으로 최빈값이 Mr, Miss이며,\n",
    "Mr, Miss는 모두 Others 이다."
   ]
  },
  {
   "cell_type": "code",
   "execution_count": 82,
   "id": "9b44865c-feed-4149-9ac9-030697ae5600",
   "metadata": {},
   "outputs": [
    {
     "name": "stdout",
     "output_type": "stream",
     "text": [
      "Initial_name_type: 0 / 0 / 0\n"
     ]
    }
   ],
   "source": [
    "dict_initial_name = {\n",
    "    'Mr': 'Others',\n",
    "    'Miss': 'Others',\n",
    "    'Mrs': 'Others',\n",
    "\n",
    "    'Master': 'Officer',\n",
    "    'Dr': 'Officer',\n",
    "    'Rev': 'Officer',\n",
    "    'Col': 'Officer',\n",
    "    'Major': 'Officer',\n",
    "    'Capt': 'Officer',\n",
    "\n",
    "    'Jonkheer': 'Royalty',\n",
    "    'Countess': 'Royalty',\n",
    "    'Sir': 'Royalty'\n",
    "}\n",
    "\n",
    "def add_initial_name_type(initial_name):\n",
    "  result = 'Others'\n",
    "  try:\n",
    "    result = dict_initial_name[initial_name]\n",
    "  except:\n",
    "    pass \n",
    "  return result\n",
    "\n",
    "X_tr['Initial_name_type'] = X_tr['Initial_name'].map(lambda x: add_initial_name_type(x))\n",
    "X_te['Initial_name_type'] = X_te['Initial_name'].map(lambda x: add_initial_name_type(x))\n",
    "ori_te['Initial_name_type'] = ori_te['Initial_name'].map(lambda x: add_initial_name_type(x))\n",
    "\n",
    "X_tr.drop(['Initial_name'], axis=1, inplace=True)\n",
    "X_te.drop(['Initial_name'], axis=1, inplace=True)\n",
    "ori_te.drop(['Initial_name'], axis=1, inplace=True)\n",
    "\n",
    "print(f'Initial_name_type: {X_tr[\"Initial_name_type\"].isnull().sum()} / {X_te[\"Initial_name_type\"].isnull().sum()} / {ori_te[\"Initial_name_type\"].isnull().sum()}')"
   ]
  },
  {
   "cell_type": "markdown",
   "id": "0d814ead-0294-434b-8814-1e2a36fd38fa",
   "metadata": {},
   "source": [
    "initial_cabin"
   ]
  },
  {
   "cell_type": "code",
   "execution_count": 83,
   "id": "da991672-e6d2-4339-abb8-b964ede6b663",
   "metadata": {},
   "outputs": [
    {
     "name": "stdout",
     "output_type": "stream",
     "text": [
      "initial_cabin: 0 / 0 / 0\n"
     ]
    }
   ],
   "source": [
    "def add_initial_cabin(cabin, initial_cabin_unique=None):\n",
    "  result = 'unknown'\n",
    "  try:\n",
    "    cabin = cabin.strip()\n",
    "    if cabin[:1] in initial_cabin_unique:\n",
    "      result = cabin[:1]\n",
    "  except:\n",
    "    pass \n",
    "  \n",
    "  return result\n",
    "\n",
    "X_tr['initial_cabin'] = X_tr['cabin'].map(lambda cabin: add_initial_cabin(cabin))\n",
    "initial_cabin_unique = list(X_tr['initial_cabin'].unique())\n",
    "\n",
    "X_te['initial_cabin'] = X_te['cabin'].map(lambda cabin: add_initial_cabin(cabin, initial_cabin_unique))\n",
    "ori_te['initial_cabin'] = ori_te['cabin'].map(lambda cabin: add_initial_cabin(cabin, initial_cabin_unique))\n",
    "\n",
    "X_tr.drop(['cabin'], axis=1, inplace=True)\n",
    "X_te.drop(['cabin'], axis=1, inplace=True)\n",
    "ori_te.drop(['cabin'], axis=1, inplace=True)\n",
    "\n",
    "print(f'initial_cabin: {X_tr[\"initial_cabin\"].isnull().sum()} / {X_te[\"initial_cabin\"].isnull().sum()} / {ori_te[\"initial_cabin\"].isnull().sum()}')"
   ]
  },
  {
   "cell_type": "markdown",
   "id": "9b209dad-ec0e-48c1-9508-657b74fa987e",
   "metadata": {},
   "source": [
    "len_ticket"
   ]
  },
  {
   "cell_type": "code",
   "execution_count": 84,
   "id": "d00adf3f-f56b-47a3-b948-690b90172778",
   "metadata": {},
   "outputs": [
    {
     "name": "stdout",
     "output_type": "stream",
     "text": [
      "len_ticket: 0 / 0 / 0\n"
     ]
    }
   ],
   "source": [
    "X_tr['len_ticket'] = X_tr['ticket'].map(lambda x: len(x.strip().split(' ')))\n",
    "X_te['len_ticket'] = X_te['ticket'].map(lambda x: len(x.strip().split(' ')))\n",
    "ori_te['len_ticket'] = ori_te['ticket'].map(lambda x: len(x.strip().split(' ')))\n",
    "\n",
    "X_tr.drop(['ticket'], axis=1, inplace=True)\n",
    "X_te.drop(['ticket'], axis=1, inplace=True)\n",
    "ori_te.drop(['ticket'], axis=1, inplace=True)\n",
    "\n",
    "print(f'len_ticket: {X_tr[\"len_ticket\"].isnull().sum()} / {X_te[\"len_ticket\"].isnull().sum()} / {ori_te[\"len_ticket\"].isnull().sum()}')"
   ]
  },
  {
   "cell_type": "markdown",
   "id": "cd544423-7811-4bce-af6a-a2d81a700a70",
   "metadata": {},
   "source": [
    "## Data Cleaning"
   ]
  },
  {
   "cell_type": "code",
   "execution_count": 85,
   "id": "6f5a1f38-cbc8-4e5a-b719-f9ec761b29f0",
   "metadata": {},
   "outputs": [
    {
     "name": "stdout",
     "output_type": "stream",
     "text": [
      "train: 129 / test: 52 / ori_te: 85\n"
     ]
    }
   ],
   "source": [
    "print(f'train: {X_tr.isnull().sum().sum()} / test: {X_te.isnull().sum().sum()} / ori_te: {ori_te.isnull().sum().sum()}')"
   ]
  },
  {
   "cell_type": "code",
   "execution_count": 86,
   "id": "67aa070f-a0f3-4107-9641-a89a5a0f9210",
   "metadata": {},
   "outputs": [],
   "source": [
    "from pandas.api.types import is_string_dtype\n",
    "from pandas.api.types import is_numeric_dtype\n",
    "\n",
    "def get_cols_cleaning(p_pd_list:list) -> list:\n",
    "  cols_cleaning = []\n",
    "  for df in p_pd_list:\n",
    "    # 결측치 컬럼 조회\n",
    "    tmp = df.isnull().sum()\n",
    "    cols_cleaning += list(tmp[df.isnull().sum() > 0].index)\n",
    "\n",
    "  cols_cleaning = list(set(cols_cleaning))\n",
    "  print(f'cols_cleaning: {cols_cleaning}')\n",
    "  return cols_cleaning\n",
    "\n",
    "def add_cols_cleaning(p_train:pd.DataFrame, p_test:pd.DataFrame, p_ori_te:pd.DataFrame) -> None:\n",
    "  pd_list = [p_train, p_test, p_ori_te]\n",
    "  for col in get_cols_cleaning(pd_list):  \n",
    "    for i, df in enumerate(pd_list, start=1):\n",
    "      \n",
    "      if is_numeric_dtype(df[col]): # 숫자형 결측치 처리\n",
    "        new_col = col+'_cleaning'\n",
    "        df[new_col] = df[col]   \n",
    "        # random sampling\n",
    "        random_sampling = (p_train[col].dropna().sample(df[col].isnull().sum()))\n",
    "        # index 부여\n",
    "        random_sampling.index = df[lambda x: x[col].isnull()].index \n",
    "        # NA imputation\n",
    "        df.loc[df[col].isnull(), new_col] = random_sampling\n",
    "        \n",
    "        # 기존 결측치 컬럼 제거\n",
    "        if i == len(pd_list):\n",
    "          for _df in pd_list:\n",
    "            _df.drop([col], axis=1, inplace=True)\n",
    "      \n",
    "      else: # 범주형 결측치 처리\n",
    "        df[col].fillna(p_train[col].mode().values[0], inplace=True)\n",
    "\n",
    "  print(f'p_train: {p_train.isnull().sum().sum()} / p_test: {p_test.isnull().sum().sum()} / p_ori_te: {p_ori_te.isnull().sum().sum()}')\n"
   ]
  },
  {
   "cell_type": "code",
   "execution_count": 87,
   "id": "99614e43-3abf-46ab-877a-6673084437a8",
   "metadata": {},
   "outputs": [
    {
     "name": "stdout",
     "output_type": "stream",
     "text": [
      "cols_cleaning: ['fare', 'age', 'embarked']\n",
      "p_train: 0 / p_test: 0 / p_ori_te: 0\n"
     ]
    }
   ],
   "source": [
    "add_cols_cleaning(X_tr, X_te, ori_te)"
   ]
  },
  {
   "cell_type": "code",
   "execution_count": 88,
   "id": "5e48764a-41ff-43bb-90ed-6c26be8324d4",
   "metadata": {},
   "outputs": [
    {
     "name": "stdout",
     "output_type": "stream",
     "text": [
      "train: 0 / test: 0 / ori_te: 0\n"
     ]
    }
   ],
   "source": [
    "print(f'train: {X_tr.isnull().sum().sum()} / test: {X_te.isnull().sum().sum()} / ori_te: {ori_te.isnull().sum().sum()}')"
   ]
  },
  {
   "cell_type": "markdown",
   "id": "3c6f4283-c94c-4094-9048-3b5543f77f95",
   "metadata": {},
   "source": [
    "## Encoding"
   ]
  },
  {
   "cell_type": "code",
   "execution_count": 89,
   "id": "42e53fa4-2021-40dd-887a-96c9ce0ec02b",
   "metadata": {},
   "outputs": [],
   "source": [
    "from sklearn.preprocessing import OneHotEncoder"
   ]
  },
  {
   "cell_type": "code",
   "execution_count": 90,
   "id": "6dca4d62-aece-420d-b081-0cd097a9d016",
   "metadata": {},
   "outputs": [],
   "source": [
    "def add_cols_encoding(p_train:pd.DataFrame, p_test:pd.DataFrame, p_ori_te:pd.DataFrame) -> None:\n",
    "  print(f'before: {p_train.shape} / {p_test.shape} / {p_ori_te.shape}')\n",
    "  results = []\n",
    "\n",
    "  enc_cols = ['pclass', 'gender', 'embarked', 'Initial_name_type', 'initial_cabin', 'len_ticket']\n",
    "  normal_cols = list(set(p_train.columns) - set(enc_cols))\n",
    "\n",
    "  enc = OneHotEncoder()\n",
    "  enc.fit(p_train[enc_cols])\n",
    "\n",
    "  pd_list = [p_train, p_test, p_ori_te]\n",
    "  for i, df in enumerate(pd_list, start=1):\n",
    "    _df = pd.DataFrame(\n",
    "      enc.transform(df[enc_cols]).toarray(),\n",
    "      columns = enc.get_feature_names_out()\n",
    "    )\n",
    "    results.append( \n",
    "      pd.concat(\n",
    "        [df[normal_cols].reset_index(drop=True), _df.reset_index(drop=True)]\n",
    "        , axis=1\n",
    "      ).reset_index(drop=True)\n",
    "    )\n",
    "\n",
    "  print(f'after: {results[0].shape} / {results[1].shape} / {results[2].shape}')\n",
    "  return results[0], results[1], results[2]"
   ]
  },
  {
   "cell_type": "code",
   "execution_count": 91,
   "id": "94b3164f-e5a1-442a-aa50-62d2d039eb2c",
   "metadata": {},
   "outputs": [
    {
     "name": "stdout",
     "output_type": "stream",
     "text": [
      "before: (641, 10) / (275, 10) / (393, 10)\n",
      "after: (641, 19) / (275, 19) / (393, 19)\n"
     ]
    }
   ],
   "source": [
    "X_tr, X_te, ori_te = add_cols_encoding(X_tr, X_te, ori_te)"
   ]
  },
  {
   "cell_type": "code",
   "execution_count": 92,
   "id": "4255c58e-159d-4974-b176-17ca973d655a",
   "metadata": {},
   "outputs": [
    {
     "data": {
      "text/html": [
       "<div>\n",
       "<style scoped>\n",
       "    .dataframe tbody tr th:only-of-type {\n",
       "        vertical-align: middle;\n",
       "    }\n",
       "\n",
       "    .dataframe tbody tr th {\n",
       "        vertical-align: top;\n",
       "    }\n",
       "\n",
       "    .dataframe thead th {\n",
       "        text-align: right;\n",
       "    }\n",
       "</style>\n",
       "<table border=\"1\" class=\"dataframe\">\n",
       "  <thead>\n",
       "    <tr style=\"text-align: right;\">\n",
       "      <th></th>\n",
       "      <th>fare_cleaning</th>\n",
       "      <th>age_cleaning</th>\n",
       "      <th>parch</th>\n",
       "      <th>sibsp</th>\n",
       "      <th>pclass_1</th>\n",
       "      <th>pclass_2</th>\n",
       "      <th>pclass_3</th>\n",
       "      <th>gender_female</th>\n",
       "      <th>gender_male</th>\n",
       "      <th>embarked_C</th>\n",
       "      <th>embarked_Q</th>\n",
       "      <th>embarked_S</th>\n",
       "      <th>Initial_name_type_Officer</th>\n",
       "      <th>Initial_name_type_Others</th>\n",
       "      <th>Initial_name_type_Royalty</th>\n",
       "      <th>initial_cabin_unknown</th>\n",
       "      <th>len_ticket_1</th>\n",
       "      <th>len_ticket_2</th>\n",
       "      <th>len_ticket_3</th>\n",
       "    </tr>\n",
       "  </thead>\n",
       "  <tbody>\n",
       "    <tr>\n",
       "      <th>0</th>\n",
       "      <td>7.7750</td>\n",
       "      <td>22.0</td>\n",
       "      <td>0</td>\n",
       "      <td>0</td>\n",
       "      <td>0.0</td>\n",
       "      <td>0.0</td>\n",
       "      <td>1.0</td>\n",
       "      <td>1.0</td>\n",
       "      <td>0.0</td>\n",
       "      <td>0.0</td>\n",
       "      <td>0.0</td>\n",
       "      <td>1.0</td>\n",
       "      <td>0.0</td>\n",
       "      <td>1.0</td>\n",
       "      <td>0.0</td>\n",
       "      <td>1.0</td>\n",
       "      <td>1.0</td>\n",
       "      <td>0.0</td>\n",
       "      <td>0.0</td>\n",
       "    </tr>\n",
       "    <tr>\n",
       "      <th>1</th>\n",
       "      <td>7.8208</td>\n",
       "      <td>21.0</td>\n",
       "      <td>0</td>\n",
       "      <td>0</td>\n",
       "      <td>0.0</td>\n",
       "      <td>0.0</td>\n",
       "      <td>1.0</td>\n",
       "      <td>0.0</td>\n",
       "      <td>1.0</td>\n",
       "      <td>0.0</td>\n",
       "      <td>1.0</td>\n",
       "      <td>0.0</td>\n",
       "      <td>0.0</td>\n",
       "      <td>1.0</td>\n",
       "      <td>0.0</td>\n",
       "      <td>1.0</td>\n",
       "      <td>1.0</td>\n",
       "      <td>0.0</td>\n",
       "      <td>0.0</td>\n",
       "    </tr>\n",
       "    <tr>\n",
       "      <th>2</th>\n",
       "      <td>7.8542</td>\n",
       "      <td>32.0</td>\n",
       "      <td>0</td>\n",
       "      <td>0</td>\n",
       "      <td>0.0</td>\n",
       "      <td>0.0</td>\n",
       "      <td>1.0</td>\n",
       "      <td>0.0</td>\n",
       "      <td>1.0</td>\n",
       "      <td>0.0</td>\n",
       "      <td>0.0</td>\n",
       "      <td>1.0</td>\n",
       "      <td>0.0</td>\n",
       "      <td>1.0</td>\n",
       "      <td>0.0</td>\n",
       "      <td>1.0</td>\n",
       "      <td>1.0</td>\n",
       "      <td>0.0</td>\n",
       "      <td>0.0</td>\n",
       "    </tr>\n",
       "    <tr>\n",
       "      <th>3</th>\n",
       "      <td>18.7875</td>\n",
       "      <td>11.0</td>\n",
       "      <td>0</td>\n",
       "      <td>0</td>\n",
       "      <td>0.0</td>\n",
       "      <td>0.0</td>\n",
       "      <td>1.0</td>\n",
       "      <td>0.0</td>\n",
       "      <td>1.0</td>\n",
       "      <td>1.0</td>\n",
       "      <td>0.0</td>\n",
       "      <td>0.0</td>\n",
       "      <td>0.0</td>\n",
       "      <td>1.0</td>\n",
       "      <td>0.0</td>\n",
       "      <td>1.0</td>\n",
       "      <td>1.0</td>\n",
       "      <td>0.0</td>\n",
       "      <td>0.0</td>\n",
       "    </tr>\n",
       "    <tr>\n",
       "      <th>4</th>\n",
       "      <td>8.0500</td>\n",
       "      <td>30.0</td>\n",
       "      <td>0</td>\n",
       "      <td>0</td>\n",
       "      <td>0.0</td>\n",
       "      <td>0.0</td>\n",
       "      <td>1.0</td>\n",
       "      <td>0.0</td>\n",
       "      <td>1.0</td>\n",
       "      <td>0.0</td>\n",
       "      <td>0.0</td>\n",
       "      <td>1.0</td>\n",
       "      <td>0.0</td>\n",
       "      <td>1.0</td>\n",
       "      <td>0.0</td>\n",
       "      <td>1.0</td>\n",
       "      <td>0.0</td>\n",
       "      <td>1.0</td>\n",
       "      <td>0.0</td>\n",
       "    </tr>\n",
       "  </tbody>\n",
       "</table>\n",
       "</div>"
      ],
      "text/plain": [
       "   fare_cleaning  age_cleaning  parch  sibsp  pclass_1  pclass_2  pclass_3  \\\n",
       "0         7.7750          22.0      0      0       0.0       0.0       1.0   \n",
       "1         7.8208          21.0      0      0       0.0       0.0       1.0   \n",
       "2         7.8542          32.0      0      0       0.0       0.0       1.0   \n",
       "3        18.7875          11.0      0      0       0.0       0.0       1.0   \n",
       "4         8.0500          30.0      0      0       0.0       0.0       1.0   \n",
       "\n",
       "   gender_female  gender_male  embarked_C  embarked_Q  embarked_S  \\\n",
       "0            1.0          0.0         0.0         0.0         1.0   \n",
       "1            0.0          1.0         0.0         1.0         0.0   \n",
       "2            0.0          1.0         0.0         0.0         1.0   \n",
       "3            0.0          1.0         1.0         0.0         0.0   \n",
       "4            0.0          1.0         0.0         0.0         1.0   \n",
       "\n",
       "   Initial_name_type_Officer  Initial_name_type_Others  \\\n",
       "0                        0.0                       1.0   \n",
       "1                        0.0                       1.0   \n",
       "2                        0.0                       1.0   \n",
       "3                        0.0                       1.0   \n",
       "4                        0.0                       1.0   \n",
       "\n",
       "   Initial_name_type_Royalty  initial_cabin_unknown  len_ticket_1  \\\n",
       "0                        0.0                    1.0           1.0   \n",
       "1                        0.0                    1.0           1.0   \n",
       "2                        0.0                    1.0           1.0   \n",
       "3                        0.0                    1.0           1.0   \n",
       "4                        0.0                    1.0           0.0   \n",
       "\n",
       "   len_ticket_2  len_ticket_3  \n",
       "0           0.0           0.0  \n",
       "1           0.0           0.0  \n",
       "2           0.0           0.0  \n",
       "3           0.0           0.0  \n",
       "4           1.0           0.0  "
      ]
     },
     "execution_count": 92,
     "metadata": {},
     "output_type": "execute_result"
    }
   ],
   "source": [
    "X_tr.head()"
   ]
  },
  {
   "cell_type": "markdown",
   "id": "d56be1a4-5dc2-4c12-b7da-8ff2465db387",
   "metadata": {},
   "source": [
    "## Modeling"
   ]
  },
  {
   "cell_type": "code",
   "execution_count": 93,
   "id": "fad5ac99-82db-4163-af28-40e67c0dea81",
   "metadata": {},
   "outputs": [
    {
     "data": {
      "text/plain": [
       "(0, 0, 0)"
      ]
     },
     "execution_count": 93,
     "metadata": {},
     "output_type": "execute_result"
    }
   ],
   "source": [
    "X_tr.isnull().sum().sum(), X_te.isnull().sum().sum(), ori_te.isnull().sum().sum()"
   ]
  },
  {
   "cell_type": "code",
   "execution_count": 94,
   "id": "82e68d08-3229-452c-85af-f069842e7b72",
   "metadata": {},
   "outputs": [
    {
     "data": {
      "text/plain": [
       "((641, 19), (275, 19), (393, 19))"
      ]
     },
     "execution_count": 94,
     "metadata": {},
     "output_type": "execute_result"
    }
   ],
   "source": [
    "X_tr.shape, X_te.shape, ori_te.shape"
   ]
  },
  {
   "cell_type": "code",
   "execution_count": 95,
   "id": "dfb37330-77ef-44ee-9791-ab44c1f011a9",
   "metadata": {},
   "outputs": [],
   "source": [
    "from sklearn.tree import DecisionTreeClassifier"
   ]
  },
  {
   "cell_type": "code",
   "execution_count": 96,
   "id": "2b228b69-61e5-4ee0-be4f-694affdfd60a",
   "metadata": {},
   "outputs": [
    {
     "name": "stdout",
     "output_type": "stream",
     "text": [
      "(641, 19) / (641,)\n"
     ]
    },
    {
     "data": {
      "text/plain": [
       "DecisionTreeClassifier(random_state=21)"
      ]
     },
     "execution_count": 96,
     "metadata": {},
     "output_type": "execute_result"
    }
   ],
   "source": [
    "modelV3 = DecisionTreeClassifier(random_state=args.random_state)\n",
    "\n",
    "print(f'{X_tr.shape} / {y_tr.shape}')\n",
    "modelV3.fit(X_tr, y_tr)"
   ]
  },
  {
   "cell_type": "markdown",
   "id": "57a16dfc-873d-4a94-a58c-09bd7c5dd484",
   "metadata": {},
   "source": [
    "## Evaluation"
   ]
  },
  {
   "cell_type": "code",
   "execution_count": 97,
   "id": "e607d6f0-6c9b-4144-9085-00f47324ed3c",
   "metadata": {},
   "outputs": [
    {
     "data": {
      "text/plain": [
       "(0.9921996879875195, 0.7745454545454545)"
      ]
     },
     "execution_count": 97,
     "metadata": {},
     "output_type": "execute_result"
    }
   ],
   "source": [
    "score_tr = modelV3.score(X_tr, y_tr)\n",
    "score_te = modelV3.score(X_te, y_te) \n",
    "\n",
    "score_tr, score_te  "
   ]
  },
  {
   "cell_type": "code",
   "execution_count": 98,
   "id": "19216142-cbb8-4de1-8070-79f2c7ce5087",
   "metadata": {},
   "outputs": [
    {
     "name": "stdout",
     "output_type": "stream",
     "text": [
      "model: 0.7508434547908232\n"
     ]
    }
   ],
   "source": [
    "from sklearn.metrics import roc_curve, auc \n",
    "\n",
    "y_pred = modelV3.predict_proba(X_te)[:,1]\n",
    "fpr, tpr, thresholds = roc_curve(y_te,y_pred)\n",
    "auc_te = auc(fpr, tpr)\n",
    "print(f'model: {auc_te}')"
   ]
  },
  {
   "cell_type": "code",
   "execution_count": 99,
   "id": "e5e16605-4021-4f0e-9049-2c8e46d8c99c",
   "metadata": {},
   "outputs": [
    {
     "data": {
      "text/plain": [
       "(393,)"
      ]
     },
     "execution_count": 99,
     "metadata": {},
     "output_type": "execute_result"
    }
   ],
   "source": [
    "ori_te_pred = modelV3.predict_proba(ori_te)[:,1]\n",
    "ori_te_pred.shape"
   ]
  },
  {
   "cell_type": "code",
   "execution_count": 100,
   "id": "3bdac8db-8d9f-40b9-a57c-db2374b7ad32",
   "metadata": {},
   "outputs": [
    {
     "name": "stdout",
     "output_type": "stream",
     "text": [
      "(19, 2)\n"
     ]
    },
    {
     "data": {
      "text/html": [
       "<div>\n",
       "<style scoped>\n",
       "    .dataframe tbody tr th:only-of-type {\n",
       "        vertical-align: middle;\n",
       "    }\n",
       "\n",
       "    .dataframe tbody tr th {\n",
       "        vertical-align: top;\n",
       "    }\n",
       "\n",
       "    .dataframe thead th {\n",
       "        text-align: right;\n",
       "    }\n",
       "</style>\n",
       "<table border=\"1\" class=\"dataframe\">\n",
       "  <thead>\n",
       "    <tr style=\"text-align: right;\">\n",
       "      <th></th>\n",
       "      <th>index</th>\n",
       "      <th>0</th>\n",
       "    </tr>\n",
       "  </thead>\n",
       "  <tbody>\n",
       "    <tr>\n",
       "      <th>0</th>\n",
       "      <td>gender_female</td>\n",
       "      <td>0.479347</td>\n",
       "    </tr>\n",
       "    <tr>\n",
       "      <th>1</th>\n",
       "      <td>age_cleaning</td>\n",
       "      <td>0.191861</td>\n",
       "    </tr>\n",
       "    <tr>\n",
       "      <th>2</th>\n",
       "      <td>fare_cleaning</td>\n",
       "      <td>0.175761</td>\n",
       "    </tr>\n",
       "    <tr>\n",
       "      <th>3</th>\n",
       "      <td>pclass_3</td>\n",
       "      <td>0.051021</td>\n",
       "    </tr>\n",
       "    <tr>\n",
       "      <th>4</th>\n",
       "      <td>sibsp</td>\n",
       "      <td>0.027052</td>\n",
       "    </tr>\n",
       "    <tr>\n",
       "      <th>5</th>\n",
       "      <td>pclass_1</td>\n",
       "      <td>0.017702</td>\n",
       "    </tr>\n",
       "    <tr>\n",
       "      <th>6</th>\n",
       "      <td>embarked_S</td>\n",
       "      <td>0.016208</td>\n",
       "    </tr>\n",
       "    <tr>\n",
       "      <th>7</th>\n",
       "      <td>len_ticket_1</td>\n",
       "      <td>0.012953</td>\n",
       "    </tr>\n",
       "    <tr>\n",
       "      <th>8</th>\n",
       "      <td>parch</td>\n",
       "      <td>0.008110</td>\n",
       "    </tr>\n",
       "    <tr>\n",
       "      <th>9</th>\n",
       "      <td>Initial_name_type_Others</td>\n",
       "      <td>0.005307</td>\n",
       "    </tr>\n",
       "    <tr>\n",
       "      <th>10</th>\n",
       "      <td>Initial_name_type_Royalty</td>\n",
       "      <td>0.005234</td>\n",
       "    </tr>\n",
       "    <tr>\n",
       "      <th>11</th>\n",
       "      <td>len_ticket_3</td>\n",
       "      <td>0.004091</td>\n",
       "    </tr>\n",
       "    <tr>\n",
       "      <th>12</th>\n",
       "      <td>Initial_name_type_Officer</td>\n",
       "      <td>0.003379</td>\n",
       "    </tr>\n",
       "    <tr>\n",
       "      <th>13</th>\n",
       "      <td>embarked_C</td>\n",
       "      <td>0.001250</td>\n",
       "    </tr>\n",
       "    <tr>\n",
       "      <th>14</th>\n",
       "      <td>len_ticket_2</td>\n",
       "      <td>0.000724</td>\n",
       "    </tr>\n",
       "    <tr>\n",
       "      <th>15</th>\n",
       "      <td>embarked_Q</td>\n",
       "      <td>0.000000</td>\n",
       "    </tr>\n",
       "    <tr>\n",
       "      <th>16</th>\n",
       "      <td>gender_male</td>\n",
       "      <td>0.000000</td>\n",
       "    </tr>\n",
       "    <tr>\n",
       "      <th>17</th>\n",
       "      <td>initial_cabin_unknown</td>\n",
       "      <td>0.000000</td>\n",
       "    </tr>\n",
       "    <tr>\n",
       "      <th>18</th>\n",
       "      <td>pclass_2</td>\n",
       "      <td>0.000000</td>\n",
       "    </tr>\n",
       "  </tbody>\n",
       "</table>\n",
       "</div>"
      ],
      "text/plain": [
       "                        index         0\n",
       "0               gender_female  0.479347\n",
       "1                age_cleaning  0.191861\n",
       "2               fare_cleaning  0.175761\n",
       "3                    pclass_3  0.051021\n",
       "4                       sibsp  0.027052\n",
       "5                    pclass_1  0.017702\n",
       "6                  embarked_S  0.016208\n",
       "7                len_ticket_1  0.012953\n",
       "8                       parch  0.008110\n",
       "9    Initial_name_type_Others  0.005307\n",
       "10  Initial_name_type_Royalty  0.005234\n",
       "11               len_ticket_3  0.004091\n",
       "12  Initial_name_type_Officer  0.003379\n",
       "13                 embarked_C  0.001250\n",
       "14               len_ticket_2  0.000724\n",
       "15                 embarked_Q  0.000000\n",
       "16                gender_male  0.000000\n",
       "17      initial_cabin_unknown  0.000000\n",
       "18                   pclass_2  0.000000"
      ]
     },
     "execution_count": 100,
     "metadata": {},
     "output_type": "execute_result"
    }
   ],
   "source": [
    "df_feature_importances = pd.DataFrame(modelV3.feature_importances_, X_tr.columns).sort_values(by=[0], ascending=False).reset_index()\n",
    "\n",
    "print(f'{df_feature_importances.shape}')\n",
    "df_feature_importances"
   ]
  },
  {
   "cell_type": "code",
   "execution_count": 101,
   "id": "52ff65b4-a094-41b1-888c-db55b7f36caf",
   "metadata": {},
   "outputs": [],
   "source": [
    "args.results.append(\n",
    "    {\n",
    "        'model': 'modelV3',\n",
    "        'score_tr': score_tr,\n",
    "        'score_te': score_te,\n",
    "        'auc_te': auc_te,\n",
    "        'ori_te_pred': ori_te_pred,\n",
    "        'len_features': X_tr.shape[1],\n",
    "        'feaute_importances': list(df_feature_importances['index'].values[:X_tr.shape[1]]),\n",
    "        'create_dt': '0220'\n",
    "    }\n",
    ")"
   ]
  },
  {
   "cell_type": "code",
   "execution_count": 102,
   "id": "f879e1ca-beab-493d-bb5f-87b6c08c3470",
   "metadata": {},
   "outputs": [
    {
     "data": {
      "text/html": [
       "<div>\n",
       "<style scoped>\n",
       "    .dataframe tbody tr th:only-of-type {\n",
       "        vertical-align: middle;\n",
       "    }\n",
       "\n",
       "    .dataframe tbody tr th {\n",
       "        vertical-align: top;\n",
       "    }\n",
       "\n",
       "    .dataframe thead th {\n",
       "        text-align: right;\n",
       "    }\n",
       "</style>\n",
       "<table border=\"1\" class=\"dataframe\">\n",
       "  <thead>\n",
       "    <tr style=\"text-align: right;\">\n",
       "      <th></th>\n",
       "      <th>model</th>\n",
       "      <th>score_tr</th>\n",
       "      <th>score_te</th>\n",
       "      <th>auc_te</th>\n",
       "      <th>ori_te_pred</th>\n",
       "      <th>len_features</th>\n",
       "      <th>feaute_importances</th>\n",
       "      <th>create_dt</th>\n",
       "    </tr>\n",
       "  </thead>\n",
       "  <tbody>\n",
       "    <tr>\n",
       "      <th>0</th>\n",
       "      <td>modelV0</td>\n",
       "      <td>0.982839</td>\n",
       "      <td>0.774545</td>\n",
       "      <td>0.763580</td>\n",
       "      <td>[1.0, 1.0, 1.0, 0.0, 1.0, 1.0, 0.0, 0.125, 1.0...</td>\n",
       "      <td>10</td>\n",
       "      <td>[gender_female, fare, age, pclass, sibsp, emba...</td>\n",
       "      <td>0217</td>\n",
       "    </tr>\n",
       "    <tr>\n",
       "      <th>2</th>\n",
       "      <td>modelV2</td>\n",
       "      <td>0.982839</td>\n",
       "      <td>0.778182</td>\n",
       "      <td>0.762427</td>\n",
       "      <td>[1.0, 1.0, 1.0, 0.0, 1.0, 1.0, 0.0, 0.125, 1.0...</td>\n",
       "      <td>10</td>\n",
       "      <td>[gender_male, fare, age, pclass, sibsp, embark...</td>\n",
       "      <td>0217</td>\n",
       "    </tr>\n",
       "    <tr>\n",
       "      <th>3</th>\n",
       "      <td>modelV3</td>\n",
       "      <td>0.992200</td>\n",
       "      <td>0.774545</td>\n",
       "      <td>0.750843</td>\n",
       "      <td>[0.0, 1.0, 1.0, 1.0, 1.0, 1.0, 0.0, 1.0, 0.0, ...</td>\n",
       "      <td>19</td>\n",
       "      <td>[gender_female, age_cleaning, fare_cleaning, p...</td>\n",
       "      <td>0220</td>\n",
       "    </tr>\n",
       "    <tr>\n",
       "      <th>1</th>\n",
       "      <td>modelV1</td>\n",
       "      <td>0.982839</td>\n",
       "      <td>0.785455</td>\n",
       "      <td>0.495192</td>\n",
       "      <td>[1.0, 1.0, 1.0, 1.0, 1.0, 1.0, 1.0, 1.0, 1.0, ...</td>\n",
       "      <td>10</td>\n",
       "      <td>[gender_male, fare, age, pclass, sibsp, embark...</td>\n",
       "      <td>0217</td>\n",
       "    </tr>\n",
       "  </tbody>\n",
       "</table>\n",
       "</div>"
      ],
      "text/plain": [
       "     model  score_tr  score_te    auc_te  \\\n",
       "0  modelV0  0.982839  0.774545  0.763580   \n",
       "2  modelV2  0.982839  0.778182  0.762427   \n",
       "3  modelV3  0.992200  0.774545  0.750843   \n",
       "1  modelV1  0.982839  0.785455  0.495192   \n",
       "\n",
       "                                         ori_te_pred  len_features  \\\n",
       "0  [1.0, 1.0, 1.0, 0.0, 1.0, 1.0, 0.0, 0.125, 1.0...            10   \n",
       "2  [1.0, 1.0, 1.0, 0.0, 1.0, 1.0, 0.0, 0.125, 1.0...            10   \n",
       "3  [0.0, 1.0, 1.0, 1.0, 1.0, 1.0, 0.0, 1.0, 0.0, ...            19   \n",
       "1  [1.0, 1.0, 1.0, 1.0, 1.0, 1.0, 1.0, 1.0, 1.0, ...            10   \n",
       "\n",
       "                                  feaute_importances create_dt  \n",
       "0  [gender_female, fare, age, pclass, sibsp, emba...      0217  \n",
       "2  [gender_male, fare, age, pclass, sibsp, embark...      0217  \n",
       "3  [gender_female, age_cleaning, fare_cleaning, p...      0220  \n",
       "1  [gender_male, fare, age, pclass, sibsp, embark...      0217  "
      ]
     },
     "execution_count": 102,
     "metadata": {},
     "output_type": "execute_result"
    }
   ],
   "source": [
    "pd.DataFrame(args.results).sort_values(by=['auc_te'], ascending=False)"
   ]
  },
  {
   "cell_type": "markdown",
   "id": "9bd9af71-1cd5-4c90-a9fa-9d6a6964c7c7",
   "metadata": {},
   "source": [
    "# ModelV4"
   ]
  },
  {
   "cell_type": "code",
   "execution_count": 103,
   "id": "a30ac965-0c6c-4e60-97c5-e25a7d199a73",
   "metadata": {},
   "outputs": [
    {
     "data": {
      "text/plain": [
       "((916, 11), (393, 10))"
      ]
     },
     "execution_count": 103,
     "metadata": {},
     "output_type": "execute_result"
    }
   ],
   "source": [
    "ori_tr = ori_train.copy()\n",
    "ori_te = ori_test.copy()\n",
    "\n",
    "ori_tr.shape, ori_te.shape"
   ]
  },
  {
   "cell_type": "code",
   "execution_count": 104,
   "id": "89b80fee-19b8-43ff-a484-55e9ed89c295",
   "metadata": {},
   "outputs": [],
   "source": [
    "from sklearn.model_selection import train_test_split"
   ]
  },
  {
   "cell_type": "code",
   "execution_count": 105,
   "id": "225e2a64-fc5c-4489-9376-da8abe3b3bf3",
   "metadata": {},
   "outputs": [
    {
     "data": {
      "text/plain": [
       "((641, 11), (275, 11))"
      ]
     },
     "execution_count": 105,
     "metadata": {},
     "output_type": "execute_result"
    }
   ],
   "source": [
    "train, test = train_test_split(ori_tr, test_size=0.3, stratify=ori_tr['survived'], random_state=args.random_state)\n",
    "\n",
    "train.shape, test.shape"
   ]
  },
  {
   "cell_type": "markdown",
   "id": "8dbd8299-08d6-4f7d-9bf1-92eb11d2927b",
   "metadata": {},
   "source": [
    "- cabin: 학습에 도움이 안됨!!, 삭제 필요!!"
   ]
  },
  {
   "cell_type": "code",
   "execution_count": 106,
   "id": "9afece2d-41bb-40a1-bbb5-48134155213a",
   "metadata": {},
   "outputs": [
    {
     "data": {
      "text/plain": [
       "((641, 10), (275, 10), (393, 9))"
      ]
     },
     "execution_count": 106,
     "metadata": {},
     "output_type": "execute_result"
    }
   ],
   "source": [
    "train.drop('cabin', axis=1, inplace=True)\n",
    "test.drop('cabin', axis=1, inplace=True)\n",
    "ori_te.drop('cabin', axis=1, inplace=True)\n",
    "\n",
    "train.shape, test.shape, ori_te.shape"
   ]
  },
  {
   "cell_type": "markdown",
   "id": "bafed1cb-69cf-45e3-a0e8-ab61fb36d9ca",
   "metadata": {},
   "source": [
    "## Feature Extraction with EDA"
   ]
  },
  {
   "cell_type": "code",
   "execution_count": 107,
   "id": "8bb99ef6-951e-494d-97cd-cc83ea636a4b",
   "metadata": {},
   "outputs": [
    {
     "name": "stdout",
     "output_type": "stream",
     "text": [
      "<class 'pandas.core.frame.DataFrame'>\n",
      "Int64Index: 641 entries, 812 to 277\n",
      "Data columns (total 10 columns):\n",
      " #   Column    Non-Null Count  Dtype  \n",
      "---  ------    --------------  -----  \n",
      " 0   survived  641 non-null    int64  \n",
      " 1   pclass    641 non-null    int64  \n",
      " 2   name      641 non-null    object \n",
      " 3   gender    641 non-null    object \n",
      " 4   age       512 non-null    float64\n",
      " 5   sibsp     641 non-null    int64  \n",
      " 6   parch     641 non-null    int64  \n",
      " 7   ticket    641 non-null    object \n",
      " 8   fare      641 non-null    float64\n",
      " 9   embarked  641 non-null    object \n",
      "dtypes: float64(2), int64(4), object(4)\n",
      "memory usage: 55.1+ KB\n"
     ]
    }
   ],
   "source": [
    "train.info()"
   ]
  },
  {
   "cell_type": "markdown",
   "id": "01a987b7-b622-4f07-9a30-ea588cc05946",
   "metadata": {},
   "source": [
    "### continous features"
   ]
  },
  {
   "cell_type": "code",
   "execution_count": 108,
   "id": "9c690f38-7712-40ab-a297-c184c084a6b1",
   "metadata": {},
   "outputs": [
    {
     "data": {
      "text/html": [
       "<div>\n",
       "<style scoped>\n",
       "    .dataframe tbody tr th:only-of-type {\n",
       "        vertical-align: middle;\n",
       "    }\n",
       "\n",
       "    .dataframe tbody tr th {\n",
       "        vertical-align: top;\n",
       "    }\n",
       "\n",
       "    .dataframe thead th {\n",
       "        text-align: right;\n",
       "    }\n",
       "</style>\n",
       "<table border=\"1\" class=\"dataframe\">\n",
       "  <thead>\n",
       "    <tr style=\"text-align: right;\">\n",
       "      <th></th>\n",
       "      <th>age</th>\n",
       "      <th>fare</th>\n",
       "      <th>survived</th>\n",
       "    </tr>\n",
       "  </thead>\n",
       "  <tbody>\n",
       "    <tr>\n",
       "      <th>count</th>\n",
       "      <td>512.000000</td>\n",
       "      <td>641.000000</td>\n",
       "      <td>641.000000</td>\n",
       "    </tr>\n",
       "    <tr>\n",
       "      <th>mean</th>\n",
       "      <td>30.344082</td>\n",
       "      <td>31.654446</td>\n",
       "      <td>0.377535</td>\n",
       "    </tr>\n",
       "    <tr>\n",
       "      <th>std</th>\n",
       "      <td>14.492658</td>\n",
       "      <td>49.827609</td>\n",
       "      <td>0.485149</td>\n",
       "    </tr>\n",
       "    <tr>\n",
       "      <th>min</th>\n",
       "      <td>0.170000</td>\n",
       "      <td>0.000000</td>\n",
       "      <td>0.000000</td>\n",
       "    </tr>\n",
       "    <tr>\n",
       "      <th>25%</th>\n",
       "      <td>21.000000</td>\n",
       "      <td>7.895800</td>\n",
       "      <td>0.000000</td>\n",
       "    </tr>\n",
       "    <tr>\n",
       "      <th>50%</th>\n",
       "      <td>28.000000</td>\n",
       "      <td>14.400000</td>\n",
       "      <td>0.000000</td>\n",
       "    </tr>\n",
       "    <tr>\n",
       "      <th>75%</th>\n",
       "      <td>38.000000</td>\n",
       "      <td>30.000000</td>\n",
       "      <td>1.000000</td>\n",
       "    </tr>\n",
       "    <tr>\n",
       "      <th>max</th>\n",
       "      <td>80.000000</td>\n",
       "      <td>512.329200</td>\n",
       "      <td>1.000000</td>\n",
       "    </tr>\n",
       "  </tbody>\n",
       "</table>\n",
       "</div>"
      ],
      "text/plain": [
       "              age        fare    survived\n",
       "count  512.000000  641.000000  641.000000\n",
       "mean    30.344082   31.654446    0.377535\n",
       "std     14.492658   49.827609    0.485149\n",
       "min      0.170000    0.000000    0.000000\n",
       "25%     21.000000    7.895800    0.000000\n",
       "50%     28.000000   14.400000    0.000000\n",
       "75%     38.000000   30.000000    1.000000\n",
       "max     80.000000  512.329200    1.000000"
      ]
     },
     "execution_count": 108,
     "metadata": {},
     "output_type": "execute_result"
    }
   ],
   "source": [
    "continous_cols = ['age', 'fare'] + ['survived']\n",
    "\n",
    "train[continous_cols].describe()"
   ]
  },
  {
   "cell_type": "code",
   "execution_count": 109,
   "id": "38f67a7b-f306-403a-b814-c74b0b5a4a6f",
   "metadata": {},
   "outputs": [
    {
     "data": {
      "text/html": [
       "<div>\n",
       "<style scoped>\n",
       "    .dataframe tbody tr th:only-of-type {\n",
       "        vertical-align: middle;\n",
       "    }\n",
       "\n",
       "    .dataframe tbody tr th {\n",
       "        vertical-align: top;\n",
       "    }\n",
       "\n",
       "    .dataframe thead th {\n",
       "        text-align: right;\n",
       "    }\n",
       "</style>\n",
       "<table border=\"1\" class=\"dataframe\">\n",
       "  <thead>\n",
       "    <tr style=\"text-align: right;\">\n",
       "      <th></th>\n",
       "      <th>age</th>\n",
       "      <th>fare</th>\n",
       "      <th>survived</th>\n",
       "    </tr>\n",
       "  </thead>\n",
       "  <tbody>\n",
       "    <tr>\n",
       "      <th>age</th>\n",
       "      <td>1.000000</td>\n",
       "      <td>0.125341</td>\n",
       "      <td>-0.025265</td>\n",
       "    </tr>\n",
       "    <tr>\n",
       "      <th>fare</th>\n",
       "      <td>0.125341</td>\n",
       "      <td>1.000000</td>\n",
       "      <td>0.232942</td>\n",
       "    </tr>\n",
       "    <tr>\n",
       "      <th>survived</th>\n",
       "      <td>-0.025265</td>\n",
       "      <td>0.232942</td>\n",
       "      <td>1.000000</td>\n",
       "    </tr>\n",
       "  </tbody>\n",
       "</table>\n",
       "</div>"
      ],
      "text/plain": [
       "               age      fare  survived\n",
       "age       1.000000  0.125341 -0.025265\n",
       "fare      0.125341  1.000000  0.232942\n",
       "survived -0.025265  0.232942  1.000000"
      ]
     },
     "execution_count": 109,
     "metadata": {},
     "output_type": "execute_result"
    }
   ],
   "source": [
    "train[continous_cols].corr()"
   ]
  },
  {
   "cell_type": "markdown",
   "id": "a11351b4-9a99-4b45-b9c2-76742510fddd",
   "metadata": {},
   "source": [
    "age"
   ]
  },
  {
   "cell_type": "code",
   "execution_count": 110,
   "id": "636d159b-3cba-436f-a5f0-f0eacb041e64",
   "metadata": {},
   "outputs": [
    {
     "data": {
      "image/png": "[encoded data removed]",
      "text/plain": [
       "<Figure size 570.486x500 with 1 Axes>"
      ]
     },
     "metadata": {},
     "output_type": "display_data"
    }
   ],
   "source": [
    "sns.displot(train, x='age', hue=\"survived\", multiple=\"dodge\", bins=20)\n",
    "plt.show()"
   ]
  },
  {
   "cell_type": "code",
   "execution_count": 111,
   "id": "0433bb92-4747-4727-a94f-6717884d4e64",
   "metadata": {},
   "outputs": [
    {
     "data": {
      "text/plain": [
       "0.5652173913043478"
      ]
     },
     "execution_count": 111,
     "metadata": {},
     "output_type": "execute_result"
    }
   ],
   "source": [
    "c1 = train['age'] <= 5\n",
    "train.loc[c1]['survived'].mean()"
   ]
  },
  {
   "cell_type": "code",
   "execution_count": 112,
   "id": "0e99bbfb-f9a4-4f87-af16-dfab40229831",
   "metadata": {},
   "outputs": [
    {
     "data": {
      "text/plain": [
       "0.16666666666666666"
      ]
     },
     "execution_count": 112,
     "metadata": {},
     "output_type": "execute_result"
    }
   ],
   "source": [
    "c1 = train['age'] <= 10\n",
    "c2 = train['age'] > 5\n",
    "c = c1 & c2\n",
    "train.loc[c]['survived'].mean()"
   ]
  },
  {
   "cell_type": "code",
   "execution_count": 113,
   "id": "64f60c33-9bd9-430e-a108-739288f63517",
   "metadata": {},
   "outputs": [
    {
     "data": {
      "text/plain": [
       "0.3783231083844581"
      ]
     },
     "execution_count": 113,
     "metadata": {},
     "output_type": "execute_result"
    }
   ],
   "source": [
    "c1 = train['age'] > 5\n",
    "train.loc[c1]['survived'].mean()"
   ]
  },
  {
   "cell_type": "markdown",
   "id": "6473d0b7-e550-4352-a6ce-c341a4d67735",
   "metadata": {},
   "source": [
    "add infant"
   ]
  },
  {
   "cell_type": "code",
   "execution_count": 114,
   "id": "3ad7cd11-711a-4030-89da-6dcdc4fc6c75",
   "metadata": {},
   "outputs": [
    {
     "name": "stdout",
     "output_type": "stream",
     "text": [
      "2 / \n",
      " [0 1] \n",
      "\n"
     ]
    },
    {
     "data": {
      "text/plain": [
       "((641, 11), (275, 11), (393, 10))"
      ]
     },
     "execution_count": 114,
     "metadata": {},
     "output_type": "execute_result"
    }
   ],
   "source": [
    "def add_infant(age):\n",
    "  result = 0\n",
    "  try:\n",
    "    if age <= 5:\n",
    "      result = 1\n",
    "  except:\n",
    "    pass\n",
    "  return result\n",
    "\n",
    "train['infant'] = train['age'].map(lambda x: add_infant(x))\n",
    "test['infant'] = test['age'].map(lambda x: add_infant(x))\n",
    "ori_te['infant'] = ori_te['age'].map(lambda x: add_infant(x))\n",
    "\n",
    "print(f\"{train['infant'].nunique()} / \\n {train['infant'].unique()} \\n\")\n",
    "train.shape, test.shape, ori_te.shape"
   ]
  },
  {
   "cell_type": "code",
   "execution_count": 115,
   "id": "977288d4-ecaf-453d-af7c-8ce71f77ae13",
   "metadata": {},
   "outputs": [
    {
     "data": {
      "image/png": "[encoded data removed]",
      "text/plain": [
       "<Figure size 1070.49x500 with 2 Axes>"
      ]
     },
     "metadata": {},
     "output_type": "display_data"
    }
   ],
   "source": [
    "sns.displot(train, x=\"age\", hue=\"survived\", multiple=\"dodge\", bins=20, col=\"gender\")\n",
    "plt.show()"
   ]
  },
  {
   "cell_type": "code",
   "execution_count": 116,
   "id": "b454e58c-5776-405a-9338-411f855acc13",
   "metadata": {},
   "outputs": [
    {
     "data": {
      "image/png": "[encoded data removed]",
      "text/plain": [
       "<Figure size 1070.49x500 with 2 Axes>"
      ]
     },
     "metadata": {},
     "output_type": "display_data"
    }
   ],
   "source": [
    "sns.displot(train, x=\"infant\", hue=\"survived\", multiple=\"dodge\", bins=20, col=\"gender\")\n",
    "plt.show()"
   ]
  },
  {
   "cell_type": "code",
   "execution_count": 117,
   "id": "0b80beb9-6a78-42f4-93eb-3ff57e60596c",
   "metadata": {},
   "outputs": [
    {
     "name": "stdout",
     "output_type": "stream",
     "text": [
      "4 / \n",
      " ['female_0' 'male_0' 'female_1' 'male_1'] \n",
      "\n"
     ]
    },
    {
     "data": {
      "text/plain": [
       "((641, 12), (275, 12), (393, 11))"
      ]
     },
     "execution_count": 117,
     "metadata": {},
     "output_type": "execute_result"
    }
   ],
   "source": [
    "train['gender_infant'] = train.apply(lambda row: row['gender']+'_'+str(row['infant']), axis=1)\n",
    "test['gender_infant'] = test.apply(lambda row: row['gender']+'_'+str(row['infant']), axis=1)\n",
    "ori_te['gender_infant'] = ori_te.apply(lambda row: row['gender']+'_'+str(row['infant']), axis=1)\n",
    "\n",
    "print(f\"{train['gender_infant'].nunique()} / \\n {train['gender_infant'].unique()} \\n\")\n",
    "train.shape, test.shape, ori_te.shape"
   ]
  },
  {
   "cell_type": "code",
   "execution_count": 118,
   "id": "2ced29c3-672e-4b3c-b2dd-31ac8ff200b5",
   "metadata": {},
   "outputs": [
    {
     "data": {
      "image/png": "[encoded data removed]",
      "text/plain": [
       "<Figure size 1570.49x500 with 3 Axes>"
      ]
     },
     "metadata": {},
     "output_type": "display_data"
    }
   ],
   "source": [
    "sns.displot(train, x=\"age\", hue=\"survived\", multiple=\"dodge\", bins=20, col=\"pclass\")\n",
    "plt.show()"
   ]
  },
  {
   "cell_type": "code",
   "execution_count": 119,
   "id": "9a998413-926d-479f-8212-f287e05850db",
   "metadata": {},
   "outputs": [
    {
     "data": {
      "image/png": "[encoded data removed]",
      "text/plain": [
       "<Figure size 1570.49x1000 with 6 Axes>"
      ]
     },
     "metadata": {},
     "output_type": "display_data"
    }
   ],
   "source": [
    "sns.displot(train, x=\"age\", hue=\"survived\", multiple=\"dodge\", bins=20, col=\"pclass\", row='gender')\n",
    "plt.show()"
   ]
  },
  {
   "cell_type": "code",
   "execution_count": 120,
   "id": "ea4f5a8c-6ffe-4b47-9528-977ed8d92ee6",
   "metadata": {},
   "outputs": [
    {
     "name": "stdout",
     "output_type": "stream",
     "text": [
      "6 / \n",
      " ['female_3' 'male_3' 'female_2' 'male_1' 'female_1' 'male_2'] \n",
      "\n"
     ]
    },
    {
     "data": {
      "text/plain": [
       "((641, 13), (275, 13), (393, 12))"
      ]
     },
     "execution_count": 120,
     "metadata": {},
     "output_type": "execute_result"
    }
   ],
   "source": [
    "train['gender_pclass'] = train.apply(lambda row: row['gender']+'_'+str(row['pclass']), axis=1)\n",
    "test['gender_pclass'] = test.apply(lambda row: row['gender']+'_'+str(row['pclass']), axis=1)\n",
    "ori_te['gender_pclass'] = ori_te.apply(lambda row: row['gender']+'_'+str(row['pclass']), axis=1)\n",
    "\n",
    "print(f\"{train['gender_pclass'].nunique()} / \\n {train['gender_pclass'].unique()} \\n\")\n",
    "train.shape, test.shape, ori_te.shape"
   ]
  },
  {
   "cell_type": "code",
   "execution_count": 121,
   "id": "8df37479-6f22-4a4c-ac9e-7be0a5f2023e",
   "metadata": {},
   "outputs": [
    {
     "data": {
      "image/png": "[encoded data removed]",
      "text/plain": [
       "<Figure size 3570.49x1000 with 14 Axes>"
      ]
     },
     "metadata": {},
     "output_type": "display_data"
    }
   ],
   "source": [
    "sns.displot(train, x=\"age\", hue=\"survived\", multiple=\"dodge\", bins=20, col=\"sibsp\", row='gender')\n",
    "plt.show()"
   ]
  },
  {
   "cell_type": "markdown",
   "id": "9d0f9fee-a3f8-44d1-a8a5-f30c4d555565",
   "metadata": {},
   "source": [
    "add gender_sibsp"
   ]
  },
  {
   "cell_type": "code",
   "execution_count": 122,
   "id": "8fd543bf-ed44-4c1f-8d31-61d0c9e7ccff",
   "metadata": {},
   "outputs": [
    {
     "name": "stdout",
     "output_type": "stream",
     "text": [
      "6 / \n",
      " ['female_0' 'male_0' 'female_2' 'male_1' 'female_1' 'male_2'] \n",
      "\n"
     ]
    },
    {
     "data": {
      "text/plain": [
       "((641, 14), (275, 14), (393, 13))"
      ]
     },
     "execution_count": 122,
     "metadata": {},
     "output_type": "execute_result"
    }
   ],
   "source": [
    "def add_gender_sibsp(gender, sibsp):\n",
    "  result = None\n",
    "  try:\n",
    "    if sibsp < 2:\n",
    "      result = gender+'_'+str(sibsp)\n",
    "    else:\n",
    "      result = gender+'_2'\n",
    "  except:\n",
    "    pass \n",
    "  return result \n",
    "\n",
    "train['gender_sibsp'] = train.apply(lambda row: add_gender_sibsp(row['gender'], row['sibsp']), axis=1)\n",
    "test['gender_sibsp'] = test.apply(lambda row: add_gender_sibsp(row['gender'], row['sibsp']), axis=1)\n",
    "ori_te['gender_sibsp'] = ori_te.apply(lambda row: add_gender_sibsp(row['gender'], row['sibsp']), axis=1)\n",
    "\n",
    "print(f\"{train['gender_sibsp'].nunique()} / \\n {train['gender_sibsp'].unique()} \\n\")\n",
    "train.shape, test.shape, ori_te.shape"
   ]
  },
  {
   "cell_type": "code",
   "execution_count": 123,
   "id": "fdc9eeab-1df2-4345-8d11-c002212fc5b0",
   "metadata": {},
   "outputs": [
    {
     "data": {
      "image/png": "[encoded data removed]",
      "text/plain": [
       "<Figure size 4070.49x1000 with 16 Axes>"
      ]
     },
     "metadata": {},
     "output_type": "display_data"
    }
   ],
   "source": [
    "sns.displot(train, x=\"age\", hue=\"survived\", multiple=\"dodge\", bins=20, col=\"parch\", row='gender')\n",
    "plt.show()"
   ]
  },
  {
   "cell_type": "markdown",
   "id": "29791fc5-d666-435e-acc3-28b4832f3c51",
   "metadata": {},
   "source": [
    "add gender_parch"
   ]
  },
  {
   "cell_type": "code",
   "execution_count": 124,
   "id": "05b26614-8fc6-4dc8-952f-036fc70bf412",
   "metadata": {},
   "outputs": [
    {
     "data": {
      "text/plain": [
       "array([0, 3, 2, 1, 5, 9, 4, 6], dtype=int64)"
      ]
     },
     "execution_count": 124,
     "metadata": {},
     "output_type": "execute_result"
    }
   ],
   "source": [
    "train['parch'].unique()"
   ]
  },
  {
   "cell_type": "code",
   "execution_count": 125,
   "id": "a25614c5-5041-462a-9a60-1b308d3f0bcd",
   "metadata": {},
   "outputs": [
    {
     "name": "stdout",
     "output_type": "stream",
     "text": [
      "4 / \n",
      " ['female_0' 'male_0' 'female_1' 'male_1'] \n",
      "\n"
     ]
    },
    {
     "data": {
      "text/plain": [
       "((641, 15), (275, 15), (393, 14))"
      ]
     },
     "execution_count": 125,
     "metadata": {},
     "output_type": "execute_result"
    }
   ],
   "source": [
    "train['gender_parch'] = train.apply(lambda row: row['gender']+'_0' if int(row['parch']) == 0 else row['gender']+'_1', axis=1)\n",
    "test['gender_parch'] = test.apply(lambda row: row['gender']+'_0' if int(row['parch']) == 0 else row['gender']+'_1', axis=1)\n",
    "ori_te['gender_parch'] = ori_te.apply(lambda row: row['gender']+'_0' if int(row['parch']) == 0 else row['gender']+'_1', axis=1)\n",
    "\n",
    "print(f\"{train['gender_parch'].nunique()} / \\n {train['gender_parch'].unique()} \\n\")\n",
    "train.shape, test.shape, ori_te.shape"
   ]
  },
  {
   "cell_type": "markdown",
   "id": "b8744948-f825-42d5-82fd-0fd7d57e76e8",
   "metadata": {},
   "source": [
    "fare"
   ]
  },
  {
   "cell_type": "code",
   "execution_count": 126,
   "id": "cb9490d7-cafd-4797-ac41-40f3068d2c53",
   "metadata": {},
   "outputs": [
    {
     "data": {
      "image/png": "[encoded data removed]",
      "text/plain": [
       "<Figure size 570.486x500 with 1 Axes>"
      ]
     },
     "metadata": {},
     "output_type": "display_data"
    }
   ],
   "source": [
    "sns.displot(train, x='fare', hue=\"survived\", multiple=\"dodge\", bins=20)\n",
    "plt.show()"
   ]
  },
  {
   "cell_type": "code",
   "execution_count": 127,
   "id": "2282bee2-0f43-4b03-8cab-a379c927c1d7",
   "metadata": {},
   "outputs": [
    {
     "data": {
      "image/png": "[encoded data removed]",
      "text/plain": [
       "<Figure size 1070.49x500 with 2 Axes>"
      ]
     },
     "metadata": {},
     "output_type": "display_data"
    }
   ],
   "source": [
    "sns.displot(train, x=\"fare\", hue=\"survived\", multiple=\"dodge\", bins=20, col=\"gender\")\n",
    "plt.show()"
   ]
  },
  {
   "cell_type": "code",
   "execution_count": 128,
   "id": "d62694e1-82be-4261-b3f5-dcfb721f934d",
   "metadata": {},
   "outputs": [
    {
     "data": {
      "image/png": "[encoded data removed]",
      "text/plain": [
       "<Figure size 1570.49x500 with 3 Axes>"
      ]
     },
     "metadata": {},
     "output_type": "display_data"
    }
   ],
   "source": [
    "sns.displot(train, x=\"fare\", hue=\"survived\", multiple=\"dodge\", bins=20, col=\"pclass\")\n",
    "plt.show()"
   ]
  },
  {
   "cell_type": "code",
   "execution_count": 129,
   "id": "4188faa5-3825-4695-b6db-a35ff40c3a33",
   "metadata": {},
   "outputs": [
    {
     "data": {
      "image/png": "[encoded data removed]",
      "text/plain": [
       "<Figure size 1570.49x1000 with 6 Axes>"
      ]
     },
     "metadata": {},
     "output_type": "display_data"
    }
   ],
   "source": [
    "sns.displot(train, x=\"fare\", hue=\"survived\", multiple=\"dodge\", bins=20, col=\"pclass\", row='gender')\n",
    "plt.show()"
   ]
  },
  {
   "cell_type": "code",
   "execution_count": 130,
   "id": "e7da5017-2050-4b7b-bc44-934aa6763982",
   "metadata": {},
   "outputs": [
    {
     "data": {
      "text/plain": [
       "Index(['survived', 'pclass', 'name', 'gender', 'age', 'sibsp', 'parch',\n",
       "       'ticket', 'fare', 'embarked', 'infant', 'gender_infant',\n",
       "       'gender_pclass', 'gender_sibsp', 'gender_parch'],\n",
       "      dtype='object')"
      ]
     },
     "execution_count": 130,
     "metadata": {},
     "output_type": "execute_result"
    }
   ],
   "source": [
    "train.columns"
   ]
  },
  {
   "cell_type": "code",
   "execution_count": 131,
   "id": "217b1017-33f5-4c90-866b-b2b4027c69ae",
   "metadata": {},
   "outputs": [
    {
     "data": {
      "image/png": "[encoded data removed]",
      "text/plain": [
       "<Figure size 3570.49x1000 with 14 Axes>"
      ]
     },
     "metadata": {},
     "output_type": "display_data"
    }
   ],
   "source": [
    "sns.displot(train, x=\"fare\", hue=\"survived\", multiple=\"dodge\", bins=20, col=\"sibsp\", row='gender')\n",
    "plt.show()"
   ]
  },
  {
   "cell_type": "code",
   "execution_count": 132,
   "id": "55f306bc-7e30-497e-b11e-ec1de531eb50",
   "metadata": {},
   "outputs": [
    {
     "data": {
      "image/png": "[encoded data removed]",
      "text/plain": [
       "<Figure size 4070.49x1000 with 16 Axes>"
      ]
     },
     "metadata": {},
     "output_type": "display_data"
    }
   ],
   "source": [
    "sns.displot(train, x=\"fare\", hue=\"survived\", multiple=\"dodge\", bins=20, col=\"parch\", row='gender')\n",
    "plt.show()"
   ]
  },
  {
   "cell_type": "markdown",
   "id": "63364ac3-eac2-4371-bd17-a0da941391d3",
   "metadata": {},
   "source": [
    "### ordinal features"
   ]
  },
  {
   "cell_type": "code",
   "execution_count": 133,
   "id": "72b20abb-4431-4d3a-9733-b2b74861d1d3",
   "metadata": {},
   "outputs": [
    {
     "data": {
      "text/html": [
       "<div>\n",
       "<style scoped>\n",
       "    .dataframe tbody tr th:only-of-type {\n",
       "        vertical-align: middle;\n",
       "    }\n",
       "\n",
       "    .dataframe tbody tr th {\n",
       "        vertical-align: top;\n",
       "    }\n",
       "\n",
       "    .dataframe thead th {\n",
       "        text-align: right;\n",
       "    }\n",
       "</style>\n",
       "<table border=\"1\" class=\"dataframe\">\n",
       "  <thead>\n",
       "    <tr style=\"text-align: right;\">\n",
       "      <th></th>\n",
       "      <th>pclass</th>\n",
       "      <th>sibsp</th>\n",
       "      <th>parch</th>\n",
       "      <th>survived</th>\n",
       "    </tr>\n",
       "  </thead>\n",
       "  <tbody>\n",
       "    <tr>\n",
       "      <th>count</th>\n",
       "      <td>641.000000</td>\n",
       "      <td>641.000000</td>\n",
       "      <td>641.000000</td>\n",
       "      <td>641.000000</td>\n",
       "    </tr>\n",
       "    <tr>\n",
       "      <th>mean</th>\n",
       "      <td>2.305772</td>\n",
       "      <td>0.466459</td>\n",
       "      <td>0.368175</td>\n",
       "      <td>0.377535</td>\n",
       "    </tr>\n",
       "    <tr>\n",
       "      <th>std</th>\n",
       "      <td>0.829221</td>\n",
       "      <td>0.961386</td>\n",
       "      <td>0.897140</td>\n",
       "      <td>0.485149</td>\n",
       "    </tr>\n",
       "    <tr>\n",
       "      <th>min</th>\n",
       "      <td>1.000000</td>\n",
       "      <td>0.000000</td>\n",
       "      <td>0.000000</td>\n",
       "      <td>0.000000</td>\n",
       "    </tr>\n",
       "    <tr>\n",
       "      <th>25%</th>\n",
       "      <td>2.000000</td>\n",
       "      <td>0.000000</td>\n",
       "      <td>0.000000</td>\n",
       "      <td>0.000000</td>\n",
       "    </tr>\n",
       "    <tr>\n",
       "      <th>50%</th>\n",
       "      <td>3.000000</td>\n",
       "      <td>0.000000</td>\n",
       "      <td>0.000000</td>\n",
       "      <td>0.000000</td>\n",
       "    </tr>\n",
       "    <tr>\n",
       "      <th>75%</th>\n",
       "      <td>3.000000</td>\n",
       "      <td>1.000000</td>\n",
       "      <td>0.000000</td>\n",
       "      <td>1.000000</td>\n",
       "    </tr>\n",
       "    <tr>\n",
       "      <th>max</th>\n",
       "      <td>3.000000</td>\n",
       "      <td>8.000000</td>\n",
       "      <td>9.000000</td>\n",
       "      <td>1.000000</td>\n",
       "    </tr>\n",
       "  </tbody>\n",
       "</table>\n",
       "</div>"
      ],
      "text/plain": [
       "           pclass       sibsp       parch    survived\n",
       "count  641.000000  641.000000  641.000000  641.000000\n",
       "mean     2.305772    0.466459    0.368175    0.377535\n",
       "std      0.829221    0.961386    0.897140    0.485149\n",
       "min      1.000000    0.000000    0.000000    0.000000\n",
       "25%      2.000000    0.000000    0.000000    0.000000\n",
       "50%      3.000000    0.000000    0.000000    0.000000\n",
       "75%      3.000000    1.000000    0.000000    1.000000\n",
       "max      3.000000    8.000000    9.000000    1.000000"
      ]
     },
     "execution_count": 133,
     "metadata": {},
     "output_type": "execute_result"
    }
   ],
   "source": [
    "ordinal_cols = ['pclass', 'sibsp', 'parch'] + ['survived']\n",
    "\n",
    "train[ordinal_cols].describe()"
   ]
  },
  {
   "cell_type": "code",
   "execution_count": 134,
   "id": "5e1d424c-6f8b-41b1-a4ac-75cd5a5095f5",
   "metadata": {},
   "outputs": [
    {
     "data": {
      "text/html": [
       "<div>\n",
       "<style scoped>\n",
       "    .dataframe tbody tr th:only-of-type {\n",
       "        vertical-align: middle;\n",
       "    }\n",
       "\n",
       "    .dataframe tbody tr th {\n",
       "        vertical-align: top;\n",
       "    }\n",
       "\n",
       "    .dataframe thead th {\n",
       "        text-align: right;\n",
       "    }\n",
       "</style>\n",
       "<table border=\"1\" class=\"dataframe\">\n",
       "  <thead>\n",
       "    <tr style=\"text-align: right;\">\n",
       "      <th></th>\n",
       "      <th>pclass</th>\n",
       "      <th>sibsp</th>\n",
       "      <th>parch</th>\n",
       "      <th>survived</th>\n",
       "    </tr>\n",
       "  </thead>\n",
       "  <tbody>\n",
       "    <tr>\n",
       "      <th>pclass</th>\n",
       "      <td>1.000000</td>\n",
       "      <td>0.036405</td>\n",
       "      <td>0.039566</td>\n",
       "      <td>-0.299053</td>\n",
       "    </tr>\n",
       "    <tr>\n",
       "      <th>sibsp</th>\n",
       "      <td>0.036405</td>\n",
       "      <td>1.000000</td>\n",
       "      <td>0.367602</td>\n",
       "      <td>-0.013008</td>\n",
       "    </tr>\n",
       "    <tr>\n",
       "      <th>parch</th>\n",
       "      <td>0.039566</td>\n",
       "      <td>0.367602</td>\n",
       "      <td>1.000000</td>\n",
       "      <td>0.067856</td>\n",
       "    </tr>\n",
       "    <tr>\n",
       "      <th>survived</th>\n",
       "      <td>-0.299053</td>\n",
       "      <td>-0.013008</td>\n",
       "      <td>0.067856</td>\n",
       "      <td>1.000000</td>\n",
       "    </tr>\n",
       "  </tbody>\n",
       "</table>\n",
       "</div>"
      ],
      "text/plain": [
       "            pclass     sibsp     parch  survived\n",
       "pclass    1.000000  0.036405  0.039566 -0.299053\n",
       "sibsp     0.036405  1.000000  0.367602 -0.013008\n",
       "parch     0.039566  0.367602  1.000000  0.067856\n",
       "survived -0.299053 -0.013008  0.067856  1.000000"
      ]
     },
     "execution_count": 134,
     "metadata": {},
     "output_type": "execute_result"
    }
   ],
   "source": [
    "train[ordinal_cols].corr()"
   ]
  },
  {
   "cell_type": "markdown",
   "id": "90d4d38f-07fe-43aa-ad05-d0ea9f55c6e9",
   "metadata": {},
   "source": [
    "add reversed_pclass"
   ]
  },
  {
   "cell_type": "code",
   "execution_count": 135,
   "id": "429dfe0c-6b5e-4b21-b9ae-4da07882fc85",
   "metadata": {},
   "outputs": [
    {
     "data": {
      "text/html": [
       "<div>\n",
       "<style scoped>\n",
       "    .dataframe tbody tr th:only-of-type {\n",
       "        vertical-align: middle;\n",
       "    }\n",
       "\n",
       "    .dataframe tbody tr th {\n",
       "        vertical-align: top;\n",
       "    }\n",
       "\n",
       "    .dataframe thead th {\n",
       "        text-align: right;\n",
       "    }\n",
       "</style>\n",
       "<table border=\"1\" class=\"dataframe\">\n",
       "  <thead>\n",
       "    <tr style=\"text-align: right;\">\n",
       "      <th></th>\n",
       "      <th>pclass</th>\n",
       "      <th>sibsp</th>\n",
       "      <th>parch</th>\n",
       "      <th>survived</th>\n",
       "      <th>reversed_pclass</th>\n",
       "    </tr>\n",
       "  </thead>\n",
       "  <tbody>\n",
       "    <tr>\n",
       "      <th>pclass</th>\n",
       "      <td>1.000000</td>\n",
       "      <td>0.036405</td>\n",
       "      <td>0.039566</td>\n",
       "      <td>-0.299053</td>\n",
       "      <td>-1.000000</td>\n",
       "    </tr>\n",
       "    <tr>\n",
       "      <th>sibsp</th>\n",
       "      <td>0.036405</td>\n",
       "      <td>1.000000</td>\n",
       "      <td>0.367602</td>\n",
       "      <td>-0.013008</td>\n",
       "      <td>-0.036405</td>\n",
       "    </tr>\n",
       "    <tr>\n",
       "      <th>parch</th>\n",
       "      <td>0.039566</td>\n",
       "      <td>0.367602</td>\n",
       "      <td>1.000000</td>\n",
       "      <td>0.067856</td>\n",
       "      <td>-0.039566</td>\n",
       "    </tr>\n",
       "    <tr>\n",
       "      <th>survived</th>\n",
       "      <td>-0.299053</td>\n",
       "      <td>-0.013008</td>\n",
       "      <td>0.067856</td>\n",
       "      <td>1.000000</td>\n",
       "      <td>0.299053</td>\n",
       "    </tr>\n",
       "    <tr>\n",
       "      <th>reversed_pclass</th>\n",
       "      <td>-1.000000</td>\n",
       "      <td>-0.036405</td>\n",
       "      <td>-0.039566</td>\n",
       "      <td>0.299053</td>\n",
       "      <td>1.000000</td>\n",
       "    </tr>\n",
       "  </tbody>\n",
       "</table>\n",
       "</div>"
      ],
      "text/plain": [
       "                   pclass     sibsp     parch  survived  reversed_pclass\n",
       "pclass           1.000000  0.036405  0.039566 -0.299053        -1.000000\n",
       "sibsp            0.036405  1.000000  0.367602 -0.013008        -0.036405\n",
       "parch            0.039566  0.367602  1.000000  0.067856        -0.039566\n",
       "survived        -0.299053 -0.013008  0.067856  1.000000         0.299053\n",
       "reversed_pclass -1.000000 -0.036405 -0.039566  0.299053         1.000000"
      ]
     },
     "execution_count": 135,
     "metadata": {},
     "output_type": "execute_result"
    }
   ],
   "source": [
    "train['reversed_pclass'] = train['pclass'].map(lambda x: 4 - int(x))  \n",
    "test['reversed_pclass'] = test['pclass'].map(lambda x: 4 - int(x))  \n",
    "ori_te['reversed_pclass'] = ori_te['pclass'].map(lambda x: 4 - int(x))  \n",
    "\n",
    "train[ordinal_cols+['reversed_pclass']].corr()"
   ]
  },
  {
   "cell_type": "code",
   "execution_count": 136,
   "id": "b8d18d5c-f936-4148-8034-20fceb9296b3",
   "metadata": {},
   "outputs": [
    {
     "data": {
      "image/png": "[encoded data removed]",
      "text/plain": [
       "<Figure size 598x500 with 1 Axes>"
      ]
     },
     "metadata": {},
     "output_type": "display_data"
    }
   ],
   "source": [
    "sns.catplot(data=train, x=\"sibsp\", y=\"survived\", hue=\"gender\", kind=\"bar\")\n",
    "plt.show()"
   ]
  },
  {
   "cell_type": "code",
   "execution_count": 137,
   "id": "9d6c42cc-c909-49c2-a571-17ae57158412",
   "metadata": {},
   "outputs": [
    {
     "data": {
      "text/plain": [
       "nan"
      ]
     },
     "execution_count": 137,
     "metadata": {},
     "output_type": "execute_result"
    }
   ],
   "source": [
    "c1 = train['sibsp'] == 8\n",
    "c2 = train['gender'] == 'female'\n",
    "c = c1 & c2\n",
    "train.loc[c]['survived'].mean()"
   ]
  },
  {
   "cell_type": "code",
   "execution_count": 138,
   "id": "42a10900-da17-4f83-bee8-2344e184814f",
   "metadata": {},
   "outputs": [
    {
     "data": {
      "text/plain": [
       "0.038461538461538464"
      ]
     },
     "execution_count": 138,
     "metadata": {},
     "output_type": "execute_result"
    }
   ],
   "source": [
    "c1 = train['sibsp'] >= 2\n",
    "c2 = train['gender'] == 'male'\n",
    "c = c1 & c2\n",
    "train.loc[c]['survived'].mean()"
   ]
  },
  {
   "cell_type": "markdown",
   "id": "baaf797e-7a35-44b5-be7a-5934605851ce",
   "metadata": {},
   "source": [
    "add sibsp_male"
   ]
  },
  {
   "cell_type": "code",
   "execution_count": 139,
   "id": "493c9ce5-ab80-43f0-8db0-7dfe22f44770",
   "metadata": {},
   "outputs": [
    {
     "data": {
      "text/plain": [
       "((641, 17), (275, 17), (393, 16))"
      ]
     },
     "execution_count": 139,
     "metadata": {},
     "output_type": "execute_result"
    }
   ],
   "source": [
    "for df in [train, test, ori_te]:\n",
    "  c1 = df['sibsp'] >= 2\n",
    "  c2 = df['gender'] == 'male'\n",
    "  c = c1 & c2\n",
    "  df['sibsp_male'] = c\n",
    "\n",
    "train.shape, test.shape, ori_te.shape"
   ]
  },
  {
   "cell_type": "code",
   "execution_count": 140,
   "id": "5be0a525-3395-48b4-a15b-2d4fb715ff33",
   "metadata": {},
   "outputs": [
    {
     "data": {
      "image/png": "[encoded data removed]",
      "text/plain": [
       "<Figure size 1570.49x1000 with 6 Axes>"
      ]
     },
     "metadata": {},
     "output_type": "display_data"
    }
   ],
   "source": [
    "sns.displot(ori_tr, x=\"sibsp\", hue=\"survived\", multiple=\"dodge\", bins=20, col=\"pclass\", row='gender')\n",
    "plt.show()"
   ]
  },
  {
   "cell_type": "code",
   "execution_count": 141,
   "id": "2c4ceee7-39b9-411b-a85f-1f9bb1d5aaef",
   "metadata": {},
   "outputs": [
    {
     "data": {
      "text/plain": [
       "Index(['survived', 'pclass', 'name', 'gender', 'age', 'sibsp', 'parch',\n",
       "       'ticket', 'fare', 'embarked', 'infant', 'gender_infant',\n",
       "       'gender_pclass', 'gender_sibsp', 'gender_parch', 'reversed_pclass',\n",
       "       'sibsp_male'],\n",
       "      dtype='object')"
      ]
     },
     "execution_count": 141,
     "metadata": {},
     "output_type": "execute_result"
    }
   ],
   "source": [
    "train.columns"
   ]
  },
  {
   "cell_type": "code",
   "execution_count": 142,
   "id": "00cc1515-5e49-48fa-90f5-59170dc305ad",
   "metadata": {},
   "outputs": [
    {
     "data": {
      "image/png": "[encoded data removed]",
      "text/plain": [
       "<Figure size 598x500 with 1 Axes>"
      ]
     },
     "metadata": {},
     "output_type": "display_data"
    }
   ],
   "source": [
    "sns.catplot(data=train, x=\"parch\", y=\"survived\", hue=\"gender\", kind=\"bar\")\n",
    "plt.show()"
   ]
  },
  {
   "cell_type": "code",
   "execution_count": 143,
   "id": "1f4a63b8-2517-4bab-9dc1-c9054a60c7a3",
   "metadata": {},
   "outputs": [
    {
     "data": {
      "text/plain": [
       "0.0"
      ]
     },
     "execution_count": 143,
     "metadata": {},
     "output_type": "execute_result"
    }
   ],
   "source": [
    "c1 = train['gender'] == 'male'\n",
    "c2 = train['parch'] >= 3\n",
    "c = c1 & c2\n",
    "train.loc[c]['survived'].mean()"
   ]
  },
  {
   "cell_type": "markdown",
   "id": "3a15d316-86d5-4218-a0b6-43a4823e9eda",
   "metadata": {},
   "source": [
    "add parch_male"
   ]
  },
  {
   "cell_type": "code",
   "execution_count": 144,
   "id": "99bcf057-f601-4cb6-a848-afdf02eec481",
   "metadata": {},
   "outputs": [
    {
     "data": {
      "text/plain": [
       "((641, 18), (275, 18), (393, 17))"
      ]
     },
     "execution_count": 144,
     "metadata": {},
     "output_type": "execute_result"
    }
   ],
   "source": [
    "for df in [train, test, ori_te]:\n",
    "  c1 = df['parch'] >= 3\n",
    "  c2 = df['gender'] == 'male'\n",
    "  c = c1 & c2\n",
    "  df['parch_male'] = c\n",
    "\n",
    "train.shape, test.shape, ori_te.shape"
   ]
  },
  {
   "cell_type": "code",
   "execution_count": 145,
   "id": "add10812-6fc9-405a-94c1-459deb584adb",
   "metadata": {},
   "outputs": [
    {
     "data": {
      "image/png": "[encoded data removed]",
      "text/plain": [
       "<Figure size 1570.49x1000 with 6 Axes>"
      ]
     },
     "metadata": {},
     "output_type": "display_data"
    }
   ],
   "source": [
    "sns.displot(train, x=\"parch\", hue=\"survived\", multiple=\"dodge\", bins=20, col=\"pclass\", row=\"gender\")\n",
    "plt.show()"
   ]
  },
  {
   "cell_type": "code",
   "execution_count": 146,
   "id": "d13e9b63-56c3-48a6-9bcb-633f4a36c506",
   "metadata": {},
   "outputs": [
    {
     "data": {
      "image/png": "[encoded data removed]",
      "text/plain": [
       "<Figure size 598x500 with 1 Axes>"
      ]
     },
     "metadata": {},
     "output_type": "display_data"
    }
   ],
   "source": [
    "sns.catplot(data=train, x=\"pclass\", y=\"survived\", hue=\"gender\", kind=\"bar\")\n",
    "plt.show()"
   ]
  },
  {
   "cell_type": "markdown",
   "id": "b66b20a3-30fa-4637-bad6-d6caaae1404c",
   "metadata": {},
   "source": [
    "### categorical features"
   ]
  },
  {
   "cell_type": "code",
   "execution_count": 147,
   "id": "062131d1-4405-4c02-8561-c23906c2b277",
   "metadata": {},
   "outputs": [
    {
     "data": {
      "text/plain": [
       "Index(['survived', 'pclass', 'name', 'gender', 'age', 'sibsp', 'parch',\n",
       "       'ticket', 'fare', 'embarked', 'infant', 'gender_infant',\n",
       "       'gender_pclass', 'gender_sibsp', 'gender_parch', 'reversed_pclass',\n",
       "       'sibsp_male', 'parch_male'],\n",
       "      dtype='object')"
      ]
     },
     "execution_count": 147,
     "metadata": {},
     "output_type": "execute_result"
    }
   ],
   "source": [
    "train.columns"
   ]
  },
  {
   "cell_type": "code",
   "execution_count": 148,
   "id": "d8201707-f010-445c-ab23-b33c6935750d",
   "metadata": {},
   "outputs": [
    {
     "data": {
      "text/html": [
       "<div>\n",
       "<style scoped>\n",
       "    .dataframe tbody tr th:only-of-type {\n",
       "        vertical-align: middle;\n",
       "    }\n",
       "\n",
       "    .dataframe tbody tr th {\n",
       "        vertical-align: top;\n",
       "    }\n",
       "\n",
       "    .dataframe thead th {\n",
       "        text-align: right;\n",
       "    }\n",
       "</style>\n",
       "<table border=\"1\" class=\"dataframe\">\n",
       "  <thead>\n",
       "    <tr style=\"text-align: right;\">\n",
       "      <th></th>\n",
       "      <th>gender</th>\n",
       "      <th>embarked</th>\n",
       "      <th>survived</th>\n",
       "    </tr>\n",
       "  </thead>\n",
       "  <tbody>\n",
       "    <tr>\n",
       "      <th>count</th>\n",
       "      <td>641</td>\n",
       "      <td>641</td>\n",
       "      <td>641.000000</td>\n",
       "    </tr>\n",
       "    <tr>\n",
       "      <th>unique</th>\n",
       "      <td>2</td>\n",
       "      <td>3</td>\n",
       "      <td>NaN</td>\n",
       "    </tr>\n",
       "    <tr>\n",
       "      <th>top</th>\n",
       "      <td>male</td>\n",
       "      <td>S</td>\n",
       "      <td>NaN</td>\n",
       "    </tr>\n",
       "    <tr>\n",
       "      <th>freq</th>\n",
       "      <td>407</td>\n",
       "      <td>455</td>\n",
       "      <td>NaN</td>\n",
       "    </tr>\n",
       "    <tr>\n",
       "      <th>mean</th>\n",
       "      <td>NaN</td>\n",
       "      <td>NaN</td>\n",
       "      <td>0.377535</td>\n",
       "    </tr>\n",
       "    <tr>\n",
       "      <th>std</th>\n",
       "      <td>NaN</td>\n",
       "      <td>NaN</td>\n",
       "      <td>0.485149</td>\n",
       "    </tr>\n",
       "    <tr>\n",
       "      <th>min</th>\n",
       "      <td>NaN</td>\n",
       "      <td>NaN</td>\n",
       "      <td>0.000000</td>\n",
       "    </tr>\n",
       "    <tr>\n",
       "      <th>25%</th>\n",
       "      <td>NaN</td>\n",
       "      <td>NaN</td>\n",
       "      <td>0.000000</td>\n",
       "    </tr>\n",
       "    <tr>\n",
       "      <th>50%</th>\n",
       "      <td>NaN</td>\n",
       "      <td>NaN</td>\n",
       "      <td>0.000000</td>\n",
       "    </tr>\n",
       "    <tr>\n",
       "      <th>75%</th>\n",
       "      <td>NaN</td>\n",
       "      <td>NaN</td>\n",
       "      <td>1.000000</td>\n",
       "    </tr>\n",
       "    <tr>\n",
       "      <th>max</th>\n",
       "      <td>NaN</td>\n",
       "      <td>NaN</td>\n",
       "      <td>1.000000</td>\n",
       "    </tr>\n",
       "  </tbody>\n",
       "</table>\n",
       "</div>"
      ],
      "text/plain": [
       "       gender embarked    survived\n",
       "count     641      641  641.000000\n",
       "unique      2        3         NaN\n",
       "top      male        S         NaN\n",
       "freq      407      455         NaN\n",
       "mean      NaN      NaN    0.377535\n",
       "std       NaN      NaN    0.485149\n",
       "min       NaN      NaN    0.000000\n",
       "25%       NaN      NaN    0.000000\n",
       "50%       NaN      NaN    0.000000\n",
       "75%       NaN      NaN    1.000000\n",
       "max       NaN      NaN    1.000000"
      ]
     },
     "execution_count": 148,
     "metadata": {},
     "output_type": "execute_result"
    }
   ],
   "source": [
    "categorical_cols = ['gender', 'embarked'] + ['survived']\n",
    "train[categorical_cols].describe(include='all')"
   ]
  },
  {
   "cell_type": "code",
   "execution_count": 149,
   "id": "3a811f8c-e9f2-45cd-adae-d63531ea9b1a",
   "metadata": {},
   "outputs": [
    {
     "data": {
      "image/png": "[encoded data removed]",
      "text/plain": [
       "<Figure size 581.361x500 with 1 Axes>"
      ]
     },
     "metadata": {},
     "output_type": "display_data"
    }
   ],
   "source": [
    "sns.catplot(data=train, x=\"gender\", y=\"survived\", hue=\"embarked\", kind=\"bar\")\n",
    "plt.show()"
   ]
  },
  {
   "cell_type": "code",
   "execution_count": 150,
   "id": "ce37449f-3ab3-4074-985c-fd6ef724bff2",
   "metadata": {},
   "outputs": [
    {
     "data": {
      "image/png": "[encoded data removed]",
      "text/plain": [
       "<Figure size 598x500 with 1 Axes>"
      ]
     },
     "metadata": {},
     "output_type": "display_data"
    }
   ],
   "source": [
    "sns.catplot(data=train, x=\"embarked\", y=\"survived\", hue=\"gender\", kind=\"bar\")\n",
    "plt.show()"
   ]
  },
  {
   "cell_type": "markdown",
   "id": "2f8c57bc-fb91-4412-9b3a-3dc7f357700f",
   "metadata": {},
   "source": [
    "### text features"
   ]
  },
  {
   "cell_type": "code",
   "execution_count": 151,
   "id": "e8fd3c15-bbb3-4e18-90cc-53460308a5d4",
   "metadata": {},
   "outputs": [
    {
     "data": {
      "text/html": [
       "<div>\n",
       "<style scoped>\n",
       "    .dataframe tbody tr th:only-of-type {\n",
       "        vertical-align: middle;\n",
       "    }\n",
       "\n",
       "    .dataframe tbody tr th {\n",
       "        vertical-align: top;\n",
       "    }\n",
       "\n",
       "    .dataframe thead th {\n",
       "        text-align: right;\n",
       "    }\n",
       "</style>\n",
       "<table border=\"1\" class=\"dataframe\">\n",
       "  <thead>\n",
       "    <tr style=\"text-align: right;\">\n",
       "      <th></th>\n",
       "      <th>name</th>\n",
       "      <th>ticket</th>\n",
       "    </tr>\n",
       "  </thead>\n",
       "  <tbody>\n",
       "    <tr>\n",
       "      <th>812</th>\n",
       "      <td>Ohman, Miss. Velin</td>\n",
       "      <td>347085</td>\n",
       "    </tr>\n",
       "    <tr>\n",
       "      <th>134</th>\n",
       "      <td>Buckley, Mr. Daniel</td>\n",
       "      <td>330920</td>\n",
       "    </tr>\n",
       "    <tr>\n",
       "      <th>390</th>\n",
       "      <td>Jonsson, Mr. Carl</td>\n",
       "      <td>350417</td>\n",
       "    </tr>\n",
       "    <tr>\n",
       "      <th>305</th>\n",
       "      <td>Hassan, Mr. Houssein G N</td>\n",
       "      <td>2699</td>\n",
       "    </tr>\n",
       "    <tr>\n",
       "      <th>203</th>\n",
       "      <td>Corn, Mr. Harry</td>\n",
       "      <td>SOTON/OQ 392090</td>\n",
       "    </tr>\n",
       "  </tbody>\n",
       "</table>\n",
       "</div>"
      ],
      "text/plain": [
       "                         name           ticket\n",
       "812        Ohman, Miss. Velin           347085\n",
       "134       Buckley, Mr. Daniel           330920\n",
       "390         Jonsson, Mr. Carl           350417\n",
       "305  Hassan, Mr. Houssein G N             2699\n",
       "203           Corn, Mr. Harry  SOTON/OQ 392090"
      ]
     },
     "execution_count": 151,
     "metadata": {},
     "output_type": "execute_result"
    }
   ],
   "source": [
    "text_cols = ['name', 'ticket']\n",
    "train[text_cols].head()"
   ]
  },
  {
   "cell_type": "code",
   "execution_count": 152,
   "id": "1b7e5f9f-9d7b-4c9c-832d-922e7191ea3e",
   "metadata": {},
   "outputs": [
    {
     "data": {
      "text/plain": [
       "((641, 18), (275, 18), (393, 17))"
      ]
     },
     "execution_count": 152,
     "metadata": {},
     "output_type": "execute_result"
    }
   ],
   "source": [
    "for df in [train, test, ori_te]:\n",
    "  df['Initial_name'] = df['name'].str.extract('([A-Za-z]+)\\.') #lets extract the Salutations\n",
    "  df.drop(['name'], axis=1, inplace=True)\n",
    "\n",
    "train.shape, test.shape, ori_te.shape"
   ]
  },
  {
   "cell_type": "code",
   "execution_count": 153,
   "id": "59ffee0f-c194-4e33-be31-97dbe6cb0ff4",
   "metadata": {},
   "outputs": [
    {
     "data": {
      "text/plain": [
       "array(['Miss', 'Mr', 'Mrs', 'Master', 'Dr', 'Rev', 'Capt', 'Mlle', 'Ms',\n",
       "       'Col', 'Major', 'Sir', 'Jonkheer'], dtype=object)"
      ]
     },
     "execution_count": 153,
     "metadata": {},
     "output_type": "execute_result"
    }
   ],
   "source": [
    "train['Initial_name'].unique()"
   ]
  },
  {
   "cell_type": "code",
   "execution_count": 154,
   "id": "85ea6f9c-0a0e-49f3-93d6-32d32e54b3ee",
   "metadata": {},
   "outputs": [
    {
     "data": {
      "text/plain": [
       "Mr          370\n",
       "Miss        126\n",
       "Mrs         106\n",
       "Master       22\n",
       "Rev           4\n",
       "Dr            3\n",
       "Col           3\n",
       "Major         2\n",
       "Capt          1\n",
       "Mlle          1\n",
       "Ms            1\n",
       "Sir           1\n",
       "Jonkheer      1\n",
       "Name: Initial_name, dtype: int64"
      ]
     },
     "execution_count": 154,
     "metadata": {},
     "output_type": "execute_result"
    }
   ],
   "source": [
    "train['Initial_name'].value_counts() "
   ]
  },
  {
   "cell_type": "code",
   "execution_count": 155,
   "id": "ec5673a8-b37a-4ec4-96d3-6e6c03d99643",
   "metadata": {},
   "outputs": [
    {
     "data": {
      "text/plain": [
       "((641, 18), (275, 18), (393, 17))"
      ]
     },
     "execution_count": 155,
     "metadata": {},
     "output_type": "execute_result"
    }
   ],
   "source": [
    "dict_initial_name = {\n",
    "    'Mr': 'Others',\n",
    "    'Miss': 'Others',\n",
    "    'Mrs': 'Others',\n",
    "\n",
    "    'Master': 'Officer',\n",
    "    'Rev': 'Officer',\n",
    "    'Dr': 'Officer',\n",
    "    'Col': 'Officer',\n",
    "    'Major': 'Officer',\n",
    "    'Capt': 'Officer',\n",
    "\n",
    "    'Jonkheer': 'Royalty',\n",
    "    'Countess': 'Royalty',\n",
    "    'Sir': 'Royalty'\n",
    "}\n",
    "\n",
    "\n",
    "def add_initial_name_type(initial_name):\n",
    "  result = 'Others'\n",
    "  try:\n",
    "    result = dict_initial_name[initial_name]\n",
    "  except:\n",
    "    pass \n",
    "  return result\n",
    "\n",
    "for df in [train, test, ori_te]:\n",
    "  df['Initial_name_type'] = df['Initial_name'].map(lambda x: add_initial_name_type(x))\n",
    "  df.drop(['Initial_name'], axis=1, inplace=True)\n",
    "\n",
    "train.shape, test.shape, ori_te.shape\n"
   ]
  },
  {
   "cell_type": "markdown",
   "id": "9cddd13f-15ae-4ba7-8d20-78a73034e33b",
   "metadata": {},
   "source": [
    "add len_ticket"
   ]
  },
  {
   "cell_type": "code",
   "execution_count": 156,
   "id": "b9ec6d73-c3f5-4e88-91fe-caf180d6029f",
   "metadata": {},
   "outputs": [
    {
     "data": {
      "text/plain": [
       "((641, 18), (275, 18), (393, 17))"
      ]
     },
     "execution_count": 156,
     "metadata": {},
     "output_type": "execute_result"
    }
   ],
   "source": [
    "for df in [train, test, ori_te]:\n",
    "  df['len_ticket'] = df['ticket'].map(lambda x: len(x.strip().split(' ')))\n",
    "  df.drop(['ticket'], axis=1, inplace=True)\n",
    "\n",
    "train.shape, test.shape, ori_te.shape"
   ]
  },
  {
   "cell_type": "markdown",
   "id": "ca1b9681-b86e-47e7-be84-88d77f086095",
   "metadata": {},
   "source": [
    "### datetime features"
   ]
  },
  {
   "cell_type": "code",
   "execution_count": null,
   "id": "ee4be784-98f5-4244-8376-b62a36ad865b",
   "metadata": {},
   "outputs": [],
   "source": []
  },
  {
   "cell_type": "markdown",
   "id": "a98d6f5e-e06d-43b9-8b8a-9bfcd64e06aa",
   "metadata": {},
   "source": [
    "## Missing Value"
   ]
  },
  {
   "cell_type": "code",
   "execution_count": 157,
   "id": "c05fb70e-177c-4398-87b7-25ce41926e13",
   "metadata": {},
   "outputs": [
    {
     "data": {
      "text/plain": [
       "age                  0.201248\n",
       "survived             0.000000\n",
       "gender_pclass        0.000000\n",
       "Initial_name_type    0.000000\n",
       "parch_male           0.000000\n",
       "sibsp_male           0.000000\n",
       "reversed_pclass      0.000000\n",
       "gender_parch         0.000000\n",
       "gender_sibsp         0.000000\n",
       "gender_infant        0.000000\n",
       "pclass               0.000000\n",
       "infant               0.000000\n",
       "embarked             0.000000\n",
       "fare                 0.000000\n",
       "parch                0.000000\n",
       "sibsp                0.000000\n",
       "gender               0.000000\n",
       "len_ticket           0.000000\n",
       "dtype: float64"
      ]
     },
     "execution_count": 157,
     "metadata": {},
     "output_type": "execute_result"
    }
   ],
   "source": [
    "(train.isnull() / train.shape[0]).sum().sort_values(ascending=False)"
   ]
  },
  {
   "cell_type": "code",
   "execution_count": 158,
   "id": "3e6b7e4c-2d67-497b-89dc-f236a036b3b5",
   "metadata": {},
   "outputs": [
    {
     "data": {
      "text/plain": [
       "age                  0.185455\n",
       "embarked             0.003636\n",
       "survived             0.000000\n",
       "gender_pclass        0.000000\n",
       "Initial_name_type    0.000000\n",
       "parch_male           0.000000\n",
       "sibsp_male           0.000000\n",
       "reversed_pclass      0.000000\n",
       "gender_parch         0.000000\n",
       "gender_sibsp         0.000000\n",
       "gender_infant        0.000000\n",
       "pclass               0.000000\n",
       "infant               0.000000\n",
       "fare                 0.000000\n",
       "parch                0.000000\n",
       "sibsp                0.000000\n",
       "gender               0.000000\n",
       "len_ticket           0.000000\n",
       "dtype: float64"
      ]
     },
     "execution_count": 158,
     "metadata": {},
     "output_type": "execute_result"
    }
   ],
   "source": [
    "(test.isnull() / test.shape[0]).sum().sort_values(ascending=False)"
   ]
  },
  {
   "cell_type": "code",
   "execution_count": 159,
   "id": "a5850704-e897-43b6-a35d-882e800cdfc2",
   "metadata": {},
   "outputs": [
    {
     "data": {
      "text/plain": [
       "age                  0.211196\n",
       "fare                 0.002545\n",
       "embarked             0.002545\n",
       "pclass               0.000000\n",
       "gender_sibsp         0.000000\n",
       "Initial_name_type    0.000000\n",
       "parch_male           0.000000\n",
       "sibsp_male           0.000000\n",
       "reversed_pclass      0.000000\n",
       "gender_parch         0.000000\n",
       "gender_infant        0.000000\n",
       "gender_pclass        0.000000\n",
       "gender               0.000000\n",
       "infant               0.000000\n",
       "parch                0.000000\n",
       "sibsp                0.000000\n",
       "len_ticket           0.000000\n",
       "dtype: float64"
      ]
     },
     "execution_count": 159,
     "metadata": {},
     "output_type": "execute_result"
    }
   ],
   "source": [
    "(ori_te.isnull() / ori_te.shape[0]).sum().sort_values(ascending=False)"
   ]
  },
  {
   "cell_type": "code",
   "execution_count": 160,
   "id": "90f709d9-f8d3-4f92-b792-6bee7ed004fd",
   "metadata": {},
   "outputs": [],
   "source": [
    "from pandas.api.types import is_string_dtype\n",
    "from pandas.api.types import is_numeric_dtype\n",
    "\n",
    "def __get_cols_cleaning(p_pd_list:list) -> list:\n",
    "  cols_cleaning = []\n",
    "  for df in p_pd_list:\n",
    "    # 결측치 컬럼 조회\n",
    "    tmp = df.isnull().sum()\n",
    "    cols_cleaning += list(tmp[df.isnull().sum() > 0].index)\n",
    "\n",
    "  cols_cleaning = list(set(cols_cleaning))\n",
    "  print(f'cols_cleaning: {cols_cleaning}')\n",
    "  return cols_cleaning\n",
    "\n",
    "def add_cols_cleaning(p_train:pd.DataFrame, p_test:pd.DataFrame, p_ori_te:pd.DataFrame) -> None:\n",
    "  pd_list = [p_train, p_test, p_ori_te]\n",
    "  for col in __get_cols_cleaning(pd_list):  # for col in cols_cleaning:\n",
    "    for i, df in enumerate(pd_list, start=1): \n",
    "      \n",
    "      if is_numeric_dtype(df[col]): # 숫자형 결측치 처리\n",
    "        new_col = col+'_cleaning'\n",
    "        df[new_col] = df[col]   \n",
    "        # random sampling\n",
    "        random_sampling = (p_train[col].dropna().sample(df[col].isnull().sum()))\n",
    "        # index 부여\n",
    "        random_sampling.index = df[lambda x: x[col].isnull()].index \n",
    "        # NA imputation\n",
    "        df.loc[df[col].isnull(), new_col] = random_sampling\n",
    "        \n",
    "        # 기존 결측치 컬럼 제거\n",
    "        if i == len(pd_list):\n",
    "          for _df in pd_list:\n",
    "            _df.drop([col], axis=1, inplace=True)\n",
    "      \n",
    "      else: # 범주형 결측치 처리\n",
    "        df[col].fillna(p_train[col].mode().values[0], inplace=True)\n",
    "\n",
    "  print(f'p_train: {p_train.isnull().sum().sum()} / p_test: {p_test.isnull().sum().sum()} / p_ori_te: {p_ori_te.isnull().sum().sum()}')"
   ]
  },
  {
   "cell_type": "code",
   "execution_count": 161,
   "id": "09ba61f1-45d1-4319-897a-b962d4852df2",
   "metadata": {},
   "outputs": [
    {
     "name": "stdout",
     "output_type": "stream",
     "text": [
      "cols_cleaning: ['fare', 'age', 'embarked']\n",
      "p_train: 0 / p_test: 0 / p_ori_te: 0\n"
     ]
    }
   ],
   "source": [
    "add_cols_cleaning(train, test, ori_te)"
   ]
  },
  {
   "cell_type": "markdown",
   "id": "767ef5e2-84d5-48be-a189-e9f0a3374976",
   "metadata": {},
   "source": [
    "## Scaling"
   ]
  },
  {
   "cell_type": "code",
   "execution_count": 162,
   "id": "fafc9fc0-939f-43b5-a524-b12fb9ba6c54",
   "metadata": {},
   "outputs": [],
   "source": [
    "from sklearn.preprocessing import StandardScaler"
   ]
  },
  {
   "cell_type": "code",
   "execution_count": 163,
   "id": "2ab48a8b-c68f-4d73-ab6f-36a19d7bb467",
   "metadata": {},
   "outputs": [
    {
     "data": {
      "text/plain": [
       "Index(['survived', 'pclass', 'gender', 'sibsp', 'parch', 'embarked', 'infant',\n",
       "       'gender_infant', 'gender_pclass', 'gender_sibsp', 'gender_parch',\n",
       "       'reversed_pclass', 'sibsp_male', 'parch_male', 'Initial_name_type',\n",
       "       'len_ticket', 'fare_cleaning', 'age_cleaning'],\n",
       "      dtype='object')"
      ]
     },
     "execution_count": 163,
     "metadata": {},
     "output_type": "execute_result"
    }
   ],
   "source": [
    "train.columns"
   ]
  },
  {
   "cell_type": "code",
   "execution_count": 164,
   "id": "99450672-1998-40da-8564-b4fe7340e762",
   "metadata": {},
   "outputs": [
    {
     "name": "stdout",
     "output_type": "stream",
     "text": [
      "0 / 0 / 0\n"
     ]
    },
    {
     "data": {
      "text/plain": [
       "((641, 18), (275, 18), (393, 17))"
      ]
     },
     "execution_count": 164,
     "metadata": {},
     "output_type": "execute_result"
    }
   ],
   "source": [
    "scaling_cols = ['age_cleaning', 'fare_cleaning']\n",
    "scaler = StandardScaler()\n",
    "scaled_dfs = []\n",
    "\n",
    "for i, df in enumerate([train, test, ori_te]):\n",
    "  if not i:\n",
    "    _scaled = scaler.fit_transform(df[scaling_cols])\n",
    "  else:\n",
    "    _scaled = scaler.transform(df[scaling_cols])\n",
    "\n",
    "  _scaled_df = pd.DataFrame(\n",
    "    _scaled, \n",
    "    columns = scaling_cols\n",
    "  )\n",
    "\n",
    "  not_scaling_cols = list(set(df.columns) - set(scaling_cols))\n",
    "\n",
    "  scaled_dfs.append(\n",
    "    pd.concat(\n",
    "      [df[not_scaling_cols].reset_index(drop=True), _scaled_df.reset_index(drop=True)]\n",
    "      , axis=1\n",
    "    ).reset_index(drop=True)\n",
    "  )\n",
    "\n",
    "train = scaled_dfs[0]\n",
    "test = scaled_dfs[1]\n",
    "ori_te = scaled_dfs[2]\n",
    "\n",
    "print(f'{train.isnull().sum().sum()} / {test.isnull().sum().sum()} / {ori_te.isnull().sum().sum()}')\n",
    "train.shape, test.shape, ori_te.shape"
   ]
  },
  {
   "cell_type": "markdown",
   "id": "e5f7aae3-e343-4cc8-844f-ebadfd4d62b1",
   "metadata": {},
   "source": [
    "## Encoding"
   ]
  },
  {
   "cell_type": "code",
   "execution_count": 165,
   "id": "282ae14b-a3d6-43dc-ad2a-28650f46517a",
   "metadata": {},
   "outputs": [],
   "source": [
    "from sklearn.preprocessing import OneHotEncoder"
   ]
  },
  {
   "cell_type": "code",
   "execution_count": 166,
   "id": "273a276a-36d8-4fcb-a89c-6682151387e4",
   "metadata": {},
   "outputs": [
    {
     "name": "stdout",
     "output_type": "stream",
     "text": [
      "<class 'pandas.core.frame.DataFrame'>\n",
      "RangeIndex: 641 entries, 0 to 640\n",
      "Data columns (total 18 columns):\n",
      " #   Column             Non-Null Count  Dtype  \n",
      "---  ------             --------------  -----  \n",
      " 0   Initial_name_type  641 non-null    object \n",
      " 1   sibsp_male         641 non-null    bool   \n",
      " 2   gender             641 non-null    object \n",
      " 3   gender_pclass      641 non-null    object \n",
      " 4   gender_parch       641 non-null    object \n",
      " 5   len_ticket         641 non-null    int64  \n",
      " 6   gender_sibsp       641 non-null    object \n",
      " 7   embarked           641 non-null    object \n",
      " 8   gender_infant      641 non-null    object \n",
      " 9   sibsp              641 non-null    int64  \n",
      " 10  parch              641 non-null    int64  \n",
      " 11  infant             641 non-null    int64  \n",
      " 12  survived           641 non-null    int64  \n",
      " 13  pclass             641 non-null    int64  \n",
      " 14  reversed_pclass    641 non-null    int64  \n",
      " 15  parch_male         641 non-null    bool   \n",
      " 16  age_cleaning       641 non-null    float64\n",
      " 17  fare_cleaning      641 non-null    float64\n",
      "dtypes: bool(2), float64(2), int64(7), object(7)\n",
      "memory usage: 81.5+ KB\n"
     ]
    }
   ],
   "source": [
    "train.info()"
   ]
  },
  {
   "cell_type": "code",
   "execution_count": 167,
   "id": "e0930f70-3775-45e1-b6a0-4aa23308b1d9",
   "metadata": {},
   "outputs": [],
   "source": [
    "for df in [train, test, ori_te]:\n",
    "  df['sibsp_male'] = df['sibsp_male'].astype(\"int32\")\n",
    "  df['parch_male'] = df['parch_male'].astype(\"int32\")"
   ]
  },
  {
   "cell_type": "code",
   "execution_count": 168,
   "id": "abf13119-a626-45b2-bfd2-f36b63f30bf7",
   "metadata": {},
   "outputs": [
    {
     "data": {
      "text/html": [
       "<div>\n",
       "<style scoped>\n",
       "    .dataframe tbody tr th:only-of-type {\n",
       "        vertical-align: middle;\n",
       "    }\n",
       "\n",
       "    .dataframe tbody tr th {\n",
       "        vertical-align: top;\n",
       "    }\n",
       "\n",
       "    .dataframe thead th {\n",
       "        text-align: right;\n",
       "    }\n",
       "</style>\n",
       "<table border=\"1\" class=\"dataframe\">\n",
       "  <thead>\n",
       "    <tr style=\"text-align: right;\">\n",
       "      <th></th>\n",
       "      <th>Initial_name_type</th>\n",
       "      <th>sibsp_male</th>\n",
       "      <th>gender</th>\n",
       "      <th>gender_pclass</th>\n",
       "      <th>gender_parch</th>\n",
       "      <th>len_ticket</th>\n",
       "      <th>gender_sibsp</th>\n",
       "      <th>embarked</th>\n",
       "      <th>gender_infant</th>\n",
       "      <th>sibsp</th>\n",
       "      <th>parch</th>\n",
       "      <th>infant</th>\n",
       "      <th>survived</th>\n",
       "      <th>pclass</th>\n",
       "      <th>reversed_pclass</th>\n",
       "      <th>parch_male</th>\n",
       "      <th>age_cleaning</th>\n",
       "      <th>fare_cleaning</th>\n",
       "    </tr>\n",
       "  </thead>\n",
       "  <tbody>\n",
       "    <tr>\n",
       "      <th>0</th>\n",
       "      <td>Others</td>\n",
       "      <td>0</td>\n",
       "      <td>female</td>\n",
       "      <td>female_3</td>\n",
       "      <td>female_0</td>\n",
       "      <td>1</td>\n",
       "      <td>female_0</td>\n",
       "      <td>S</td>\n",
       "      <td>female_0</td>\n",
       "      <td>0</td>\n",
       "      <td>0</td>\n",
       "      <td>0</td>\n",
       "      <td>1</td>\n",
       "      <td>3</td>\n",
       "      <td>1</td>\n",
       "      <td>0</td>\n",
       "      <td>-0.603171</td>\n",
       "      <td>-0.479616</td>\n",
       "    </tr>\n",
       "    <tr>\n",
       "      <th>1</th>\n",
       "      <td>Others</td>\n",
       "      <td>0</td>\n",
       "      <td>male</td>\n",
       "      <td>male_3</td>\n",
       "      <td>male_0</td>\n",
       "      <td>1</td>\n",
       "      <td>male_0</td>\n",
       "      <td>Q</td>\n",
       "      <td>male_0</td>\n",
       "      <td>0</td>\n",
       "      <td>0</td>\n",
       "      <td>0</td>\n",
       "      <td>0</td>\n",
       "      <td>3</td>\n",
       "      <td>1</td>\n",
       "      <td>0</td>\n",
       "      <td>-0.673082</td>\n",
       "      <td>-0.478696</td>\n",
       "    </tr>\n",
       "    <tr>\n",
       "      <th>2</th>\n",
       "      <td>Others</td>\n",
       "      <td>0</td>\n",
       "      <td>male</td>\n",
       "      <td>male_3</td>\n",
       "      <td>male_0</td>\n",
       "      <td>1</td>\n",
       "      <td>male_0</td>\n",
       "      <td>S</td>\n",
       "      <td>male_0</td>\n",
       "      <td>0</td>\n",
       "      <td>0</td>\n",
       "      <td>0</td>\n",
       "      <td>1</td>\n",
       "      <td>3</td>\n",
       "      <td>1</td>\n",
       "      <td>0</td>\n",
       "      <td>0.095941</td>\n",
       "      <td>-0.478025</td>\n",
       "    </tr>\n",
       "    <tr>\n",
       "      <th>3</th>\n",
       "      <td>Others</td>\n",
       "      <td>0</td>\n",
       "      <td>male</td>\n",
       "      <td>male_3</td>\n",
       "      <td>male_0</td>\n",
       "      <td>1</td>\n",
       "      <td>male_0</td>\n",
       "      <td>C</td>\n",
       "      <td>male_0</td>\n",
       "      <td>0</td>\n",
       "      <td>0</td>\n",
       "      <td>0</td>\n",
       "      <td>0</td>\n",
       "      <td>3</td>\n",
       "      <td>1</td>\n",
       "      <td>0</td>\n",
       "      <td>-1.372193</td>\n",
       "      <td>-0.258431</td>\n",
       "    </tr>\n",
       "    <tr>\n",
       "      <th>4</th>\n",
       "      <td>Others</td>\n",
       "      <td>0</td>\n",
       "      <td>male</td>\n",
       "      <td>male_3</td>\n",
       "      <td>male_0</td>\n",
       "      <td>2</td>\n",
       "      <td>male_0</td>\n",
       "      <td>S</td>\n",
       "      <td>male_0</td>\n",
       "      <td>0</td>\n",
       "      <td>0</td>\n",
       "      <td>0</td>\n",
       "      <td>0</td>\n",
       "      <td>3</td>\n",
       "      <td>1</td>\n",
       "      <td>0</td>\n",
       "      <td>-0.043882</td>\n",
       "      <td>-0.474092</td>\n",
       "    </tr>\n",
       "  </tbody>\n",
       "</table>\n",
       "</div>"
      ],
      "text/plain": [
       "  Initial_name_type  sibsp_male  gender gender_pclass gender_parch  \\\n",
       "0            Others           0  female      female_3     female_0   \n",
       "1            Others           0    male        male_3       male_0   \n",
       "2            Others           0    male        male_3       male_0   \n",
       "3            Others           0    male        male_3       male_0   \n",
       "4            Others           0    male        male_3       male_0   \n",
       "\n",
       "   len_ticket gender_sibsp embarked gender_infant  sibsp  parch  infant  \\\n",
       "0           1     female_0        S      female_0      0      0       0   \n",
       "1           1       male_0        Q        male_0      0      0       0   \n",
       "2           1       male_0        S        male_0      0      0       0   \n",
       "3           1       male_0        C        male_0      0      0       0   \n",
       "4           2       male_0        S        male_0      0      0       0   \n",
       "\n",
       "   survived  pclass  reversed_pclass  parch_male  age_cleaning  fare_cleaning  \n",
       "0         1       3                1           0     -0.603171      -0.479616  \n",
       "1         0       3                1           0     -0.673082      -0.478696  \n",
       "2         1       3                1           0      0.095941      -0.478025  \n",
       "3         0       3                1           0     -1.372193      -0.258431  \n",
       "4         0       3                1           0     -0.043882      -0.474092  "
      ]
     },
     "execution_count": 168,
     "metadata": {},
     "output_type": "execute_result"
    }
   ],
   "source": [
    "train.head()"
   ]
  },
  {
   "cell_type": "code",
   "execution_count": 169,
   "id": "72e279a9-a4ce-48db-8520-7bd1dd95b96d",
   "metadata": {},
   "outputs": [
    {
     "data": {
      "text/html": [
       "<div>\n",
       "<style scoped>\n",
       "    .dataframe tbody tr th:only-of-type {\n",
       "        vertical-align: middle;\n",
       "    }\n",
       "\n",
       "    .dataframe tbody tr th {\n",
       "        vertical-align: top;\n",
       "    }\n",
       "\n",
       "    .dataframe thead th {\n",
       "        text-align: right;\n",
       "    }\n",
       "</style>\n",
       "<table border=\"1\" class=\"dataframe\">\n",
       "  <thead>\n",
       "    <tr style=\"text-align: right;\">\n",
       "      <th></th>\n",
       "      <th>Initial_name_type</th>\n",
       "      <th>gender</th>\n",
       "      <th>gender_pclass</th>\n",
       "      <th>gender_parch</th>\n",
       "      <th>gender_sibsp</th>\n",
       "      <th>embarked</th>\n",
       "      <th>gender_infant</th>\n",
       "    </tr>\n",
       "  </thead>\n",
       "  <tbody>\n",
       "    <tr>\n",
       "      <th>0</th>\n",
       "      <td>Others</td>\n",
       "      <td>female</td>\n",
       "      <td>female_3</td>\n",
       "      <td>female_0</td>\n",
       "      <td>female_0</td>\n",
       "      <td>S</td>\n",
       "      <td>female_0</td>\n",
       "    </tr>\n",
       "    <tr>\n",
       "      <th>1</th>\n",
       "      <td>Others</td>\n",
       "      <td>male</td>\n",
       "      <td>male_3</td>\n",
       "      <td>male_0</td>\n",
       "      <td>male_0</td>\n",
       "      <td>Q</td>\n",
       "      <td>male_0</td>\n",
       "    </tr>\n",
       "    <tr>\n",
       "      <th>2</th>\n",
       "      <td>Others</td>\n",
       "      <td>male</td>\n",
       "      <td>male_3</td>\n",
       "      <td>male_0</td>\n",
       "      <td>male_0</td>\n",
       "      <td>S</td>\n",
       "      <td>male_0</td>\n",
       "    </tr>\n",
       "    <tr>\n",
       "      <th>3</th>\n",
       "      <td>Others</td>\n",
       "      <td>male</td>\n",
       "      <td>male_3</td>\n",
       "      <td>male_0</td>\n",
       "      <td>male_0</td>\n",
       "      <td>C</td>\n",
       "      <td>male_0</td>\n",
       "    </tr>\n",
       "    <tr>\n",
       "      <th>4</th>\n",
       "      <td>Others</td>\n",
       "      <td>male</td>\n",
       "      <td>male_3</td>\n",
       "      <td>male_0</td>\n",
       "      <td>male_0</td>\n",
       "      <td>S</td>\n",
       "      <td>male_0</td>\n",
       "    </tr>\n",
       "    <tr>\n",
       "      <th>...</th>\n",
       "      <td>...</td>\n",
       "      <td>...</td>\n",
       "      <td>...</td>\n",
       "      <td>...</td>\n",
       "      <td>...</td>\n",
       "      <td>...</td>\n",
       "      <td>...</td>\n",
       "    </tr>\n",
       "    <tr>\n",
       "      <th>636</th>\n",
       "      <td>Others</td>\n",
       "      <td>female</td>\n",
       "      <td>female_2</td>\n",
       "      <td>female_0</td>\n",
       "      <td>female_0</td>\n",
       "      <td>S</td>\n",
       "      <td>female_0</td>\n",
       "    </tr>\n",
       "    <tr>\n",
       "      <th>637</th>\n",
       "      <td>Others</td>\n",
       "      <td>female</td>\n",
       "      <td>female_3</td>\n",
       "      <td>female_0</td>\n",
       "      <td>female_0</td>\n",
       "      <td>Q</td>\n",
       "      <td>female_0</td>\n",
       "    </tr>\n",
       "    <tr>\n",
       "      <th>638</th>\n",
       "      <td>Others</td>\n",
       "      <td>male</td>\n",
       "      <td>male_1</td>\n",
       "      <td>male_0</td>\n",
       "      <td>male_0</td>\n",
       "      <td>S</td>\n",
       "      <td>male_0</td>\n",
       "    </tr>\n",
       "    <tr>\n",
       "      <th>639</th>\n",
       "      <td>Officer</td>\n",
       "      <td>male</td>\n",
       "      <td>male_3</td>\n",
       "      <td>male_1</td>\n",
       "      <td>male_2</td>\n",
       "      <td>S</td>\n",
       "      <td>male_1</td>\n",
       "    </tr>\n",
       "    <tr>\n",
       "      <th>640</th>\n",
       "      <td>Others</td>\n",
       "      <td>male</td>\n",
       "      <td>male_2</td>\n",
       "      <td>male_0</td>\n",
       "      <td>male_0</td>\n",
       "      <td>S</td>\n",
       "      <td>male_0</td>\n",
       "    </tr>\n",
       "  </tbody>\n",
       "</table>\n",
       "<p>641 rows × 7 columns</p>\n",
       "</div>"
      ],
      "text/plain": [
       "    Initial_name_type  gender gender_pclass gender_parch gender_sibsp  \\\n",
       "0              Others  female      female_3     female_0     female_0   \n",
       "1              Others    male        male_3       male_0       male_0   \n",
       "2              Others    male        male_3       male_0       male_0   \n",
       "3              Others    male        male_3       male_0       male_0   \n",
       "4              Others    male        male_3       male_0       male_0   \n",
       "..                ...     ...           ...          ...          ...   \n",
       "636            Others  female      female_2     female_0     female_0   \n",
       "637            Others  female      female_3     female_0     female_0   \n",
       "638            Others    male        male_1       male_0       male_0   \n",
       "639           Officer    male        male_3       male_1       male_2   \n",
       "640            Others    male        male_2       male_0       male_0   \n",
       "\n",
       "    embarked gender_infant  \n",
       "0          S      female_0  \n",
       "1          Q        male_0  \n",
       "2          S        male_0  \n",
       "3          C        male_0  \n",
       "4          S        male_0  \n",
       "..       ...           ...  \n",
       "636        S      female_0  \n",
       "637        Q      female_0  \n",
       "638        S        male_0  \n",
       "639        S        male_1  \n",
       "640        S        male_0  \n",
       "\n",
       "[641 rows x 7 columns]"
      ]
     },
     "execution_count": 169,
     "metadata": {},
     "output_type": "execute_result"
    }
   ],
   "source": [
    "train.select_dtypes(exclude=np.number)"
   ]
  },
  {
   "cell_type": "code",
   "execution_count": 170,
   "id": "39165f4c-fbd6-429b-9109-6b0a78013fec",
   "metadata": {},
   "outputs": [
    {
     "name": "stdout",
     "output_type": "stream",
     "text": [
      "len_enc_cols: 7\n",
      "0 / 0 / 0\n"
     ]
    },
    {
     "data": {
      "text/plain": [
       "((641, 39), (275, 39), (393, 38))"
      ]
     },
     "execution_count": 170,
     "metadata": {},
     "output_type": "execute_result"
    }
   ],
   "source": [
    "enc_cols = list(train.select_dtypes(exclude=np.number).columns)\n",
    "print(f'len_enc_cols: {len(enc_cols)}')\n",
    "encoder = OneHotEncoder() \n",
    "enc_dfs = []\n",
    "\n",
    "for i, df in enumerate([train, test, ori_te]):\n",
    "  if not i:\n",
    "    _encoded = encoder.fit_transform(df[enc_cols])\n",
    "  else:\n",
    "    _encoded = encoder.transform(df[enc_cols])\n",
    "\n",
    "  _encoded_df = pd.DataFrame(\n",
    "    _encoded.toarray(), \n",
    "    columns = encoder.get_feature_names_out()\n",
    "  )\n",
    "\n",
    "  not_enc_cols = list(set(df.columns) - set(enc_cols))\n",
    "  enc_dfs.append(\n",
    "    pd.concat(\n",
    "      [df[not_enc_cols].reset_index(drop=True), _encoded_df.reset_index(drop=True)]\n",
    "      , axis=1\n",
    "    ).reset_index(drop=True)\n",
    "  )\n",
    "\n",
    "train = enc_dfs[0]\n",
    "test = enc_dfs[1]\n",
    "ori_te = enc_dfs[2]\n",
    "\n",
    "print(f'{train.isnull().sum().sum()} / {test.isnull().sum().sum()} / {ori_te.isnull().sum().sum()}')\n",
    "train.shape, test.shape, ori_te.shape"
   ]
  },
  {
   "cell_type": "markdown",
   "id": "2b3551c5-8c24-40a1-a5ef-aa55fb776e6c",
   "metadata": {},
   "source": [
    "## Modeling"
   ]
  },
  {
   "cell_type": "code",
   "execution_count": 171,
   "id": "ea649d7b-c809-4cb6-8bbd-ccac3d69eace",
   "metadata": {},
   "outputs": [
    {
     "data": {
      "text/plain": [
       "(0, 0, 0)"
      ]
     },
     "execution_count": 171,
     "metadata": {},
     "output_type": "execute_result"
    }
   ],
   "source": [
    "train.isnull().sum().sum(), test.isnull().sum().sum(), ori_te.isnull().sum().sum()"
   ]
  },
  {
   "cell_type": "code",
   "execution_count": 172,
   "id": "752501d9-83a1-4a0f-af2a-66cd796270b5",
   "metadata": {},
   "outputs": [
    {
     "data": {
      "text/plain": [
       "((641, 39), (275, 39), (393, 38))"
      ]
     },
     "execution_count": 172,
     "metadata": {},
     "output_type": "execute_result"
    }
   ],
   "source": [
    "train.shape, test.shape, ori_te.shape"
   ]
  },
  {
   "cell_type": "code",
   "execution_count": 173,
   "id": "fc2e3112-8837-4c9a-bb9a-ebb48744a20e",
   "metadata": {},
   "outputs": [
    {
     "data": {
      "text/plain": [
       "((641, 38), (641,), (275, 38), (275,))"
      ]
     },
     "execution_count": 173,
     "metadata": {},
     "output_type": "execute_result"
    }
   ],
   "source": [
    "y_tr = train['survived']\n",
    "X_tr = train.drop(['survived'], axis=1)\n",
    "\n",
    "y_te = test['survived']\n",
    "X_te = test.drop(['survived'], axis=1)\n",
    "\n",
    "X_tr.shape, y_tr.shape, X_te.shape, y_te.shape"
   ]
  },
  {
   "cell_type": "code",
   "execution_count": 174,
   "id": "faf13f49-4491-4da3-9c0a-706d90cb5ae1",
   "metadata": {},
   "outputs": [],
   "source": [
    "from sklearn.tree import DecisionTreeClassifier"
   ]
  },
  {
   "cell_type": "code",
   "execution_count": 175,
   "id": "23b6e781-8bf6-4e21-82d8-3bf8c68cffeb",
   "metadata": {},
   "outputs": [
    {
     "data": {
      "text/plain": [
       "DecisionTreeClassifier(random_state=21)"
      ]
     },
     "execution_count": 175,
     "metadata": {},
     "output_type": "execute_result"
    }
   ],
   "source": [
    "modelV4 = DecisionTreeClassifier(random_state=args.random_state)\n",
    "\n",
    "modelV4.fit(X_tr, y_tr)"
   ]
  },
  {
   "cell_type": "markdown",
   "id": "5aa3c108-13e7-4681-9118-75be7e2c31f4",
   "metadata": {},
   "source": [
    "## Evaluation"
   ]
  },
  {
   "cell_type": "code",
   "execution_count": 176,
   "id": "9d7409f5-4e1c-4eee-8434-e36888dbd1cd",
   "metadata": {},
   "outputs": [
    {
     "data": {
      "text/plain": [
       "(0.9953198127925117, 0.7781818181818182)"
      ]
     },
     "execution_count": 176,
     "metadata": {},
     "output_type": "execute_result"
    }
   ],
   "source": [
    "score_tr = modelV4.score(X_tr, y_tr)\n",
    "score_te = modelV4.score(X_te, y_te) \n",
    "\n",
    "score_tr, score_te  "
   ]
  },
  {
   "cell_type": "code",
   "execution_count": 177,
   "id": "522dc316-170e-40f8-87b0-5e38851dae5d",
   "metadata": {},
   "outputs": [
    {
     "name": "stdout",
     "output_type": "stream",
     "text": [
      "model: 0.7614991003148898\n"
     ]
    }
   ],
   "source": [
    "from sklearn.metrics import roc_curve, auc \n",
    "\n",
    "y_pred = modelV4.predict_proba(X_te)[:,1]\n",
    "fpr, tpr, thresholds = roc_curve(y_te,y_pred)\n",
    "auc_te = auc(fpr, tpr)\n",
    "print(f'model: {auc_te}')"
   ]
  },
  {
   "cell_type": "code",
   "execution_count": 178,
   "id": "60eeabcc-6486-4e0c-97c4-199242f37600",
   "metadata": {},
   "outputs": [
    {
     "data": {
      "text/plain": [
       "(393,)"
      ]
     },
     "execution_count": 178,
     "metadata": {},
     "output_type": "execute_result"
    }
   ],
   "source": [
    "ori_te_pred = modelV4.predict_proba(ori_te)[:,1]\n",
    "ori_te_pred.shape"
   ]
  },
  {
   "cell_type": "code",
   "execution_count": 179,
   "id": "9927f36f-378f-4287-86b6-53b076021688",
   "metadata": {},
   "outputs": [
    {
     "name": "stdout",
     "output_type": "stream",
     "text": [
      "(38, 2)\n"
     ]
    },
    {
     "data": {
      "text/html": [
       "<div>\n",
       "<style scoped>\n",
       "    .dataframe tbody tr th:only-of-type {\n",
       "        vertical-align: middle;\n",
       "    }\n",
       "\n",
       "    .dataframe tbody tr th {\n",
       "        vertical-align: top;\n",
       "    }\n",
       "\n",
       "    .dataframe thead th {\n",
       "        text-align: right;\n",
       "    }\n",
       "</style>\n",
       "<table border=\"1\" class=\"dataframe\">\n",
       "  <thead>\n",
       "    <tr style=\"text-align: right;\">\n",
       "      <th></th>\n",
       "      <th>index</th>\n",
       "      <th>0</th>\n",
       "    </tr>\n",
       "  </thead>\n",
       "  <tbody>\n",
       "    <tr>\n",
       "      <th>0</th>\n",
       "      <td>gender_female</td>\n",
       "      <td>0.476129</td>\n",
       "    </tr>\n",
       "    <tr>\n",
       "      <th>1</th>\n",
       "      <td>age_cleaning</td>\n",
       "      <td>0.207402</td>\n",
       "    </tr>\n",
       "    <tr>\n",
       "      <th>2</th>\n",
       "      <td>fare_cleaning</td>\n",
       "      <td>0.128363</td>\n",
       "    </tr>\n",
       "    <tr>\n",
       "      <th>3</th>\n",
       "      <td>reversed_pclass</td>\n",
       "      <td>0.039714</td>\n",
       "    </tr>\n",
       "    <tr>\n",
       "      <th>4</th>\n",
       "      <td>gender_pclass_male_1</td>\n",
       "      <td>0.017583</td>\n",
       "    </tr>\n",
       "    <tr>\n",
       "      <th>5</th>\n",
       "      <td>len_ticket</td>\n",
       "      <td>0.015781</td>\n",
       "    </tr>\n",
       "    <tr>\n",
       "      <th>6</th>\n",
       "      <td>embarked_S</td>\n",
       "      <td>0.012904</td>\n",
       "    </tr>\n",
       "    <tr>\n",
       "      <th>7</th>\n",
       "      <td>embarked_C</td>\n",
       "      <td>0.012425</td>\n",
       "    </tr>\n",
       "    <tr>\n",
       "      <th>8</th>\n",
       "      <td>parch</td>\n",
       "      <td>0.011188</td>\n",
       "    </tr>\n",
       "    <tr>\n",
       "      <th>9</th>\n",
       "      <td>sibsp</td>\n",
       "      <td>0.010740</td>\n",
       "    </tr>\n",
       "    <tr>\n",
       "      <th>10</th>\n",
       "      <td>gender_sibsp_male_0</td>\n",
       "      <td>0.010597</td>\n",
       "    </tr>\n",
       "    <tr>\n",
       "      <th>11</th>\n",
       "      <td>Initial_name_type_Others</td>\n",
       "      <td>0.010491</td>\n",
       "    </tr>\n",
       "    <tr>\n",
       "      <th>12</th>\n",
       "      <td>pclass</td>\n",
       "      <td>0.007140</td>\n",
       "    </tr>\n",
       "    <tr>\n",
       "      <th>13</th>\n",
       "      <td>gender_sibsp_female_0</td>\n",
       "      <td>0.006233</td>\n",
       "    </tr>\n",
       "    <tr>\n",
       "      <th>14</th>\n",
       "      <td>gender_sibsp_female_2</td>\n",
       "      <td>0.005669</td>\n",
       "    </tr>\n",
       "    <tr>\n",
       "      <th>15</th>\n",
       "      <td>gender_sibsp_female_1</td>\n",
       "      <td>0.004882</td>\n",
       "    </tr>\n",
       "    <tr>\n",
       "      <th>16</th>\n",
       "      <td>Initial_name_type_Royalty</td>\n",
       "      <td>0.004857</td>\n",
       "    </tr>\n",
       "    <tr>\n",
       "      <th>17</th>\n",
       "      <td>gender_sibsp_male_1</td>\n",
       "      <td>0.003580</td>\n",
       "    </tr>\n",
       "    <tr>\n",
       "      <th>18</th>\n",
       "      <td>gender_parch_female_1</td>\n",
       "      <td>0.003356</td>\n",
       "    </tr>\n",
       "    <tr>\n",
       "      <th>19</th>\n",
       "      <td>gender_parch_male_1</td>\n",
       "      <td>0.003356</td>\n",
       "    </tr>\n",
       "    <tr>\n",
       "      <th>20</th>\n",
       "      <td>gender_infant_female_0</td>\n",
       "      <td>0.003356</td>\n",
       "    </tr>\n",
       "    <tr>\n",
       "      <th>21</th>\n",
       "      <td>Initial_name_type_Officer</td>\n",
       "      <td>0.002238</td>\n",
       "    </tr>\n",
       "    <tr>\n",
       "      <th>22</th>\n",
       "      <td>gender_parch_male_0</td>\n",
       "      <td>0.002014</td>\n",
       "    </tr>\n",
       "    <tr>\n",
       "      <th>23</th>\n",
       "      <td>gender_sibsp_male_2</td>\n",
       "      <td>0.000000</td>\n",
       "    </tr>\n",
       "    <tr>\n",
       "      <th>24</th>\n",
       "      <td>embarked_Q</td>\n",
       "      <td>0.000000</td>\n",
       "    </tr>\n",
       "    <tr>\n",
       "      <th>25</th>\n",
       "      <td>gender_infant_female_1</td>\n",
       "      <td>0.000000</td>\n",
       "    </tr>\n",
       "    <tr>\n",
       "      <th>26</th>\n",
       "      <td>gender_infant_male_0</td>\n",
       "      <td>0.000000</td>\n",
       "    </tr>\n",
       "    <tr>\n",
       "      <th>27</th>\n",
       "      <td>sibsp_male</td>\n",
       "      <td>0.000000</td>\n",
       "    </tr>\n",
       "    <tr>\n",
       "      <th>28</th>\n",
       "      <td>gender_pclass_male_2</td>\n",
       "      <td>0.000000</td>\n",
       "    </tr>\n",
       "    <tr>\n",
       "      <th>29</th>\n",
       "      <td>gender_parch_female_0</td>\n",
       "      <td>0.000000</td>\n",
       "    </tr>\n",
       "    <tr>\n",
       "      <th>30</th>\n",
       "      <td>gender_pclass_male_3</td>\n",
       "      <td>0.000000</td>\n",
       "    </tr>\n",
       "    <tr>\n",
       "      <th>31</th>\n",
       "      <td>gender_pclass_female_3</td>\n",
       "      <td>0.000000</td>\n",
       "    </tr>\n",
       "    <tr>\n",
       "      <th>32</th>\n",
       "      <td>gender_pclass_female_2</td>\n",
       "      <td>0.000000</td>\n",
       "    </tr>\n",
       "    <tr>\n",
       "      <th>33</th>\n",
       "      <td>gender_pclass_female_1</td>\n",
       "      <td>0.000000</td>\n",
       "    </tr>\n",
       "    <tr>\n",
       "      <th>34</th>\n",
       "      <td>gender_male</td>\n",
       "      <td>0.000000</td>\n",
       "    </tr>\n",
       "    <tr>\n",
       "      <th>35</th>\n",
       "      <td>parch_male</td>\n",
       "      <td>0.000000</td>\n",
       "    </tr>\n",
       "    <tr>\n",
       "      <th>36</th>\n",
       "      <td>infant</td>\n",
       "      <td>0.000000</td>\n",
       "    </tr>\n",
       "    <tr>\n",
       "      <th>37</th>\n",
       "      <td>gender_infant_male_1</td>\n",
       "      <td>0.000000</td>\n",
       "    </tr>\n",
       "  </tbody>\n",
       "</table>\n",
       "</div>"
      ],
      "text/plain": [
       "                        index         0\n",
       "0               gender_female  0.476129\n",
       "1                age_cleaning  0.207402\n",
       "2               fare_cleaning  0.128363\n",
       "3             reversed_pclass  0.039714\n",
       "4        gender_pclass_male_1  0.017583\n",
       "5                  len_ticket  0.015781\n",
       "6                  embarked_S  0.012904\n",
       "7                  embarked_C  0.012425\n",
       "8                       parch  0.011188\n",
       "9                       sibsp  0.010740\n",
       "10        gender_sibsp_male_0  0.010597\n",
       "11   Initial_name_type_Others  0.010491\n",
       "12                     pclass  0.007140\n",
       "13      gender_sibsp_female_0  0.006233\n",
       "14      gender_sibsp_female_2  0.005669\n",
       "15      gender_sibsp_female_1  0.004882\n",
       "16  Initial_name_type_Royalty  0.004857\n",
       "17        gender_sibsp_male_1  0.003580\n",
       "18      gender_parch_female_1  0.003356\n",
       "19        gender_parch_male_1  0.003356\n",
       "20     gender_infant_female_0  0.003356\n",
       "21  Initial_name_type_Officer  0.002238\n",
       "22        gender_parch_male_0  0.002014\n",
       "23        gender_sibsp_male_2  0.000000\n",
       "24                 embarked_Q  0.000000\n",
       "25     gender_infant_female_1  0.000000\n",
       "26       gender_infant_male_0  0.000000\n",
       "27                 sibsp_male  0.000000\n",
       "28       gender_pclass_male_2  0.000000\n",
       "29      gender_parch_female_0  0.000000\n",
       "30       gender_pclass_male_3  0.000000\n",
       "31     gender_pclass_female_3  0.000000\n",
       "32     gender_pclass_female_2  0.000000\n",
       "33     gender_pclass_female_1  0.000000\n",
       "34                gender_male  0.000000\n",
       "35                 parch_male  0.000000\n",
       "36                     infant  0.000000\n",
       "37       gender_infant_male_1  0.000000"
      ]
     },
     "execution_count": 179,
     "metadata": {},
     "output_type": "execute_result"
    }
   ],
   "source": [
    "df_feature_importances = pd.DataFrame(modelV4.feature_importances_, X_tr.columns).sort_values(by=[0], ascending=False).reset_index()\n",
    "\n",
    "print(f'{df_feature_importances.shape}')\n",
    "df_feature_importances"
   ]
  },
  {
   "cell_type": "code",
   "execution_count": 180,
   "id": "aa8dc49e-9737-4322-b536-4148d2f4961c",
   "metadata": {},
   "outputs": [],
   "source": [
    "args.results.append(\n",
    "    {\n",
    "        'model': 'modelV4',\n",
    "        'score_tr': score_tr,\n",
    "        'score_te': score_te,\n",
    "        'auc_te': auc_te,\n",
    "        'ori_te_pred': ori_te_pred,\n",
    "        'len_features': X_tr.shape[1],\n",
    "        'feaute_importances': list(df_feature_importances['index'].values[:X_tr.shape[1]]),\n",
    "        'create_dt': '0220'\n",
    "    }\n",
    ")"
   ]
  },
  {
   "cell_type": "code",
   "execution_count": 181,
   "id": "9994ae4b-2323-44a4-be02-3ffff2dc24b3",
   "metadata": {},
   "outputs": [
    {
     "data": {
      "text/html": [
       "<div>\n",
       "<style scoped>\n",
       "    .dataframe tbody tr th:only-of-type {\n",
       "        vertical-align: middle;\n",
       "    }\n",
       "\n",
       "    .dataframe tbody tr th {\n",
       "        vertical-align: top;\n",
       "    }\n",
       "\n",
       "    .dataframe thead th {\n",
       "        text-align: right;\n",
       "    }\n",
       "</style>\n",
       "<table border=\"1\" class=\"dataframe\">\n",
       "  <thead>\n",
       "    <tr style=\"text-align: right;\">\n",
       "      <th></th>\n",
       "      <th>model</th>\n",
       "      <th>score_tr</th>\n",
       "      <th>score_te</th>\n",
       "      <th>auc_te</th>\n",
       "      <th>ori_te_pred</th>\n",
       "      <th>len_features</th>\n",
       "      <th>feaute_importances</th>\n",
       "      <th>create_dt</th>\n",
       "    </tr>\n",
       "  </thead>\n",
       "  <tbody>\n",
       "    <tr>\n",
       "      <th>0</th>\n",
       "      <td>modelV0</td>\n",
       "      <td>0.982839</td>\n",
       "      <td>0.774545</td>\n",
       "      <td>0.763580</td>\n",
       "      <td>[1.0, 1.0, 1.0, 0.0, 1.0, 1.0, 0.0, 0.125, 1.0...</td>\n",
       "      <td>10</td>\n",
       "      <td>[gender_female, fare, age, pclass, sibsp, emba...</td>\n",
       "      <td>0217</td>\n",
       "    </tr>\n",
       "    <tr>\n",
       "      <th>2</th>\n",
       "      <td>modelV2</td>\n",
       "      <td>0.982839</td>\n",
       "      <td>0.778182</td>\n",
       "      <td>0.762427</td>\n",
       "      <td>[1.0, 1.0, 1.0, 0.0, 1.0, 1.0, 0.0, 0.125, 1.0...</td>\n",
       "      <td>10</td>\n",
       "      <td>[gender_male, fare, age, pclass, sibsp, embark...</td>\n",
       "      <td>0217</td>\n",
       "    </tr>\n",
       "    <tr>\n",
       "      <th>4</th>\n",
       "      <td>modelV4</td>\n",
       "      <td>0.995320</td>\n",
       "      <td>0.778182</td>\n",
       "      <td>0.761499</td>\n",
       "      <td>[1.0, 1.0, 0.0, 0.0, 1.0, 1.0, 0.0, 0.0, 1.0, ...</td>\n",
       "      <td>38</td>\n",
       "      <td>[gender_female, age_cleaning, fare_cleaning, r...</td>\n",
       "      <td>0220</td>\n",
       "    </tr>\n",
       "    <tr>\n",
       "      <th>3</th>\n",
       "      <td>modelV3</td>\n",
       "      <td>0.992200</td>\n",
       "      <td>0.774545</td>\n",
       "      <td>0.750843</td>\n",
       "      <td>[0.0, 1.0, 1.0, 1.0, 1.0, 1.0, 0.0, 1.0, 0.0, ...</td>\n",
       "      <td>19</td>\n",
       "      <td>[gender_female, age_cleaning, fare_cleaning, p...</td>\n",
       "      <td>0220</td>\n",
       "    </tr>\n",
       "    <tr>\n",
       "      <th>1</th>\n",
       "      <td>modelV1</td>\n",
       "      <td>0.982839</td>\n",
       "      <td>0.785455</td>\n",
       "      <td>0.495192</td>\n",
       "      <td>[1.0, 1.0, 1.0, 1.0, 1.0, 1.0, 1.0, 1.0, 1.0, ...</td>\n",
       "      <td>10</td>\n",
       "      <td>[gender_male, fare, age, pclass, sibsp, embark...</td>\n",
       "      <td>0217</td>\n",
       "    </tr>\n",
       "  </tbody>\n",
       "</table>\n",
       "</div>"
      ],
      "text/plain": [
       "     model  score_tr  score_te    auc_te  \\\n",
       "0  modelV0  0.982839  0.774545  0.763580   \n",
       "2  modelV2  0.982839  0.778182  0.762427   \n",
       "4  modelV4  0.995320  0.778182  0.761499   \n",
       "3  modelV3  0.992200  0.774545  0.750843   \n",
       "1  modelV1  0.982839  0.785455  0.495192   \n",
       "\n",
       "                                         ori_te_pred  len_features  \\\n",
       "0  [1.0, 1.0, 1.0, 0.0, 1.0, 1.0, 0.0, 0.125, 1.0...            10   \n",
       "2  [1.0, 1.0, 1.0, 0.0, 1.0, 1.0, 0.0, 0.125, 1.0...            10   \n",
       "4  [1.0, 1.0, 0.0, 0.0, 1.0, 1.0, 0.0, 0.0, 1.0, ...            38   \n",
       "3  [0.0, 1.0, 1.0, 1.0, 1.0, 1.0, 0.0, 1.0, 0.0, ...            19   \n",
       "1  [1.0, 1.0, 1.0, 1.0, 1.0, 1.0, 1.0, 1.0, 1.0, ...            10   \n",
       "\n",
       "                                  feaute_importances create_dt  \n",
       "0  [gender_female, fare, age, pclass, sibsp, emba...      0217  \n",
       "2  [gender_male, fare, age, pclass, sibsp, embark...      0217  \n",
       "4  [gender_female, age_cleaning, fare_cleaning, r...      0220  \n",
       "3  [gender_female, age_cleaning, fare_cleaning, p...      0220  \n",
       "1  [gender_male, fare, age, pclass, sibsp, embark...      0217  "
      ]
     },
     "execution_count": 181,
     "metadata": {},
     "output_type": "execute_result"
    }
   ],
   "source": [
    "pd.DataFrame(args.results).sort_values(by=['auc_te'], ascending=False)"
   ]
  },
  {
   "cell_type": "markdown",
   "id": "d8cc51bd-f3b5-4b6a-9728-cd58bdddb8e4",
   "metadata": {},
   "source": [
    "# Submission"
   ]
  },
  {
   "cell_type": "code",
   "execution_count": 182,
   "id": "b0c82972-5075-4ede-b522-b1d35afb470a",
   "metadata": {},
   "outputs": [
    {
     "data": {
      "text/html": [
       "<div>\n",
       "<style scoped>\n",
       "    .dataframe tbody tr th:only-of-type {\n",
       "        vertical-align: middle;\n",
       "    }\n",
       "\n",
       "    .dataframe tbody tr th {\n",
       "        vertical-align: top;\n",
       "    }\n",
       "\n",
       "    .dataframe thead th {\n",
       "        text-align: right;\n",
       "    }\n",
       "</style>\n",
       "<table border=\"1\" class=\"dataframe\">\n",
       "  <thead>\n",
       "    <tr style=\"text-align: right;\">\n",
       "      <th></th>\n",
       "      <th>model</th>\n",
       "      <th>score_tr</th>\n",
       "      <th>score_te</th>\n",
       "      <th>auc_te</th>\n",
       "      <th>ori_te_pred</th>\n",
       "      <th>len_features</th>\n",
       "      <th>feaute_importances</th>\n",
       "      <th>create_dt</th>\n",
       "    </tr>\n",
       "  </thead>\n",
       "  <tbody>\n",
       "    <tr>\n",
       "      <th>0</th>\n",
       "      <td>modelV0</td>\n",
       "      <td>0.982839</td>\n",
       "      <td>0.774545</td>\n",
       "      <td>0.763580</td>\n",
       "      <td>[1.0, 1.0, 1.0, 0.0, 1.0, 1.0, 0.0, 0.125, 1.0...</td>\n",
       "      <td>10</td>\n",
       "      <td>[gender_female, fare, age, pclass, sibsp, emba...</td>\n",
       "      <td>0217</td>\n",
       "    </tr>\n",
       "    <tr>\n",
       "      <th>2</th>\n",
       "      <td>modelV2</td>\n",
       "      <td>0.982839</td>\n",
       "      <td>0.778182</td>\n",
       "      <td>0.762427</td>\n",
       "      <td>[1.0, 1.0, 1.0, 0.0, 1.0, 1.0, 0.0, 0.125, 1.0...</td>\n",
       "      <td>10</td>\n",
       "      <td>[gender_male, fare, age, pclass, sibsp, embark...</td>\n",
       "      <td>0217</td>\n",
       "    </tr>\n",
       "    <tr>\n",
       "      <th>4</th>\n",
       "      <td>modelV4</td>\n",
       "      <td>0.995320</td>\n",
       "      <td>0.778182</td>\n",
       "      <td>0.761499</td>\n",
       "      <td>[1.0, 1.0, 0.0, 0.0, 1.0, 1.0, 0.0, 0.0, 1.0, ...</td>\n",
       "      <td>38</td>\n",
       "      <td>[gender_female, age_cleaning, fare_cleaning, r...</td>\n",
       "      <td>0220</td>\n",
       "    </tr>\n",
       "    <tr>\n",
       "      <th>3</th>\n",
       "      <td>modelV3</td>\n",
       "      <td>0.992200</td>\n",
       "      <td>0.774545</td>\n",
       "      <td>0.750843</td>\n",
       "      <td>[0.0, 1.0, 1.0, 1.0, 1.0, 1.0, 0.0, 1.0, 0.0, ...</td>\n",
       "      <td>19</td>\n",
       "      <td>[gender_female, age_cleaning, fare_cleaning, p...</td>\n",
       "      <td>0220</td>\n",
       "    </tr>\n",
       "    <tr>\n",
       "      <th>1</th>\n",
       "      <td>modelV1</td>\n",
       "      <td>0.982839</td>\n",
       "      <td>0.785455</td>\n",
       "      <td>0.495192</td>\n",
       "      <td>[1.0, 1.0, 1.0, 1.0, 1.0, 1.0, 1.0, 1.0, 1.0, ...</td>\n",
       "      <td>10</td>\n",
       "      <td>[gender_male, fare, age, pclass, sibsp, embark...</td>\n",
       "      <td>0217</td>\n",
       "    </tr>\n",
       "  </tbody>\n",
       "</table>\n",
       "</div>"
      ],
      "text/plain": [
       "     model  score_tr  score_te    auc_te  \\\n",
       "0  modelV0  0.982839  0.774545  0.763580   \n",
       "2  modelV2  0.982839  0.778182  0.762427   \n",
       "4  modelV4  0.995320  0.778182  0.761499   \n",
       "3  modelV3  0.992200  0.774545  0.750843   \n",
       "1  modelV1  0.982839  0.785455  0.495192   \n",
       "\n",
       "                                         ori_te_pred  len_features  \\\n",
       "0  [1.0, 1.0, 1.0, 0.0, 1.0, 1.0, 0.0, 0.125, 1.0...            10   \n",
       "2  [1.0, 1.0, 1.0, 0.0, 1.0, 1.0, 0.0, 0.125, 1.0...            10   \n",
       "4  [1.0, 1.0, 0.0, 0.0, 1.0, 1.0, 0.0, 0.0, 1.0, ...            38   \n",
       "3  [0.0, 1.0, 1.0, 1.0, 1.0, 1.0, 0.0, 1.0, 0.0, ...            19   \n",
       "1  [1.0, 1.0, 1.0, 1.0, 1.0, 1.0, 1.0, 1.0, 1.0, ...            10   \n",
       "\n",
       "                                  feaute_importances create_dt  \n",
       "0  [gender_female, fare, age, pclass, sibsp, emba...      0217  \n",
       "2  [gender_male, fare, age, pclass, sibsp, embark...      0217  \n",
       "4  [gender_female, age_cleaning, fare_cleaning, r...      0220  \n",
       "3  [gender_female, age_cleaning, fare_cleaning, p...      0220  \n",
       "1  [gender_male, fare, age, pclass, sibsp, embark...      0217  "
      ]
     },
     "execution_count": 182,
     "metadata": {},
     "output_type": "execute_result"
    }
   ],
   "source": [
    "df_results = pd.DataFrame(args.results).sort_values(by=['auc_te'], ascending=False)\n",
    "df_results"
   ]
  },
  {
   "cell_type": "code",
   "execution_count": 183,
   "id": "53e89df3-712d-43ea-9b18-65a2686f2e71",
   "metadata": {},
   "outputs": [
    {
     "data": {
      "text/html": [
       "<div>\n",
       "<style scoped>\n",
       "    .dataframe tbody tr th:only-of-type {\n",
       "        vertical-align: middle;\n",
       "    }\n",
       "\n",
       "    .dataframe tbody tr th {\n",
       "        vertical-align: top;\n",
       "    }\n",
       "\n",
       "    .dataframe thead th {\n",
       "        text-align: right;\n",
       "    }\n",
       "</style>\n",
       "<table border=\"1\" class=\"dataframe\">\n",
       "  <thead>\n",
       "    <tr style=\"text-align: right;\">\n",
       "      <th></th>\n",
       "      <th>passengerid</th>\n",
       "      <th>survived</th>\n",
       "    </tr>\n",
       "  </thead>\n",
       "  <tbody>\n",
       "    <tr>\n",
       "      <th>0</th>\n",
       "      <td>916</td>\n",
       "      <td>0.5</td>\n",
       "    </tr>\n",
       "    <tr>\n",
       "      <th>1</th>\n",
       "      <td>917</td>\n",
       "      <td>0.5</td>\n",
       "    </tr>\n",
       "    <tr>\n",
       "      <th>2</th>\n",
       "      <td>918</td>\n",
       "      <td>0.5</td>\n",
       "    </tr>\n",
       "    <tr>\n",
       "      <th>3</th>\n",
       "      <td>919</td>\n",
       "      <td>0.5</td>\n",
       "    </tr>\n",
       "    <tr>\n",
       "      <th>4</th>\n",
       "      <td>920</td>\n",
       "      <td>0.5</td>\n",
       "    </tr>\n",
       "  </tbody>\n",
       "</table>\n",
       "</div>"
      ],
      "text/plain": [
       "   passengerid  survived\n",
       "0          916       0.5\n",
       "1          917       0.5\n",
       "2          918       0.5\n",
       "3          919       0.5\n",
       "4          920       0.5"
      ]
     },
     "execution_count": 183,
     "metadata": {},
     "output_type": "execute_result"
    }
   ],
   "source": [
    "submission = pd.read_csv(args.default_submission_csv)\n",
    "submission.head()"
   ]
  },
  {
   "cell_type": "code",
   "execution_count": 184,
   "id": "4c20a152-f7f5-4e3c-a694-92a5f1fb3a76",
   "metadata": {},
   "outputs": [
    {
     "name": "stdout",
     "output_type": "stream",
     "text": [
      "0\n"
     ]
    },
    {
     "data": {
      "text/html": [
       "<div>\n",
       "<style scoped>\n",
       "    .dataframe tbody tr th:only-of-type {\n",
       "        vertical-align: middle;\n",
       "    }\n",
       "\n",
       "    .dataframe tbody tr th {\n",
       "        vertical-align: top;\n",
       "    }\n",
       "\n",
       "    .dataframe thead th {\n",
       "        text-align: right;\n",
       "    }\n",
       "</style>\n",
       "<table border=\"1\" class=\"dataframe\">\n",
       "  <thead>\n",
       "    <tr style=\"text-align: right;\">\n",
       "      <th></th>\n",
       "      <th>passengerid</th>\n",
       "      <th>survived</th>\n",
       "    </tr>\n",
       "  </thead>\n",
       "  <tbody>\n",
       "    <tr>\n",
       "      <th>0</th>\n",
       "      <td>916</td>\n",
       "      <td>0.0</td>\n",
       "    </tr>\n",
       "    <tr>\n",
       "      <th>1</th>\n",
       "      <td>917</td>\n",
       "      <td>1.0</td>\n",
       "    </tr>\n",
       "    <tr>\n",
       "      <th>2</th>\n",
       "      <td>918</td>\n",
       "      <td>1.0</td>\n",
       "    </tr>\n",
       "    <tr>\n",
       "      <th>3</th>\n",
       "      <td>919</td>\n",
       "      <td>1.0</td>\n",
       "    </tr>\n",
       "    <tr>\n",
       "      <th>4</th>\n",
       "      <td>920</td>\n",
       "      <td>1.0</td>\n",
       "    </tr>\n",
       "    <tr>\n",
       "      <th>5</th>\n",
       "      <td>921</td>\n",
       "      <td>1.0</td>\n",
       "    </tr>\n",
       "    <tr>\n",
       "      <th>6</th>\n",
       "      <td>922</td>\n",
       "      <td>0.0</td>\n",
       "    </tr>\n",
       "    <tr>\n",
       "      <th>7</th>\n",
       "      <td>923</td>\n",
       "      <td>1.0</td>\n",
       "    </tr>\n",
       "    <tr>\n",
       "      <th>8</th>\n",
       "      <td>924</td>\n",
       "      <td>0.0</td>\n",
       "    </tr>\n",
       "    <tr>\n",
       "      <th>9</th>\n",
       "      <td>925</td>\n",
       "      <td>0.0</td>\n",
       "    </tr>\n",
       "  </tbody>\n",
       "</table>\n",
       "</div>"
      ],
      "text/plain": [
       "   passengerid  survived\n",
       "0          916       0.0\n",
       "1          917       1.0\n",
       "2          918       1.0\n",
       "3          919       1.0\n",
       "4          920       1.0\n",
       "5          921       1.0\n",
       "6          922       0.0\n",
       "7          923       1.0\n",
       "8          924       0.0\n",
       "9          925       0.0"
      ]
     },
     "execution_count": 184,
     "metadata": {},
     "output_type": "execute_result"
    }
   ],
   "source": [
    "submission['survived'] = df_results.loc[3, ['ori_te_pred']].values[0]\n",
    "print(f'{submission.isnull().sum().sum()}')\n",
    "submission.head(10)"
   ]
  },
  {
   "cell_type": "code",
   "execution_count": 185,
   "id": "ce5f9cd6-e0be-4c80-924f-d96709f115c2",
   "metadata": {},
   "outputs": [],
   "source": [
    "submission.to_csv(args.default_path+'result/submission_v3.csv', header=True, index=False)"
   ]
  },
  {
   "cell_type": "code",
   "execution_count": 186,
   "id": "ca7d485f-3afc-4940-9e1d-9f8dd9fd0357",
   "metadata": {},
   "outputs": [],
   "source": [
    "submission['survived'] = df_results.loc[4, ['ori_te_pred']].values[0]\n",
    "submission.to_csv(args.default_path+'result/submission_v4.csv', header=True, index=False)"
   ]
  },
  {
   "cell_type": "markdown",
   "id": "4eab2c50-58c6-48d3-969e-5331c84cfb22",
   "metadata": {},
   "source": [
    "# Save Results"
   ]
  },
  {
   "cell_type": "code",
   "execution_count": 187,
   "id": "8cf1db81-4ce2-4830-987d-5ad31b3900b9",
   "metadata": {},
   "outputs": [
    {
     "data": {
      "text/html": [
       "<div>\n",
       "<style scoped>\n",
       "    .dataframe tbody tr th:only-of-type {\n",
       "        vertical-align: middle;\n",
       "    }\n",
       "\n",
       "    .dataframe tbody tr th {\n",
       "        vertical-align: top;\n",
       "    }\n",
       "\n",
       "    .dataframe thead th {\n",
       "        text-align: right;\n",
       "    }\n",
       "</style>\n",
       "<table border=\"1\" class=\"dataframe\">\n",
       "  <thead>\n",
       "    <tr style=\"text-align: right;\">\n",
       "      <th></th>\n",
       "      <th>model</th>\n",
       "      <th>score_tr</th>\n",
       "      <th>score_te</th>\n",
       "      <th>auc_te</th>\n",
       "      <th>len_features</th>\n",
       "      <th>feaute_importances</th>\n",
       "      <th>create_dt</th>\n",
       "    </tr>\n",
       "  </thead>\n",
       "  <tbody>\n",
       "    <tr>\n",
       "      <th>0</th>\n",
       "      <td>modelV0</td>\n",
       "      <td>0.982839</td>\n",
       "      <td>0.774545</td>\n",
       "      <td>0.763580</td>\n",
       "      <td>10</td>\n",
       "      <td>[gender_female, fare, age, pclass, sibsp, emba...</td>\n",
       "      <td>0217</td>\n",
       "    </tr>\n",
       "    <tr>\n",
       "      <th>2</th>\n",
       "      <td>modelV2</td>\n",
       "      <td>0.982839</td>\n",
       "      <td>0.778182</td>\n",
       "      <td>0.762427</td>\n",
       "      <td>10</td>\n",
       "      <td>[gender_male, fare, age, pclass, sibsp, embark...</td>\n",
       "      <td>0217</td>\n",
       "    </tr>\n",
       "    <tr>\n",
       "      <th>4</th>\n",
       "      <td>modelV4</td>\n",
       "      <td>0.995320</td>\n",
       "      <td>0.778182</td>\n",
       "      <td>0.761499</td>\n",
       "      <td>38</td>\n",
       "      <td>[gender_female, age_cleaning, fare_cleaning, r...</td>\n",
       "      <td>0220</td>\n",
       "    </tr>\n",
       "    <tr>\n",
       "      <th>3</th>\n",
       "      <td>modelV3</td>\n",
       "      <td>0.992200</td>\n",
       "      <td>0.774545</td>\n",
       "      <td>0.750843</td>\n",
       "      <td>19</td>\n",
       "      <td>[gender_female, age_cleaning, fare_cleaning, p...</td>\n",
       "      <td>0220</td>\n",
       "    </tr>\n",
       "    <tr>\n",
       "      <th>1</th>\n",
       "      <td>modelV1</td>\n",
       "      <td>0.982839</td>\n",
       "      <td>0.785455</td>\n",
       "      <td>0.495192</td>\n",
       "      <td>10</td>\n",
       "      <td>[gender_male, fare, age, pclass, sibsp, embark...</td>\n",
       "      <td>0217</td>\n",
       "    </tr>\n",
       "  </tbody>\n",
       "</table>\n",
       "</div>"
      ],
      "text/plain": [
       "     model  score_tr  score_te    auc_te  len_features  \\\n",
       "0  modelV0  0.982839  0.774545  0.763580            10   \n",
       "2  modelV2  0.982839  0.778182  0.762427            10   \n",
       "4  modelV4  0.995320  0.778182  0.761499            38   \n",
       "3  modelV3  0.992200  0.774545  0.750843            19   \n",
       "1  modelV1  0.982839  0.785455  0.495192            10   \n",
       "\n",
       "                                  feaute_importances create_dt  \n",
       "0  [gender_female, fare, age, pclass, sibsp, emba...      0217  \n",
       "2  [gender_male, fare, age, pclass, sibsp, embark...      0217  \n",
       "4  [gender_female, age_cleaning, fare_cleaning, r...      0220  \n",
       "3  [gender_female, age_cleaning, fare_cleaning, p...      0220  \n",
       "1  [gender_male, fare, age, pclass, sibsp, embark...      0217  "
      ]
     },
     "execution_count": 187,
     "metadata": {},
     "output_type": "execute_result"
    }
   ],
   "source": [
    "df_results.drop(['ori_te_pred'], axis=1, inplace=True) \n",
    "df_results"
   ]
  },
  {
   "cell_type": "code",
   "execution_count": 188,
   "id": "9adee6c9-b59e-448b-a870-2e185c0aff06",
   "metadata": {},
   "outputs": [],
   "source": [
    "df_results.to_json(args.save_results, orient=\"records\")"
   ]
  },
  {
   "cell_type": "code",
   "execution_count": 189,
   "id": "9c684d20-28e5-4b06-b5d3-24e5c47ed503",
   "metadata": {},
   "outputs": [
    {
     "data": {
      "text/plain": [
       "5"
      ]
     },
     "execution_count": 189,
     "metadata": {},
     "output_type": "execute_result"
    }
   ],
   "source": [
    "import json\n",
    "\n",
    "load_results = None\n",
    "with open(args.save_results, 'r') as file:\n",
    "    load_results = json.load(file)\n",
    "\n",
    "len(load_results)"
   ]
  },
  {
   "cell_type": "code",
   "execution_count": null,
   "id": "9afca284-f5cf-405a-bf01-eb0305caf38d",
   "metadata": {},
   "outputs": [],
   "source": []
  }
 ],
 "metadata": {
  "kernelspec": {
   "display_name": "Python 3 (ipykernel)",
   "language": "python",
   "name": "python3"
  },
  "language_info": {
   "codemirror_mode": {
    "name": "ipython",
    "version": 3
   },
   "file_extension": ".py",
   "mimetype": "text/x-python",
   "name": "python",
   "nbconvert_exporter": "python",
   "pygments_lexer": "ipython3",
   "version": "3.9.13"
  }
 },
 "nbformat": 4,
 "nbformat_minor": 5
}
