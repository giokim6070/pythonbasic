{
 "cells": [
  {
   "cell_type": "code",
   "execution_count": 1,
   "id": "ceffd89c-1f7a-46d9-bcf8-c67b83618d8f",
   "metadata": {},
   "outputs": [],
   "source": [
    "# Panel Datas 판넬 데이터\n",
    "\n",
    "# Pandas는 주로 데이터 분석에 사용됩니다.\n",
    "# 대부분의 데이터는 시계열(series)이나 표(table)의 형태로 나타낼 수 있습니다. \n",
    "# Pandas 패키지는 이러한 데이터를 다루기 위한 Series 클래스와 DataFrame 클래스를 제공합니다.\n",
    "# 숫자 테이블과 시계열 을 조작하기 위한 데이터 구조 와 연산을 제공합니다."
   ]
  },
  {
   "cell_type": "code",
   "execution_count": 2,
   "id": "fab3ec6d-1b72-4a74-ba14-857b5d450b15",
   "metadata": {},
   "outputs": [],
   "source": [
    "import pandas as pd  # pd pd라는 별칭을 사용."
   ]
  },
  {
   "cell_type": "code",
   "execution_count": 3,
   "id": "58652f95-0de1-49a1-ac80-a2773f32866c",
   "metadata": {},
   "outputs": [],
   "source": [
    "# Series class \n",
    "# 시리즈 객체를 생성할 때 series = pd.Series()\n",
    "# Series 클래스는 Numpy에서 제공하는 1차원 배열과 그 모양이 비슷합니다."
   ]
  },
  {
   "cell_type": "code",
   "execution_count": 4,
   "id": "5f11e706-62f7-4099-9947-4a912c310660",
   "metadata": {},
   "outputs": [
    {
     "data": {
      "text/plain": [
       "1     하나\n",
       "2      둘\n",
       "3      셋\n",
       "4      넷\n",
       "5     다섯\n",
       "6     여섯\n",
       "7     일곱\n",
       "8     여덟\n",
       "9     아홉\n",
       "10     열\n",
       "dtype: object"
      ]
     },
     "execution_count": 4,
     "metadata": {},
     "output_type": "execute_result"
    }
   ],
   "source": [
    "series = pd.Series([\"하나\", \"둘\", \"셋\", \"넷\", \"다섯\", \n",
    "                    \"여섯\", \"일곱\", \"여덟\", \"아홉\", \"열\"],\n",
    "                index = [_ for _ in range(1, 11)])\n",
    "series"
   ]
  },
  {
   "cell_type": "code",
   "execution_count": 5,
   "id": "f347e2c5-c044-4172-ad92-f02fb74cdff1",
   "metadata": {},
   "outputs": [],
   "source": [
    "# Series 생성하기\n",
    "# Series 객체를 만들 때 첫 인수로 data, 두 번째 인수로는 index를 넣습니다. \n",
    "# data 값으로 iterable, 배열, scalar value, dict(key와 index를 동일하게 사용하거나 생략)\n",
    "# 를 사용할 수 있습니다.\n",
    "# index는 label이라고도 합니다. index는 data와 length가 동일해야 합니다. \n",
    "# label은 꼭 유일(unique)할 필요는 없습니다. \n",
    "# 다만 반드시 hashable type만 사용 가능 합니다. \n",
    "# 만약 index를 생략할 경우 RangeIndex(0, 1, ... , n)를 제공합니다.\n",
    "\n",
    "# pandas.Series 생성\n",
    "# class pandas.Series(data = , index = , dtype =, name =, copy =, fastpath =)"
   ]
  },
  {
   "cell_type": "code",
   "execution_count": 6,
   "id": "a2eee637-412f-4c31-8872-74f51b78c5c0",
   "metadata": {},
   "outputs": [
    {
     "data": {
      "text/plain": [
       "서울    9904312\n",
       "부산    3448737\n",
       "인천    2890451\n",
       "대구    2466052\n",
       "dtype: int64"
      ]
     },
     "execution_count": 6,
     "metadata": {},
     "output_type": "execute_result"
    }
   ],
   "source": [
    "s = pd.Series([9_904_312, 3_448_737, 2_890_451, 2_466_052],\n",
    "              index = [\"서울\", \"부산\", \"인천\", \"대구\"])\n",
    "s"
   ]
  },
  {
   "cell_type": "code",
   "execution_count": 7,
   "id": "221d422c-9eac-47b4-a18b-23ac65a58232",
   "metadata": {},
   "outputs": [
    {
     "data": {
      "text/plain": [
       "0    10\n",
       "1    20\n",
       "2    30\n",
       "3    40\n",
       "4    50\n",
       "5    60\n",
       "6    70\n",
       "7    80\n",
       "8    90\n",
       "dtype: int64"
      ]
     },
     "execution_count": 7,
     "metadata": {},
     "output_type": "execute_result"
    }
   ],
   "source": [
    "test = pd.Series(list(range(10, 100, 10)))\n",
    "test"
   ]
  },
  {
   "cell_type": "code",
   "execution_count": 8,
   "id": "891eda2b-f498-4c31-b353-c07c066e5826",
   "metadata": {},
   "outputs": [
    {
     "data": {
      "text/plain": [
       "0    10\n",
       "1    11\n",
       "2    12\n",
       "3    13\n",
       "dtype: int64"
      ]
     },
     "execution_count": 8,
     "metadata": {},
     "output_type": "execute_result"
    }
   ],
   "source": [
    "pd.Series(range(10, 14))\n",
    "\n",
    "# index, value 개수가 동일해야 한다"
   ]
  },
  {
   "cell_type": "code",
   "execution_count": 9,
   "id": "69eeeb5d-ff84-4d73-9ece-28479839a1c2",
   "metadata": {},
   "outputs": [
    {
     "data": {
      "text/plain": [
       "Index(['서울', '부산', '인천', '대구'], dtype='object')"
      ]
     },
     "execution_count": 9,
     "metadata": {},
     "output_type": "execute_result"
    }
   ],
   "source": [
    "s.index"
   ]
  },
  {
   "cell_type": "code",
   "execution_count": 10,
   "id": "67ef9652-9eb0-42e1-8d3d-cdbeb828de78",
   "metadata": {},
   "outputs": [
    {
     "data": {
      "text/plain": [
       "array([9904312, 3448737, 2890451, 2466052], dtype=int64)"
      ]
     },
     "execution_count": 10,
     "metadata": {},
     "output_type": "execute_result"
    }
   ],
   "source": [
    "s.values\n",
    "\n",
    "# values 속성을 보니 아래 넘파이의 엔디어레이 형태네?"
   ]
  },
  {
   "cell_type": "code",
   "execution_count": 11,
   "id": "9359a363-1c07-452a-a466-db9c2e38d4b8",
   "metadata": {},
   "outputs": [
    {
     "data": {
      "text/plain": [
       "array([10, 20, 30, 40, 50, 60, 70, 80, 90], dtype=int64)"
      ]
     },
     "execution_count": 11,
     "metadata": {},
     "output_type": "execute_result"
    }
   ],
   "source": [
    "test.values   \n",
    "\n",
    "# 앤디어레이. 비교연산으로 벡터화연산 가능 "
   ]
  },
  {
   "cell_type": "code",
   "execution_count": 12,
   "id": "08f16b52-0ffc-4982-8832-474ae0d881aa",
   "metadata": {},
   "outputs": [
    {
     "data": {
      "text/plain": [
       "4"
      ]
     },
     "execution_count": 12,
     "metadata": {},
     "output_type": "execute_result"
    }
   ],
   "source": [
    "sum(test.values>50)"
   ]
  },
  {
   "cell_type": "code",
   "execution_count": 13,
   "id": "0a592f76-28d7-4ced-a866-f4d201939bf3",
   "metadata": {},
   "outputs": [
    {
     "data": {
      "text/plain": [
       "도시\n",
       "서울    9904312\n",
       "부산    3448737\n",
       "인천    2890451\n",
       "대구    2466052\n",
       "Name: 인구, dtype: int64"
      ]
     },
     "execution_count": 13,
     "metadata": {},
     "output_type": "execute_result"
    }
   ],
   "source": [
    "s.name = \"인구\"       # 시리즈 전체에 대해 이름을 붙여줌\n",
    "s.index.name = \"도시\"\n",
    "s"
   ]
  },
  {
   "cell_type": "code",
   "execution_count": 14,
   "id": "38e54017-e7f3-4135-8c3b-5decfa7ab135",
   "metadata": {},
   "outputs": [
    {
     "data": {
      "text/plain": [
       "a    1\n",
       "b    2\n",
       "c    3\n",
       "dtype: int64"
      ]
     },
     "execution_count": 14,
     "metadata": {},
     "output_type": "execute_result"
    }
   ],
   "source": [
    "d = {'a' : 1, 'b' : 2, 'c' : 3}\n",
    "ser = pd.Series(data = d, index = ['a', 'b', 'c'])\n",
    "ser\n",
    "\n",
    "# pandas.Series 생성\n",
    "# class pandas.Series(data = , index = , dtype =, name =, copy =, fastpath =)\n",
    "# 딕셔너리는 비시퀀스 순서가 없다. 그래서 키 값을ㄴ 가짐. 키:값 ///3.6버전 이상은 순서 지켜줌"
   ]
  },
  {
   "cell_type": "code",
   "execution_count": 15,
   "id": "aa4135bf-befe-4756-875c-a0afc91eb984",
   "metadata": {},
   "outputs": [
    {
     "data": {
      "text/plain": [
       "x   NaN\n",
       "y   NaN\n",
       "z   NaN\n",
       "dtype: float64"
      ]
     },
     "execution_count": 15,
     "metadata": {},
     "output_type": "execute_result"
    }
   ],
   "source": [
    "d = {'a' : 1, 'b' : 2, 'c' : 3}\n",
    "ser = pd.Series(data = d, index = ['x', 'y', 'z'])\n",
    "ser\n",
    "\n",
    "# NaN = np.nan\n",
    "# data가 dict일 때 index가 최초에 dict의 key로 만들어집니다. \n",
    "# 그 후 Series는 index 키워드로 전달받은 인수로 index를 재할당합니다. \n",
    "# 그래서 밑에 예제와 같이 Series 객체의 값이 NaN의 결과를 출력하는 것을 확인할 수 있습니다."
   ]
  },
  {
   "cell_type": "code",
   "execution_count": 16,
   "id": "61d79380-25d8-4bdb-94f9-30dc63586b1e",
   "metadata": {},
   "outputs": [
    {
     "data": {
      "text/plain": [
       "철수     88\n",
       "영희     95\n",
       "길동    100\n",
       "몽룡     67\n",
       "dtype: int64"
      ]
     },
     "execution_count": 16,
     "metadata": {},
     "output_type": "execute_result"
    }
   ],
   "source": [
    "a = pd.Series([88, 95, 100, 67],\n",
    "              index = [\"철수\", \"영희\", \"길동\", \"몽룡\"])\n",
    "a"
   ]
  },
  {
   "cell_type": "code",
   "execution_count": 17,
   "id": "c8daae24-2359-4799-b25f-5f0f191f992c",
   "metadata": {},
   "outputs": [
    {
     "data": {
      "text/plain": [
       "a    1\n",
       "b    2\n",
       "c    3\n",
       "dtype: int64"
      ]
     },
     "execution_count": 17,
     "metadata": {},
     "output_type": "execute_result"
    }
   ],
   "source": [
    "# Series index를 속성처럼 활용하기\n",
    "\n",
    "# 만약 label 값이 공백 없는 문자열인 경우에는 index label이 속성인 것처럼 \n",
    "# 마침표(.)를 활용하여 해당 index 값에 접근할 수도 있습니다.\n",
    "\n",
    "d = {'a':1, 'b':2, 'c':3}\n",
    "ser = pd.Series(data=d, index=['a', 'b', 'c'])\n",
    "ser"
   ]
  },
  {
   "cell_type": "code",
   "execution_count": 18,
   "id": "c1497597-6f14-40c9-ab50-9a8aa568ce8c",
   "metadata": {},
   "outputs": [
    {
     "data": {
      "text/plain": [
       "(1, 2, 3)"
      ]
     },
     "execution_count": 18,
     "metadata": {},
     "output_type": "execute_result"
    }
   ],
   "source": [
    "ser.a, ser.b, ser.c"
   ]
  },
  {
   "cell_type": "code",
   "execution_count": 19,
   "id": "a137e089-d130-4f7e-ac60-b80d8b1007a3",
   "metadata": {},
   "outputs": [],
   "source": [
    "# Series의 특징\n",
    "\n",
    "# Series 객체는 index label을 키(key)로 사용하기에 \n",
    "# 딕셔너리 자료형과 비슷한 특징을 갖습니다. \n",
    "# 그래서 Series를 딕셔너리와 같은 방식으로 사용할 수 있게 구현해놨습니다.\n",
    "# 예를 들어 in 연산도 가능하고, items() 메서드를 사용해서 \n",
    "# for문 루프를 돌려 각 요소의 키(key)와 값(value)에 접근할 수도 있습니다."
   ]
  },
  {
   "cell_type": "code",
   "execution_count": 20,
   "id": "07f520d0-b6f9-4f2b-8ea0-0ba9eed1e738",
   "metadata": {},
   "outputs": [
    {
     "data": {
      "text/plain": [
       "True"
      ]
     },
     "execution_count": 20,
     "metadata": {},
     "output_type": "execute_result"
    }
   ],
   "source": [
    "\"서울\" in s"
   ]
  },
  {
   "cell_type": "code",
   "execution_count": 21,
   "id": "5f5b843d-9c77-43da-aa0d-4797d85302c1",
   "metadata": {},
   "outputs": [
    {
     "data": {
      "text/plain": [
       "False"
      ]
     },
     "execution_count": 21,
     "metadata": {},
     "output_type": "execute_result"
    }
   ],
   "source": [
    "\"대전\" in s"
   ]
  },
  {
   "cell_type": "code",
   "execution_count": 22,
   "id": "b0500bc3-e39d-40e0-b01b-9762700fd270",
   "metadata": {},
   "outputs": [
    {
     "name": "stdout",
     "output_type": "stream",
     "text": [
      "서울의 인구는 300만이 넘습니다.\n",
      "부산의 인구는 300만이 넘습니다.\n"
     ]
    }
   ],
   "source": [
    "# 도시\n",
    "# 서울    9904312\n",
    "# 부산    3448737\n",
    "# 인천    2890451\n",
    "# 대구    2466052\n",
    "# Name: 인구, dtype: int64\n",
    "\n",
    "for i, v in s.items():   # 시리즈에 아이템즈라는 메서드 사용.....\n",
    "    if v > 3_000_000:\n",
    "        print(f\"{i}의 인구는 300만이 넘습니다.\")"
   ]
  },
  {
   "cell_type": "code",
   "execution_count": 23,
   "id": "3f3cd7cb-2c7b-49b5-96ff-995a6d2be1e1",
   "metadata": {},
   "outputs": [],
   "source": [
    "# Series 연산하기\n",
    "\n",
    "# 넘파이 배열처럼 Series도 벡터화 연산을 할 수 있습니다. \n",
    "# 다만 연산은 Series의 value에만 적용되며 index 값은 변하지 않는다. \n",
    "# 예를 들어 인구 숫자를 백만 단위로 만들기 위해 \n",
    "# Series 객체를 1,000,000 으로 나누어도 \n",
    "# index label에는 영향을 미치지않는 것을 볼 수 있다."
   ]
  },
  {
   "cell_type": "code",
   "execution_count": 24,
   "id": "e2ad24ac-99f4-4276-a52d-4f34da3a28b2",
   "metadata": {},
   "outputs": [
    {
     "data": {
      "text/plain": [
       "도시\n",
       "서울    9.904312\n",
       "부산    3.448737\n",
       "인천    2.890451\n",
       "대구    2.466052\n",
       "Name: 인구, dtype: float64"
      ]
     },
     "execution_count": 24,
     "metadata": {},
     "output_type": "execute_result"
    }
   ],
   "source": [
    "s / 1000000"
   ]
  },
  {
   "cell_type": "code",
   "execution_count": 25,
   "id": "30ee3351-b163-4ba0-8315-c86767b30781",
   "metadata": {},
   "outputs": [],
   "source": [
    "# Series 인덱싱\n",
    "\n",
    "# Series는 넘파이 배열에서 가능한 index 방법 이외에도 \n",
    "# index label을 이용한 인덱싱도 할 수 있습니다. \n",
    "# 배열 인덱싱이나 index label을 이용한 슬라이싱(slicing)도 가능합니다."
   ]
  },
  {
   "cell_type": "code",
   "execution_count": 26,
   "id": "b616a618-b731-4690-8496-2380c8ef4cd4",
   "metadata": {},
   "outputs": [
    {
     "data": {
      "text/plain": [
       "(3448737, 3448737)"
      ]
     },
     "execution_count": 26,
     "metadata": {},
     "output_type": "execute_result"
    }
   ],
   "source": [
    "s[1], s[\"부산\"]"
   ]
  },
  {
   "cell_type": "code",
   "execution_count": 27,
   "id": "b004b9e3-71e6-46e6-a194-aa417dc1ef32",
   "metadata": {},
   "outputs": [
    {
     "data": {
      "text/plain": [
       "(2466052, 2466052)"
      ]
     },
     "execution_count": 27,
     "metadata": {},
     "output_type": "execute_result"
    }
   ],
   "source": [
    "s[3], s[\"대구\"]"
   ]
  },
  {
   "cell_type": "code",
   "execution_count": 28,
   "id": "d9b19154-e3e9-409e-b2bf-020a686f52b9",
   "metadata": {},
   "outputs": [
    {
     "data": {
      "text/plain": [
       "2466052"
      ]
     },
     "execution_count": 28,
     "metadata": {},
     "output_type": "execute_result"
    }
   ],
   "source": [
    "s.대구   # .점찍고 불러오는 방법도 있음!!!!"
   ]
  },
  {
   "cell_type": "code",
   "execution_count": 29,
   "id": "77e9cbd1-1172-485d-b240-63a3205e73b5",
   "metadata": {},
   "outputs": [
    {
     "data": {
      "text/plain": [
       "도시\n",
       "서울    9904312\n",
       "대구    2466052\n",
       "부산    3448737\n",
       "Name: 인구, dtype: int64"
      ]
     },
     "execution_count": 29,
     "metadata": {},
     "output_type": "execute_result"
    }
   ],
   "source": [
    "s[[0, 3, 1]]"
   ]
  },
  {
   "cell_type": "code",
   "execution_count": 30,
   "id": "0460352d-7a26-4af5-88bc-c29de57aa742",
   "metadata": {},
   "outputs": [
    {
     "data": {
      "text/plain": [
       "도시\n",
       "서울    9904312\n",
       "대구    2466052\n",
       "부산    3448737\n",
       "Name: 인구, dtype: int64"
      ]
     },
     "execution_count": 30,
     "metadata": {},
     "output_type": "execute_result"
    }
   ],
   "source": [
    "# 배열 인덱싱을 하면 부분적인 값을 가지는 Series 자료형을 반환합니다. \n",
    "# 자료의 순서를 바꾸거나 특정한 자료만 취사 선택할 수 있습니다.\n",
    "\n",
    "s[['서울', '대구', '부산']]"
   ]
  },
  {
   "cell_type": "code",
   "execution_count": 31,
   "id": "f5417f8f-486f-47a1-9503-d2a274226529",
   "metadata": {},
   "outputs": [
    {
     "data": {
      "text/plain": [
       "도시\n",
       "서울    9904312\n",
       "Name: 인구, dtype: int64"
      ]
     },
     "execution_count": 31,
     "metadata": {},
     "output_type": "execute_result"
    }
   ],
   "source": [
    "# 단 하나의 값을 시리즈 형태로 가져오고 싶으면 다음과 같이 값이 \n",
    "# 하나인 리스트로 인덱싱하여 작성할 수 있습니다.\n",
    "\n",
    "s[[0]]"
   ]
  },
  {
   "cell_type": "code",
   "execution_count": 32,
   "id": "05183b96-73ee-4dbe-b317-3ed55109f610",
   "metadata": {},
   "outputs": [
    {
     "data": {
      "text/plain": [
       "도시\n",
       "인천    2890451\n",
       "Name: 인구, dtype: int64"
      ]
     },
     "execution_count": 32,
     "metadata": {},
     "output_type": "execute_result"
    }
   ],
   "source": [
    "s[[2]]     # s[[\"인천\"]] 도 동일 결과가 나옴"
   ]
  },
  {
   "cell_type": "code",
   "execution_count": 33,
   "id": "a461c4c7-c26b-42df-9fa4-d318e90ba6ed",
   "metadata": {},
   "outputs": [],
   "source": [
    "# Series 슬라이싱\n",
    "\n",
    "# 슬라이싱을 해도 부분적인 Series를 반환합니다. \n",
    "# 이 때 문자열 label을 이용한 슬라이싱을 하는 경우에는 숫자 인덱싱과 달리 \n",
    "# 콜론(:) 기호 뒤에 오는 값도 결과에 포함되므로 주의해야 합니다."
   ]
  },
  {
   "cell_type": "code",
   "execution_count": 34,
   "id": "9ddfaafd-0934-494d-aa00-0b4336564274",
   "metadata": {},
   "outputs": [
    {
     "data": {
      "text/plain": [
       "도시\n",
       "부산    3448737\n",
       "인천    2890451\n",
       "Name: 인구, dtype: int64"
      ]
     },
     "execution_count": 34,
     "metadata": {},
     "output_type": "execute_result"
    }
   ],
   "source": [
    "s[1:3]"
   ]
  },
  {
   "cell_type": "code",
   "execution_count": 35,
   "id": "a10d4bf9-5da9-4b21-9b0e-c899f18a9c45",
   "metadata": {},
   "outputs": [
    {
     "data": {
      "text/plain": [
       "도시\n",
       "부산    3448737\n",
       "인천    2890451\n",
       "대구    2466052\n",
       "Name: 인구, dtype: int64"
      ]
     },
     "execution_count": 35,
     "metadata": {},
     "output_type": "execute_result"
    }
   ],
   "source": [
    "s[\"부산\":\"대구\"]"
   ]
  },
  {
   "cell_type": "code",
   "execution_count": 36,
   "id": "bc0031dc-c52b-4231-9244-de55fefd1ed3",
   "metadata": {},
   "outputs": [],
   "source": [
    "# Series index 기반 연산"
   ]
  },
  {
   "cell_type": "code",
   "execution_count": 37,
   "id": "80ed4fb6-cca6-4ee6-8c80-cf29cbce446f",
   "metadata": {},
   "outputs": [
    {
     "data": {
      "text/plain": [
       "서울    9631482\n",
       "부산    3393191\n",
       "인천    2632035\n",
       "대전    1490158\n",
       "dtype: int64"
      ]
     },
     "execution_count": 37,
     "metadata": {},
     "output_type": "execute_result"
    }
   ],
   "source": [
    "s2 = pd.Series({\"서울\":9631482, \"부산\":3393191, \"인천\":2632035, \"대전\":1490158})\n",
    "s2"
   ]
  },
  {
   "cell_type": "code",
   "execution_count": 38,
   "id": "615ebd26-a3a1-4cf1-9c36-9a6189df4546",
   "metadata": {},
   "outputs": [
    {
     "data": {
      "text/plain": [
       "대구         NaN\n",
       "대전         NaN\n",
       "부산     55546.0\n",
       "서울    272830.0\n",
       "인천    258416.0\n",
       "dtype: float64"
      ]
     },
     "execution_count": 38,
     "metadata": {},
     "output_type": "execute_result"
    }
   ],
   "source": [
    "ds = s - s2\n",
    "ds"
   ]
  },
  {
   "cell_type": "code",
   "execution_count": 39,
   "id": "a99661fb-3eea-479d-88f8-4d0f16f50fe3",
   "metadata": {},
   "outputs": [],
   "source": [
    "# 위 내용 설명\n",
    "\n",
    "# 이번에는 2015년도와 2010년의 인구 증가를 계산해 보겠습니다. \n",
    "# 두 개의 Series의 차이를 구하면 됩니다. 두 Series에 대해 연산을 하는 경우\n",
    "# index가 같은 데이터에 대해서만 차이를 구합니다.\n",
    "# 대구와 대전의 경우에는 2010년 자료와 2015년 자료가 모두 존재하지\n",
    "# 않기 때문에 계산이 불가능하므로 NaN(Not a Number)이라는 값을 가지게 됩니다."
   ]
  },
  {
   "cell_type": "code",
   "execution_count": 40,
   "id": "9b49257a-9adf-4f10-905d-4501425860ef",
   "metadata": {},
   "outputs": [],
   "source": [
    "# Series에서 값이 NaN인지 확인\n",
    "\n",
    "# Series의 값이 NaN이면 True NaN이 아니면 False인 \n",
    "# bool type의 Series를 구하려면 isnull() 메서드를 사용하면 됩니다.\n",
    "\n",
    "# Series의 값이 NaN이 아니면 True NaN이면 False 값을 갖는 \n",
    "# bool type의 Series를 구하려면 notnull() 메서드를 사용하면 됩니다.\n",
    "\n",
    "# notnull() 메서드로 구한 True / False 값을갖는 시리즈를 활용하여 \n",
    "# NaN인 값을 배제한 Series 객체를 인덱싱하여 만들 수있습니다."
   ]
  },
  {
   "cell_type": "code",
   "execution_count": 41,
   "id": "9c6efc38-792e-4ada-9e1d-f6b0723cb5e6",
   "metadata": {},
   "outputs": [
    {
     "data": {
      "text/plain": [
       "대구     True\n",
       "대전     True\n",
       "부산    False\n",
       "서울    False\n",
       "인천    False\n",
       "dtype: bool"
      ]
     },
     "execution_count": 41,
     "metadata": {},
     "output_type": "execute_result"
    }
   ],
   "source": [
    "ds.isnull()"
   ]
  },
  {
   "cell_type": "code",
   "execution_count": 42,
   "id": "b442344d-aa65-454d-b62e-09d41ce5be76",
   "metadata": {},
   "outputs": [
    {
     "data": {
      "text/plain": [
       "대구    False\n",
       "대전    False\n",
       "부산     True\n",
       "서울     True\n",
       "인천     True\n",
       "dtype: bool"
      ]
     },
     "execution_count": 42,
     "metadata": {},
     "output_type": "execute_result"
    }
   ],
   "source": [
    "ds.notnull()"
   ]
  },
  {
   "cell_type": "code",
   "execution_count": 43,
   "id": "f6547a20-2b06-484f-a0e9-d73a548f159f",
   "metadata": {},
   "outputs": [
    {
     "data": {
      "text/plain": [
       "부산     55546.0\n",
       "서울    272830.0\n",
       "인천    258416.0\n",
       "dtype: float64"
      ]
     },
     "execution_count": 43,
     "metadata": {},
     "output_type": "execute_result"
    }
   ],
   "source": [
    "ds[ds.notnull()]"
   ]
  },
  {
   "cell_type": "code",
   "execution_count": 44,
   "id": "95cc3fa7-bd90-4dd6-a2a0-1a1f3e47375e",
   "metadata": {},
   "outputs": [],
   "source": [
    "# Series에서 NaN이 아닌 값 구하기\n",
    "\n",
    "# 마찬가지로 NaN 값인 것을 배제하고 2010년 대비 2015년 인구 증가율(%)은\n",
    "# 다음과 같이 구할 수 있습니다."
   ]
  },
  {
   "cell_type": "code",
   "execution_count": 45,
   "id": "586cdab7-a70f-4624-a37b-d0297457e46d",
   "metadata": {},
   "outputs": [
    {
     "data": {
      "text/plain": [
       "부산    1.636984\n",
       "서울    2.832690\n",
       "인천    9.818107\n",
       "dtype: float64"
      ]
     },
     "execution_count": 45,
     "metadata": {},
     "output_type": "execute_result"
    }
   ],
   "source": [
    "rs = (s - s2) / s2 *100\n",
    "rs = rs[rs.notnull()]\n",
    "rs"
   ]
  },
  {
   "cell_type": "code",
   "execution_count": 46,
   "id": "90741250-952d-42fd-9595-629d13495b10",
   "metadata": {},
   "outputs": [
    {
     "data": {
      "text/plain": [
       "대구         NaN\n",
       "대전         NaN\n",
       "부산     55546.0\n",
       "서울    272830.0\n",
       "인천    258416.0\n",
       "dtype: float64"
      ]
     },
     "execution_count": 46,
     "metadata": {},
     "output_type": "execute_result"
    }
   ],
   "source": [
    "# 연습문제\n",
    "\n",
    "p = s - s2\n",
    "p"
   ]
  },
  {
   "cell_type": "code",
   "execution_count": 47,
   "id": "a2482e76-f781-4676-a76d-a9315d2a4ecb",
   "metadata": {},
   "outputs": [
    {
     "data": {
      "text/plain": [
       "부산     55546.0\n",
       "서울    272830.0\n",
       "인천    258416.0\n",
       "dtype: float64"
      ]
     },
     "execution_count": 47,
     "metadata": {},
     "output_type": "execute_result"
    }
   ],
   "source": [
    "p = p[p.notnull()]\n",
    "p"
   ]
  },
  {
   "cell_type": "code",
   "execution_count": 48,
   "id": "3a08bac5-bc0f-4ce6-beb3-ae221fbed1a5",
   "metadata": {},
   "outputs": [
    {
     "data": {
      "text/plain": [
       "서울    272830.0\n",
       "dtype: float64"
      ]
     },
     "execution_count": 48,
     "metadata": {},
     "output_type": "execute_result"
    }
   ],
   "source": [
    "p[[p.argmax()]]  # 리스트를 감싸서..."
   ]
  },
  {
   "cell_type": "code",
   "execution_count": 49,
   "id": "1b2aaf52-f2bb-4dc6-8eea-e6c7eb835945",
   "metadata": {},
   "outputs": [],
   "source": [
    "# Series 데이터 추가, 갱신, 삭제\n",
    "\n",
    "# 딕셔너리 때와 비슷하게 인덱싱을 경우에 맞춰 사용하면 \n",
    "# 데이터를 추가(add)하거나 갱신(update)할 수 있습니다.\n",
    "# 기존에 있는 index에 값을 할당하면 갱신됩니다."
   ]
  },
  {
   "cell_type": "code",
   "execution_count": 50,
   "id": "7fceb91c-a478-4581-a966-ef49d1d0fdd7",
   "metadata": {},
   "outputs": [
    {
     "data": {
      "text/plain": [
       "부산    1.636984\n",
       "서울    2.832690\n",
       "인천    9.818107\n",
       "dtype: float64"
      ]
     },
     "execution_count": 50,
     "metadata": {},
     "output_type": "execute_result"
    }
   ],
   "source": [
    "rs  # 인구 증가율(%)"
   ]
  },
  {
   "cell_type": "code",
   "execution_count": 51,
   "id": "32aa00e5-02f1-40f0-8aba-816a4d10cd37",
   "metadata": {},
   "outputs": [
    {
     "data": {
      "text/plain": [
       "부산    1.630000\n",
       "서울    2.832690\n",
       "인천    9.818107\n",
       "dtype: float64"
      ]
     },
     "execution_count": 51,
     "metadata": {},
     "output_type": "execute_result"
    }
   ],
   "source": [
    "rs[\"부산\"] = 1.63\n",
    "rs"
   ]
  },
  {
   "cell_type": "code",
   "execution_count": 52,
   "id": "133f4b8e-7459-4a1e-a900-638e6db9b42f",
   "metadata": {},
   "outputs": [
    {
     "data": {
      "text/plain": [
       "부산    1.63\n",
       "서울    2.83\n",
       "인천    9.82\n",
       "dtype: float64"
      ]
     },
     "execution_count": 52,
     "metadata": {},
     "output_type": "execute_result"
    }
   ],
   "source": [
    "# 연습문제\n",
    "rs[\"서울\"] = 2.83\n",
    "rs[\"인천\"] = 9.82\n",
    "rs\n",
    "# 인덱스 이용"
   ]
  },
  {
   "cell_type": "code",
   "execution_count": 53,
   "id": "bad8b298-11b0-43da-956b-7aa1c5d5658b",
   "metadata": {},
   "outputs": [
    {
     "data": {
      "text/plain": [
       "부산    1.63\n",
       "서울    2.83\n",
       "인천    9.82\n",
       "dtype: float64"
      ]
     },
     "execution_count": 53,
     "metadata": {},
     "output_type": "execute_result"
    }
   ],
   "source": [
    "# 위의 문제 슬라이싱 이용하여 풀이\n",
    "rs[\"서울\":\"인천\"] = (2.83, 9.82)   # 튜플같은 경우 ()소괄호 생략 가능합니데이\n",
    "rs"
   ]
  },
  {
   "cell_type": "code",
   "execution_count": 54,
   "id": "242a9445-e367-4a92-a24a-43d62ed270b9",
   "metadata": {},
   "outputs": [],
   "source": [
    "# Series 데이터 추가, 갱신, 삭제\n",
    "\n",
    "# 없는 index에 값을 할당하면 Series에 데이터가 추가(add)됩니다. \n",
    "# 아래 예제에서는 “대구\"라는 index는 현재 없는데 \n",
    "# 그 index에 값을 1.41 할당하여 데이터를 추가하고 있습니다."
   ]
  },
  {
   "cell_type": "code",
   "execution_count": 55,
   "id": "f2cca281-2c78-41e2-ad4b-d67965a22236",
   "metadata": {},
   "outputs": [
    {
     "data": {
      "text/plain": [
       "부산    1.63\n",
       "서울    2.83\n",
       "인천    9.82\n",
       "dtype: float64"
      ]
     },
     "execution_count": 55,
     "metadata": {},
     "output_type": "execute_result"
    }
   ],
   "source": [
    "rs"
   ]
  },
  {
   "cell_type": "code",
   "execution_count": 56,
   "id": "0a962599-02e5-4c7c-9da1-0b539d884679",
   "metadata": {},
   "outputs": [
    {
     "data": {
      "text/plain": [
       "부산    1.63\n",
       "서울    2.83\n",
       "인천    9.82\n",
       "대구    1.41\n",
       "dtype: float64"
      ]
     },
     "execution_count": 56,
     "metadata": {},
     "output_type": "execute_result"
    }
   ],
   "source": [
    "rs[\"대구\"] = 1.41   # 데이터 추가\n",
    "rs"
   ]
  },
  {
   "cell_type": "code",
   "execution_count": 57,
   "id": "7521a548-592e-4fc1-b6f9-6e302b8ddfdf",
   "metadata": {},
   "outputs": [
    {
     "data": {
      "text/plain": [
       "부산    1.63\n",
       "서울    2.83\n",
       "인천    9.82\n",
       "대구    1.41\n",
       "dtype: float64"
      ]
     },
     "execution_count": 57,
     "metadata": {},
     "output_type": "execute_result"
    }
   ],
   "source": [
    "rs"
   ]
  },
  {
   "cell_type": "code",
   "execution_count": 58,
   "id": "554edcc1-8469-446a-8126-3dfd0ea4ddd7",
   "metadata": {},
   "outputs": [],
   "source": [
    "del rs[\"서울\"]   # 데이터 삭제"
   ]
  },
  {
   "cell_type": "code",
   "execution_count": 59,
   "id": "8ceb21cc-7660-4971-b920-cda02d0df693",
   "metadata": {},
   "outputs": [
    {
     "data": {
      "text/plain": [
       "부산    1.63\n",
       "인천    9.82\n",
       "대구    1.41\n",
       "dtype: float64"
      ]
     },
     "execution_count": 59,
     "metadata": {},
     "output_type": "execute_result"
    }
   ],
   "source": [
    "rs"
   ]
  },
  {
   "cell_type": "code",
   "execution_count": 60,
   "id": "7e2c149f-1d71-49f6-8bce-3b633500df2c",
   "metadata": {},
   "outputs": [
    {
     "name": "stdout",
     "output_type": "stream",
     "text": [
      "카카오     60010\n",
      "삼성전자    61000\n",
      "LG전자    90000\n",
      "dtype: int64\n",
      "카카오      60200\n",
      "삼성전자     61200\n",
      "네이버     200100\n",
      "dtype: int64\n"
     ]
    }
   ],
   "source": [
    "#연습문제\n",
    "\n",
    "fin1 = {\"카카오\":60010, \"삼성전자\":61000, \"LG전자\":90000}\n",
    "fin2_value = [60200, 61200, 200100]\n",
    "fin2_index = [\"카카오\", \"삼성전자\", \"네이버\"]\n",
    "\n",
    "ser_finance1 = pd.Series(fin1)\n",
    "ser_finance2 = pd.Series(fin2_value, fin2_index)\n",
    "\n",
    "print(ser_finance1)\n",
    "print(ser_finance2)"
   ]
  },
  {
   "cell_type": "code",
   "execution_count": 61,
   "id": "7a0654ce-4417-4068-80cd-c214f7c64f08",
   "metadata": {},
   "outputs": [
    {
     "data": {
      "text/plain": [
       "LG전자      NaN\n",
       "네이버       NaN\n",
       "삼성전자   -200.0\n",
       "카카오    -190.0\n",
       "dtype: float64"
      ]
     },
     "execution_count": 61,
     "metadata": {},
     "output_type": "execute_result"
    }
   ],
   "source": [
    "ser_finance1 - ser_finance2\n",
    "# (-, +, * 경우 )LG전자, 네이버에서 결과가 NaN이고, 그 결과 전체 dtype은 float임"
   ]
  },
  {
   "cell_type": "code",
   "execution_count": 62,
   "id": "831aaf09-07f9-45b1-89ce-4662e5928a71",
   "metadata": {},
   "outputs": [
    {
     "data": {
      "text/plain": [
       "LG전자         NaN\n",
       "네이버          NaN\n",
       "삼성전자    122200.0\n",
       "카카오     120210.0\n",
       "dtype: float64"
      ]
     },
     "execution_count": 62,
     "metadata": {},
     "output_type": "execute_result"
    }
   ],
   "source": [
    "ser_finance1 + ser_finance2"
   ]
  },
  {
   "cell_type": "code",
   "execution_count": 63,
   "id": "622a0602-0d6a-4689-97a5-c74a0abda219",
   "metadata": {},
   "outputs": [
    {
     "data": {
      "text/plain": [
       "LG전자             NaN\n",
       "네이버              NaN\n",
       "삼성전자    3.733200e+09\n",
       "카카오     3.612602e+09\n",
       "dtype: float64"
      ]
     },
     "execution_count": 63,
     "metadata": {},
     "output_type": "execute_result"
    }
   ],
   "source": [
    "ser_finance1 * ser_finance2"
   ]
  },
  {
   "cell_type": "code",
   "execution_count": 64,
   "id": "db8a0be3-9964-4db9-8eca-8c732d3f87e0",
   "metadata": {},
   "outputs": [
    {
     "data": {
      "text/plain": [
       "LG전자         NaN\n",
       "네이버          NaN\n",
       "삼성전자    0.996732\n",
       "카카오     0.996844\n",
       "dtype: float64"
      ]
     },
     "execution_count": 64,
     "metadata": {},
     "output_type": "execute_result"
    }
   ],
   "source": [
    "ser_finance1 / ser_finance2\n",
    "# ( / 경우) lG전자, 네이버에서 결과가 NaN 이고, 나눗셈은 항상 결과값이 float임"
   ]
  },
  {
   "cell_type": "code",
   "execution_count": 65,
   "id": "7a3aecb6-4de5-4e71-a956-871e5760f624",
   "metadata": {},
   "outputs": [],
   "source": [
    "#연습문제\n",
    "\n",
    "# result.notnull()"
   ]
  },
  {
   "cell_type": "code",
   "execution_count": 66,
   "id": "844b267d-1939-42ed-9b43-76122fedf7f9",
   "metadata": {},
   "outputs": [
    {
     "data": {
      "text/plain": [
       "삼성전자   -200.0\n",
       "카카오    -190.0\n",
       "dtype: float64"
      ]
     },
     "execution_count": 66,
     "metadata": {},
     "output_type": "execute_result"
    }
   ],
   "source": [
    "result = ser_finance1 - ser_finance2\n",
    "result[result.notnull()]\n",
    "\n",
    "# notnull() 기억하기!!"
   ]
  },
  {
   "cell_type": "code",
   "execution_count": 67,
   "id": "eb4477ac-a5de-4eac-98d2-b658cdfcaffe",
   "metadata": {},
   "outputs": [],
   "source": [
    "# DataFrame class\n",
    "# class pandas.DataFrame(data, index, columns, dtype, copy)\n",
    "\n",
    "# DataFrame은 각 column마다 자료형이 다를 수 있다.\n",
    "# DataFrame은 Pandas의 주요 데이터 구조입니다. \n",
    "# label된 row와 column, 두 개의 축을 갖는 데이터 구조입니다. \n",
    "# 산술 연산은 row와 column 모두 적용됩니다. \n",
    "# Series 객체를 갖는 dictionary라고 생각하면 비슷합니다.\n",
    "# 첫 인자로 data, 두 번째 인자로 index를 전달합니다.\n",
    "\n",
    "# 시리즈 밸류를 갖는 딕셔너리라고 생각을 해라...\n",
    "# dict --> key(index):value(Series)  2차원!!"
   ]
  },
  {
   "cell_type": "code",
   "execution_count": 68,
   "id": "2f6532c2-dfce-4607-93c9-4197ec03fa82",
   "metadata": {},
   "outputs": [],
   "source": [
    "# DataFrame 생성\n",
    "\n",
    "# Series가 1차원 벡터 데이터에 행방향 index(row index)를 붙인 것이라면 \n",
    "# DataFrame 클래스는 2차원 행렬 데이터에 index를 붙인 것과 형태가 비슷합니다. \n",
    "# row와 column을 갖는 2차원이므로 \n",
    "# 각각의 행 데이터의 이름이 되는 행 index(row index) 뿐 아니라\n",
    "# 각각의 열 데이터의 이름이 되는 열 index(column index)도 붙일 수 있습니다.\n",
    "\n",
    "\n",
    "# DataFrame을 만드는 방법은 다양합니다. 가장 간단한 방법은 다음과 같습니다.\n",
    "# (데이터프레임은 표이고, 시리즈가 모여져서 만들어진거다 생각하면 되겠다....호호)\n",
    "\n",
    "# 1. 우선 하나의 열이 되는 데이터를 리스트나 일차원 배열을 준비합니다.\n",
    "# 2. 이 각각의 열에 대한 이름(label)을 키로 가지는 딕셔너리를 만듭니다.\n",
    "# 3. 이 데이터를 DataFrame 클래스 생성자에 넣는다. \n",
    "# 동시에 열방향 index는 columns 인수로, 행방향 index는 index 인수로 지정합니다."
   ]
  },
  {
   "cell_type": "code",
   "execution_count": 69,
   "id": "9078da40-b32f-4e55-9033-8d5e208847f8",
   "metadata": {},
   "outputs": [
    {
     "data": {
      "text/html": [
       "<div>\n",
       "<style scoped>\n",
       "    .dataframe tbody tr th:only-of-type {\n",
       "        vertical-align: middle;\n",
       "    }\n",
       "\n",
       "    .dataframe tbody tr th {\n",
       "        vertical-align: top;\n",
       "    }\n",
       "\n",
       "    .dataframe thead th {\n",
       "        text-align: right;\n",
       "    }\n",
       "</style>\n",
       "<table border=\"1\" class=\"dataframe\">\n",
       "  <thead>\n",
       "    <tr style=\"text-align: right;\">\n",
       "      <th></th>\n",
       "      <th>col1</th>\n",
       "      <th>col2</th>\n",
       "    </tr>\n",
       "  </thead>\n",
       "  <tbody>\n",
       "    <tr>\n",
       "      <th>0</th>\n",
       "      <td>1</td>\n",
       "      <td>3</td>\n",
       "    </tr>\n",
       "    <tr>\n",
       "      <th>1</th>\n",
       "      <td>2</td>\n",
       "      <td>4</td>\n",
       "    </tr>\n",
       "  </tbody>\n",
       "</table>\n",
       "</div>"
      ],
      "text/plain": [
       "   col1  col2\n",
       "0     1     3\n",
       "1     2     4"
      ]
     },
     "execution_count": 69,
     "metadata": {},
     "output_type": "execute_result"
    }
   ],
   "source": [
    "d = {\"col1\":[1,2], \"col2\":[3,4]}\n",
    "df = pd.DataFrame(data=d)\n",
    "df"
   ]
  },
  {
   "cell_type": "code",
   "execution_count": 70,
   "id": "6222ddcd-c980-4b4c-bc74-f5b3c1a587b7",
   "metadata": {},
   "outputs": [
    {
     "data": {
      "text/html": [
       "<div>\n",
       "<style scoped>\n",
       "    .dataframe tbody tr th:only-of-type {\n",
       "        vertical-align: middle;\n",
       "    }\n",
       "\n",
       "    .dataframe tbody tr th {\n",
       "        vertical-align: top;\n",
       "    }\n",
       "\n",
       "    .dataframe thead th {\n",
       "        text-align: right;\n",
       "    }\n",
       "</style>\n",
       "<table border=\"1\" class=\"dataframe\">\n",
       "  <thead>\n",
       "    <tr style=\"text-align: right;\">\n",
       "      <th></th>\n",
       "      <th>지역</th>\n",
       "      <th>2015</th>\n",
       "      <th>2010</th>\n",
       "      <th>2005</th>\n",
       "      <th>2000</th>\n",
       "      <th>2010-2015 증가율</th>\n",
       "    </tr>\n",
       "  </thead>\n",
       "  <tbody>\n",
       "    <tr>\n",
       "      <th>서울</th>\n",
       "      <td>수도권</td>\n",
       "      <td>9904312</td>\n",
       "      <td>9631482</td>\n",
       "      <td>9762546</td>\n",
       "      <td>9853972</td>\n",
       "      <td>0.0283</td>\n",
       "    </tr>\n",
       "    <tr>\n",
       "      <th>부산</th>\n",
       "      <td>경상권</td>\n",
       "      <td>3448737</td>\n",
       "      <td>3393191</td>\n",
       "      <td>3512547</td>\n",
       "      <td>3655437</td>\n",
       "      <td>0.0163</td>\n",
       "    </tr>\n",
       "    <tr>\n",
       "      <th>인천</th>\n",
       "      <td>수도권</td>\n",
       "      <td>2890451</td>\n",
       "      <td>2632035</td>\n",
       "      <td>2517680</td>\n",
       "      <td>2466338</td>\n",
       "      <td>0.0982</td>\n",
       "    </tr>\n",
       "    <tr>\n",
       "      <th>대구</th>\n",
       "      <td>경상권</td>\n",
       "      <td>2466052</td>\n",
       "      <td>2431774</td>\n",
       "      <td>2456016</td>\n",
       "      <td>2473990</td>\n",
       "      <td>0.0141</td>\n",
       "    </tr>\n",
       "  </tbody>\n",
       "</table>\n",
       "</div>"
      ],
      "text/plain": [
       "     지역     2015     2010     2005     2000  2010-2015 증가율\n",
       "서울  수도권  9904312  9631482  9762546  9853972         0.0283\n",
       "부산  경상권  3448737  3393191  3512547  3655437         0.0163\n",
       "인천  수도권  2890451  2632035  2517680  2466338         0.0982\n",
       "대구  경상권  2466052  2431774  2456016  2473990         0.0141"
      ]
     },
     "execution_count": 70,
     "metadata": {},
     "output_type": "execute_result"
    }
   ],
   "source": [
    "# 좀 더 큰 스케일의 데이터\n",
    "\n",
    "data = {\n",
    "    \"2015\" : [9904312, 3448737, 2890451, 2466052],\n",
    "    \"2010\" : [9631482, 3393191, 2632035, 2431774],\n",
    "    \"2005\" : [9762546, 3512547, 2517680, 2456016],\n",
    "    \"2000\" : [9853972, 3655437, 2466338, 2473990],\n",
    "    \"지역\" : [\"수도권\", \"경상권\", \"수도권\", \"경상권\"],\n",
    "    \"2010-2015 증가율\" :[0.0283, 0.0163, 0.0982, 0.0141]\n",
    "}\n",
    "\n",
    "columns = [\"지역\", \"2015\", \"2010\", \"2005\", \"2000\", \"2010-2015 증가율\"]\n",
    "index = [\"서울\", \"부산\", \"인천\", \"대구\"]\n",
    "df = pd.DataFrame(data, index = index, columns = columns)\n",
    "df"
   ]
  },
  {
   "cell_type": "code",
   "execution_count": 71,
   "id": "b139a953-6854-4987-8509-a4ed8e84ee63",
   "metadata": {},
   "outputs": [
    {
     "data": {
      "text/plain": [
       "지역                object\n",
       "2015               int64\n",
       "2010               int64\n",
       "2005               int64\n",
       "2000               int64\n",
       "2010-2015 증가율    float64\n",
       "dtype: object"
      ]
     },
     "execution_count": 71,
     "metadata": {},
     "output_type": "execute_result"
    }
   ],
   "source": [
    "df.dtypes\n",
    "\n",
    "# 앞서 이야기했듯 DataFrame의 각 column은 자료형이 다를 수 있음."
   ]
  },
  {
   "cell_type": "code",
   "execution_count": 72,
   "id": "28e50331-0a51-4f55-8883-94a073f6ca1a",
   "metadata": {},
   "outputs": [],
   "source": [
    "# DataFrame의 속성 values, columns, index"
   ]
  },
  {
   "cell_type": "code",
   "execution_count": 73,
   "id": "fe9536a6-87aa-4666-85e2-8282ccc5534e",
   "metadata": {},
   "outputs": [
    {
     "data": {
      "text/plain": [
       "array([['수도권', 9904312, 9631482, 9762546, 9853972, 0.0283],\n",
       "       ['경상권', 3448737, 3393191, 3512547, 3655437, 0.0163],\n",
       "       ['수도권', 2890451, 2632035, 2517680, 2466338, 0.0982],\n",
       "       ['경상권', 2466052, 2431774, 2456016, 2473990, 0.0141]], dtype=object)"
      ]
     },
     "execution_count": 73,
     "metadata": {},
     "output_type": "execute_result"
    }
   ],
   "source": [
    "df.values"
   ]
  },
  {
   "cell_type": "code",
   "execution_count": 74,
   "id": "3531f5dc-e86d-47db-b84b-e85700af33dd",
   "metadata": {},
   "outputs": [
    {
     "data": {
      "text/plain": [
       "Index(['지역', '2015', '2010', '2005', '2000', '2010-2015 증가율'], dtype='object')"
      ]
     },
     "execution_count": 74,
     "metadata": {},
     "output_type": "execute_result"
    }
   ],
   "source": [
    "df.columns"
   ]
  },
  {
   "cell_type": "code",
   "execution_count": 75,
   "id": "5fdc05d1-40d7-4e06-87ac-d70135b30fa7",
   "metadata": {},
   "outputs": [
    {
     "data": {
      "text/plain": [
       "Index(['서울', '부산', '인천', '대구'], dtype='object')"
      ]
     },
     "execution_count": 75,
     "metadata": {},
     "output_type": "execute_result"
    }
   ],
   "source": [
    "df.index"
   ]
  },
  {
   "cell_type": "code",
   "execution_count": 76,
   "id": "ffe8f826-7485-4b1f-ade5-e854b8c0225a",
   "metadata": {},
   "outputs": [],
   "source": [
    "# DataFrame 이름 붙이기"
   ]
  },
  {
   "cell_type": "code",
   "execution_count": 77,
   "id": "9d88298d-06d1-4cee-8846-225f588919bc",
   "metadata": {},
   "outputs": [
    {
     "data": {
      "text/html": [
       "<div>\n",
       "<style scoped>\n",
       "    .dataframe tbody tr th:only-of-type {\n",
       "        vertical-align: middle;\n",
       "    }\n",
       "\n",
       "    .dataframe tbody tr th {\n",
       "        vertical-align: top;\n",
       "    }\n",
       "\n",
       "    .dataframe thead th {\n",
       "        text-align: right;\n",
       "    }\n",
       "</style>\n",
       "<table border=\"1\" class=\"dataframe\">\n",
       "  <thead>\n",
       "    <tr style=\"text-align: right;\">\n",
       "      <th>특성</th>\n",
       "      <th>지역</th>\n",
       "      <th>2015</th>\n",
       "      <th>2010</th>\n",
       "      <th>2005</th>\n",
       "      <th>2000</th>\n",
       "      <th>2010-2015 증가율</th>\n",
       "    </tr>\n",
       "    <tr>\n",
       "      <th>도시</th>\n",
       "      <th></th>\n",
       "      <th></th>\n",
       "      <th></th>\n",
       "      <th></th>\n",
       "      <th></th>\n",
       "      <th></th>\n",
       "    </tr>\n",
       "  </thead>\n",
       "  <tbody>\n",
       "    <tr>\n",
       "      <th>서울</th>\n",
       "      <td>수도권</td>\n",
       "      <td>9904312</td>\n",
       "      <td>9631482</td>\n",
       "      <td>9762546</td>\n",
       "      <td>9853972</td>\n",
       "      <td>0.0283</td>\n",
       "    </tr>\n",
       "    <tr>\n",
       "      <th>부산</th>\n",
       "      <td>경상권</td>\n",
       "      <td>3448737</td>\n",
       "      <td>3393191</td>\n",
       "      <td>3512547</td>\n",
       "      <td>3655437</td>\n",
       "      <td>0.0163</td>\n",
       "    </tr>\n",
       "    <tr>\n",
       "      <th>인천</th>\n",
       "      <td>수도권</td>\n",
       "      <td>2890451</td>\n",
       "      <td>2632035</td>\n",
       "      <td>2517680</td>\n",
       "      <td>2466338</td>\n",
       "      <td>0.0982</td>\n",
       "    </tr>\n",
       "    <tr>\n",
       "      <th>대구</th>\n",
       "      <td>경상권</td>\n",
       "      <td>2466052</td>\n",
       "      <td>2431774</td>\n",
       "      <td>2456016</td>\n",
       "      <td>2473990</td>\n",
       "      <td>0.0141</td>\n",
       "    </tr>\n",
       "  </tbody>\n",
       "</table>\n",
       "</div>"
      ],
      "text/plain": [
       "특성   지역     2015     2010     2005     2000  2010-2015 증가율\n",
       "도시                                                        \n",
       "서울  수도권  9904312  9631482  9762546  9853972         0.0283\n",
       "부산  경상권  3448737  3393191  3512547  3655437         0.0163\n",
       "인천  수도권  2890451  2632035  2517680  2466338         0.0982\n",
       "대구  경상권  2466052  2431774  2456016  2473990         0.0141"
      ]
     },
     "execution_count": 77,
     "metadata": {},
     "output_type": "execute_result"
    }
   ],
   "source": [
    "df.index.name = \"도시\"\n",
    "df.columns.name = \"특성\"\n",
    "df"
   ]
  },
  {
   "cell_type": "code",
   "execution_count": 78,
   "id": "468f2c06-40e3-4ae4-9b01-2a3e8d35fc33",
   "metadata": {},
   "outputs": [
    {
     "data": {
      "text/html": [
       "<div>\n",
       "<style scoped>\n",
       "    .dataframe tbody tr th:only-of-type {\n",
       "        vertical-align: middle;\n",
       "    }\n",
       "\n",
       "    .dataframe tbody tr th {\n",
       "        vertical-align: top;\n",
       "    }\n",
       "\n",
       "    .dataframe thead th {\n",
       "        text-align: right;\n",
       "    }\n",
       "</style>\n",
       "<table border=\"1\" class=\"dataframe\">\n",
       "  <thead>\n",
       "    <tr style=\"text-align: right;\">\n",
       "      <th></th>\n",
       "      <th>지역</th>\n",
       "      <th>승</th>\n",
       "      <th>무</th>\n",
       "      <th>패</th>\n",
       "      <th>승률</th>\n",
       "      <th>최근10경기</th>\n",
       "    </tr>\n",
       "  </thead>\n",
       "  <tbody>\n",
       "    <tr>\n",
       "      <th>NC</th>\n",
       "      <td>창원</td>\n",
       "      <td>67</td>\n",
       "      <td>3</td>\n",
       "      <td>74</td>\n",
       "      <td>0.475</td>\n",
       "      <td>6승-4패-0무</td>\n",
       "    </tr>\n",
       "    <tr>\n",
       "      <th>LG</th>\n",
       "      <td>서울</td>\n",
       "      <td>87</td>\n",
       "      <td>2</td>\n",
       "      <td>55</td>\n",
       "      <td>0.613</td>\n",
       "      <td>4승-6패-0무</td>\n",
       "    </tr>\n",
       "    <tr>\n",
       "      <th>KT</th>\n",
       "      <td>수원</td>\n",
       "      <td>80</td>\n",
       "      <td>2</td>\n",
       "      <td>62</td>\n",
       "      <td>0.563</td>\n",
       "      <td>7승-3패-0무</td>\n",
       "    </tr>\n",
       "    <tr>\n",
       "      <th>SSG</th>\n",
       "      <td>인천</td>\n",
       "      <td>88</td>\n",
       "      <td>4</td>\n",
       "      <td>52</td>\n",
       "      <td>0.629</td>\n",
       "      <td>4승-6패-0무</td>\n",
       "    </tr>\n",
       "  </tbody>\n",
       "</table>\n",
       "</div>"
      ],
      "text/plain": [
       "     지역   승  무   패     승률    최근10경기\n",
       "NC   창원  67  3  74  0.475  6승-4패-0무\n",
       "LG   서울  87  2  55  0.613  4승-6패-0무\n",
       "KT   수원  80  2  62  0.563  7승-3패-0무\n",
       "SSG  인천  88  4  52  0.629  4승-6패-0무"
      ]
     },
     "execution_count": 78,
     "metadata": {},
     "output_type": "execute_result"
    }
   ],
   "source": [
    "data = {\n",
    "    \"승\" : [67, 87, 80, 88],\n",
    "    \"무\" : [3, 2, 2, 4],\n",
    "    \"패\" : [74, 55, 62, 52],\n",
    "    \"지역\" : [\"창원\", \"서울\", \"수원\", \"인천\"],\n",
    "    \"승률\" : [0.475, 0.613, 0.563, 0.629],\n",
    "    \"최근10경기\" : [\"6승-4패-0무\", \"4승-6패-0무\", \"7승-3패-0무\", \"4승-6패-0무\"]\n",
    "}\n",
    "\n",
    "columns = [\"지역\", \"승\", \"무\", \"패\", \"승률\", \"최근10경기\"]\n",
    "index = [\"NC\", \"LG\", \"KT\", \"SSG\"]\n",
    "result = pd.DataFrame(data, index = index, columns = columns)\n",
    "result"
   ]
  },
  {
   "cell_type": "code",
   "execution_count": 79,
   "id": "b94590e4-f7ed-4d6a-a933-8085cb752f1f",
   "metadata": {},
   "outputs": [
    {
     "data": {
      "text/html": [
       "<div>\n",
       "<style scoped>\n",
       "    .dataframe tbody tr th:only-of-type {\n",
       "        vertical-align: middle;\n",
       "    }\n",
       "\n",
       "    .dataframe tbody tr th {\n",
       "        vertical-align: top;\n",
       "    }\n",
       "\n",
       "    .dataframe thead th {\n",
       "        text-align: right;\n",
       "    }\n",
       "</style>\n",
       "<table border=\"1\" class=\"dataframe\">\n",
       "  <thead>\n",
       "    <tr style=\"text-align: right;\">\n",
       "      <th>순위</th>\n",
       "      <th>지역</th>\n",
       "      <th>승</th>\n",
       "      <th>무</th>\n",
       "      <th>패</th>\n",
       "      <th>승률</th>\n",
       "      <th>최근10경기</th>\n",
       "    </tr>\n",
       "    <tr>\n",
       "      <th>팀명</th>\n",
       "      <th></th>\n",
       "      <th></th>\n",
       "      <th></th>\n",
       "      <th></th>\n",
       "      <th></th>\n",
       "      <th></th>\n",
       "    </tr>\n",
       "  </thead>\n",
       "  <tbody>\n",
       "    <tr>\n",
       "      <th>NC</th>\n",
       "      <td>창원</td>\n",
       "      <td>67</td>\n",
       "      <td>3</td>\n",
       "      <td>74</td>\n",
       "      <td>0.475</td>\n",
       "      <td>6승-4패-0무</td>\n",
       "    </tr>\n",
       "    <tr>\n",
       "      <th>LG</th>\n",
       "      <td>서울</td>\n",
       "      <td>87</td>\n",
       "      <td>2</td>\n",
       "      <td>55</td>\n",
       "      <td>0.613</td>\n",
       "      <td>4승-6패-0무</td>\n",
       "    </tr>\n",
       "    <tr>\n",
       "      <th>KT</th>\n",
       "      <td>수원</td>\n",
       "      <td>80</td>\n",
       "      <td>2</td>\n",
       "      <td>62</td>\n",
       "      <td>0.563</td>\n",
       "      <td>7승-3패-0무</td>\n",
       "    </tr>\n",
       "    <tr>\n",
       "      <th>SSG</th>\n",
       "      <td>인천</td>\n",
       "      <td>88</td>\n",
       "      <td>4</td>\n",
       "      <td>52</td>\n",
       "      <td>0.629</td>\n",
       "      <td>4승-6패-0무</td>\n",
       "    </tr>\n",
       "  </tbody>\n",
       "</table>\n",
       "</div>"
      ],
      "text/plain": [
       "순위   지역   승  무   패     승률    최근10경기\n",
       "팀명                                 \n",
       "NC   창원  67  3  74  0.475  6승-4패-0무\n",
       "LG   서울  87  2  55  0.613  4승-6패-0무\n",
       "KT   수원  80  2  62  0.563  7승-3패-0무\n",
       "SSG  인천  88  4  52  0.629  4승-6패-0무"
      ]
     },
     "execution_count": 79,
     "metadata": {},
     "output_type": "execute_result"
    }
   ],
   "source": [
    "result.index.name = \"팀명\"\n",
    "result.columns.name = \"순위\"\n",
    "result"
   ]
  },
  {
   "cell_type": "code",
   "execution_count": 80,
   "id": "14d8670a-c7bd-4335-83f5-eaa04cb71f16",
   "metadata": {},
   "outputs": [],
   "source": [
    "# 오늘 저녁 맛있는고 먹엉 예빈\n",
    "# 맛있는 거 뭐먹어? 서현"
   ]
  },
  {
   "cell_type": "code",
   "execution_count": 81,
   "id": "55967281-13c2-45aa-8ae7-0e90647ed57d",
   "metadata": {},
   "outputs": [
    {
     "data": {
      "text/html": [
       "<div>\n",
       "<style scoped>\n",
       "    .dataframe tbody tr th:only-of-type {\n",
       "        vertical-align: middle;\n",
       "    }\n",
       "\n",
       "    .dataframe tbody tr th {\n",
       "        vertical-align: top;\n",
       "    }\n",
       "\n",
       "    .dataframe thead th {\n",
       "        text-align: right;\n",
       "    }\n",
       "</style>\n",
       "<table border=\"1\" class=\"dataframe\">\n",
       "  <thead>\n",
       "    <tr style=\"text-align: right;\">\n",
       "      <th>도시</th>\n",
       "      <th>서울</th>\n",
       "      <th>부산</th>\n",
       "      <th>인천</th>\n",
       "      <th>대구</th>\n",
       "    </tr>\n",
       "    <tr>\n",
       "      <th>특성</th>\n",
       "      <th></th>\n",
       "      <th></th>\n",
       "      <th></th>\n",
       "      <th></th>\n",
       "    </tr>\n",
       "  </thead>\n",
       "  <tbody>\n",
       "    <tr>\n",
       "      <th>지역</th>\n",
       "      <td>수도권</td>\n",
       "      <td>경상권</td>\n",
       "      <td>수도권</td>\n",
       "      <td>경상권</td>\n",
       "    </tr>\n",
       "    <tr>\n",
       "      <th>2015</th>\n",
       "      <td>9904312</td>\n",
       "      <td>3448737</td>\n",
       "      <td>2890451</td>\n",
       "      <td>2466052</td>\n",
       "    </tr>\n",
       "    <tr>\n",
       "      <th>2010</th>\n",
       "      <td>9631482</td>\n",
       "      <td>3393191</td>\n",
       "      <td>2632035</td>\n",
       "      <td>2431774</td>\n",
       "    </tr>\n",
       "    <tr>\n",
       "      <th>2005</th>\n",
       "      <td>9762546</td>\n",
       "      <td>3512547</td>\n",
       "      <td>2517680</td>\n",
       "      <td>2456016</td>\n",
       "    </tr>\n",
       "    <tr>\n",
       "      <th>2000</th>\n",
       "      <td>9853972</td>\n",
       "      <td>3655437</td>\n",
       "      <td>2466338</td>\n",
       "      <td>2473990</td>\n",
       "    </tr>\n",
       "    <tr>\n",
       "      <th>2010-2015 증가율</th>\n",
       "      <td>0.0283</td>\n",
       "      <td>0.0163</td>\n",
       "      <td>0.0982</td>\n",
       "      <td>0.0141</td>\n",
       "    </tr>\n",
       "  </tbody>\n",
       "</table>\n",
       "</div>"
      ],
      "text/plain": [
       "도시                  서울       부산       인천       대구\n",
       "특성                                               \n",
       "지역                 수도권      경상권      수도권      경상권\n",
       "2015           9904312  3448737  2890451  2466052\n",
       "2010           9631482  3393191  2632035  2431774\n",
       "2005           9762546  3512547  2517680  2456016\n",
       "2000           9853972  3655437  2466338  2473990\n",
       "2010-2015 증가율   0.0283   0.0163   0.0982   0.0141"
      ]
     },
     "execution_count": 81,
     "metadata": {},
     "output_type": "execute_result"
    }
   ],
   "source": [
    "# DataFrame 전치(Transpose)\n",
    "df.T  "
   ]
  },
  {
   "cell_type": "code",
   "execution_count": 82,
   "id": "72707eb8-bb9a-44ba-9c2d-c378d47ce374",
   "metadata": {},
   "outputs": [
    {
     "data": {
      "text/html": [
       "<div>\n",
       "<style scoped>\n",
       "    .dataframe tbody tr th:only-of-type {\n",
       "        vertical-align: middle;\n",
       "    }\n",
       "\n",
       "    .dataframe tbody tr th {\n",
       "        vertical-align: top;\n",
       "    }\n",
       "\n",
       "    .dataframe thead th {\n",
       "        text-align: right;\n",
       "    }\n",
       "</style>\n",
       "<table border=\"1\" class=\"dataframe\">\n",
       "  <thead>\n",
       "    <tr style=\"text-align: right;\">\n",
       "      <th>특성</th>\n",
       "      <th>지역</th>\n",
       "      <th>2015</th>\n",
       "      <th>2010</th>\n",
       "      <th>2005</th>\n",
       "      <th>2000</th>\n",
       "      <th>2010-2015 증가율</th>\n",
       "    </tr>\n",
       "    <tr>\n",
       "      <th>도시</th>\n",
       "      <th></th>\n",
       "      <th></th>\n",
       "      <th></th>\n",
       "      <th></th>\n",
       "      <th></th>\n",
       "      <th></th>\n",
       "    </tr>\n",
       "  </thead>\n",
       "  <tbody>\n",
       "    <tr>\n",
       "      <th>서울</th>\n",
       "      <td>수도권</td>\n",
       "      <td>9904312</td>\n",
       "      <td>9631482</td>\n",
       "      <td>9762546</td>\n",
       "      <td>9853972</td>\n",
       "      <td>2.83</td>\n",
       "    </tr>\n",
       "    <tr>\n",
       "      <th>부산</th>\n",
       "      <td>경상권</td>\n",
       "      <td>3448737</td>\n",
       "      <td>3393191</td>\n",
       "      <td>3512547</td>\n",
       "      <td>3655437</td>\n",
       "      <td>1.63</td>\n",
       "    </tr>\n",
       "    <tr>\n",
       "      <th>인천</th>\n",
       "      <td>수도권</td>\n",
       "      <td>2890451</td>\n",
       "      <td>2632035</td>\n",
       "      <td>2517680</td>\n",
       "      <td>2466338</td>\n",
       "      <td>9.82</td>\n",
       "    </tr>\n",
       "    <tr>\n",
       "      <th>대구</th>\n",
       "      <td>경상권</td>\n",
       "      <td>2466052</td>\n",
       "      <td>2431774</td>\n",
       "      <td>2456016</td>\n",
       "      <td>2473990</td>\n",
       "      <td>1.41</td>\n",
       "    </tr>\n",
       "  </tbody>\n",
       "</table>\n",
       "</div>"
      ],
      "text/plain": [
       "특성   지역     2015     2010     2005     2000  2010-2015 증가율\n",
       "도시                                                        \n",
       "서울  수도권  9904312  9631482  9762546  9853972           2.83\n",
       "부산  경상권  3448737  3393191  3512547  3655437           1.63\n",
       "인천  수도권  2890451  2632035  2517680  2466338           9.82\n",
       "대구  경상권  2466052  2431774  2456016  2473990           1.41"
      ]
     },
     "execution_count": 82,
     "metadata": {},
     "output_type": "execute_result"
    }
   ],
   "source": [
    "# DataFrame column 추가, 갱신, 삭제\n",
    "\n",
    "# \"2010-2015 증가율\"이라는 이름의 열의 값을 갱신\n",
    "df[\"2010-2015 증가율\"] = df[\"2010-2015 증가율\"] * 100\n",
    "df"
   ]
  },
  {
   "cell_type": "code",
   "execution_count": 83,
   "id": "76f2bbc0-22ec-41d4-a93b-188ed4418e30",
   "metadata": {},
   "outputs": [
    {
     "data": {
      "text/html": [
       "<div>\n",
       "<style scoped>\n",
       "    .dataframe tbody tr th:only-of-type {\n",
       "        vertical-align: middle;\n",
       "    }\n",
       "\n",
       "    .dataframe tbody tr th {\n",
       "        vertical-align: top;\n",
       "    }\n",
       "\n",
       "    .dataframe thead th {\n",
       "        text-align: right;\n",
       "    }\n",
       "</style>\n",
       "<table border=\"1\" class=\"dataframe\">\n",
       "  <thead>\n",
       "    <tr style=\"text-align: right;\">\n",
       "      <th>특성</th>\n",
       "      <th>지역</th>\n",
       "      <th>2015</th>\n",
       "      <th>2010</th>\n",
       "      <th>2005</th>\n",
       "      <th>2000</th>\n",
       "      <th>2010-2015 증가율</th>\n",
       "      <th>2005-2010 증가율</th>\n",
       "    </tr>\n",
       "    <tr>\n",
       "      <th>도시</th>\n",
       "      <th></th>\n",
       "      <th></th>\n",
       "      <th></th>\n",
       "      <th></th>\n",
       "      <th></th>\n",
       "      <th></th>\n",
       "      <th></th>\n",
       "    </tr>\n",
       "  </thead>\n",
       "  <tbody>\n",
       "    <tr>\n",
       "      <th>서울</th>\n",
       "      <td>수도권</td>\n",
       "      <td>9904312</td>\n",
       "      <td>9631482</td>\n",
       "      <td>9762546</td>\n",
       "      <td>9853972</td>\n",
       "      <td>2.83</td>\n",
       "      <td>-1.34</td>\n",
       "    </tr>\n",
       "    <tr>\n",
       "      <th>부산</th>\n",
       "      <td>경상권</td>\n",
       "      <td>3448737</td>\n",
       "      <td>3393191</td>\n",
       "      <td>3512547</td>\n",
       "      <td>3655437</td>\n",
       "      <td>1.63</td>\n",
       "      <td>-3.40</td>\n",
       "    </tr>\n",
       "    <tr>\n",
       "      <th>인천</th>\n",
       "      <td>수도권</td>\n",
       "      <td>2890451</td>\n",
       "      <td>2632035</td>\n",
       "      <td>2517680</td>\n",
       "      <td>2466338</td>\n",
       "      <td>9.82</td>\n",
       "      <td>4.54</td>\n",
       "    </tr>\n",
       "    <tr>\n",
       "      <th>대구</th>\n",
       "      <td>경상권</td>\n",
       "      <td>2466052</td>\n",
       "      <td>2431774</td>\n",
       "      <td>2456016</td>\n",
       "      <td>2473990</td>\n",
       "      <td>1.41</td>\n",
       "      <td>-0.99</td>\n",
       "    </tr>\n",
       "  </tbody>\n",
       "</table>\n",
       "</div>"
      ],
      "text/plain": [
       "특성   지역     2015     2010     2005     2000  2010-2015 증가율  2005-2010 증가율\n",
       "도시                                                                       \n",
       "서울  수도권  9904312  9631482  9762546  9853972           2.83          -1.34\n",
       "부산  경상권  3448737  3393191  3512547  3655437           1.63          -3.40\n",
       "인천  수도권  2890451  2632035  2517680  2466338           9.82           4.54\n",
       "대구  경상권  2466052  2431774  2456016  2473990           1.41          -0.99"
      ]
     },
     "execution_count": 83,
     "metadata": {},
     "output_type": "execute_result"
    }
   ],
   "source": [
    "# DataFrame column 추가, 갱신, 삭제\n",
    "\n",
    "# \"2005-2010 증가율\"이라는 이름의 열 추가\n",
    "df[\"2005-2010 증가율\"] = ((df[\"2010\"] - df[\"2005\"]) / df[\"2005\"] * 100).round(2)\n",
    "df"
   ]
  },
  {
   "cell_type": "code",
   "execution_count": 84,
   "id": "53de1280-0117-4f9c-aec7-9ad899d1ac7c",
   "metadata": {},
   "outputs": [
    {
     "data": {
      "text/html": [
       "<div>\n",
       "<style scoped>\n",
       "    .dataframe tbody tr th:only-of-type {\n",
       "        vertical-align: middle;\n",
       "    }\n",
       "\n",
       "    .dataframe tbody tr th {\n",
       "        vertical-align: top;\n",
       "    }\n",
       "\n",
       "    .dataframe thead th {\n",
       "        text-align: right;\n",
       "    }\n",
       "</style>\n",
       "<table border=\"1\" class=\"dataframe\">\n",
       "  <thead>\n",
       "    <tr style=\"text-align: right;\">\n",
       "      <th>특성</th>\n",
       "      <th>지역</th>\n",
       "      <th>2015</th>\n",
       "      <th>2010</th>\n",
       "      <th>2005</th>\n",
       "      <th>2000</th>\n",
       "      <th>2005-2010 증가율</th>\n",
       "    </tr>\n",
       "    <tr>\n",
       "      <th>도시</th>\n",
       "      <th></th>\n",
       "      <th></th>\n",
       "      <th></th>\n",
       "      <th></th>\n",
       "      <th></th>\n",
       "      <th></th>\n",
       "    </tr>\n",
       "  </thead>\n",
       "  <tbody>\n",
       "    <tr>\n",
       "      <th>서울</th>\n",
       "      <td>수도권</td>\n",
       "      <td>9904312</td>\n",
       "      <td>9631482</td>\n",
       "      <td>9762546</td>\n",
       "      <td>9853972</td>\n",
       "      <td>-1.34</td>\n",
       "    </tr>\n",
       "    <tr>\n",
       "      <th>부산</th>\n",
       "      <td>경상권</td>\n",
       "      <td>3448737</td>\n",
       "      <td>3393191</td>\n",
       "      <td>3512547</td>\n",
       "      <td>3655437</td>\n",
       "      <td>-3.40</td>\n",
       "    </tr>\n",
       "    <tr>\n",
       "      <th>인천</th>\n",
       "      <td>수도권</td>\n",
       "      <td>2890451</td>\n",
       "      <td>2632035</td>\n",
       "      <td>2517680</td>\n",
       "      <td>2466338</td>\n",
       "      <td>4.54</td>\n",
       "    </tr>\n",
       "    <tr>\n",
       "      <th>대구</th>\n",
       "      <td>경상권</td>\n",
       "      <td>2466052</td>\n",
       "      <td>2431774</td>\n",
       "      <td>2456016</td>\n",
       "      <td>2473990</td>\n",
       "      <td>-0.99</td>\n",
       "    </tr>\n",
       "  </tbody>\n",
       "</table>\n",
       "</div>"
      ],
      "text/plain": [
       "특성   지역     2015     2010     2005     2000  2005-2010 증가율\n",
       "도시                                                        \n",
       "서울  수도권  9904312  9631482  9762546  9853972          -1.34\n",
       "부산  경상권  3448737  3393191  3512547  3655437          -3.40\n",
       "인천  수도권  2890451  2632035  2517680  2466338           4.54\n",
       "대구  경상권  2466052  2431774  2456016  2473990          -0.99"
      ]
     },
     "execution_count": 84,
     "metadata": {},
     "output_type": "execute_result"
    }
   ],
   "source": [
    "# DataFrame column 추가, 갱신, 삭제\n",
    "\n",
    "# \"2010-2015 증가율\"이라는 이름의 열 삭제\n",
    "del df[\"2010-2015 증가율\"] \n",
    "df"
   ]
  },
  {
   "cell_type": "code",
   "execution_count": 85,
   "id": "76ac0d35-d0c8-4f23-9097-8f9872b81029",
   "metadata": {},
   "outputs": [],
   "source": [
    "# DataFrame column 인덱싱\n",
    "\n",
    "# DataFrame은 column label을 키로, \n",
    "# column Series를 값으로 가지는 딕셔너리와 비슷하다고 하였습니다. \n",
    "# 따라서 DataFrame을 인덱싱을 할 때도 column label을 키(key)로 생각하여 \n",
    "# 인덱싱을 할 수 있습니다. index로 label 값을 하나만 넣으면 Series 객체가 반환됩니다."
   ]
  },
  {
   "cell_type": "code",
   "execution_count": 86,
   "id": "bcf82bb4-c085-4a74-b186-8f60a5a56016",
   "metadata": {},
   "outputs": [
    {
     "data": {
      "text/plain": [
       "도시\n",
       "서울    수도권\n",
       "부산    경상권\n",
       "인천    수도권\n",
       "대구    경상권\n",
       "Name: 지역, dtype: object"
      ]
     },
     "execution_count": 86,
     "metadata": {},
     "output_type": "execute_result"
    }
   ],
   "source": [
    "# 하나의 column만 인덱싱하면 Series가 반환된다.\n",
    "df[\"지역\"]"
   ]
  },
  {
   "cell_type": "code",
   "execution_count": 87,
   "id": "a64d7d49-e7f7-41fa-a5f4-ab2693ee9ef5",
   "metadata": {},
   "outputs": [
    {
     "data": {
      "text/plain": [
       "도시\n",
       "서울    9631482\n",
       "부산    3393191\n",
       "인천    2632035\n",
       "대구    2431774\n",
       "Name: 2010, dtype: int64"
      ]
     },
     "execution_count": 87,
     "metadata": {},
     "output_type": "execute_result"
    }
   ],
   "source": [
    "# 2010이라는 column을 반환하면서 Series 자료형으로 반환\n",
    "df[\"2010\"]"
   ]
  },
  {
   "cell_type": "code",
   "execution_count": 88,
   "id": "26225186-7d0a-40ac-9937-fe59f02a8546",
   "metadata": {},
   "outputs": [
    {
     "data": {
      "text/html": [
       "<div>\n",
       "<style scoped>\n",
       "    .dataframe tbody tr th:only-of-type {\n",
       "        vertical-align: middle;\n",
       "    }\n",
       "\n",
       "    .dataframe tbody tr th {\n",
       "        vertical-align: top;\n",
       "    }\n",
       "\n",
       "    .dataframe thead th {\n",
       "        text-align: right;\n",
       "    }\n",
       "</style>\n",
       "<table border=\"1\" class=\"dataframe\">\n",
       "  <thead>\n",
       "    <tr style=\"text-align: right;\">\n",
       "      <th>특성</th>\n",
       "      <th>2010</th>\n",
       "      <th>2015</th>\n",
       "    </tr>\n",
       "    <tr>\n",
       "      <th>도시</th>\n",
       "      <th></th>\n",
       "      <th></th>\n",
       "    </tr>\n",
       "  </thead>\n",
       "  <tbody>\n",
       "    <tr>\n",
       "      <th>서울</th>\n",
       "      <td>9631482</td>\n",
       "      <td>9904312</td>\n",
       "    </tr>\n",
       "    <tr>\n",
       "      <th>부산</th>\n",
       "      <td>3393191</td>\n",
       "      <td>3448737</td>\n",
       "    </tr>\n",
       "    <tr>\n",
       "      <th>인천</th>\n",
       "      <td>2632035</td>\n",
       "      <td>2890451</td>\n",
       "    </tr>\n",
       "    <tr>\n",
       "      <th>대구</th>\n",
       "      <td>2431774</td>\n",
       "      <td>2466052</td>\n",
       "    </tr>\n",
       "  </tbody>\n",
       "</table>\n",
       "</div>"
      ],
      "text/plain": [
       "특성     2010     2015\n",
       "도시                  \n",
       "서울  9631482  9904312\n",
       "부산  3393191  3448737\n",
       "인천  2632035  2890451\n",
       "대구  2431774  2466052"
      ]
     },
     "execution_count": 88,
     "metadata": {},
     "output_type": "execute_result"
    }
   ],
   "source": [
    "# 여러 개의 column을 인덱싱하면 부분적인 DataFrame이 반환\n",
    "df[[\"2010\", \"2015\"]]"
   ]
  },
  {
   "cell_type": "code",
   "execution_count": 89,
   "id": "97618d78-2688-450c-9f99-444000e3b79a",
   "metadata": {},
   "outputs": [
    {
     "data": {
      "text/html": [
       "<div>\n",
       "<style scoped>\n",
       "    .dataframe tbody tr th:only-of-type {\n",
       "        vertical-align: middle;\n",
       "    }\n",
       "\n",
       "    .dataframe tbody tr th {\n",
       "        vertical-align: top;\n",
       "    }\n",
       "\n",
       "    .dataframe thead th {\n",
       "        text-align: right;\n",
       "    }\n",
       "</style>\n",
       "<table border=\"1\" class=\"dataframe\">\n",
       "  <thead>\n",
       "    <tr style=\"text-align: right;\">\n",
       "      <th>특성</th>\n",
       "      <th>2010</th>\n",
       "    </tr>\n",
       "    <tr>\n",
       "      <th>도시</th>\n",
       "      <th></th>\n",
       "    </tr>\n",
       "  </thead>\n",
       "  <tbody>\n",
       "    <tr>\n",
       "      <th>서울</th>\n",
       "      <td>9631482</td>\n",
       "    </tr>\n",
       "    <tr>\n",
       "      <th>부산</th>\n",
       "      <td>3393191</td>\n",
       "    </tr>\n",
       "    <tr>\n",
       "      <th>인천</th>\n",
       "      <td>2632035</td>\n",
       "    </tr>\n",
       "    <tr>\n",
       "      <th>대구</th>\n",
       "      <td>2431774</td>\n",
       "    </tr>\n",
       "  </tbody>\n",
       "</table>\n",
       "</div>"
      ],
      "text/plain": [
       "특성     2010\n",
       "도시         \n",
       "서울  9631482\n",
       "부산  3393191\n",
       "인천  2632035\n",
       "대구  2431774"
      ]
     },
     "execution_count": 89,
     "metadata": {},
     "output_type": "execute_result"
    }
   ],
   "source": [
    "# 2010이라는 column을 반환하면서 DataFrame 자료형을 유지\n",
    "df[[\"2010\"]]"
   ]
  },
  {
   "cell_type": "code",
   "execution_count": 91,
   "id": "c65894f4-0838-4585-99d7-dda1c0e6859d",
   "metadata": {},
   "outputs": [
    {
     "data": {
      "text/html": [
       "<div>\n",
       "<style scoped>\n",
       "    .dataframe tbody tr th:only-of-type {\n",
       "        vertical-align: middle;\n",
       "    }\n",
       "\n",
       "    .dataframe tbody tr th {\n",
       "        vertical-align: top;\n",
       "    }\n",
       "\n",
       "    .dataframe thead th {\n",
       "        text-align: right;\n",
       "    }\n",
       "</style>\n",
       "<table border=\"1\" class=\"dataframe\">\n",
       "  <thead>\n",
       "    <tr style=\"text-align: right;\">\n",
       "      <th></th>\n",
       "      <th>0</th>\n",
       "      <th>1</th>\n",
       "      <th>2</th>\n",
       "      <th>3</th>\n",
       "    </tr>\n",
       "  </thead>\n",
       "  <tbody>\n",
       "    <tr>\n",
       "      <th>0</th>\n",
       "      <td>0</td>\n",
       "      <td>1</td>\n",
       "      <td>2</td>\n",
       "      <td>3</td>\n",
       "    </tr>\n",
       "    <tr>\n",
       "      <th>1</th>\n",
       "      <td>4</td>\n",
       "      <td>5</td>\n",
       "      <td>6</td>\n",
       "      <td>7</td>\n",
       "    </tr>\n",
       "    <tr>\n",
       "      <th>2</th>\n",
       "      <td>8</td>\n",
       "      <td>9</td>\n",
       "      <td>10</td>\n",
       "      <td>11</td>\n",
       "    </tr>\n",
       "  </tbody>\n",
       "</table>\n",
       "</div>"
      ],
      "text/plain": [
       "   0  1   2   3\n",
       "0  0  1   2   3\n",
       "1  4  5   6   7\n",
       "2  8  9  10  11"
      ]
     },
     "execution_count": 91,
     "metadata": {},
     "output_type": "execute_result"
    }
   ],
   "source": [
    "# DataFrame column 인덱싱\n",
    "import numpy as np\n",
    "\n",
    "df2 = pd.DataFrame(np.arange(12).reshape(3, 4))\n",
    "df2"
   ]
  },
  {
   "cell_type": "code",
   "execution_count": 92,
   "id": "65394d2e-1627-4a8c-adbd-2a881c262668",
   "metadata": {},
   "outputs": [
    {
     "data": {
      "text/plain": [
       "0     2\n",
       "1     6\n",
       "2    10\n",
       "Name: 2, dtype: int32"
      ]
     },
     "execution_count": 92,
     "metadata": {},
     "output_type": "execute_result"
    }
   ],
   "source": [
    "df2[2]"
   ]
  },
  {
   "cell_type": "code",
   "execution_count": 93,
   "id": "edaef037-8f9b-482e-9bbe-5492688464aa",
   "metadata": {},
   "outputs": [
    {
     "data": {
      "text/html": [
       "<div>\n",
       "<style scoped>\n",
       "    .dataframe tbody tr th:only-of-type {\n",
       "        vertical-align: middle;\n",
       "    }\n",
       "\n",
       "    .dataframe tbody tr th {\n",
       "        vertical-align: top;\n",
       "    }\n",
       "\n",
       "    .dataframe thead th {\n",
       "        text-align: right;\n",
       "    }\n",
       "</style>\n",
       "<table border=\"1\" class=\"dataframe\">\n",
       "  <thead>\n",
       "    <tr style=\"text-align: right;\">\n",
       "      <th></th>\n",
       "      <th>1</th>\n",
       "      <th>2</th>\n",
       "    </tr>\n",
       "  </thead>\n",
       "  <tbody>\n",
       "    <tr>\n",
       "      <th>0</th>\n",
       "      <td>1</td>\n",
       "      <td>2</td>\n",
       "    </tr>\n",
       "    <tr>\n",
       "      <th>1</th>\n",
       "      <td>5</td>\n",
       "      <td>6</td>\n",
       "    </tr>\n",
       "    <tr>\n",
       "      <th>2</th>\n",
       "      <td>9</td>\n",
       "      <td>10</td>\n",
       "    </tr>\n",
       "  </tbody>\n",
       "</table>\n",
       "</div>"
      ],
      "text/plain": [
       "   1   2\n",
       "0  1   2\n",
       "1  5   6\n",
       "2  9  10"
      ]
     },
     "execution_count": 93,
     "metadata": {},
     "output_type": "execute_result"
    }
   ],
   "source": [
    "df2[[1, 2]]"
   ]
  },
  {
   "cell_type": "code",
   "execution_count": 94,
   "id": "8243bd0c-e6dd-4d04-83fb-f8617c8831c6",
   "metadata": {},
   "outputs": [
    {
     "data": {
      "text/html": [
       "<div>\n",
       "<style scoped>\n",
       "    .dataframe tbody tr th:only-of-type {\n",
       "        vertical-align: middle;\n",
       "    }\n",
       "\n",
       "    .dataframe tbody tr th {\n",
       "        vertical-align: top;\n",
       "    }\n",
       "\n",
       "    .dataframe thead th {\n",
       "        text-align: right;\n",
       "    }\n",
       "</style>\n",
       "<table border=\"1\" class=\"dataframe\">\n",
       "  <thead>\n",
       "    <tr style=\"text-align: right;\">\n",
       "      <th>특성</th>\n",
       "      <th>지역</th>\n",
       "      <th>2015</th>\n",
       "      <th>2010</th>\n",
       "      <th>2005</th>\n",
       "      <th>2000</th>\n",
       "      <th>2005-2010 증가율</th>\n",
       "    </tr>\n",
       "    <tr>\n",
       "      <th>도시</th>\n",
       "      <th></th>\n",
       "      <th></th>\n",
       "      <th></th>\n",
       "      <th></th>\n",
       "      <th></th>\n",
       "      <th></th>\n",
       "    </tr>\n",
       "  </thead>\n",
       "  <tbody>\n",
       "    <tr>\n",
       "      <th>서울</th>\n",
       "      <td>수도권</td>\n",
       "      <td>9904312</td>\n",
       "      <td>9631482</td>\n",
       "      <td>9762546</td>\n",
       "      <td>9853972</td>\n",
       "      <td>-1.34</td>\n",
       "    </tr>\n",
       "    <tr>\n",
       "      <th>부산</th>\n",
       "      <td>경상권</td>\n",
       "      <td>3448737</td>\n",
       "      <td>3393191</td>\n",
       "      <td>3512547</td>\n",
       "      <td>3655437</td>\n",
       "      <td>-3.40</td>\n",
       "    </tr>\n",
       "    <tr>\n",
       "      <th>인천</th>\n",
       "      <td>수도권</td>\n",
       "      <td>2890451</td>\n",
       "      <td>2632035</td>\n",
       "      <td>2517680</td>\n",
       "      <td>2466338</td>\n",
       "      <td>4.54</td>\n",
       "    </tr>\n",
       "    <tr>\n",
       "      <th>대구</th>\n",
       "      <td>경상권</td>\n",
       "      <td>2466052</td>\n",
       "      <td>2431774</td>\n",
       "      <td>2456016</td>\n",
       "      <td>2473990</td>\n",
       "      <td>-0.99</td>\n",
       "    </tr>\n",
       "  </tbody>\n",
       "</table>\n",
       "</div>"
      ],
      "text/plain": [
       "특성   지역     2015     2010     2005     2000  2005-2010 증가율\n",
       "도시                                                        \n",
       "서울  수도권  9904312  9631482  9762546  9853972          -1.34\n",
       "부산  경상권  3448737  3393191  3512547  3655437          -3.40\n",
       "인천  수도권  2890451  2632035  2517680  2466338           4.54\n",
       "대구  경상권  2466052  2431774  2456016  2473990          -0.99"
      ]
     },
     "execution_count": 94,
     "metadata": {},
     "output_type": "execute_result"
    }
   ],
   "source": [
    "# DataFrame row 슬라이싱\n",
    "df"
   ]
  },
  {
   "cell_type": "code",
   "execution_count": 95,
   "id": "e86a0827-ede5-421b-b1e0-45b6575a7c6b",
   "metadata": {},
   "outputs": [
    {
     "data": {
      "text/html": [
       "<div>\n",
       "<style scoped>\n",
       "    .dataframe tbody tr th:only-of-type {\n",
       "        vertical-align: middle;\n",
       "    }\n",
       "\n",
       "    .dataframe tbody tr th {\n",
       "        vertical-align: top;\n",
       "    }\n",
       "\n",
       "    .dataframe thead th {\n",
       "        text-align: right;\n",
       "    }\n",
       "</style>\n",
       "<table border=\"1\" class=\"dataframe\">\n",
       "  <thead>\n",
       "    <tr style=\"text-align: right;\">\n",
       "      <th>특성</th>\n",
       "      <th>지역</th>\n",
       "      <th>2015</th>\n",
       "      <th>2010</th>\n",
       "      <th>2005</th>\n",
       "      <th>2000</th>\n",
       "      <th>2005-2010 증가율</th>\n",
       "    </tr>\n",
       "    <tr>\n",
       "      <th>도시</th>\n",
       "      <th></th>\n",
       "      <th></th>\n",
       "      <th></th>\n",
       "      <th></th>\n",
       "      <th></th>\n",
       "      <th></th>\n",
       "    </tr>\n",
       "  </thead>\n",
       "  <tbody>\n",
       "    <tr>\n",
       "      <th>서울</th>\n",
       "      <td>수도권</td>\n",
       "      <td>9904312</td>\n",
       "      <td>9631482</td>\n",
       "      <td>9762546</td>\n",
       "      <td>9853972</td>\n",
       "      <td>-1.34</td>\n",
       "    </tr>\n",
       "  </tbody>\n",
       "</table>\n",
       "</div>"
      ],
      "text/plain": [
       "특성   지역     2015     2010     2005     2000  2005-2010 증가율\n",
       "도시                                                        \n",
       "서울  수도권  9904312  9631482  9762546  9853972          -1.34"
      ]
     },
     "execution_count": 95,
     "metadata": {},
     "output_type": "execute_result"
    }
   ],
   "source": [
    "df[:1]   #df[:\"서울\"] --> 문자는  포함, 숫자는 미포함"
   ]
  },
  {
   "cell_type": "code",
   "execution_count": 96,
   "id": "7b027a71-121f-4e7e-868d-088ff01e33cb",
   "metadata": {},
   "outputs": [
    {
     "data": {
      "text/html": [
       "<div>\n",
       "<style scoped>\n",
       "    .dataframe tbody tr th:only-of-type {\n",
       "        vertical-align: middle;\n",
       "    }\n",
       "\n",
       "    .dataframe tbody tr th {\n",
       "        vertical-align: top;\n",
       "    }\n",
       "\n",
       "    .dataframe thead th {\n",
       "        text-align: right;\n",
       "    }\n",
       "</style>\n",
       "<table border=\"1\" class=\"dataframe\">\n",
       "  <thead>\n",
       "    <tr style=\"text-align: right;\">\n",
       "      <th>특성</th>\n",
       "      <th>지역</th>\n",
       "      <th>2015</th>\n",
       "      <th>2010</th>\n",
       "      <th>2005</th>\n",
       "      <th>2000</th>\n",
       "      <th>2005-2010 증가율</th>\n",
       "    </tr>\n",
       "    <tr>\n",
       "      <th>도시</th>\n",
       "      <th></th>\n",
       "      <th></th>\n",
       "      <th></th>\n",
       "      <th></th>\n",
       "      <th></th>\n",
       "      <th></th>\n",
       "    </tr>\n",
       "  </thead>\n",
       "  <tbody>\n",
       "    <tr>\n",
       "      <th>부산</th>\n",
       "      <td>경상권</td>\n",
       "      <td>3448737</td>\n",
       "      <td>3393191</td>\n",
       "      <td>3512547</td>\n",
       "      <td>3655437</td>\n",
       "      <td>-3.4</td>\n",
       "    </tr>\n",
       "  </tbody>\n",
       "</table>\n",
       "</div>"
      ],
      "text/plain": [
       "특성   지역     2015     2010     2005     2000  2005-2010 증가율\n",
       "도시                                                        \n",
       "부산  경상권  3448737  3393191  3512547  3655437           -3.4"
      ]
     },
     "execution_count": 96,
     "metadata": {},
     "output_type": "execute_result"
    }
   ],
   "source": [
    "df[1:2]"
   ]
  },
  {
   "cell_type": "code",
   "execution_count": 97,
   "id": "2d45c0ee-0a38-4a03-a652-c779e0cc2cb2",
   "metadata": {},
   "outputs": [
    {
     "data": {
      "text/html": [
       "<div>\n",
       "<style scoped>\n",
       "    .dataframe tbody tr th:only-of-type {\n",
       "        vertical-align: middle;\n",
       "    }\n",
       "\n",
       "    .dataframe tbody tr th {\n",
       "        vertical-align: top;\n",
       "    }\n",
       "\n",
       "    .dataframe thead th {\n",
       "        text-align: right;\n",
       "    }\n",
       "</style>\n",
       "<table border=\"1\" class=\"dataframe\">\n",
       "  <thead>\n",
       "    <tr style=\"text-align: right;\">\n",
       "      <th>특성</th>\n",
       "      <th>지역</th>\n",
       "      <th>2015</th>\n",
       "      <th>2010</th>\n",
       "      <th>2005</th>\n",
       "      <th>2000</th>\n",
       "      <th>2005-2010 증가율</th>\n",
       "    </tr>\n",
       "    <tr>\n",
       "      <th>도시</th>\n",
       "      <th></th>\n",
       "      <th></th>\n",
       "      <th></th>\n",
       "      <th></th>\n",
       "      <th></th>\n",
       "      <th></th>\n",
       "    </tr>\n",
       "  </thead>\n",
       "  <tbody>\n",
       "    <tr>\n",
       "      <th>부산</th>\n",
       "      <td>경상권</td>\n",
       "      <td>3448737</td>\n",
       "      <td>3393191</td>\n",
       "      <td>3512547</td>\n",
       "      <td>3655437</td>\n",
       "      <td>-3.4</td>\n",
       "    </tr>\n",
       "  </tbody>\n",
       "</table>\n",
       "</div>"
      ],
      "text/plain": [
       "특성   지역     2015     2010     2005     2000  2005-2010 증가율\n",
       "도시                                                        \n",
       "부산  경상권  3448737  3393191  3512547  3655437           -3.4"
      ]
     },
     "execution_count": 97,
     "metadata": {},
     "output_type": "execute_result"
    }
   ],
   "source": [
    "df[\"부산\":\"부산\"]"
   ]
  },
  {
   "cell_type": "code",
   "execution_count": null,
   "id": "c9ff3aa6-70f8-46f7-b0e0-20372ba3fb6b",
   "metadata": {},
   "outputs": [],
   "source": [
    "# DataFrame row 인덱싱할 경우 \n",
    "# row 단위로 인덱싱을 하면 KeyError가 발생되는 것을 확인할 수 있다."
   ]
  },
  {
   "cell_type": "code",
   "execution_count": 98,
   "id": "837aa54a-c614-469e-ac9b-47f933e38bab",
   "metadata": {},
   "outputs": [
    {
     "data": {
      "text/plain": [
       "9904312"
      ]
     },
     "execution_count": 98,
     "metadata": {},
     "output_type": "execute_result"
    }
   ],
   "source": [
    "# DataFrame 개별 데이터 인덱싱\n",
    "# DataFrame에서 column label로 인덱싱하면 Series가 됩니다. \n",
    "# 이 Series를 다시 row label로 인덱싱하면 개별 데이터가 나옵니다.\n",
    "\n",
    "df[\"2015\"][\"서울\"]"
   ]
  },
  {
   "cell_type": "code",
   "execution_count": 99,
   "id": "337d9762-c7c5-4985-b19c-166df2b7d0b8",
   "metadata": {},
   "outputs": [
    {
     "data": {
      "text/plain": [
       "numpy.int64"
      ]
     },
     "execution_count": 99,
     "metadata": {},
     "output_type": "execute_result"
    }
   ],
   "source": [
    "type(df[\"2015\"][\"서울\"])"
   ]
  },
  {
   "cell_type": "code",
   "execution_count": 100,
   "id": "f5fb7c43-2674-4499-9169-e2cd899d4fdc",
   "metadata": {},
   "outputs": [
    {
     "data": {
      "text/html": [
       "<div>\n",
       "<style scoped>\n",
       "    .dataframe tbody tr th:only-of-type {\n",
       "        vertical-align: middle;\n",
       "    }\n",
       "\n",
       "    .dataframe tbody tr th {\n",
       "        vertical-align: top;\n",
       "    }\n",
       "\n",
       "    .dataframe thead th {\n",
       "        text-align: right;\n",
       "    }\n",
       "</style>\n",
       "<table border=\"1\" class=\"dataframe\">\n",
       "  <thead>\n",
       "    <tr style=\"text-align: right;\">\n",
       "      <th>특성</th>\n",
       "      <th>지역</th>\n",
       "      <th>2015</th>\n",
       "      <th>2010</th>\n",
       "      <th>2005</th>\n",
       "      <th>2000</th>\n",
       "      <th>2005-2010 증가율</th>\n",
       "    </tr>\n",
       "    <tr>\n",
       "      <th>도시</th>\n",
       "      <th></th>\n",
       "      <th></th>\n",
       "      <th></th>\n",
       "      <th></th>\n",
       "      <th></th>\n",
       "      <th></th>\n",
       "    </tr>\n",
       "  </thead>\n",
       "  <tbody>\n",
       "    <tr>\n",
       "      <th>서울</th>\n",
       "      <td>수도권</td>\n",
       "      <td>9904312</td>\n",
       "      <td>9631482</td>\n",
       "      <td>9762546</td>\n",
       "      <td>9853972</td>\n",
       "      <td>-1.34</td>\n",
       "    </tr>\n",
       "  </tbody>\n",
       "</table>\n",
       "</div>"
      ],
      "text/plain": [
       "특성   지역     2015     2010     2005     2000  2005-2010 증가율\n",
       "도시                                                        \n",
       "서울  수도권  9904312  9631482  9762546  9853972          -1.34"
      ]
     },
     "execution_count": 100,
     "metadata": {},
     "output_type": "execute_result"
    }
   ],
   "source": [
    "# DataFrame 개별 데이터 인덱싱, 역순은 안 될까? \n",
    "# (더 복잡해짐.. 좀 비효율적 인 것 같기도....?)\n",
    "\n",
    "df[\"서울\":\"서울\"]"
   ]
  },
  {
   "cell_type": "code",
   "execution_count": 101,
   "id": "d3edaf37-4f80-46f9-9094-8b6af280e403",
   "metadata": {},
   "outputs": [
    {
     "data": {
      "text/plain": [
       "도시\n",
       "서울    9904312\n",
       "Name: 2015, dtype: int64"
      ]
     },
     "execution_count": 101,
     "metadata": {},
     "output_type": "execute_result"
    }
   ],
   "source": [
    "df[\"서울\":\"서울\"][\"2015\"]"
   ]
  },
  {
   "cell_type": "code",
   "execution_count": 102,
   "id": "ba2c424a-b89c-4303-87cf-82cd9fbecbdf",
   "metadata": {},
   "outputs": [
    {
     "data": {
      "text/plain": [
       "pandas.core.series.Series"
      ]
     },
     "execution_count": 102,
     "metadata": {},
     "output_type": "execute_result"
    }
   ],
   "source": [
    "type(df[\"서울\":\"서울\"][\"2015\"])"
   ]
  },
  {
   "cell_type": "code",
   "execution_count": 113,
   "id": "0976607c-042c-4d8f-bf9c-5ec13a9e8fcd",
   "metadata": {},
   "outputs": [],
   "source": [
    "data = {\n",
    "\"국어\": [80, 90, 70, 30],\n",
    "\"영어\": [90, 70, 60, 40],\n",
    "\"수학\": [90, 60, 80, 70],\n",
    "}\n",
    "columns = [\"국어\", \"영어\", \"수학\"]\n",
    "index = [\"춘향\", \"몽룡\", \"향단\", \"방자\"]\n",
    "df = pd.DataFrame(data, index=index, columns=columns)"
   ]
  },
  {
   "cell_type": "code",
   "execution_count": 114,
   "id": "822b5cf3-8ee0-4b29-8d6b-8883c02fdcc2",
   "metadata": {},
   "outputs": [
    {
     "data": {
      "text/plain": [
       "춘향    90\n",
       "몽룡    60\n",
       "향단    80\n",
       "방자    70\n",
       "Name: 수학, dtype: int64"
      ]
     },
     "execution_count": 114,
     "metadata": {},
     "output_type": "execute_result"
    }
   ],
   "source": [
    "df[\"수학\"]"
   ]
  },
  {
   "cell_type": "code",
   "execution_count": 115,
   "id": "c4508766-c169-446b-bdee-b76d4c58cf6c",
   "metadata": {},
   "outputs": [
    {
     "data": {
      "text/html": [
       "<div>\n",
       "<style scoped>\n",
       "    .dataframe tbody tr th:only-of-type {\n",
       "        vertical-align: middle;\n",
       "    }\n",
       "\n",
       "    .dataframe tbody tr th {\n",
       "        vertical-align: top;\n",
       "    }\n",
       "\n",
       "    .dataframe thead th {\n",
       "        text-align: right;\n",
       "    }\n",
       "</style>\n",
       "<table border=\"1\" class=\"dataframe\">\n",
       "  <thead>\n",
       "    <tr style=\"text-align: right;\">\n",
       "      <th></th>\n",
       "      <th>국어</th>\n",
       "      <th>영어</th>\n",
       "    </tr>\n",
       "  </thead>\n",
       "  <tbody>\n",
       "    <tr>\n",
       "      <th>춘향</th>\n",
       "      <td>80</td>\n",
       "      <td>90</td>\n",
       "    </tr>\n",
       "    <tr>\n",
       "      <th>몽룡</th>\n",
       "      <td>90</td>\n",
       "      <td>70</td>\n",
       "    </tr>\n",
       "    <tr>\n",
       "      <th>향단</th>\n",
       "      <td>70</td>\n",
       "      <td>60</td>\n",
       "    </tr>\n",
       "    <tr>\n",
       "      <th>방자</th>\n",
       "      <td>30</td>\n",
       "      <td>40</td>\n",
       "    </tr>\n",
       "  </tbody>\n",
       "</table>\n",
       "</div>"
      ],
      "text/plain": [
       "    국어  영어\n",
       "춘향  80  90\n",
       "몽룡  90  70\n",
       "향단  70  60\n",
       "방자  30  40"
      ]
     },
     "execution_count": 115,
     "metadata": {},
     "output_type": "execute_result"
    }
   ],
   "source": [
    "df[[\"국어\", \"영어\"]]"
   ]
  },
  {
   "cell_type": "code",
   "execution_count": 125,
   "id": "f089bc6e-dece-4758-a51f-5bbfaa40ab92",
   "metadata": {},
   "outputs": [
    {
     "data": {
      "text/html": [
       "<div>\n",
       "<style scoped>\n",
       "    .dataframe tbody tr th:only-of-type {\n",
       "        vertical-align: middle;\n",
       "    }\n",
       "\n",
       "    .dataframe tbody tr th {\n",
       "        vertical-align: top;\n",
       "    }\n",
       "\n",
       "    .dataframe thead th {\n",
       "        text-align: right;\n",
       "    }\n",
       "</style>\n",
       "<table border=\"1\" class=\"dataframe\">\n",
       "  <thead>\n",
       "    <tr style=\"text-align: right;\">\n",
       "      <th></th>\n",
       "      <th>국어</th>\n",
       "      <th>영어</th>\n",
       "      <th>수학</th>\n",
       "      <th>평균 점수</th>\n",
       "    </tr>\n",
       "  </thead>\n",
       "  <tbody>\n",
       "    <tr>\n",
       "      <th>춘향</th>\n",
       "      <td>80</td>\n",
       "      <td>90</td>\n",
       "      <td>90</td>\n",
       "      <td>86.666667</td>\n",
       "    </tr>\n",
       "    <tr>\n",
       "      <th>몽룡</th>\n",
       "      <td>90</td>\n",
       "      <td>70</td>\n",
       "      <td>60</td>\n",
       "      <td>73.333333</td>\n",
       "    </tr>\n",
       "    <tr>\n",
       "      <th>향단</th>\n",
       "      <td>70</td>\n",
       "      <td>60</td>\n",
       "      <td>80</td>\n",
       "      <td>70.000000</td>\n",
       "    </tr>\n",
       "    <tr>\n",
       "      <th>방자</th>\n",
       "      <td>30</td>\n",
       "      <td>40</td>\n",
       "      <td>70</td>\n",
       "      <td>46.666667</td>\n",
       "    </tr>\n",
       "  </tbody>\n",
       "</table>\n",
       "</div>"
      ],
      "text/plain": [
       "    국어  영어  수학      평균 점수\n",
       "춘향  80  90  90  86.666667\n",
       "몽룡  90  70  60  73.333333\n",
       "향단  70  60  80  70.000000\n",
       "방자  30  40  70  46.666667"
      ]
     },
     "execution_count": 125,
     "metadata": {},
     "output_type": "execute_result"
    }
   ],
   "source": [
    "df[\"평균 점수\"] = ((df[\"국어\"] + df[\"영어\"] + df[\"수학\"]) / 3)\n",
    "df\n",
    "\n",
    "# 그 소숫점 두자리까지 표현하려면 round쓰고 뒤쪽에 2 적으면 됨\n",
    "# 오류를 줄이기 위해서 그렇게 사용하나 봄. 강의자료 참고하기."
   ]
  },
  {
   "cell_type": "code",
   "execution_count": 126,
   "id": "cdfb5c36-d5db-4ecc-b749-622f8255a439",
   "metadata": {},
   "outputs": [
    {
     "data": {
      "text/html": [
       "<div>\n",
       "<style scoped>\n",
       "    .dataframe tbody tr th:only-of-type {\n",
       "        vertical-align: middle;\n",
       "    }\n",
       "\n",
       "    .dataframe tbody tr th {\n",
       "        vertical-align: top;\n",
       "    }\n",
       "\n",
       "    .dataframe thead th {\n",
       "        text-align: right;\n",
       "    }\n",
       "</style>\n",
       "<table border=\"1\" class=\"dataframe\">\n",
       "  <thead>\n",
       "    <tr style=\"text-align: right;\">\n",
       "      <th></th>\n",
       "      <th>국어</th>\n",
       "      <th>영어</th>\n",
       "      <th>수학</th>\n",
       "      <th>평균 점수</th>\n",
       "    </tr>\n",
       "  </thead>\n",
       "  <tbody>\n",
       "    <tr>\n",
       "      <th>춘향</th>\n",
       "      <td>80</td>\n",
       "      <td>90</td>\n",
       "      <td>90</td>\n",
       "      <td>86.666667</td>\n",
       "    </tr>\n",
       "  </tbody>\n",
       "</table>\n",
       "</div>"
      ],
      "text/plain": [
       "    국어  영어  수학      평균 점수\n",
       "춘향  80  90  90  86.666667"
      ]
     },
     "execution_count": 126,
     "metadata": {},
     "output_type": "execute_result"
    }
   ],
   "source": [
    "df['춘향':'춘향']"
   ]
  },
  {
   "cell_type": "code",
   "execution_count": 127,
   "id": "839a48b7-f095-443b-abcd-9c87b5e5718d",
   "metadata": {},
   "outputs": [
    {
     "data": {
      "text/plain": [
       "국어       70.0\n",
       "영어       60.0\n",
       "수학       80.0\n",
       "평균 점수    70.0\n",
       "Name: 향단, dtype: float64"
      ]
     },
     "execution_count": 127,
     "metadata": {},
     "output_type": "execute_result"
    }
   ],
   "source": [
    "df.T[\"향단\"]\n",
    "\n",
    "# df.loc[index] 뒤에서 배울 예정"
   ]
  },
  {
   "cell_type": "code",
   "execution_count": 130,
   "id": "48453bb4-6168-4c4f-b5a7-fb3ae5d1244f",
   "metadata": {},
   "outputs": [
    {
     "name": "stdout",
     "output_type": "stream",
     "text": [
      "DatetimeIndex(['2013-02-26', '2013-02-27', '2013-02-28', '2013-03-01',\n",
      "               '2013-03-02', '2013-03-03'],\n",
      "              dtype='datetime64[ns]', freq='D')\n"
     ]
    }
   ],
   "source": [
    "np.random.seed(0)  \n",
    "date = pd.date_range(\"2013-02-26\", periods=6)\n",
    "print(date)"
   ]
  },
  {
   "cell_type": "code",
   "execution_count": 132,
   "id": "2206eb70-6936-49b6-b4aa-b903a6f13217",
   "metadata": {},
   "outputs": [
    {
     "data": {
      "text/html": [
       "<div>\n",
       "<style scoped>\n",
       "    .dataframe tbody tr th:only-of-type {\n",
       "        vertical-align: middle;\n",
       "    }\n",
       "\n",
       "    .dataframe tbody tr th {\n",
       "        vertical-align: top;\n",
       "    }\n",
       "\n",
       "    .dataframe thead th {\n",
       "        text-align: right;\n",
       "    }\n",
       "</style>\n",
       "<table border=\"1\" class=\"dataframe\">\n",
       "  <thead>\n",
       "    <tr style=\"text-align: right;\">\n",
       "      <th></th>\n",
       "      <th>A</th>\n",
       "      <th>B</th>\n",
       "      <th>C</th>\n",
       "      <th>D</th>\n",
       "    </tr>\n",
       "  </thead>\n",
       "  <tbody>\n",
       "    <tr>\n",
       "      <th>2013-02-26</th>\n",
       "      <td>2.269755</td>\n",
       "      <td>-1.454366</td>\n",
       "      <td>0.045759</td>\n",
       "      <td>-0.187184</td>\n",
       "    </tr>\n",
       "    <tr>\n",
       "      <th>2013-02-27</th>\n",
       "      <td>1.532779</td>\n",
       "      <td>1.469359</td>\n",
       "      <td>0.154947</td>\n",
       "      <td>0.378163</td>\n",
       "    </tr>\n",
       "    <tr>\n",
       "      <th>2013-02-28</th>\n",
       "      <td>-0.887786</td>\n",
       "      <td>-1.980796</td>\n",
       "      <td>-0.347912</td>\n",
       "      <td>0.156349</td>\n",
       "    </tr>\n",
       "    <tr>\n",
       "      <th>2013-03-01</th>\n",
       "      <td>1.230291</td>\n",
       "      <td>1.202380</td>\n",
       "      <td>-0.387327</td>\n",
       "      <td>-0.302303</td>\n",
       "    </tr>\n",
       "    <tr>\n",
       "      <th>2013-03-02</th>\n",
       "      <td>-1.048553</td>\n",
       "      <td>-1.420018</td>\n",
       "      <td>-1.706270</td>\n",
       "      <td>1.950775</td>\n",
       "    </tr>\n",
       "    <tr>\n",
       "      <th>2013-03-03</th>\n",
       "      <td>-0.509652</td>\n",
       "      <td>-0.438074</td>\n",
       "      <td>-1.252795</td>\n",
       "      <td>0.777490</td>\n",
       "    </tr>\n",
       "  </tbody>\n",
       "</table>\n",
       "</div>"
      ],
      "text/plain": [
       "                   A         B         C         D\n",
       "2013-02-26  2.269755 -1.454366  0.045759 -0.187184\n",
       "2013-02-27  1.532779  1.469359  0.154947  0.378163\n",
       "2013-02-28 -0.887786 -1.980796 -0.347912  0.156349\n",
       "2013-03-01  1.230291  1.202380 -0.387327 -0.302303\n",
       "2013-03-02 -1.048553 -1.420018 -1.706270  1.950775\n",
       "2013-03-03 -0.509652 -0.438074 -1.252795  0.777490"
      ]
     },
     "execution_count": 132,
     "metadata": {},
     "output_type": "execute_result"
    }
   ],
   "source": [
    "result123 = pd.DataFrame(np.random.randn(6, 4), index = date, columns = list(\"ABCD\"))\n",
    "result123"
   ]
  },
  {
   "cell_type": "code",
   "execution_count": null,
   "id": "c55995f7-1c87-4948-805e-d9b0c2e06b28",
   "metadata": {},
   "outputs": [],
   "source": []
  }
 ],
 "metadata": {
  "kernelspec": {
   "display_name": "Python 3 (ipykernel)",
   "language": "python",
   "name": "python3"
  },
  "language_info": {
   "codemirror_mode": {
    "name": "ipython",
    "version": 3
   },
   "file_extension": ".py",
   "mimetype": "text/x-python",
   "name": "python",
   "nbconvert_exporter": "python",
   "pygments_lexer": "ipython3",
   "version": "3.9.13"
  }
 },
 "nbformat": 4,
 "nbformat_minor": 5
}
