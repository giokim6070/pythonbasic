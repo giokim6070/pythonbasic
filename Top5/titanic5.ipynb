{
 "cells": [
  {
   "cell_type": "code",
   "execution_count": 1,
   "id": "b9779820-f9cb-49d5-8b39-74c0c270fcbd",
   "metadata": {},
   "outputs": [],
   "source": [
    "import pandas as pd\n",
    "import numpy as np\n",
    "import random\n",
    "import seaborn as sns\n",
    "import matplotlib as mpl\n",
    "import matplotlib.pyplot as plt"
   ]
  },
  {
   "cell_type": "code",
   "execution_count": 2,
   "id": "34f3ef71-a791-44f9-9a56-c8eb1e6b9be6",
   "metadata": {},
   "outputs": [
    {
     "data": {
      "text/plain": [
       "'C:\\\\python\\\\miniproject'"
      ]
     },
     "execution_count": 2,
     "metadata": {},
     "output_type": "execute_result"
    }
   ],
   "source": [
    "%pwd"
   ]
  },
  {
   "cell_type": "code",
   "execution_count": 3,
   "id": "28307ecb-7fc4-4584-891c-fa2331934a10",
   "metadata": {},
   "outputs": [
    {
     "name": "stdout",
     "output_type": "stream",
     "text": [
      "C:\\python\\datas\n"
     ]
    }
   ],
   "source": [
    "%cd ../datas"
   ]
  },
  {
   "cell_type": "code",
   "execution_count": 4,
   "id": "3a704704-17d0-4407-82e1-8fd96d9ef768",
   "metadata": {},
   "outputs": [],
   "source": [
    "#!pip install easydict"
   ]
  },
  {
   "cell_type": "markdown",
   "id": "bc1bdfbe-7c53-4538-8f79-7ed3cff243b8",
   "metadata": {},
   "source": [
    "# Global Variables"
   ]
  },
  {
   "cell_type": "code",
   "execution_count": 5,
   "id": "e6b48def-3db8-4a2d-9a1e-be8e37becb7f",
   "metadata": {
    "tags": []
   },
   "outputs": [],
   "source": [
    "import easydict\n",
    "args = easydict.EasyDict()\n",
    "\n",
    "# path 정보\n",
    "args.default_path = './'\n",
    "args.train_csv = args.default_path+'train.csv'\n",
    "args.test_csv = args.default_path+'test.csv'\n",
    "args.default_submission_csv = args.default_path+'submission.csv'\n",
    "\n",
    "args.submission_csv = args.default_path+'result/submission_0220.csv'\n",
    "args.save_results = args.default_path+\"result/model_results.json\"\n",
    "\n",
    "# 데이터 분석을 위한 변수들\n",
    "args.random_state = 21\n",
    "args.results = []"
   ]
  },
  {
   "cell_type": "code",
   "execution_count": 6,
   "id": "edd5fd30-0590-43b6-9099-d9d83e6959f2",
   "metadata": {},
   "outputs": [
    {
     "data": {
      "text/plain": [
       "((916, 12), (393, 11), (393, 2))"
      ]
     },
     "execution_count": 6,
     "metadata": {},
     "output_type": "execute_result"
    }
   ],
   "source": [
    "ori_train = pd.read_csv(args.train_csv)\n",
    "ori_test = pd.read_csv(args.test_csv)\n",
    "end = pd.read_csv(args.default_submission_csv)\n",
    "\n",
    "ori_train.shape, ori_test.shape, end.shape"
   ]
  },
  {
   "cell_type": "code",
   "execution_count": 7,
   "id": "06ffdd22-fa19-4657-8367-35a13d56ca88",
   "metadata": {},
   "outputs": [
    {
     "data": {
      "text/html": [
       "<div>\n",
       "<style scoped>\n",
       "    .dataframe tbody tr th:only-of-type {\n",
       "        vertical-align: middle;\n",
       "    }\n",
       "\n",
       "    .dataframe tbody tr th {\n",
       "        vertical-align: top;\n",
       "    }\n",
       "\n",
       "    .dataframe thead th {\n",
       "        text-align: right;\n",
       "    }\n",
       "</style>\n",
       "<table border=\"1\" class=\"dataframe\">\n",
       "  <thead>\n",
       "    <tr style=\"text-align: right;\">\n",
       "      <th></th>\n",
       "      <th>survived</th>\n",
       "      <th>pclass</th>\n",
       "      <th>name</th>\n",
       "      <th>gender</th>\n",
       "      <th>age</th>\n",
       "      <th>sibsp</th>\n",
       "      <th>parch</th>\n",
       "      <th>ticket</th>\n",
       "      <th>fare</th>\n",
       "      <th>cabin</th>\n",
       "      <th>embarked</th>\n",
       "    </tr>\n",
       "  </thead>\n",
       "  <tbody>\n",
       "    <tr>\n",
       "      <th>0</th>\n",
       "      <td>0</td>\n",
       "      <td>2</td>\n",
       "      <td>Wheeler, Mr. Edwin Frederick\"\"</td>\n",
       "      <td>male</td>\n",
       "      <td>NaN</td>\n",
       "      <td>0</td>\n",
       "      <td>0</td>\n",
       "      <td>SC/PARIS 2159</td>\n",
       "      <td>12.8750</td>\n",
       "      <td>NaN</td>\n",
       "      <td>S</td>\n",
       "    </tr>\n",
       "    <tr>\n",
       "      <th>1</th>\n",
       "      <td>0</td>\n",
       "      <td>3</td>\n",
       "      <td>Henry, Miss. Delia</td>\n",
       "      <td>female</td>\n",
       "      <td>NaN</td>\n",
       "      <td>0</td>\n",
       "      <td>0</td>\n",
       "      <td>382649</td>\n",
       "      <td>7.7500</td>\n",
       "      <td>NaN</td>\n",
       "      <td>Q</td>\n",
       "    </tr>\n",
       "    <tr>\n",
       "      <th>2</th>\n",
       "      <td>1</td>\n",
       "      <td>1</td>\n",
       "      <td>Hays, Mrs. Charles Melville (Clara Jennings Gr...</td>\n",
       "      <td>female</td>\n",
       "      <td>52.0</td>\n",
       "      <td>1</td>\n",
       "      <td>1</td>\n",
       "      <td>12749</td>\n",
       "      <td>93.5000</td>\n",
       "      <td>B69</td>\n",
       "      <td>S</td>\n",
       "    </tr>\n",
       "    <tr>\n",
       "      <th>3</th>\n",
       "      <td>1</td>\n",
       "      <td>3</td>\n",
       "      <td>Andersson, Mr. August Edvard (\"Wennerstrom\")</td>\n",
       "      <td>male</td>\n",
       "      <td>27.0</td>\n",
       "      <td>0</td>\n",
       "      <td>0</td>\n",
       "      <td>350043</td>\n",
       "      <td>7.7958</td>\n",
       "      <td>NaN</td>\n",
       "      <td>S</td>\n",
       "    </tr>\n",
       "    <tr>\n",
       "      <th>4</th>\n",
       "      <td>0</td>\n",
       "      <td>2</td>\n",
       "      <td>Hold, Mr. Stephen</td>\n",
       "      <td>male</td>\n",
       "      <td>44.0</td>\n",
       "      <td>1</td>\n",
       "      <td>0</td>\n",
       "      <td>26707</td>\n",
       "      <td>26.0000</td>\n",
       "      <td>NaN</td>\n",
       "      <td>S</td>\n",
       "    </tr>\n",
       "  </tbody>\n",
       "</table>\n",
       "</div>"
      ],
      "text/plain": [
       "   survived  pclass                                               name  \\\n",
       "0         0       2                     Wheeler, Mr. Edwin Frederick\"\"   \n",
       "1         0       3                                 Henry, Miss. Delia   \n",
       "2         1       1  Hays, Mrs. Charles Melville (Clara Jennings Gr...   \n",
       "3         1       3       Andersson, Mr. August Edvard (\"Wennerstrom\")   \n",
       "4         0       2                                  Hold, Mr. Stephen   \n",
       "\n",
       "   gender   age  sibsp  parch         ticket     fare cabin embarked  \n",
       "0    male   NaN      0      0  SC/PARIS 2159  12.8750   NaN        S  \n",
       "1  female   NaN      0      0         382649   7.7500   NaN        Q  \n",
       "2  female  52.0      1      1          12749  93.5000   B69        S  \n",
       "3    male  27.0      0      0         350043   7.7958   NaN        S  \n",
       "4    male  44.0      1      0          26707  26.0000   NaN        S  "
      ]
     },
     "execution_count": 7,
     "metadata": {},
     "output_type": "execute_result"
    }
   ],
   "source": [
    "ori_train.drop('passengerid', axis=1, inplace=True)\n",
    "ori_train.head()"
   ]
  },
  {
   "cell_type": "code",
   "execution_count": 8,
   "id": "a7119def-6c86-4903-91ae-6f4b502ea3fe",
   "metadata": {},
   "outputs": [],
   "source": [
    "ori_test.set_index(['passengerid'], inplace=True) "
   ]
  },
  {
   "cell_type": "code",
   "execution_count": 9,
   "id": "14612623-a1c3-4db5-8c74-953c1e21d75c",
   "metadata": {},
   "outputs": [
    {
     "data": {
      "text/html": [
       "<div>\n",
       "<style scoped>\n",
       "    .dataframe tbody tr th:only-of-type {\n",
       "        vertical-align: middle;\n",
       "    }\n",
       "\n",
       "    .dataframe tbody tr th {\n",
       "        vertical-align: top;\n",
       "    }\n",
       "\n",
       "    .dataframe thead th {\n",
       "        text-align: right;\n",
       "    }\n",
       "</style>\n",
       "<table border=\"1\" class=\"dataframe\">\n",
       "  <thead>\n",
       "    <tr style=\"text-align: right;\">\n",
       "      <th></th>\n",
       "      <th>counts</th>\n",
       "      <th>freqs</th>\n",
       "    </tr>\n",
       "    <tr>\n",
       "      <th>categories</th>\n",
       "      <th></th>\n",
       "      <th></th>\n",
       "    </tr>\n",
       "  </thead>\n",
       "  <tbody>\n",
       "    <tr>\n",
       "      <th>Died</th>\n",
       "      <td>570</td>\n",
       "      <td>0.622271</td>\n",
       "    </tr>\n",
       "    <tr>\n",
       "      <th>Survived</th>\n",
       "      <td>346</td>\n",
       "      <td>0.377729</td>\n",
       "    </tr>\n",
       "  </tbody>\n",
       "</table>\n",
       "</div>"
      ],
      "text/plain": [
       "            counts     freqs\n",
       "categories                  \n",
       "Died           570  0.622271\n",
       "Survived       346  0.377729"
      ]
     },
     "execution_count": 9,
     "metadata": {},
     "output_type": "execute_result"
    }
   ],
   "source": [
    "new_survived = pd.Categorical(ori_train[\"survived\"])\n",
    "new_survived = new_survived.rename_categories([\"Died\",\"Survived\"])              \n",
    "\n",
    "new_survived.describe()"
   ]
  },
  {
   "cell_type": "markdown",
   "id": "07120b36-ce94-49e2-844a-633d81e12bee",
   "metadata": {},
   "source": [
    "# train_test_split"
   ]
  },
  {
   "cell_type": "code",
   "execution_count": 10,
   "id": "67a961a6-6ee6-4fce-9e79-c75b6c0ef13d",
   "metadata": {},
   "outputs": [],
   "source": [
    "from sklearn.model_selection import train_test_split"
   ]
  },
  {
   "cell_type": "code",
   "execution_count": 11,
   "id": "314e4c9e-fc37-4b1a-a80c-adfd0ae7dc42",
   "metadata": {},
   "outputs": [],
   "source": [
    "y = ori_train['survived']\n",
    "X = ori_train.drop(['survived'], axis=1)"
   ]
  },
  {
   "cell_type": "code",
   "execution_count": 12,
   "id": "896dd14e-cbc1-48a4-a4be-3d9c581719eb",
   "metadata": {},
   "outputs": [
    {
     "data": {
      "text/plain": [
       "((641, 10), (275, 10), (641,), (275,))"
      ]
     },
     "execution_count": 12,
     "metadata": {},
     "output_type": "execute_result"
    }
   ],
   "source": [
    "X_tr, X_te, y_tr, y_te = train_test_split(X, y, test_size=0.3, stratify=ori_train['survived'], random_state=args.random_state)\n",
    "\n",
    "X_tr.shape, X_te.shape, y_tr.shape, y_te.shape"
   ]
  },
  {
   "cell_type": "code",
   "execution_count": 13,
   "id": "8b80ecfb-c032-4934-9b42-59d6d8e778e8",
   "metadata": {},
   "outputs": [],
   "source": [
    "ori_train2 = pd.concat([X_tr,y_tr],axis=1) ##상관간계를 보기 위해 스플릿시킨 데이터들을 합쳐 줌"
   ]
  },
  {
   "cell_type": "code",
   "execution_count": 14,
   "id": "de393fa3-8b01-4a8a-ad0b-32a050f139b5",
   "metadata": {},
   "outputs": [
    {
     "data": {
      "text/html": [
       "<div>\n",
       "<style scoped>\n",
       "    .dataframe tbody tr th:only-of-type {\n",
       "        vertical-align: middle;\n",
       "    }\n",
       "\n",
       "    .dataframe tbody tr th {\n",
       "        vertical-align: top;\n",
       "    }\n",
       "\n",
       "    .dataframe thead th {\n",
       "        text-align: right;\n",
       "    }\n",
       "</style>\n",
       "<table border=\"1\" class=\"dataframe\">\n",
       "  <thead>\n",
       "    <tr style=\"text-align: right;\">\n",
       "      <th></th>\n",
       "      <th>pclass</th>\n",
       "      <th>name</th>\n",
       "      <th>gender</th>\n",
       "      <th>age</th>\n",
       "      <th>sibsp</th>\n",
       "      <th>parch</th>\n",
       "      <th>ticket</th>\n",
       "      <th>fare</th>\n",
       "      <th>cabin</th>\n",
       "      <th>embarked</th>\n",
       "      <th>survived</th>\n",
       "    </tr>\n",
       "  </thead>\n",
       "  <tbody>\n",
       "    <tr>\n",
       "      <th>812</th>\n",
       "      <td>3</td>\n",
       "      <td>Ohman, Miss. Velin</td>\n",
       "      <td>female</td>\n",
       "      <td>22.0</td>\n",
       "      <td>0</td>\n",
       "      <td>0</td>\n",
       "      <td>347085</td>\n",
       "      <td>7.7750</td>\n",
       "      <td>NaN</td>\n",
       "      <td>S</td>\n",
       "      <td>1</td>\n",
       "    </tr>\n",
       "    <tr>\n",
       "      <th>134</th>\n",
       "      <td>3</td>\n",
       "      <td>Buckley, Mr. Daniel</td>\n",
       "      <td>male</td>\n",
       "      <td>21.0</td>\n",
       "      <td>0</td>\n",
       "      <td>0</td>\n",
       "      <td>330920</td>\n",
       "      <td>7.8208</td>\n",
       "      <td>NaN</td>\n",
       "      <td>Q</td>\n",
       "      <td>0</td>\n",
       "    </tr>\n",
       "    <tr>\n",
       "      <th>390</th>\n",
       "      <td>3</td>\n",
       "      <td>Jonsson, Mr. Carl</td>\n",
       "      <td>male</td>\n",
       "      <td>32.0</td>\n",
       "      <td>0</td>\n",
       "      <td>0</td>\n",
       "      <td>350417</td>\n",
       "      <td>7.8542</td>\n",
       "      <td>NaN</td>\n",
       "      <td>S</td>\n",
       "      <td>1</td>\n",
       "    </tr>\n",
       "    <tr>\n",
       "      <th>305</th>\n",
       "      <td>3</td>\n",
       "      <td>Hassan, Mr. Houssein G N</td>\n",
       "      <td>male</td>\n",
       "      <td>11.0</td>\n",
       "      <td>0</td>\n",
       "      <td>0</td>\n",
       "      <td>2699</td>\n",
       "      <td>18.7875</td>\n",
       "      <td>NaN</td>\n",
       "      <td>C</td>\n",
       "      <td>0</td>\n",
       "    </tr>\n",
       "    <tr>\n",
       "      <th>203</th>\n",
       "      <td>3</td>\n",
       "      <td>Corn, Mr. Harry</td>\n",
       "      <td>male</td>\n",
       "      <td>30.0</td>\n",
       "      <td>0</td>\n",
       "      <td>0</td>\n",
       "      <td>SOTON/OQ 392090</td>\n",
       "      <td>8.0500</td>\n",
       "      <td>NaN</td>\n",
       "      <td>S</td>\n",
       "      <td>0</td>\n",
       "    </tr>\n",
       "    <tr>\n",
       "      <th>...</th>\n",
       "      <td>...</td>\n",
       "      <td>...</td>\n",
       "      <td>...</td>\n",
       "      <td>...</td>\n",
       "      <td>...</td>\n",
       "      <td>...</td>\n",
       "      <td>...</td>\n",
       "      <td>...</td>\n",
       "      <td>...</td>\n",
       "      <td>...</td>\n",
       "      <td>...</td>\n",
       "    </tr>\n",
       "    <tr>\n",
       "      <th>273</th>\n",
       "      <td>2</td>\n",
       "      <td>Davis, Miss. Mary</td>\n",
       "      <td>female</td>\n",
       "      <td>28.0</td>\n",
       "      <td>0</td>\n",
       "      <td>0</td>\n",
       "      <td>237668</td>\n",
       "      <td>13.0000</td>\n",
       "      <td>NaN</td>\n",
       "      <td>S</td>\n",
       "      <td>1</td>\n",
       "    </tr>\n",
       "    <tr>\n",
       "      <th>343</th>\n",
       "      <td>3</td>\n",
       "      <td>Mulvihill, Miss. Bertha E</td>\n",
       "      <td>female</td>\n",
       "      <td>24.0</td>\n",
       "      <td>0</td>\n",
       "      <td>0</td>\n",
       "      <td>382653</td>\n",
       "      <td>7.7500</td>\n",
       "      <td>NaN</td>\n",
       "      <td>Q</td>\n",
       "      <td>1</td>\n",
       "    </tr>\n",
       "    <tr>\n",
       "      <th>450</th>\n",
       "      <td>1</td>\n",
       "      <td>Lindeberg-Lind, Mr. Erik Gustaf (Mr Edward Lin...</td>\n",
       "      <td>male</td>\n",
       "      <td>42.0</td>\n",
       "      <td>0</td>\n",
       "      <td>0</td>\n",
       "      <td>17475</td>\n",
       "      <td>26.5500</td>\n",
       "      <td>NaN</td>\n",
       "      <td>S</td>\n",
       "      <td>0</td>\n",
       "    </tr>\n",
       "    <tr>\n",
       "      <th>94</th>\n",
       "      <td>3</td>\n",
       "      <td>Panula, Master. Urho Abraham</td>\n",
       "      <td>male</td>\n",
       "      <td>2.0</td>\n",
       "      <td>4</td>\n",
       "      <td>1</td>\n",
       "      <td>3101295</td>\n",
       "      <td>39.6875</td>\n",
       "      <td>NaN</td>\n",
       "      <td>S</td>\n",
       "      <td>0</td>\n",
       "    </tr>\n",
       "    <tr>\n",
       "      <th>277</th>\n",
       "      <td>2</td>\n",
       "      <td>Hunt, Mr. George Henry</td>\n",
       "      <td>male</td>\n",
       "      <td>33.0</td>\n",
       "      <td>0</td>\n",
       "      <td>0</td>\n",
       "      <td>SCO/W 1585</td>\n",
       "      <td>12.2750</td>\n",
       "      <td>NaN</td>\n",
       "      <td>S</td>\n",
       "      <td>0</td>\n",
       "    </tr>\n",
       "  </tbody>\n",
       "</table>\n",
       "<p>641 rows × 11 columns</p>\n",
       "</div>"
      ],
      "text/plain": [
       "     pclass                                               name  gender   age  \\\n",
       "812       3                                 Ohman, Miss. Velin  female  22.0   \n",
       "134       3                                Buckley, Mr. Daniel    male  21.0   \n",
       "390       3                                  Jonsson, Mr. Carl    male  32.0   \n",
       "305       3                           Hassan, Mr. Houssein G N    male  11.0   \n",
       "203       3                                    Corn, Mr. Harry    male  30.0   \n",
       "..      ...                                                ...     ...   ...   \n",
       "273       2                                  Davis, Miss. Mary  female  28.0   \n",
       "343       3                          Mulvihill, Miss. Bertha E  female  24.0   \n",
       "450       1  Lindeberg-Lind, Mr. Erik Gustaf (Mr Edward Lin...    male  42.0   \n",
       "94        3                       Panula, Master. Urho Abraham    male   2.0   \n",
       "277       2                             Hunt, Mr. George Henry    male  33.0   \n",
       "\n",
       "     sibsp  parch           ticket     fare cabin embarked  survived  \n",
       "812      0      0           347085   7.7750   NaN        S         1  \n",
       "134      0      0           330920   7.8208   NaN        Q         0  \n",
       "390      0      0           350417   7.8542   NaN        S         1  \n",
       "305      0      0             2699  18.7875   NaN        C         0  \n",
       "203      0      0  SOTON/OQ 392090   8.0500   NaN        S         0  \n",
       "..     ...    ...              ...      ...   ...      ...       ...  \n",
       "273      0      0           237668  13.0000   NaN        S         1  \n",
       "343      0      0           382653   7.7500   NaN        Q         1  \n",
       "450      0      0            17475  26.5500   NaN        S         0  \n",
       "94       4      1          3101295  39.6875   NaN        S         0  \n",
       "277      0      0       SCO/W 1585  12.2750   NaN        S         0  \n",
       "\n",
       "[641 rows x 11 columns]"
      ]
     },
     "execution_count": 14,
     "metadata": {},
     "output_type": "execute_result"
    }
   ],
   "source": [
    "ori_train2"
   ]
  },
  {
   "cell_type": "code",
   "execution_count": 15,
   "id": "47679931-f8a7-4262-a32c-6b4d9a87cc01",
   "metadata": {},
   "outputs": [
    {
     "data": {
      "text/plain": [
       "((641, 10), (275, 10), (393, 10))"
      ]
     },
     "execution_count": 15,
     "metadata": {},
     "output_type": "execute_result"
    }
   ],
   "source": [
    "train = X_tr.copy() \n",
    "test = X_te.copy()\n",
    "ori_te = ori_test.copy()\n",
    "\n",
    "train.shape, test.shape, ori_te.shape"
   ]
  },
  {
   "cell_type": "markdown",
   "id": "4f24510b-2217-40a8-bbc2-fbb31e94cd6c",
   "metadata": {},
   "source": [
    "# cabin, ticket 제거"
   ]
  },
  {
   "cell_type": "code",
   "execution_count": 16,
   "id": "fdf6b699-8580-4994-8eea-ce79eb11232e",
   "metadata": {},
   "outputs": [
    {
     "name": "stdout",
     "output_type": "stream",
     "text": [
      "before: (641, 10) / (275, 10)\n",
      "after: (641, 8) / (275, 8)\n",
      "<class 'pandas.core.frame.DataFrame'>\n",
      "Int64Index: 641 entries, 812 to 277\n",
      "Data columns (total 8 columns):\n",
      " #   Column    Non-Null Count  Dtype  \n",
      "---  ------    --------------  -----  \n",
      " 0   pclass    641 non-null    int64  \n",
      " 1   name      641 non-null    object \n",
      " 2   gender    641 non-null    object \n",
      " 3   age       512 non-null    float64\n",
      " 4   sibsp     641 non-null    int64  \n",
      " 5   parch     641 non-null    int64  \n",
      " 6   fare      641 non-null    float64\n",
      " 7   embarked  641 non-null    object \n",
      "dtypes: float64(2), int64(3), object(3)\n",
      "memory usage: 45.1+ KB\n"
     ]
    }
   ],
   "source": [
    "print(f'before: {train.shape} / {test.shape}')\n",
    "drop_cols = ['ticket', 'cabin']\n",
    "train.drop(drop_cols, axis=1, inplace=True)\n",
    "test.drop(drop_cols, axis=1, inplace=True)\n",
    "ori_te.drop(drop_cols, axis=1, inplace=True)\n",
    "print(f'after: {train.shape} / {test.shape}')\n",
    "train.info()"
   ]
  },
  {
   "cell_type": "code",
   "execution_count": 17,
   "id": "18e9fd3c-5e5f-4a31-9ffb-098ac35df7e7",
   "metadata": {},
   "outputs": [
    {
     "data": {
      "text/html": [
       "<div>\n",
       "<style scoped>\n",
       "    .dataframe tbody tr th:only-of-type {\n",
       "        vertical-align: middle;\n",
       "    }\n",
       "\n",
       "    .dataframe tbody tr th {\n",
       "        vertical-align: top;\n",
       "    }\n",
       "\n",
       "    .dataframe thead th {\n",
       "        text-align: right;\n",
       "    }\n",
       "</style>\n",
       "<table border=\"1\" class=\"dataframe\">\n",
       "  <thead>\n",
       "    <tr style=\"text-align: right;\">\n",
       "      <th></th>\n",
       "      <th>pclass</th>\n",
       "      <th>name</th>\n",
       "      <th>gender</th>\n",
       "      <th>age</th>\n",
       "      <th>sibsp</th>\n",
       "      <th>parch</th>\n",
       "      <th>fare</th>\n",
       "      <th>embarked</th>\n",
       "    </tr>\n",
       "  </thead>\n",
       "  <tbody>\n",
       "    <tr>\n",
       "      <th>54</th>\n",
       "      <td>1</td>\n",
       "      <td>Chisholm, Mr. Roderick Robert Crispin</td>\n",
       "      <td>male</td>\n",
       "      <td>NaN</td>\n",
       "      <td>0</td>\n",
       "      <td>0</td>\n",
       "      <td>0.0</td>\n",
       "      <td>S</td>\n",
       "    </tr>\n",
       "    <tr>\n",
       "      <th>715</th>\n",
       "      <td>2</td>\n",
       "      <td>Cunningham, Mr. Alfred Fleming</td>\n",
       "      <td>male</td>\n",
       "      <td>NaN</td>\n",
       "      <td>0</td>\n",
       "      <td>0</td>\n",
       "      <td>0.0</td>\n",
       "      <td>S</td>\n",
       "    </tr>\n",
       "    <tr>\n",
       "      <th>20</th>\n",
       "      <td>2</td>\n",
       "      <td>Parkes, Mr. Francis \"Frank\"</td>\n",
       "      <td>male</td>\n",
       "      <td>NaN</td>\n",
       "      <td>0</td>\n",
       "      <td>0</td>\n",
       "      <td>0.0</td>\n",
       "      <td>S</td>\n",
       "    </tr>\n",
       "    <tr>\n",
       "      <th>158</th>\n",
       "      <td>3</td>\n",
       "      <td>Johnson, Mr. Alfred</td>\n",
       "      <td>male</td>\n",
       "      <td>49.0</td>\n",
       "      <td>0</td>\n",
       "      <td>0</td>\n",
       "      <td>0.0</td>\n",
       "      <td>S</td>\n",
       "    </tr>\n",
       "    <tr>\n",
       "      <th>806</th>\n",
       "      <td>1</td>\n",
       "      <td>Fry, Mr. Richard</td>\n",
       "      <td>male</td>\n",
       "      <td>NaN</td>\n",
       "      <td>0</td>\n",
       "      <td>0</td>\n",
       "      <td>0.0</td>\n",
       "      <td>S</td>\n",
       "    </tr>\n",
       "    <tr>\n",
       "      <th>500</th>\n",
       "      <td>3</td>\n",
       "      <td>Leonard, Mr. Lionel</td>\n",
       "      <td>male</td>\n",
       "      <td>36.0</td>\n",
       "      <td>0</td>\n",
       "      <td>0</td>\n",
       "      <td>0.0</td>\n",
       "      <td>S</td>\n",
       "    </tr>\n",
       "    <tr>\n",
       "      <th>702</th>\n",
       "      <td>1</td>\n",
       "      <td>Ismay, Mr. Joseph Bruce</td>\n",
       "      <td>male</td>\n",
       "      <td>49.0</td>\n",
       "      <td>0</td>\n",
       "      <td>0</td>\n",
       "      <td>0.0</td>\n",
       "      <td>S</td>\n",
       "    </tr>\n",
       "    <tr>\n",
       "      <th>33</th>\n",
       "      <td>2</td>\n",
       "      <td>Knight, Mr. Robert J</td>\n",
       "      <td>male</td>\n",
       "      <td>NaN</td>\n",
       "      <td>0</td>\n",
       "      <td>0</td>\n",
       "      <td>0.0</td>\n",
       "      <td>S</td>\n",
       "    </tr>\n",
       "    <tr>\n",
       "      <th>357</th>\n",
       "      <td>1</td>\n",
       "      <td>Reuchlin, Jonkheer. John George</td>\n",
       "      <td>male</td>\n",
       "      <td>38.0</td>\n",
       "      <td>0</td>\n",
       "      <td>0</td>\n",
       "      <td>0.0</td>\n",
       "      <td>S</td>\n",
       "    </tr>\n",
       "  </tbody>\n",
       "</table>\n",
       "</div>"
      ],
      "text/plain": [
       "     pclass                                   name gender   age  sibsp  parch  \\\n",
       "54        1  Chisholm, Mr. Roderick Robert Crispin   male   NaN      0      0   \n",
       "715       2         Cunningham, Mr. Alfred Fleming   male   NaN      0      0   \n",
       "20        2            Parkes, Mr. Francis \"Frank\"   male   NaN      0      0   \n",
       "158       3                    Johnson, Mr. Alfred   male  49.0      0      0   \n",
       "806       1                       Fry, Mr. Richard   male   NaN      0      0   \n",
       "500       3                    Leonard, Mr. Lionel   male  36.0      0      0   \n",
       "702       1                Ismay, Mr. Joseph Bruce   male  49.0      0      0   \n",
       "33        2                   Knight, Mr. Robert J   male   NaN      0      0   \n",
       "357       1        Reuchlin, Jonkheer. John George   male  38.0      0      0   \n",
       "\n",
       "     fare embarked  \n",
       "54    0.0        S  \n",
       "715   0.0        S  \n",
       "20    0.0        S  \n",
       "158   0.0        S  \n",
       "806   0.0        S  \n",
       "500   0.0        S  \n",
       "702   0.0        S  \n",
       "33    0.0        S  \n",
       "357   0.0        S  "
      ]
     },
     "execution_count": 17,
     "metadata": {},
     "output_type": "execute_result"
    }
   ],
   "source": [
    "train[train['fare']<=0]"
   ]
  },
  {
   "cell_type": "code",
   "execution_count": 18,
   "id": "1b122b4e-0434-4c49-9aff-be53291ddea4",
   "metadata": {},
   "outputs": [
    {
     "data": {
      "text/html": [
       "<div>\n",
       "<style scoped>\n",
       "    .dataframe tbody tr th:only-of-type {\n",
       "        vertical-align: middle;\n",
       "    }\n",
       "\n",
       "    .dataframe tbody tr th {\n",
       "        vertical-align: top;\n",
       "    }\n",
       "\n",
       "    .dataframe thead th {\n",
       "        text-align: right;\n",
       "    }\n",
       "</style>\n",
       "<table border=\"1\" class=\"dataframe\">\n",
       "  <thead>\n",
       "    <tr style=\"text-align: right;\">\n",
       "      <th></th>\n",
       "      <th>pclass</th>\n",
       "      <th>name</th>\n",
       "      <th>gender</th>\n",
       "      <th>age</th>\n",
       "      <th>sibsp</th>\n",
       "      <th>parch</th>\n",
       "      <th>fare</th>\n",
       "      <th>embarked</th>\n",
       "    </tr>\n",
       "  </thead>\n",
       "  <tbody>\n",
       "    <tr>\n",
       "      <th>812</th>\n",
       "      <td>3</td>\n",
       "      <td>Ohman, Miss. Velin</td>\n",
       "      <td>female</td>\n",
       "      <td>22.0</td>\n",
       "      <td>0</td>\n",
       "      <td>0</td>\n",
       "      <td>7.7750</td>\n",
       "      <td>S</td>\n",
       "    </tr>\n",
       "    <tr>\n",
       "      <th>134</th>\n",
       "      <td>3</td>\n",
       "      <td>Buckley, Mr. Daniel</td>\n",
       "      <td>male</td>\n",
       "      <td>21.0</td>\n",
       "      <td>0</td>\n",
       "      <td>0</td>\n",
       "      <td>7.8208</td>\n",
       "      <td>Q</td>\n",
       "    </tr>\n",
       "    <tr>\n",
       "      <th>390</th>\n",
       "      <td>3</td>\n",
       "      <td>Jonsson, Mr. Carl</td>\n",
       "      <td>male</td>\n",
       "      <td>32.0</td>\n",
       "      <td>0</td>\n",
       "      <td>0</td>\n",
       "      <td>7.8542</td>\n",
       "      <td>S</td>\n",
       "    </tr>\n",
       "    <tr>\n",
       "      <th>305</th>\n",
       "      <td>3</td>\n",
       "      <td>Hassan, Mr. Houssein G N</td>\n",
       "      <td>male</td>\n",
       "      <td>11.0</td>\n",
       "      <td>0</td>\n",
       "      <td>0</td>\n",
       "      <td>18.7875</td>\n",
       "      <td>C</td>\n",
       "    </tr>\n",
       "    <tr>\n",
       "      <th>203</th>\n",
       "      <td>3</td>\n",
       "      <td>Corn, Mr. Harry</td>\n",
       "      <td>male</td>\n",
       "      <td>30.0</td>\n",
       "      <td>0</td>\n",
       "      <td>0</td>\n",
       "      <td>8.0500</td>\n",
       "      <td>S</td>\n",
       "    </tr>\n",
       "    <tr>\n",
       "      <th>...</th>\n",
       "      <td>...</td>\n",
       "      <td>...</td>\n",
       "      <td>...</td>\n",
       "      <td>...</td>\n",
       "      <td>...</td>\n",
       "      <td>...</td>\n",
       "      <td>...</td>\n",
       "      <td>...</td>\n",
       "    </tr>\n",
       "    <tr>\n",
       "      <th>273</th>\n",
       "      <td>2</td>\n",
       "      <td>Davis, Miss. Mary</td>\n",
       "      <td>female</td>\n",
       "      <td>28.0</td>\n",
       "      <td>0</td>\n",
       "      <td>0</td>\n",
       "      <td>13.0000</td>\n",
       "      <td>S</td>\n",
       "    </tr>\n",
       "    <tr>\n",
       "      <th>343</th>\n",
       "      <td>3</td>\n",
       "      <td>Mulvihill, Miss. Bertha E</td>\n",
       "      <td>female</td>\n",
       "      <td>24.0</td>\n",
       "      <td>0</td>\n",
       "      <td>0</td>\n",
       "      <td>7.7500</td>\n",
       "      <td>Q</td>\n",
       "    </tr>\n",
       "    <tr>\n",
       "      <th>450</th>\n",
       "      <td>1</td>\n",
       "      <td>Lindeberg-Lind, Mr. Erik Gustaf (Mr Edward Lin...</td>\n",
       "      <td>male</td>\n",
       "      <td>42.0</td>\n",
       "      <td>0</td>\n",
       "      <td>0</td>\n",
       "      <td>26.5500</td>\n",
       "      <td>S</td>\n",
       "    </tr>\n",
       "    <tr>\n",
       "      <th>94</th>\n",
       "      <td>3</td>\n",
       "      <td>Panula, Master. Urho Abraham</td>\n",
       "      <td>male</td>\n",
       "      <td>2.0</td>\n",
       "      <td>4</td>\n",
       "      <td>1</td>\n",
       "      <td>39.6875</td>\n",
       "      <td>S</td>\n",
       "    </tr>\n",
       "    <tr>\n",
       "      <th>277</th>\n",
       "      <td>2</td>\n",
       "      <td>Hunt, Mr. George Henry</td>\n",
       "      <td>male</td>\n",
       "      <td>33.0</td>\n",
       "      <td>0</td>\n",
       "      <td>0</td>\n",
       "      <td>12.2750</td>\n",
       "      <td>S</td>\n",
       "    </tr>\n",
       "  </tbody>\n",
       "</table>\n",
       "<p>641 rows × 8 columns</p>\n",
       "</div>"
      ],
      "text/plain": [
       "     pclass                                               name  gender   age  \\\n",
       "812       3                                 Ohman, Miss. Velin  female  22.0   \n",
       "134       3                                Buckley, Mr. Daniel    male  21.0   \n",
       "390       3                                  Jonsson, Mr. Carl    male  32.0   \n",
       "305       3                           Hassan, Mr. Houssein G N    male  11.0   \n",
       "203       3                                    Corn, Mr. Harry    male  30.0   \n",
       "..      ...                                                ...     ...   ...   \n",
       "273       2                                  Davis, Miss. Mary  female  28.0   \n",
       "343       3                          Mulvihill, Miss. Bertha E  female  24.0   \n",
       "450       1  Lindeberg-Lind, Mr. Erik Gustaf (Mr Edward Lin...    male  42.0   \n",
       "94        3                       Panula, Master. Urho Abraham    male   2.0   \n",
       "277       2                             Hunt, Mr. George Henry    male  33.0   \n",
       "\n",
       "     sibsp  parch     fare embarked  \n",
       "812      0      0   7.7750        S  \n",
       "134      0      0   7.8208        Q  \n",
       "390      0      0   7.8542        S  \n",
       "305      0      0  18.7875        C  \n",
       "203      0      0   8.0500        S  \n",
       "..     ...    ...      ...      ...  \n",
       "273      0      0  13.0000        S  \n",
       "343      0      0   7.7500        Q  \n",
       "450      0      0  26.5500        S  \n",
       "94       4      1  39.6875        S  \n",
       "277      0      0  12.2750        S  \n",
       "\n",
       "[641 rows x 8 columns]"
      ]
     },
     "execution_count": 18,
     "metadata": {},
     "output_type": "execute_result"
    }
   ],
   "source": [
    "train"
   ]
  },
  {
   "cell_type": "code",
   "execution_count": 19,
   "id": "bd7c33de-2cec-4a60-bbd9-55a4b13446f0",
   "metadata": {},
   "outputs": [
    {
     "data": {
      "text/plain": [
       "Index(['pclass', 'name', 'gender', 'age', 'sibsp', 'parch', 'fare',\n",
       "       'embarked'],\n",
       "      dtype='object')"
      ]
     },
     "execution_count": 19,
     "metadata": {},
     "output_type": "execute_result"
    }
   ],
   "source": [
    "train.columns = [col.lower() for col in train.columns] # 컬럼명 소문자로 변환\n",
    "train.columns"
   ]
  },
  {
   "cell_type": "markdown",
   "id": "1ac34c90-e07d-483a-b415-3048a3bea2ce",
   "metadata": {},
   "source": [
    "# 결측치 확인"
   ]
  },
  {
   "cell_type": "code",
   "execution_count": 20,
   "id": "f1e124c4-8af0-480e-a670-2fed7496ecac",
   "metadata": {},
   "outputs": [
    {
     "data": {
      "text/plain": [
       "pclass        0\n",
       "name          0\n",
       "gender        0\n",
       "age         129\n",
       "sibsp         0\n",
       "parch         0\n",
       "fare          0\n",
       "embarked      0\n",
       "dtype: int64"
      ]
     },
     "execution_count": 20,
     "metadata": {},
     "output_type": "execute_result"
    }
   ],
   "source": [
    "train.isnull().sum()"
   ]
  },
  {
   "cell_type": "code",
   "execution_count": 21,
   "id": "e994a322-a31b-4c76-b813-8faa78a34548",
   "metadata": {},
   "outputs": [
    {
     "data": {
      "text/plain": [
       "pclass       0\n",
       "name         0\n",
       "gender       0\n",
       "age         51\n",
       "sibsp        0\n",
       "parch        0\n",
       "fare         0\n",
       "embarked     1\n",
       "dtype: int64"
      ]
     },
     "execution_count": 21,
     "metadata": {},
     "output_type": "execute_result"
    }
   ],
   "source": [
    "test.isnull().sum()"
   ]
  },
  {
   "cell_type": "code",
   "execution_count": 22,
   "id": "921fdca3-0aca-446c-bc22-d292deeb92ba",
   "metadata": {},
   "outputs": [
    {
     "data": {
      "text/plain": [
       "pclass       0\n",
       "name         0\n",
       "gender       0\n",
       "age         83\n",
       "sibsp        0\n",
       "parch        0\n",
       "fare         1\n",
       "embarked     1\n",
       "dtype: int64"
      ]
     },
     "execution_count": 22,
     "metadata": {},
     "output_type": "execute_result"
    }
   ],
   "source": [
    "ori_te.isnull().sum()"
   ]
  },
  {
   "cell_type": "markdown",
   "id": "def1d452-c5e7-4bab-a232-804e641b4770",
   "metadata": {},
   "source": [
    "## 결측치 median으로 채워줌"
   ]
  },
  {
   "cell_type": "code",
   "execution_count": 23,
   "id": "be11f0d8-a7c9-4c81-af7d-636ac1b6c817",
   "metadata": {},
   "outputs": [
    {
     "data": {
      "text/plain": [
       "(14.4, 'S', 28.0)"
      ]
     },
     "execution_count": 23,
     "metadata": {},
     "output_type": "execute_result"
    }
   ],
   "source": [
    "fare_median = train['fare'].median()\n",
    "embarked_mode = train['embarked'].mode().values[0]\n",
    "age_median = train['age'].median()\n",
    "fare_median, embarked_mode,age_median\n"
   ]
  },
  {
   "cell_type": "code",
   "execution_count": 24,
   "id": "9c69ba07-e8a0-4bbf-9aa3-b86ed42c2b57",
   "metadata": {},
   "outputs": [
    {
     "data": {
      "text/plain": [
       "(0, 0, 0)"
      ]
     },
     "execution_count": 24,
     "metadata": {},
     "output_type": "execute_result"
    }
   ],
   "source": [
    "train['fare'].fillna(fare_median, inplace=True)\n",
    "test['fare'].fillna(fare_median, inplace=True)\n",
    "ori_te['fare'].fillna(fare_median, inplace=True)\n",
    "\n",
    "train['embarked'].fillna(embarked_mode, inplace=True)\n",
    "test['embarked'].fillna(embarked_mode, inplace=True)\n",
    "ori_te['embarked'].fillna(embarked_mode, inplace=True)\n",
    "\n",
    "fare_median, embarked_mode\n",
    "train['age'].fillna(age_median, inplace=True)\n",
    "test['age'].fillna(age_median, inplace=True)\n",
    "ori_te['age'].fillna(age_median, inplace=True)\n",
    "\n",
    "train.isnull().sum().sum(), test.isnull().sum().sum(), ori_te.isnull().sum().sum()"
   ]
  },
  {
   "cell_type": "markdown",
   "id": "ff9475ca-f9df-4de1-bc6d-50a2b52e5ffb",
   "metadata": {},
   "source": [
    "### 이름에서 띄어쓰기로 시작해 모든 알파벳이 포함된 문자열을 한 번이상 반복하다가 dot(.)으로 마무리하는 문자열을 추출\n",
    "### 영어 호칭이 추출됨."
   ]
  },
  {
   "cell_type": "code",
   "execution_count": 25,
   "id": "281131be-12d8-4df3-9151-eb7c181c22c2",
   "metadata": {},
   "outputs": [],
   "source": [
    "train['designation'] = train['name'].str.extract('([A-Za-z]+)\\.') #lets extract the Salutations\n",
    "test['designation'] = test['name'].str.extract('([A-Za-z]+)\\.') #lets extract the Salutations\n",
    "ori_te['designation'] = ori_te['name'].str.extract('([A-Za-z]+)\\.') #lets extract the Salutations\n",
    "\n",
    "train.drop(['name'], axis=1, inplace=True)\n",
    "test.drop(['name'], axis=1, inplace=True)\n",
    "ori_te.drop(['name'], axis=1, inplace=True)"
   ]
  },
  {
   "cell_type": "code",
   "execution_count": 26,
   "id": "a6821890-50b6-4c83-8c34-bc83a1d42968",
   "metadata": {},
   "outputs": [
    {
     "data": {
      "text/plain": [
       "array(['Miss', 'Mr', 'Mrs', 'Master', 'Dr', 'Rev', 'Capt', 'Mlle', 'Ms',\n",
       "       'Col', 'Major', 'Sir', 'Jonkheer'], dtype=object)"
      ]
     },
     "execution_count": 26,
     "metadata": {},
     "output_type": "execute_result"
    }
   ],
   "source": [
    "train['designation'].unique()"
   ]
  },
  {
   "cell_type": "code",
   "execution_count": 27,
   "id": "24a8f348-4163-4770-9e35-606668f5cb20",
   "metadata": {},
   "outputs": [
    {
     "data": {
      "text/plain": [
       "Mr          370\n",
       "Miss        126\n",
       "Mrs         106\n",
       "Master       22\n",
       "Rev           4\n",
       "Dr            3\n",
       "Col           3\n",
       "Major         2\n",
       "Capt          1\n",
       "Mlle          1\n",
       "Ms            1\n",
       "Sir           1\n",
       "Jonkheer      1\n",
       "Name: designation, dtype: int64"
      ]
     },
     "execution_count": 27,
     "metadata": {},
     "output_type": "execute_result"
    }
   ],
   "source": [
    "train['designation'].value_counts() "
   ]
  },
  {
   "cell_type": "markdown",
   "id": "e538803f-4535-427e-8b38-55e2367074c0",
   "metadata": {},
   "source": [
    "### 나눴던 추출한 호칭들을 3개의 컬럼으로 재변형"
   ]
  },
  {
   "cell_type": "code",
   "execution_count": 28,
   "id": "f5967ca6-a0e1-44c7-8d6d-3c3a4ceec18e",
   "metadata": {},
   "outputs": [
    {
     "name": "stdout",
     "output_type": "stream",
     "text": [
      "Initial_name_type: 0 / 0 / 0\n"
     ]
    }
   ],
   "source": [
    "dict_initial_name = {\n",
    "    'Mr': 'Others',\n",
    "    'Miss': 'Others',\n",
    "    'Mrs': 'Others',\n",
    "\n",
    "    'Master': 'Officer',\n",
    "    'Dr': 'Officer',\n",
    "    'Rev': 'Officer',\n",
    "    'Col': 'Officer',\n",
    "    'Major': 'Officer',\n",
    "    'Capt': 'Officer',\n",
    "\n",
    "    'Jonkheer': 'Royalty',\n",
    "    'Countess': 'Royalty',\n",
    "    'Sir': 'Royalty'\n",
    "}\n",
    "\n",
    "def add_initial_name_type(initial_name):\n",
    "  result = 'Others'\n",
    "  try:\n",
    "    result = dict_initial_name[initial_name]\n",
    "  except:\n",
    "    pass \n",
    "  return result\n",
    "\n",
    "train['Initial_name_type'] = train['designation'].map(lambda x: add_initial_name_type(x))\n",
    "test['Initial_name_type'] = test['designation'].map(lambda x: add_initial_name_type(x))\n",
    "ori_te['Initial_name_type'] = ori_te['designation'].map(lambda x: add_initial_name_type(x))\n",
    "\n",
    "train.drop(['designation'], axis=1, inplace=True)\n",
    "test.drop(['designation'], axis=1, inplace=True)\n",
    "ori_te.drop(['designation'], axis=1, inplace=True)\n",
    "\n",
    "print(f'Initial_name_type: {train[\"Initial_name_type\"].isnull().sum()} / {test[\"Initial_name_type\"].isnull().sum()} / {ori_te[\"Initial_name_type\"].isnull().sum()}')"
   ]
  },
  {
   "cell_type": "markdown",
   "id": "f829eb91-d1d1-4a9d-8c9f-85c6281a3d8a",
   "metadata": {},
   "source": [
    "### age를 나이대 별로 카테고리화 시켜줌"
   ]
  },
  {
   "cell_type": "code",
   "execution_count": 29,
   "id": "e4b5db2a-b668-4d81-8add-a5eb590166fc",
   "metadata": {},
   "outputs": [],
   "source": [
    "#bins = [0, 20, 30, 50, 70, 100]\n",
    "bins = [-1, 5, 20, 30, 40, 50, 60, 70, 81]\n",
    "labels = [\"애기\",\"미성년자\", \"청년\", \"중청년\", \"장년\", \"중장년\", \"중년\", \"노년\"]\n",
    "# labels = [\"애기\", \"미성년자\", \"청년\", \"중년\", \"노년\"]\n",
    "train[\"age_num\"] = pd.cut(train.age, bins, labels=labels)\n",
    "test[\"age_num\"] = pd.cut(test.age, bins, labels=labels)\n",
    "ori_te[\"age_num\"] = pd.cut(ori_te.age, bins, labels=labels)"
   ]
  },
  {
   "cell_type": "code",
   "execution_count": 30,
   "id": "f32e2a3f-40bd-4bc4-b680-b5ddf8adb83a",
   "metadata": {},
   "outputs": [
    {
     "data": {
      "image/png": "[encoded data removed]",
      "text/plain": [
       "<Figure size 800x600 with 1 Axes>"
      ]
     },
     "metadata": {},
     "output_type": "display_data"
    }
   ],
   "source": [
    "f, ax = plt.subplots(figsize=(8, 6))\n",
    "fig = sns.boxplot(x='pclass', y=\"age\", data=train)"
   ]
  },
  {
   "cell_type": "code",
   "execution_count": 31,
   "id": "9326f3c8-641a-4b46-b797-d0d02e167b23",
   "metadata": {},
   "outputs": [
    {
     "data": {
      "image/png": "[encoded data removed]",
      "text/plain": [
       "<Figure size 800x600 with 1 Axes>"
      ]
     },
     "metadata": {},
     "output_type": "display_data"
    }
   ],
   "source": [
    "f, ax = plt.subplots(figsize=(8, 6))\n",
    "fig = sns.boxplot(x='embarked', y=\"age\",hue='pclass', data=train)"
   ]
  },
  {
   "cell_type": "markdown",
   "id": "733c9fea-e641-4d09-bdc1-01f8bf378c3a",
   "metadata": {},
   "source": [
    "### 클래스가 가장 낮은 3등급 인원이 가장많고 3등급인 사람의 생존률이 가장 낮음"
   ]
  },
  {
   "cell_type": "code",
   "execution_count": 32,
   "id": "20b44725-aaed-431c-a175-db80ddac72a8",
   "metadata": {},
   "outputs": [
    {
     "data": {
      "image/png": "[encoded data removed]",
      "text/plain": [
       "<Figure size 800x600 with 1 Axes>"
      ]
     },
     "metadata": {},
     "output_type": "display_data"
    }
   ],
   "source": [
    "f, ax = plt.subplots(figsize=(8, 6))\n",
    "fig = sns.countplot(x='Initial_name_type', hue=\"pclass\", data=train)"
   ]
  },
  {
   "cell_type": "code",
   "execution_count": 33,
   "id": "f45dd636-f043-44ef-b7b8-8d28acf01b8a",
   "metadata": {},
   "outputs": [
    {
     "data": {
      "image/png": "[encoded data removed]",
      "text/plain": [
       "<Figure size 800x600 with 1 Axes>"
      ]
     },
     "metadata": {},
     "output_type": "display_data"
    }
   ],
   "source": [
    "f, ax = plt.subplots(figsize=(8, 6))\n",
    "fig = sns.countplot(x='pclass', hue=\"survived\", data=ori_train2)"
   ]
  },
  {
   "cell_type": "markdown",
   "id": "d3bab6e0-a978-4a81-a869-0d3452b5e60d",
   "metadata": {},
   "source": [
    "### ---age결측치를 채우기위해 고안한 첫번째방법---\n",
    "### embarked에서 pclass를 나누어서 클래스별 나이대를 찾아봄.\n",
    "### 클래스별 나이대 median으로 생성\n",
    "### 결론 : 내가 나눴던 방법보다 위에서 사용한 전체에대한 median값을 넣은게 더 점수가 잘나옴"
   ]
  },
  {
   "cell_type": "code",
   "execution_count": 34,
   "id": "68c16173-c6b8-429b-8a9d-626d6e55bda9",
   "metadata": {},
   "outputs": [],
   "source": [
    "# a=[]\n",
    "# def emb(embar):\n",
    "#     for i in range(1,4):\n",
    "#         cond = train['age'].isnull() & (train['pclass']==i) & (train['embarked']==embar)\n",
    "#         cond2 = train['age'].notnull() & (train['pclass']==i) & (train['embarked']==embar)\n",
    "#         #ages = round(train[cond2]['age'].mean(),0)\n",
    "#         ages = round(train[cond2]['age'].median(),0)\n",
    "#         #ages = round(train[cond2]['age'].mode()[0],0)\n",
    "#         a.append(ages)\n",
    "#         # train1[cond]['hasAge'].fillna(np.mean(train1[train1['age'].notnull() & (train1['pclass']==i) & (train1['embarked']==embar)]['age']))\n",
    "#         #train1[cond]['age'].fillna(np.mean(train1[train1['age'].notnull() & (train1['pclass']==i) & (train1['embarked']==embar)]['age']))\n",
    "#         train.loc[((train['pclass']==i) & (train['embarked']==embar)), 'age'] = ages\n",
    "# emb(\"C\")\n",
    "# emb(\"Q\")\n",
    "# emb(\"S\")\n",
    "# train['age'].isnull().sum()"
   ]
  },
  {
   "cell_type": "code",
   "execution_count": 35,
   "id": "9c71b031-339e-484c-b49a-81c0a23a0fb6",
   "metadata": {},
   "outputs": [],
   "source": [
    "# def emb(embar):\n",
    "#     for i in range(1,4):\n",
    "#         cond = test['age'].isnull() & (test['pclass']==i) & (test['embarked']==embar)\n",
    "#         cond2 = test['age'].notnull() & (test['pclass']==i) & (test['embarked']==embar)\n",
    "#         #ages = round(test[cond2]['age'].mean(),0)\n",
    "#         if embar == \"C\":\n",
    "#             test.loc[((test['pclass']==i) & (test['embarked']==embar)), 'age'] = a[i-1]\n",
    "#         elif embar == \"Q\":\n",
    "#             test.loc[((test['pclass']==i) & (test['embarked']==embar)), 'age'] = a[i+2]\n",
    "#         elif embar == \"S\":\n",
    "#             test.loc[((test['pclass']==i) & (test['embarked']==embar)), 'age'] = a[i+5]\n",
    "# emb(\"C\")\n",
    "# emb(\"Q\")\n",
    "# emb(\"S\")\n",
    "# test"
   ]
  },
  {
   "cell_type": "code",
   "execution_count": 36,
   "id": "354ce205-9a4a-47c8-aed3-7e8e34ae5367",
   "metadata": {},
   "outputs": [],
   "source": [
    "# def emb(embar):\n",
    "#     for i in range(1,4):\n",
    "#         cond = ori_te['age'].isnull() & (ori_te['pclass']==i) & (ori_te['embarked']==embar)\n",
    "#         cond2 = ori_te['age'].notnull() & (ori_te['pclass']==i) & (ori_te['embarked']==embar)\n",
    "#         #ages = round(test[cond2]['age'].mean(),0)\n",
    "#         if embar == \"C\":\n",
    "#             ori_te.loc[((ori_te['pclass']==i) & (ori_te['embarked']==embar)), 'age'] = a[i-1]\n",
    "#         elif embar == \"Q\":\n",
    "#             ori_te.loc[((ori_te['pclass']==i) & (ori_te['embarked']==embar)), 'age'] = a[i+2]\n",
    "#         elif embar == \"S\":\n",
    "#             ori_te.loc[((ori_te['pclass']==i) & (ori_te['embarked']==embar)), 'age'] = a[i+5]\n",
    "# emb(\"C\")\n",
    "# emb(\"Q\")\n",
    "# emb(\"S\")\n",
    "# ori_te"
   ]
  },
  {
   "cell_type": "code",
   "execution_count": 37,
   "id": "ff72d6b3-7489-4871-889c-41d0c1eade38",
   "metadata": {},
   "outputs": [
    {
     "data": {
      "text/plain": [
       "0"
      ]
     },
     "execution_count": 37,
     "metadata": {},
     "output_type": "execute_result"
    }
   ],
   "source": [
    "ori_te[\"age\"].isnull().sum()"
   ]
  },
  {
   "cell_type": "code",
   "execution_count": 38,
   "id": "0ed59176-63a2-4e3f-8882-08cd92289025",
   "metadata": {},
   "outputs": [
    {
     "data": {
      "text/html": [
       "<div>\n",
       "<style scoped>\n",
       "    .dataframe tbody tr th:only-of-type {\n",
       "        vertical-align: middle;\n",
       "    }\n",
       "\n",
       "    .dataframe tbody tr th {\n",
       "        vertical-align: top;\n",
       "    }\n",
       "\n",
       "    .dataframe thead th {\n",
       "        text-align: right;\n",
       "    }\n",
       "</style>\n",
       "<table border=\"1\" class=\"dataframe\">\n",
       "  <thead>\n",
       "    <tr style=\"text-align: right;\">\n",
       "      <th></th>\n",
       "      <th>pclass</th>\n",
       "      <th>gender</th>\n",
       "      <th>age</th>\n",
       "      <th>sibsp</th>\n",
       "      <th>parch</th>\n",
       "      <th>fare</th>\n",
       "      <th>embarked</th>\n",
       "      <th>Initial_name_type</th>\n",
       "      <th>age_num</th>\n",
       "    </tr>\n",
       "    <tr>\n",
       "      <th>passengerid</th>\n",
       "      <th></th>\n",
       "      <th></th>\n",
       "      <th></th>\n",
       "      <th></th>\n",
       "      <th></th>\n",
       "      <th></th>\n",
       "      <th></th>\n",
       "      <th></th>\n",
       "      <th></th>\n",
       "    </tr>\n",
       "  </thead>\n",
       "  <tbody>\n",
       "  </tbody>\n",
       "</table>\n",
       "</div>"
      ],
      "text/plain": [
       "Empty DataFrame\n",
       "Columns: [pclass, gender, age, sibsp, parch, fare, embarked, Initial_name_type, age_num]\n",
       "Index: []"
      ]
     },
     "execution_count": 38,
     "metadata": {},
     "output_type": "execute_result"
    }
   ],
   "source": [
    "ori_te[ori_te['fare'].isnull()]"
   ]
  },
  {
   "cell_type": "markdown",
   "id": "aad72ad5-8d09-4eb5-bd58-fbeacb2087eb",
   "metadata": {},
   "source": [
    "### fare 값을 카테고리화 시켜줌"
   ]
  },
  {
   "cell_type": "code",
   "execution_count": 39,
   "id": "4944829e-ec31-4dc9-a764-5e7ff6e04c33",
   "metadata": {},
   "outputs": [],
   "source": [
    "bins = [-1, 12.5, 25, 37.5 , 50, 62.5, 75, 87.5 ,100, 112.5, 125, 137.5 , 150, 162.5, 175, 187.5 ,200, 212.5, 225, 237.5 , 250, 262.5, 275, 287.5 ,300,400,500,600]\n",
    "\n",
    "labels = [\"저렴1\", \"저렴2\",\"저렴3\", \"저렴4\", \"저렴5\", \"저렴6\",\"저렴7\",'저렴8'\n",
    "          ,'중간1','중간2','중간3','중간4','중간5','중간6','중간7','중간8'\n",
    "          ,'중상1','중상2','중상3','중상4','중상5','중상6','중상7','중상8'\n",
    "          ,'vip','vvip','vvvip']\n",
    "train[\"fare_label\"] = pd.cut(train.fare, bins, labels=labels)\n",
    "test[\"fare_label\"] = pd.cut(test.fare, bins, labels=labels)\n",
    "ori_te[\"fare_label\"] = pd.cut(ori_te.fare, bins, labels=labels)"
   ]
  },
  {
   "cell_type": "code",
   "execution_count": 40,
   "id": "9c5a5ffb-5a07-4a04-98ca-67b561fd894a",
   "metadata": {},
   "outputs": [],
   "source": [
    "# cabin을 살려뒀을때 케빈의 값이 들어있는 경우가 생존확률이 높았어서 이전에 cabin값이 있으면 0 없으면 1 로 바꿔놨던 값을 \n",
    "# onehotencoder를 돌리려고 low high로 변경시켜준것. \n",
    "\n",
    "\n",
    "# train['cabin_percent'] = train['cabin'].map(lambda x: 'low' if x==0 else 'high')\n",
    "# test['cabin_percent'] = test['cabin'].map(lambda x: 'low' if x==0 else 'high')\n",
    "# ori_te['cabin_percent'] = ori_te['cabin'].map(lambda x: 'low' if x==0 else 'high')"
   ]
  },
  {
   "cell_type": "code",
   "execution_count": 41,
   "id": "81a03f3f-9d26-4789-9edc-49faea95ea39",
   "metadata": {},
   "outputs": [
    {
     "data": {
      "text/html": [
       "<div>\n",
       "<style scoped>\n",
       "    .dataframe tbody tr th:only-of-type {\n",
       "        vertical-align: middle;\n",
       "    }\n",
       "\n",
       "    .dataframe tbody tr th {\n",
       "        vertical-align: top;\n",
       "    }\n",
       "\n",
       "    .dataframe thead th {\n",
       "        text-align: right;\n",
       "    }\n",
       "</style>\n",
       "<table border=\"1\" class=\"dataframe\">\n",
       "  <thead>\n",
       "    <tr style=\"text-align: right;\">\n",
       "      <th></th>\n",
       "      <th>pclass</th>\n",
       "      <th>gender</th>\n",
       "      <th>age</th>\n",
       "      <th>sibsp</th>\n",
       "      <th>parch</th>\n",
       "      <th>fare</th>\n",
       "      <th>embarked</th>\n",
       "      <th>Initial_name_type</th>\n",
       "      <th>age_num</th>\n",
       "      <th>fare_label</th>\n",
       "    </tr>\n",
       "  </thead>\n",
       "  <tbody>\n",
       "    <tr>\n",
       "      <th>812</th>\n",
       "      <td>3</td>\n",
       "      <td>female</td>\n",
       "      <td>22.0</td>\n",
       "      <td>0</td>\n",
       "      <td>0</td>\n",
       "      <td>7.7750</td>\n",
       "      <td>S</td>\n",
       "      <td>Others</td>\n",
       "      <td>청년</td>\n",
       "      <td>저렴1</td>\n",
       "    </tr>\n",
       "    <tr>\n",
       "      <th>134</th>\n",
       "      <td>3</td>\n",
       "      <td>male</td>\n",
       "      <td>21.0</td>\n",
       "      <td>0</td>\n",
       "      <td>0</td>\n",
       "      <td>7.8208</td>\n",
       "      <td>Q</td>\n",
       "      <td>Others</td>\n",
       "      <td>청년</td>\n",
       "      <td>저렴1</td>\n",
       "    </tr>\n",
       "    <tr>\n",
       "      <th>390</th>\n",
       "      <td>3</td>\n",
       "      <td>male</td>\n",
       "      <td>32.0</td>\n",
       "      <td>0</td>\n",
       "      <td>0</td>\n",
       "      <td>7.8542</td>\n",
       "      <td>S</td>\n",
       "      <td>Others</td>\n",
       "      <td>중청년</td>\n",
       "      <td>저렴1</td>\n",
       "    </tr>\n",
       "    <tr>\n",
       "      <th>305</th>\n",
       "      <td>3</td>\n",
       "      <td>male</td>\n",
       "      <td>11.0</td>\n",
       "      <td>0</td>\n",
       "      <td>0</td>\n",
       "      <td>18.7875</td>\n",
       "      <td>C</td>\n",
       "      <td>Others</td>\n",
       "      <td>미성년자</td>\n",
       "      <td>저렴2</td>\n",
       "    </tr>\n",
       "    <tr>\n",
       "      <th>203</th>\n",
       "      <td>3</td>\n",
       "      <td>male</td>\n",
       "      <td>30.0</td>\n",
       "      <td>0</td>\n",
       "      <td>0</td>\n",
       "      <td>8.0500</td>\n",
       "      <td>S</td>\n",
       "      <td>Others</td>\n",
       "      <td>청년</td>\n",
       "      <td>저렴1</td>\n",
       "    </tr>\n",
       "    <tr>\n",
       "      <th>...</th>\n",
       "      <td>...</td>\n",
       "      <td>...</td>\n",
       "      <td>...</td>\n",
       "      <td>...</td>\n",
       "      <td>...</td>\n",
       "      <td>...</td>\n",
       "      <td>...</td>\n",
       "      <td>...</td>\n",
       "      <td>...</td>\n",
       "      <td>...</td>\n",
       "    </tr>\n",
       "    <tr>\n",
       "      <th>273</th>\n",
       "      <td>2</td>\n",
       "      <td>female</td>\n",
       "      <td>28.0</td>\n",
       "      <td>0</td>\n",
       "      <td>0</td>\n",
       "      <td>13.0000</td>\n",
       "      <td>S</td>\n",
       "      <td>Others</td>\n",
       "      <td>청년</td>\n",
       "      <td>저렴2</td>\n",
       "    </tr>\n",
       "    <tr>\n",
       "      <th>343</th>\n",
       "      <td>3</td>\n",
       "      <td>female</td>\n",
       "      <td>24.0</td>\n",
       "      <td>0</td>\n",
       "      <td>0</td>\n",
       "      <td>7.7500</td>\n",
       "      <td>Q</td>\n",
       "      <td>Others</td>\n",
       "      <td>청년</td>\n",
       "      <td>저렴1</td>\n",
       "    </tr>\n",
       "    <tr>\n",
       "      <th>450</th>\n",
       "      <td>1</td>\n",
       "      <td>male</td>\n",
       "      <td>42.0</td>\n",
       "      <td>0</td>\n",
       "      <td>0</td>\n",
       "      <td>26.5500</td>\n",
       "      <td>S</td>\n",
       "      <td>Others</td>\n",
       "      <td>장년</td>\n",
       "      <td>저렴3</td>\n",
       "    </tr>\n",
       "    <tr>\n",
       "      <th>94</th>\n",
       "      <td>3</td>\n",
       "      <td>male</td>\n",
       "      <td>2.0</td>\n",
       "      <td>4</td>\n",
       "      <td>1</td>\n",
       "      <td>39.6875</td>\n",
       "      <td>S</td>\n",
       "      <td>Officer</td>\n",
       "      <td>애기</td>\n",
       "      <td>저렴4</td>\n",
       "    </tr>\n",
       "    <tr>\n",
       "      <th>277</th>\n",
       "      <td>2</td>\n",
       "      <td>male</td>\n",
       "      <td>33.0</td>\n",
       "      <td>0</td>\n",
       "      <td>0</td>\n",
       "      <td>12.2750</td>\n",
       "      <td>S</td>\n",
       "      <td>Others</td>\n",
       "      <td>중청년</td>\n",
       "      <td>저렴1</td>\n",
       "    </tr>\n",
       "  </tbody>\n",
       "</table>\n",
       "<p>641 rows × 10 columns</p>\n",
       "</div>"
      ],
      "text/plain": [
       "     pclass  gender   age  sibsp  parch     fare embarked Initial_name_type  \\\n",
       "812       3  female  22.0      0      0   7.7750        S            Others   \n",
       "134       3    male  21.0      0      0   7.8208        Q            Others   \n",
       "390       3    male  32.0      0      0   7.8542        S            Others   \n",
       "305       3    male  11.0      0      0  18.7875        C            Others   \n",
       "203       3    male  30.0      0      0   8.0500        S            Others   \n",
       "..      ...     ...   ...    ...    ...      ...      ...               ...   \n",
       "273       2  female  28.0      0      0  13.0000        S            Others   \n",
       "343       3  female  24.0      0      0   7.7500        Q            Others   \n",
       "450       1    male  42.0      0      0  26.5500        S            Others   \n",
       "94        3    male   2.0      4      1  39.6875        S           Officer   \n",
       "277       2    male  33.0      0      0  12.2750        S            Others   \n",
       "\n",
       "    age_num fare_label  \n",
       "812      청년        저렴1  \n",
       "134      청년        저렴1  \n",
       "390     중청년        저렴1  \n",
       "305    미성년자        저렴2  \n",
       "203      청년        저렴1  \n",
       "..      ...        ...  \n",
       "273      청년        저렴2  \n",
       "343      청년        저렴1  \n",
       "450      장년        저렴3  \n",
       "94       애기        저렴4  \n",
       "277     중청년        저렴1  \n",
       "\n",
       "[641 rows x 10 columns]"
      ]
     },
     "execution_count": 41,
     "metadata": {},
     "output_type": "execute_result"
    }
   ],
   "source": [
    "train"
   ]
  },
  {
   "cell_type": "markdown",
   "id": "f4c3ec07-44a1-4174-8e16-c73844c42b11",
   "metadata": {},
   "source": [
    "### 요금별로 성별을 확인하고, 생존률을 확인\n",
    "### 성별과 요금을 묶어서 피켜생성"
   ]
  },
  {
   "cell_type": "code",
   "execution_count": 42,
   "id": "89309a70-2626-4737-bd46-ed0b42a98712",
   "metadata": {},
   "outputs": [
    {
     "data": {
      "text/plain": [
       "<seaborn.axisgrid.FacetGrid at 0x1aaec7942b0>"
      ]
     },
     "execution_count": 42,
     "metadata": {},
     "output_type": "execute_result"
    },
    {
     "data": {
      "image/png": "[encoded data removed]",
      "text/plain": [
       "<Figure size 570.486x500 with 1 Axes>"
      ]
     },
     "metadata": {},
     "output_type": "display_data"
    }
   ],
   "source": [
    "sns.displot(ori_train2,x='fare',hue='survived',multiple=\"dodge\", bins=20)"
   ]
  },
  {
   "cell_type": "code",
   "execution_count": null,
   "id": "17c34ac3-63f5-4def-a164-a2e126fdad4f",
   "metadata": {},
   "outputs": [
    {
     "data": {
      "text/plain": [
       "<seaborn.axisgrid.FacetGrid at 0x1aaec1fd3a0>"
      ]
     },
     "execution_count": 43,
     "metadata": {},
     "output_type": "execute_result"
    }
   ],
   "source": [
    "sns.displot(ori_train2,x='fare',hue='gender')"
   ]
  },
  {
   "cell_type": "code",
   "execution_count": null,
   "id": "dfd52c00-3bd7-4bc0-9a71-cd6e8d1d9874",
   "metadata": {},
   "outputs": [],
   "source": [
    "train['gender_fare'] = train.apply(lambda row: row['gender']+'_'+str(row['fare_label']), axis=1)\n",
    "test['gender_fare'] = test.apply(lambda row: row['gender']+'_'+str(row['fare_label']), axis=1)\n",
    "ori_te['gender_fare'] = ori_te.apply(lambda row: row['gender']+'_'+str(row['fare_label']), axis=1)\n",
    "\n",
    "print(f\"{train['gender_fare'].nunique()} / \\n {train['gender_fare'].unique()} \\n\")\n",
    "train.shape, test.shape, ori_te.shape"
   ]
  },
  {
   "cell_type": "markdown",
   "id": "16c96748-676b-4bb4-836c-b9690ce2fe25",
   "metadata": {},
   "source": [
    "### 성별별 sibsp와 생종률을 확인\n",
    "### 여성이 더 많이 생존 한 것을 확인\n",
    "### 성별과 sibsp를 묶어서 피쳐생성"
   ]
  },
  {
   "cell_type": "code",
   "execution_count": null,
   "id": "3b8fdead-6f56-4dc8-b2d7-78a953d4570b",
   "metadata": {},
   "outputs": [],
   "source": [
    "sns.displot(ori_train2,x='sibsp',hue='survived',multiple=\"dodge\", bins=20)"
   ]
  },
  {
   "cell_type": "code",
   "execution_count": null,
   "id": "13fd0952-90bd-438c-901e-0bc2f26befbd",
   "metadata": {},
   "outputs": [],
   "source": [
    "sns.displot(ori_train2,x='sibsp',hue='gender',multiple=\"dodge\", bins=20)"
   ]
  },
  {
   "cell_type": "code",
   "execution_count": null,
   "id": "b2eb04a5-f286-4aa6-a90e-f6105108b01a",
   "metadata": {},
   "outputs": [],
   "source": [
    "sns.barplot(data = ori_train2, x = 'sibsp',y = 'survived',hue = 'gender')"
   ]
  },
  {
   "cell_type": "code",
   "execution_count": null,
   "id": "621a0276-d0d8-4398-a6df-f69e2c0cf4b4",
   "metadata": {},
   "outputs": [],
   "source": [
    "train['gender_sibsp'] = train.apply(lambda row: row['gender']+'_sibsp'+str(row['sibsp']), axis=1)\n",
    "test['gender_sibsp'] = test.apply(lambda row: row['gender']+'_sibsp'+str(row['sibsp']), axis=1)\n",
    "ori_te['gender_sibsp'] = ori_te.apply(lambda row: row['gender']+'_sibsp'+str(row['sibsp']), axis=1)\n",
    "\n",
    "print(f\"{train['gender_sibsp'].nunique()} / \\n {train['gender_sibsp'].unique()} \\n\")\n",
    "train.shape, test.shape, ori_te.shape"
   ]
  },
  {
   "cell_type": "markdown",
   "id": "11be6855-e2b9-42f4-b791-242745bb66fc",
   "metadata": {},
   "source": [
    "### 성별별 pclass와 생존률을 확인\n",
    "### pclass1이 더 많이 생존 한 것을 확인\n",
    "### 성별과 pclass를 묶어서 피쳐생성"
   ]
  },
  {
   "cell_type": "code",
   "execution_count": null,
   "id": "6c28b57d-d708-447a-96b5-55f156e559e6",
   "metadata": {},
   "outputs": [],
   "source": [
    "sns.displot(ori_train2,x='gender',hue='pclass',multiple=\"dodge\", bins=20)"
   ]
  },
  {
   "cell_type": "code",
   "execution_count": null,
   "id": "8c9930d4-eb98-4d16-b47d-ecb445bd1aaa",
   "metadata": {},
   "outputs": [],
   "source": [
    "sns.displot(ori_train2,x='pclass',hue='survived',multiple=\"dodge\", bins=20)"
   ]
  },
  {
   "cell_type": "code",
   "execution_count": null,
   "id": "880241b4-e196-4b1a-8440-4400611af808",
   "metadata": {},
   "outputs": [],
   "source": [
    "sns.barplot(data = ori_train2, x = 'gender',y = 'survived',hue = 'pclass')"
   ]
  },
  {
   "cell_type": "code",
   "execution_count": null,
   "id": "41be734a-7fce-4119-92e5-294993c73333",
   "metadata": {},
   "outputs": [],
   "source": [
    "train['gender_pclass'] = train.apply(lambda row: row['gender']+'_pclass'+str(row['pclass']), axis=1)\n",
    "test['gender_pclass'] = test.apply(lambda row: row['gender']+'_pclass'+str(row['pclass']), axis=1)\n",
    "ori_te['gender_pclass'] = ori_te.apply(lambda row: row['gender']+'_pclass'+str(row['pclass']), axis=1)\n",
    "\n",
    "print(f\"{train['gender_pclass'].nunique()} / \\n {train['gender_pclass'].unique()} \\n\")\n",
    "train.shape, test.shape, ori_te.shape"
   ]
  },
  {
   "cell_type": "code",
   "execution_count": null,
   "id": "47b75647-849b-4551-90a9-65a1bfc4f9f2",
   "metadata": {},
   "outputs": [],
   "source": [
    "#pclass 1등급의 생존률이 높아서 pclass 1인것은 1 아닌것은 0 으로 피쳐를 만들어보려 했다가 삭제\n",
    "\n",
    "# train['pclass_class1'] = train.apply(lambda row: 1 if row['pclass'] == 1 else 0, axis=1)\n",
    "# test['pclass_class1'] = test.apply(lambda row: 1 if row['pclass'] == 1 else 0, axis=1)\n",
    "# ori_te['pclass_class1'] = ori_te.apply(lambda row: 1 if row['pclass'] == 1 else 0, axis=1)"
   ]
  },
  {
   "cell_type": "markdown",
   "id": "257fd0e5-80c8-49cc-8d91-fe79670f35af",
   "metadata": {},
   "source": [
    "### 기존 age컬럼으로 생성한 피쳐와 성별을 합침"
   ]
  },
  {
   "cell_type": "code",
   "execution_count": null,
   "id": "08a27a8e-7b92-4606-bf43-ce8c351dc7c2",
   "metadata": {},
   "outputs": [],
   "source": [
    "train['gender_age_num'] = train.apply(lambda row: row['gender']+'_'+str(row['age_num']), axis=1)\n",
    "test['gender_age_num'] = test.apply(lambda row: row['gender']+'_'+str(row['age_num']), axis=1)\n",
    "ori_te['gender_age_num'] = ori_te.apply(lambda row: row['gender']+'_'+str(row['age_num']), axis=1)"
   ]
  },
  {
   "cell_type": "code",
   "execution_count": null,
   "id": "104f9e98-d9ab-44ad-8dce-864617867082",
   "metadata": {},
   "outputs": [],
   "source": [
    "train"
   ]
  },
  {
   "cell_type": "markdown",
   "id": "3d7399e4-23eb-4a21-b57c-f712a783a05c",
   "metadata": {},
   "source": [
    "### 피쳐생성을 마친 피쳐들을 삭제"
   ]
  },
  {
   "cell_type": "code",
   "execution_count": null,
   "id": "5991ebb5-bf75-46fc-b843-53b9e34a8172",
   "metadata": {},
   "outputs": [],
   "source": [
    "# train.drop(['gender','pclass','age','fare','fare_label','sibsp','parch','pclass_class1','age_num'], axis=1, inplace=True)\n",
    "# test.drop(['gender','pclass','age','fare','fare_label','sibsp','parch','pclass_class1','age_num'], axis=1, inplace=True)\n",
    "# ori_te.drop(['gender','pclass','age','fare','fare_label','sibsp','parch','pclass_class1','age_num'], axis=1, inplace=True)\n",
    "# train.drop(['gender','pclass','sibsp','parch','age_num'], axis=1, inplace=True)\n",
    "# test.drop(['gender','pclass','sibsp','parch','age_num'], axis=1, inplace=True)\n",
    "# ori_te.drop(['gender','pclass','sibsp','parch','age_num'], axis=1, inplace=True)\n",
    "train.drop(['gender','pclass','sibsp','parch','age_num'], axis=1, inplace=True)\n",
    "test.drop(['gender','pclass','sibsp','parch','age_num'], axis=1, inplace=True)\n",
    "ori_te.drop(['gender','pclass','sibsp','parch','age_num'], axis=1, inplace=True)"
   ]
  },
  {
   "cell_type": "code",
   "execution_count": null,
   "id": "678ea3ed-6a62-40c9-aabb-e9da33739740",
   "metadata": {},
   "outputs": [],
   "source": [
    "train"
   ]
  },
  {
   "cell_type": "markdown",
   "id": "79a32fbc-1123-4ae3-b7b5-d783ca238c80",
   "metadata": {},
   "source": [
    "### onehotencoder 진행"
   ]
  },
  {
   "cell_type": "code",
   "execution_count": null,
   "id": "a30467c5-6cb1-4e51-bd7d-e9b9c871d2a5",
   "metadata": {},
   "outputs": [],
   "source": [
    "from sklearn.preprocessing import OneHotEncoder"
   ]
  },
  {
   "cell_type": "code",
   "execution_count": null,
   "id": "4dc44166-684a-49a7-bfa6-08d6311642d3",
   "metadata": {},
   "outputs": [],
   "source": [
    "# enc_cols = ['gender','embarked',\"age_num\",\"Initial_name_type\",'gender_sibsp','gender_pclass']\n",
    "enc_cols = ['embarked',\"Initial_name_type\",'gender_sibsp','gender_pclass','gender_age_num','gender_fare','fare_label']\n",
    "normal_cols = list(set(train.columns) - set(enc_cols))\n",
    "normal_cols"
   ]
  },
  {
   "cell_type": "code",
   "execution_count": null,
   "id": "4a6a6945-1f05-4eec-a604-4ba3bd7dd915",
   "metadata": {},
   "outputs": [],
   "source": [
    "print(f'before: {train.shape} / {test.shape}')\n",
    "\n",
    "enc = OneHotEncoder(handle_unknown='ignore')\n",
    "# train\n",
    "tmp_tr = pd.DataFrame(\n",
    "    enc.fit_transform(train[enc_cols]).toarray(), \n",
    "    columns = enc.get_feature_names_out()\n",
    ")\n",
    "enc_tr = pd.concat(\n",
    "    [train[normal_cols].reset_index(drop=True), tmp_tr.reset_index(drop=True)]\n",
    "    , axis=1\n",
    ")\n",
    "# test\n",
    "tmp_te = pd.DataFrame(\n",
    "    enc.transform(test[enc_cols]).toarray(), \n",
    "    columns = enc.get_feature_names_out()\n",
    ")\n",
    "enc_te = pd.concat(\n",
    "    [test[normal_cols].reset_index(drop=True), tmp_te.reset_index(drop=True)]\n",
    "    , axis=1\n",
    ")\n",
    "# ori_test\n",
    "tmp_te = pd.DataFrame(\n",
    "    enc.transform(ori_te[enc_cols]).toarray(), \n",
    "    columns = enc.get_feature_names_out()\n",
    ")\n",
    "enc_ori_te = pd.concat(\n",
    "    [ori_te[normal_cols].reset_index(drop=True), tmp_te.reset_index(drop=True)]\n",
    "    , axis=1\n",
    ")\n",
    "\n",
    "print(f'after: {enc_tr.shape} / {enc_te.shape}')\n",
    "enc_tr.head()"
   ]
  },
  {
   "cell_type": "markdown",
   "id": "fef3921c-83c9-4ba0-ae0e-b68498dec112",
   "metadata": {},
   "source": [
    "### 남겨둔 기존 수치형 데이터 스케일링 진행"
   ]
  },
  {
   "cell_type": "code",
   "execution_count": null,
   "id": "c4785fb2-6efc-42dc-b892-d02f6abb0b89",
   "metadata": {},
   "outputs": [],
   "source": [
    "scaling_cols = ['age', 'fare']\n",
    "not_scaling_cols = list(set(enc_tr.columns) - set(scaling_cols))\n",
    "\n",
    "from sklearn.preprocessing import RobustScaler\n",
    "\n",
    "rbs = RobustScaler()\n",
    "_scaled_tr = rbs.fit_transform(enc_tr[scaling_cols])\n",
    "_scaled_te = rbs.transform(enc_te[scaling_cols])\n",
    "_scaled_ori_te = rbs.transform(enc_ori_te[scaling_cols])\n",
    "\n",
    "print(f'before: {enc_tr.shape} / {enc_te.shape}')\n",
    "# train\n",
    "tmp_tr = pd.DataFrame(\n",
    "    _scaled_tr, \n",
    "    columns = scaling_cols\n",
    ")\n",
    "scaled_tr = pd.concat(\n",
    "    [enc_tr[not_scaling_cols].reset_index(drop=True), tmp_tr.reset_index(drop=True)]\n",
    "    , axis=1\n",
    ").reset_index(drop=True)\n",
    "# test\n",
    "tmp_te = pd.DataFrame(\n",
    "    _scaled_te, \n",
    "    columns = scaling_cols\n",
    ")\n",
    "scaled_te = pd.concat(\n",
    "    [enc_te[not_scaling_cols].reset_index(drop=True), tmp_te.reset_index(drop=True)]\n",
    "    , axis=1\n",
    ").reset_index(drop=True)\n",
    "# ori_test\n",
    "tmp_te = pd.DataFrame(\n",
    "    _scaled_ori_te, \n",
    "    columns = scaling_cols\n",
    ")\n",
    "scaled_ori_te = pd.concat(\n",
    "    [enc_ori_te[not_scaling_cols].reset_index(drop=True), tmp_te.reset_index(drop=True)]\n",
    "    , axis=1\n",
    ").reset_index(drop=True)\n",
    "\n",
    "print(f'after: {scaled_tr.shape} / {scaled_te.shape}')"
   ]
  },
  {
   "cell_type": "code",
   "execution_count": null,
   "id": "24dd8727-d9b2-4544-95bb-ffe4f3df325f",
   "metadata": {},
   "outputs": [],
   "source": [
    "enc_tr.isnull().sum().sum(), enc_te.isnull().sum().sum(), enc_ori_te.isnull().sum().sum()"
   ]
  },
  {
   "cell_type": "code",
   "execution_count": null,
   "id": "655a9556-ef15-45ed-b56d-cb49e7641d75",
   "metadata": {},
   "outputs": [],
   "source": [
    "enc_tr.shape, enc_te.shape, enc_ori_te.shape"
   ]
  },
  {
   "cell_type": "code",
   "execution_count": null,
   "id": "bdc1421e-85bd-4545-9674-dd1ff02d9a5c",
   "metadata": {},
   "outputs": [],
   "source": [
    "# from sklearn.ensemble import RandomForestClassifier\n",
    "# from sklearn.model_selection import GridSearchCV\n",
    "# # 데이터와 레이블 준비\n",
    "# X = enc_tr # feature 데이터\n",
    "# y = y_tr # target 데이터\n",
    "# # 랜덤 포레스트 분류기 객체 생성\n",
    "# rf_clf = RandomForestClassifier()\n",
    "# # 탐색할 하이퍼파라미터 후보군 설정\n",
    "# param_grid = {\n",
    "#     'n_estimators': [50, 100, 200, 300]\n",
    "# }\n",
    "# # GridSearchCV 객체 생성\n",
    "# grid_search = GridSearchCV(rf_clf, param_grid, cv=5, n_jobs=-1)\n",
    "# # 그리드 서치 수행\n",
    "# grid_search.fit(X, y)\n",
    "# # 최적의 하이퍼파라미터와 최고 예측 정확도 출력\n",
    "# print(\"Best parameter: \", grid_search.best_params_)\n",
    "# print(\"Best cross-validation score: {:.2f}\".format(grid_search.best_score_))\n",
    "# a = list(grid_search.best_params_.values())\n",
    "# a[0]"
   ]
  },
  {
   "cell_type": "markdown",
   "id": "53a918d0-5018-41ec-a676-bfe4965cee3f",
   "metadata": {},
   "source": [
    "### modeling 진행\n",
    "### 여러가지 모델을 사용"
   ]
  },
  {
   "cell_type": "code",
   "execution_count": null,
   "id": "82604c16-35cc-4b6f-a235-a3b399efe2d0",
   "metadata": {},
   "outputs": [],
   "source": [
    "from sklearn.model_selection import train_test_split, StratifiedKFold, GridSearchCV\n",
    "from sklearn.linear_model import LogisticRegression\n",
    "from sklearn.svm import SVC\n",
    "from sklearn.ensemble import RandomForestClassifier, VotingClassifier\n",
    "from sklearn.neighbors import KNeighborsClassifier\n",
    "from sklearn.tree import DecisionTreeClassifier\n",
    "from sklearn.metrics import accuracy_score\n",
    "from sklearn.neural_network import MLPClassifier\n",
    "from catboost import CatBoostClassifier"
   ]
  },
  {
   "cell_type": "code",
   "execution_count": null,
   "id": "3317bd2f-6ed3-4427-a8c7-beca980e0b17",
   "metadata": {},
   "outputs": [],
   "source": [
    "# modelV0 = RandomForestClassifier(n_estimators=200)\n",
    "# #modelV0 = DecisionTreeClassifier(random_state=args.random_state)\n",
    "# print(f'{enc_tr.shape} / {y_tr.shape}')\n",
    "# modelV0.fit(enc_tr, y_tr)"
   ]
  },
  {
   "cell_type": "code",
   "execution_count": null,
   "id": "7a2063d0-4c1c-40b1-9893-4e870cc3ec67",
   "metadata": {},
   "outputs": [],
   "source": [
    "# from catboost import CatBoostClassifier\n",
    "# # 모델 정의\n",
    "# modelV0 = CatBoostClassifier(iterations=100, learning_rate=0.1, depth=6, verbose = 0)\n",
    "# print(f'{enc_tr.shape} / {y_tr.shape}')\n",
    "# # modelV0.fit(enc_tr, y_tr)\n",
    "# modelV0.fit(scaled_tr, y_tr)\n",
    "# y_pred = modelV0.predict(scaled_te)"
   ]
  },
  {
   "cell_type": "markdown",
   "id": "afa458f4-6f41-4bbb-8114-f98b8336b1f9",
   "metadata": {},
   "source": [
    "### voting 을 이용해서 값을 확인\n",
    "### 사용한 모델 : CatBoost, RandomForest, MLP, LogisticRegression"
   ]
  },
  {
   "cell_type": "code",
   "execution_count": null,
   "id": "9a99a585-1ddf-4831-a1f4-ce940980fc36",
   "metadata": {},
   "outputs": [],
   "source": [
    "SEED = 42\n",
    "\n",
    "estimators = [\n",
    "    ( \"cbc\" , CatBoostClassifier(random_state=SEED,iterations=100, learning_rate=0.1, depth=6, verbose = 0)),\n",
    "    ( \"rf\" , RandomForestClassifier(random_state=SEED) ),\n",
    "    (\"mlp\" , MLPClassifier(max_iter=1000,random_state=SEED) ),\n",
    "    ( \"lr\" , LogisticRegression(random_state=SEED) ),\n",
    "]\n",
    "hp = {\n",
    "    \"estimators\" : estimators,\n",
    "    \"voting\" : \"soft\"\n",
    "}\n",
    "\n",
    "modelV0 = VotingClassifier(**hp).fit(scaled_tr, y_tr)\n",
    "print(f'훈련용 평가지표: {modelV0.score(scaled_tr, y_tr)} / 테스트용 평가지표: {modelV0.score(scaled_te, y_te)}')\n",
    "\n",
    "pred_clf = modelV0.predict(scaled_tr)\n",
    "pred_clf2 = modelV0.predict(scaled_te)"
   ]
  },
  {
   "cell_type": "code",
   "execution_count": null,
   "id": "50c0b228-196d-41d3-afb4-ce5e735223db",
   "metadata": {},
   "outputs": [],
   "source": [
    "# from sklearn.ensemble import GradientBoostingClassifier\n",
    "# modelV0 = GradientBoostingClassifier(random_state=42)\n",
    "# print(f'{enc_tr.shape} / {y_tr.shape}')\n",
    "# modelV0.fit(enc_tr, y_tr)"
   ]
  },
  {
   "cell_type": "code",
   "execution_count": null,
   "id": "a92bf70a-2111-4080-b913-8295712abe87",
   "metadata": {},
   "outputs": [],
   "source": [
    "# score_tr = modelV0.score(enc_tr, y_tr)\n",
    "# score_te = modelV0.score(enc_te, y_te) \n",
    "\n",
    "# score_tr, score_te  "
   ]
  },
  {
   "cell_type": "code",
   "execution_count": null,
   "id": "8976fd63-cb2d-4989-a65f-c633615b63ac",
   "metadata": {},
   "outputs": [],
   "source": [
    "# score_tr = modelV0.score(scaled_tr, y_tr)\n",
    "# score_te = modelV0.score(scaled_te, y_te) \n",
    "\n",
    "# score_tr, score_te  "
   ]
  },
  {
   "cell_type": "code",
   "execution_count": null,
   "id": "130d3015-d631-4ad7-a488-8c452fd78d61",
   "metadata": {},
   "outputs": [],
   "source": [
    "# from sklearn.metrics import roc_curve, auc \n",
    "\n",
    "# y_pred = modelV0.predict_proba(enc_te)[:,1]\n",
    "# fpr, tpr, thresholds = roc_curve(y_te,y_pred)\n",
    "# auc_te = auc(fpr, tpr)\n",
    "# print(f'model: {auc_te}')"
   ]
  },
  {
   "cell_type": "code",
   "execution_count": null,
   "id": "857360b1-70ed-4a7a-9df0-a09e77e9c708",
   "metadata": {},
   "outputs": [],
   "source": [
    "from sklearn.metrics import roc_curve, auc \n",
    "\n",
    "y_pred = modelV0.predict_proba(scaled_te)[:,1]\n",
    "fpr, tpr, thresholds = roc_curve(y_te,y_pred)\n",
    "auc_te = auc(fpr, tpr)\n",
    "print(f'model: {auc_te}')"
   ]
  },
  {
   "cell_type": "code",
   "execution_count": null,
   "id": "471cbdb7-2b3a-4f83-870a-2a1c86e7d6c8",
   "metadata": {},
   "outputs": [],
   "source": [
    "# ori_te_pred = modelV0.predict_proba(enc_ori_te)[:,1]\n",
    "# ori_te_pred.shape"
   ]
  },
  {
   "cell_type": "code",
   "execution_count": null,
   "id": "0c02e14f-e6f7-4315-8d94-08fa0062b9c0",
   "metadata": {},
   "outputs": [],
   "source": [
    "### 내가 학습시킨 모델을 이용하여 test파일을 돌려서 예측한 값을 ori_te_predㅂ저장"
   ]
  },
  {
   "cell_type": "code",
   "execution_count": null,
   "id": "912d6be9-cdb4-426f-93f0-ae482fb26619",
   "metadata": {},
   "outputs": [],
   "source": [
    "ori_te_pred = modelV0.predict_proba(scaled_ori_te)[:,1]\n",
    "ori_te_pred.shape"
   ]
  },
  {
   "cell_type": "code",
   "execution_count": null,
   "id": "b5ecd3eb-faf6-46e6-9961-4b052409e3de",
   "metadata": {},
   "outputs": [],
   "source": [
    "ori_te_pred"
   ]
  },
  {
   "cell_type": "markdown",
   "id": "5d92be81-a18c-4465-b2a5-956f074463a7",
   "metadata": {},
   "source": [
    "### 그냥 f1 스코어 확인 해봄"
   ]
  },
  {
   "cell_type": "code",
   "execution_count": null,
   "id": "3ed147ad-6d7e-4692-922b-0b3860fad4b0",
   "metadata": {},
   "outputs": [],
   "source": [
    "from sklearn.metrics import f1_score\n",
    "\n",
    "score = f1_score(y_tr, pred_clf)\n",
    "print(f\"model: {score}\")\n"
   ]
  },
  {
   "cell_type": "code",
   "execution_count": null,
   "id": "cb0e10ba-e360-4ddc-9753-7589a3a2bb2c",
   "metadata": {},
   "outputs": [],
   "source": [
    "from sklearn.metrics import f1_score\n",
    "\n",
    "score = f1_score(y_te, pred_clf2)\n",
    "print(f\"model: {score}\")\n"
   ]
  },
  {
   "cell_type": "code",
   "execution_count": null,
   "id": "c450d308-0531-4eed-8ff2-c6bee747a322",
   "metadata": {},
   "outputs": [],
   "source": [
    "from sklearn.metrics import classification_report\n",
    "\n",
    "print(classification_report(y_tr, pred_clf))"
   ]
  },
  {
   "cell_type": "code",
   "execution_count": null,
   "id": "85dd2ed9-81e2-4a05-8f39-7667916834b7",
   "metadata": {},
   "outputs": [],
   "source": [
    "from sklearn.metrics import classification_report\n",
    "\n",
    "print(classification_report(y_te, pred_clf2))"
   ]
  },
  {
   "cell_type": "code",
   "execution_count": null,
   "id": "5a3c1da6-7971-44a2-9e93-440cb9b5230e",
   "metadata": {},
   "outputs": [],
   "source": [
    "from sklearn.metrics import confusion_matrix, ConfusionMatrixDisplay\n",
    "cm = confusion_matrix(y_tr,pred_clf) \n",
    "disp = ConfusionMatrixDisplay(confusion_matrix=cm)\n",
    "disp.plot()"
   ]
  },
  {
   "cell_type": "code",
   "execution_count": null,
   "id": "b15a1477-8d01-4bc4-8c7a-0d2d71958008",
   "metadata": {},
   "outputs": [],
   "source": [
    "from sklearn.metrics import confusion_matrix, ConfusionMatrixDisplay\n",
    "cm = confusion_matrix(y_te,pred_clf2) \n",
    "disp = ConfusionMatrixDisplay(confusion_matrix=cm)\n",
    "disp.plot()"
   ]
  },
  {
   "cell_type": "code",
   "execution_count": null,
   "id": "61e6de48-b70e-4eda-98cc-7c453a26def1",
   "metadata": {},
   "outputs": [],
   "source": [
    "# modelV0.feature_importances_"
   ]
  },
  {
   "cell_type": "code",
   "execution_count": null,
   "id": "defbfee5-40fd-4d9f-ac1b-53b3f789ced3",
   "metadata": {},
   "outputs": [],
   "source": [
    "# df_feature_importances = pd.DataFrame(modelV0.feature_importances_, enc_tr.columns).sort_values(by=[0], ascending=False).reset_index()\n",
    "\n",
    "# print(f'{df_feature_importances.shape}')\n",
    "# df_feature_importances"
   ]
  },
  {
   "cell_type": "code",
   "execution_count": null,
   "id": "c2cb4812-5129-4a42-bc4f-b964c05ea31f",
   "metadata": {},
   "outputs": [],
   "source": [
    "# args.results.append(\n",
    "#     {\n",
    "#         'model': 'modelV0',\n",
    "#         'score_tr': score_tr,\n",
    "#         'score_te': score_te,\n",
    "#         'auc_te': auc_te,\n",
    "#         'ori_te_pred': ori_te_pred,\n",
    "#         'len_features': X_tr.shape[1],\n",
    "#         'feaute_importances': list(df_feature_importances['index'].values[:X_tr.shape[1]]),\n",
    "#         'create_dt': '0217'\n",
    "#     }\n",
    "# )\n",
    "\n",
    "# # args.results"
   ]
  },
  {
   "cell_type": "code",
   "execution_count": null,
   "id": "69de7872-4334-4042-83fe-347279021253",
   "metadata": {},
   "outputs": [],
   "source": [
    "# df_results = pd.DataFrame(args.results).sort_values(by=['auc_te'], ascending=False)\n",
    "# df_results[\"feaute_importances\"][0]"
   ]
  },
  {
   "cell_type": "code",
   "execution_count": null,
   "id": "0487b5c9-7d42-4490-b689-beddf855cd6c",
   "metadata": {},
   "outputs": [],
   "source": [
    "# df_results = df_results.reset_index(drop=True)"
   ]
  },
  {
   "cell_type": "code",
   "execution_count": null,
   "id": "938a00d3-050b-41ce-854c-90a4c9a368b3",
   "metadata": {},
   "outputs": [],
   "source": [
    "# df_results.loc[0, ['ori_te_pred']]\n",
    "# df_results['auc_te']"
   ]
  },
  {
   "cell_type": "code",
   "execution_count": null,
   "id": "ed063d78-54c6-48e2-9f61-efa0d490a16b",
   "metadata": {},
   "outputs": [],
   "source": [
    "submission = pd.read_csv(args.default_submission_csv)\n",
    "submission.head()"
   ]
  },
  {
   "cell_type": "code",
   "execution_count": null,
   "id": "dcab8f5b-0eaa-4318-8e35-c5ef5bd6085e",
   "metadata": {},
   "outputs": [],
   "source": [
    "# submission['survived'] = df_results.loc[0, ['ori_te_pred']].values[0]\n",
    "# print(f'{submission.isnull().sum().sum()}')\n",
    "# submission.head(10)"
   ]
  },
  {
   "cell_type": "code",
   "execution_count": null,
   "id": "8b8470dc-f0c2-4832-a8ca-bc1c9c5aaa77",
   "metadata": {},
   "outputs": [],
   "source": [
    "submission['survived'] = ori_te_pred\n",
    "print(f'{submission.isnull().sum().sum()}')\n",
    "submission.head(10)"
   ]
  },
  {
   "cell_type": "code",
   "execution_count": null,
   "id": "9218db00-10bf-457b-9906-a0c8fd2d70b9",
   "metadata": {},
   "outputs": [],
   "source": [
    "submission.to_csv('submission9.csv', header=True, index=False)"
   ]
  },
  {
   "cell_type": "markdown",
   "id": "91994aa9-3227-4b0a-a995-d73a173638e9",
   "metadata": {},
   "source": [
    "# 결론\n",
    "### \n",
    "### 생각해본 다른 피쳐들을 전부 합쳐보았고 그중에 randomforest, catboost모델을 돌려 중요도를 확인해서 중요도가 높은 것들을 추려 나감.\n",
    "### 마지막으로는 voting을 soft로 돌려서 여러가지 모델들의 예측 평균치를 이용해서 돌려보니 값이 높게나와서 마지막으로 채택하였음."
   ]
  }
 ],
 "metadata": {
  "kernelspec": {
   "display_name": "Python 3 (ipykernel)",
   "language": "python",
   "name": "python3"
  },
  "language_info": {
   "codemirror_mode": {
    "name": "ipython",
    "version": 3
   },
   "file_extension": ".py",
   "mimetype": "text/x-python",
   "name": "python",
   "nbconvert_exporter": "python",
   "pygments_lexer": "ipython3",
   "version": "3.9.13"
  }
 },
 "nbformat": 4,
 "nbformat_minor": 5
}
