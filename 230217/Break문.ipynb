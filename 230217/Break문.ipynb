{
 "cells": [
  {
   "cell_type": "code",
   "execution_count": 1,
   "id": "709939c6-dd7a-42c0-93a9-727ccfd258c0",
   "metadata": {},
   "outputs": [],
   "source": [
    "# break문 = 해당 반복문을 완전히 빠져나간다.\n",
    "# break는 if문과 함께 쓰이는게 보통이다.\n",
    "\n",
    "# 10000회 반복\n",
    "# for _ in range(10000):\n",
    "#    print(_)\n",
    "#    if _ == 100:\n",
    "#        break"
   ]
  },
  {
   "cell_type": "code",
   "execution_count": 4,
   "id": "49540c60-09be-48f0-a20a-b908f9513f39",
   "metadata": {},
   "outputs": [
    {
     "name": "stdout",
     "output_type": "stream",
     "text": [
      "5050\n"
     ]
    }
   ],
   "source": [
    "i = 0\n",
    "total = 0\n",
    "while True: \n",
    "    if i < 100:         # 0 ~ 99\n",
    "        i += 1           \n",
    "        total += i\n",
    "    else:\n",
    "        break\n",
    "print(total)"
   ]
  },
  {
   "cell_type": "code",
   "execution_count": 5,
   "id": "d72349a3-0048-4674-ad53-2867ffeec1dc",
   "metadata": {},
   "outputs": [
    {
     "name": "stdout",
     "output_type": "stream",
     "text": [
      "5050\n"
     ]
    }
   ],
   "source": [
    "i = 0\n",
    "total = 0\n",
    "while True: \n",
    "    if i <= 100:\n",
    "        total += i\n",
    "        i += 1\n",
    "    else:\n",
    "        break\n",
    "print(total)\n",
    "\n",
    "# 피피티에 선생님 풀이도 참고하기"
   ]
  },
  {
   "cell_type": "code",
   "execution_count": 6,
   "id": "779d2bad-cc44-4812-be63-d1e3d1ea53fb",
   "metadata": {},
   "outputs": [
    {
     "name": "stdin",
     "output_type": "stream",
     "text": [
      "q를 입력하면 종료됩니다. 진짜?\n",
      "q를 입력하면 종료됩니다. 정말?\n",
      "q를 입력하면 종료됩니다. q\n"
     ]
    },
    {
     "name": "stdout",
     "output_type": "stream",
     "text": [
      "프로그램을 종료합니다.\n"
     ]
    }
   ],
   "source": [
    "# while 문 무한루프의 활용 input()을 조합하면\n",
    "# 콘솔 프로그램에서 원하는 값을 받을 때까지 입력받는 프로그램을 구현할 수 있다.\n",
    "while True:\n",
    "    input_value = input(\"q를 입력하면 종료됩니다.\")\n",
    "    if input_value == \"q\": break\n",
    "print(\"프로그램을 종료합니다.\")"
   ]
  },
  {
   "cell_type": "code",
   "execution_count": null,
   "id": "819c644f-1db3-4590-9106-ff004c8ab71a",
   "metadata": {},
   "outputs": [],
   "source": []
  }
 ],
 "metadata": {
  "kernelspec": {
   "display_name": "Python 3 (ipykernel)",
   "language": "python",
   "name": "python3"
  },
  "language_info": {
   "codemirror_mode": {
    "name": "ipython",
    "version": 3
   },
   "file_extension": ".py",
   "mimetype": "text/x-python",
   "name": "python",
   "nbconvert_exporter": "python",
   "pygments_lexer": "ipython3",
   "version": "3.9.13"
  }
 },
 "nbformat": 4,
 "nbformat_minor": 5
}
