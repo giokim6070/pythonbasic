{
 "cells": [
  {
   "cell_type": "code",
   "execution_count": 1,
   "id": "228a0ebb-237d-4032-a4d9-5170e2855b1e",
   "metadata": {},
   "outputs": [
    {
     "name": "stdout",
     "output_type": "stream",
     "text": [
      "<class 'list'>\n",
      "[48, 48, 33, 95]\n"
     ]
    }
   ],
   "source": [
    "# 리스트 생성 방법(sequece 있음 --> index 접근가능) - 대괄호 사용 ([]), 콤마로 구분\n",
    "# 리스트의 자료형은 class 'list'임. list 클래스로 만들어진 객체라는 의미\n",
    "\n",
    "list_a = [48, 48, 33, 95]\n",
    "print(type(list_a))\n",
    "print(list_a)\n",
    "\n",
    "# object.method()\n",
    "#   객체.메서드()\n",
    "\n",
    "# str(문자열).split()"
   ]
  },
  {
   "cell_type": "code",
   "execution_count": 5,
   "id": "52415910-1d16-47cc-b196-ee100fbbd645",
   "metadata": {},
   "outputs": [
    {
     "name": "stdin",
     "output_type": "stream",
     "text": [
      "숫자를 띄어쓰기로 구분하여 여럿 입력해보세요. 7 7 7\n"
     ]
    },
    {
     "name": "stdout",
     "output_type": "stream",
     "text": [
      "<class 'list'>\n",
      "[7, 7, 7]\n"
     ]
    }
   ],
   "source": [
    "# 리스트 생성 방법 - 빈 리스트(empty list)\n",
    "\n",
    "# 리스트 생성 방법 - 문자열.split()\n",
    "\n",
    "list_b = list(map(int, input(\"숫자를 띄어쓰기로 구분하여 여럿 입력해보세요.\").split()))\n",
    "print(type(list_b))\n",
    "print(list_b)\n",
    "\n",
    "# a = [] \n",
    "# for i in list 객체:\n",
    "#    a.append(int(i))"
   ]
  },
  {
   "cell_type": "code",
   "execution_count": 6,
   "id": "6eb06da9-83f3-4b4d-94f1-6cb96142e1d8",
   "metadata": {},
   "outputs": [
    {
     "data": {
      "text/plain": [
       "[0, 1, 4, 9, 16, 25, 36, 49, 64, 81]"
      ]
     },
     "execution_count": 6,
     "metadata": {},
     "output_type": "execute_result"
    }
   ],
   "source": [
    "# 리스트 컴프리헨션(comprehension)\n",
    "\n",
    "# list_variable = [expression for 변수 in iterable]\n",
    "\n",
    "# list: [0, 1, 2, ... , 9]\n",
    "[i**2 for i in list(range(10))]"
   ]
  },
  {
   "cell_type": "code",
   "execution_count": 7,
   "id": "7ca9c2b2-ddfd-453c-bdb0-52a494bdd94e",
   "metadata": {},
   "outputs": [
    {
     "name": "stdout",
     "output_type": "stream",
     "text": [
      "[1, 2, 3, 4, 5, 6, 7, 8, 9]\n"
     ]
    }
   ],
   "source": [
    "# 리스트 컴프리헨션 동작 순서\n",
    "# 1. 반복가능한 객체(iterable)로부터 값을 하나 꺼내와서 변수에 담습니다.\n",
    "# 2. 요소를 담은 변수를 활용해서 표현식(expression)을 실행합니다.\n",
    "#    (이때 변수는 활용할 수도 활용하지 않을 수도 있습니다.)\n",
    "# 3. 표현식 결과 값을 리스트 요소에 넣습니다.\n",
    "# 4. 반복가능한 객체로부터 값이 없을 때까지 1~3과정을 반복합니다.\n",
    "\n",
    "list_c = [i for i in range(1, 10)]\n",
    "print(list_c)"
   ]
  },
  {
   "cell_type": "code",
   "execution_count": 8,
   "id": "52ab8ca4-9252-4892-82b7-bbbaccfa9fe1",
   "metadata": {},
   "outputs": [
    {
     "name": "stdout",
     "output_type": "stream",
     "text": [
      "[1, 4, 9, 16, 25, 36, 49, 64, 81]\n"
     ]
    }
   ],
   "source": [
    "# 연습문제\n",
    "prac_result = [i**2 for i in list(range(1, 10))]\n",
    "print(prac_result)"
   ]
  },
  {
   "cell_type": "code",
   "execution_count": 9,
   "id": "55b88b27-29b6-43c1-816b-db145b42bfc0",
   "metadata": {},
   "outputs": [
    {
     "name": "stdout",
     "output_type": "stream",
     "text": [
      "[1, 3, 5, 7, 9]\n"
     ]
    }
   ],
   "source": [
    "prac_result2 = [i for i in list(range(1, 10, 2))]\n",
    "print(prac_result2)"
   ]
  },
  {
   "cell_type": "code",
   "execution_count": 10,
   "id": "65f21810-17ba-481b-b36a-e9b2e928b156",
   "metadata": {},
   "outputs": [
    {
     "name": "stdout",
     "output_type": "stream",
     "text": [
      "['a', 'b', 'c', 'd', 'e', 'f', 'g', 'h', 'i']\n"
     ]
    }
   ],
   "source": [
    "prac_result3 = [i for i in 'abcdefghi']\n",
    "print(prac_result3)"
   ]
  },
  {
   "cell_type": "code",
   "execution_count": 21,
   "id": "93bb3589-2535-4868-a62c-31d8a4a509a3",
   "metadata": {},
   "outputs": [
    {
     "name": "stdout",
     "output_type": "stream",
     "text": [
      "['2', '3', '4', '5', '6', '7', '8', '9', '10', 'J', 'Q', 'K', 'A']\n"
     ]
    }
   ],
   "source": [
    "prac_result4 = [str(i) for i in range(2, 11)] + [i for i in 'JQKA']\n",
    "print(prac_result4)"
   ]
  },
  {
   "cell_type": "code",
   "execution_count": 26,
   "id": "48c6c69e-0f8b-4d38-8388-b13515df01e6",
   "metadata": {},
   "outputs": [
    {
     "name": "stdout",
     "output_type": "stream",
     "text": [
      "['2', '3', '4', '5', '6', '7', '8', '9', '10', 'J', 'Q', 'K', 'A']\n"
     ]
    }
   ],
   "source": [
    "prac_result4 = [str(i) for i in range(2, 11)]\n",
    "prac_result4.extend([i for i in 'JQKA'])\n",
    "print(prac_result4)"
   ]
  },
  {
   "cell_type": "code",
   "execution_count": 29,
   "id": "3a59570e-cbdd-4b63-b0ac-cf48b43ee519",
   "metadata": {},
   "outputs": [
    {
     "name": "stdout",
     "output_type": "stream",
     "text": [
      "[['2', '3', '4', '5', '6', '7', '8', '9', '10', 'J', 'Q', 'K', 'A'], ['2', '3', '4', '5', '6', '7', '8', '9', '10', 'J', 'Q', 'K', 'A'], ['2', '3', '4', '5', '6', '7', '8', '9', '10', 'J', 'Q', 'K', 'A'], ['2', '3', '4', '5', '6', '7', '8', '9', '10', 'J', 'Q', 'K', 'A']]\n"
     ]
    }
   ],
   "source": [
    "prac_result5 = [prac_result4 for i in range(4)]\n",
    "print(prac_result5)"
   ]
  },
  {
   "cell_type": "code",
   "execution_count": 31,
   "id": "6f160cb4-2b38-4c3f-be9f-bc9f8fb0b015",
   "metadata": {},
   "outputs": [
    {
     "name": "stdout",
     "output_type": "stream",
     "text": [
      "['two', '3', '4', '5', '6', '7', '8', '9', '10', 'J', 'Q', 'K', 'A']\n"
     ]
    }
   ],
   "source": [
    "prac_result4[0] = 'two'\n",
    "print(prac_result4)"
   ]
  },
  {
   "cell_type": "code",
   "execution_count": 32,
   "id": "185560c3-807b-4f2b-83ee-639772ad6f89",
   "metadata": {
    "tags": []
   },
   "outputs": [
    {
     "name": "stdout",
     "output_type": "stream",
     "text": [
      "[['two', '3', '4', '5', '6', '7', '8', '9', '10', 'J', 'Q', 'K', 'A'], ['two', '3', '4', '5', '6', '7', '8', '9', '10', 'J', 'Q', 'K', 'A'], ['two', '3', '4', '5', '6', '7', '8', '9', '10', 'J', 'Q', 'K', 'A'], ['two', '3', '4', '5', '6', '7', '8', '9', '10', 'J', 'Q', 'K', 'A']]\n"
     ]
    }
   ],
   "source": [
    "print(prac_result5)"
   ]
  },
  {
   "cell_type": "code",
   "execution_count": null,
   "id": "d0173151-af18-4c63-b487-f14f18cdc5c0",
   "metadata": {},
   "outputs": [],
   "source": [
    "# 객체를 담는 변수의 특징\n",
    "# prac_result4 변수에 담긴 객체 위치를 prac_result5의 리스트 요소 값으로 \n",
    "# 복사한 것이라고 볼 수 있습니다. 즉 prac_result5의 모든 요소가 prac_result4\n",
    "# 변수가 갖고 있던 메모리상 객체의 위치 복사했다고 볼 수 있습니다.\n",
    "# 메모리는 고유한 주소를 갖는다. 주소를 통해 접근 가능하다."
   ]
  },
  {
   "cell_type": "code",
   "execution_count": 34,
   "id": "8632111d-86a0-4f79-9aa4-8258db8dcbbf",
   "metadata": {
    "tags": []
   },
   "outputs": [
    {
     "name": "stdout",
     "output_type": "stream",
     "text": [
      "prac_result4의 id: 1898695122240\n",
      "prac_result5[0] : 1898695122240\n",
      "prac_result5[1] : 1898695122240\n",
      "prac_result5[2] : 1898695122240\n",
      "prac_result5[3] : 1898695122240\n"
     ]
    }
   ],
   "source": [
    "# id() 내장 함수\n",
    "# 객체마다 구분할 수 있는 고유한 정수 값(메모리 주소)을 조회하는 함수임\n",
    "\n",
    "print(\"prac_result4의 id:\", id(prac_result4))\n",
    "\n",
    "for i, v in enumerate(prac_result5):\n",
    "    print(\"prac_result5[\", i, \"] : \", id(v), sep=\"\")\n"
   ]
  },
  {
   "cell_type": "code",
   "execution_count": 36,
   "id": "06d92f15-53d1-4dcf-b57c-db4e2c7552da",
   "metadata": {},
   "outputs": [
    {
     "name": "stdout",
     "output_type": "stream",
     "text": [
      "prac_result4의 id: 1898695122240\n",
      "prac_result6[0] : 1898695121920\n",
      "prac_result6[1] : 1898695127616\n",
      "prac_result6[2] : 1898695153792\n",
      "prac_result6[3] : 1898694954432\n"
     ]
    }
   ],
   "source": [
    "# 기존 리스트의 전체 범위의 슬라이싱 결과는 새로운 객체이다.\n",
    "prac_result6 = [prac_result4[:] for _ in range(4)]\n",
    "\n",
    "print(\"prac_result4의 id:\", id(prac_result4))\n",
    "for i, v in enumerate(prac_result6):\n",
    "     print(\"prac_result6[\", i, \"] : \", id(v), sep=\"\")"
   ]
  },
  {
   "cell_type": "code",
   "execution_count": null,
   "id": "e9ecc416-8691-4d18-be6e-1675cb695683",
   "metadata": {},
   "outputs": [],
   "source": [
    "# 리스트 전체 범위 slicing을 통한 리스트 복사\n",
    "# 리스트 전체 범위 slicing을 통해 전체 범위를 반환받았을 때\n",
    "# 그 리스트는 원래의 리스트와 같은 객체일까?\n",
    "# NOPE! 리스트 슬라이싱의 결과는 새로운 객체를 복사한 결과를 반환함.\n",
    "# 리스트변수[:] --> 새로운 객체를 만들어 반환한다."
   ]
  },
  {
   "cell_type": "code",
   "execution_count": 38,
   "id": "bae8a918-ed86-49d2-97d4-89636796d5f7",
   "metadata": {},
   "outputs": [
    {
     "name": "stdout",
     "output_type": "stream",
     "text": [
      "1898695177216\n",
      "1898695119808\n",
      "False\n",
      "True\n"
     ]
    }
   ],
   "source": [
    "# [1, 2, 3, 4, 5, 6, 7, 8, 9]\n",
    "old_list = list(range(10))\n",
    "new_list = old_list[:]\n",
    "\n",
    "print(id(old_list))\n",
    "print(id(new_list))\n",
    "print(old_list is new_list)    # is는 id() 함수의 결과를 비교한다는 뜻임.\n",
    "print(old_list == new_list)    "
   ]
  },
  {
   "cell_type": "code",
   "execution_count": 40,
   "id": "7364f659-2607-444b-986c-3f7915a00750",
   "metadata": {},
   "outputs": [
    {
     "name": "stdout",
     "output_type": "stream",
     "text": [
      "1898695960128\n",
      "1898695960128\n",
      "True\n",
      "True\n"
     ]
    }
   ],
   "source": [
    "# 문자열, 튜플은 불변(immutable)의 특징을 갖는다.\n",
    "# 따라서 요소가 동일하다면 재사용해도 문제될 것이 없다.\n",
    "# 그래서 효율을 위해 동일하게 복사하기도 함.\n",
    "\n",
    "# (1, 2, 3, 4, 5, 6, 7, 8, 9)\n",
    "old_tuple = tuple(range(10))\n",
    "new_tuple = old_tuple[:]\n",
    "\n",
    "print(id(old_tuple))\n",
    "print(id(new_tuple))\n",
    "print(old_tuple is new_tuple)    # is는 id() 함수의 결과를 비교한다는 뜻임.\n",
    "print(old_tuple == new_tuple) \n",
    "\n",
    "# str 예시 수업자료로 확인하기"
   ]
  },
  {
   "cell_type": "code",
   "execution_count": null,
   "id": "59f3012e-d66a-4418-b4ca-3af6038714b5",
   "metadata": {},
   "outputs": [],
   "source": [
    "# 리스트 컴프리헨션\n",
    "# 대괄호 ([]) 대신 list() 함수를 사용함\n",
    "# 동작 순서는 대괄호 방식과 동일함\n",
    "# 대괄호 방식이 더 좋음. 빠름\n",
    "# list() 방식은 C언어 스타일이라서 블라블라"
   ]
  },
  {
   "cell_type": "code",
   "execution_count": null,
   "id": "a13fd693-d12d-45fc-b509-7ccf43efbab7",
   "metadata": {},
   "outputs": [],
   "source": [
    "# 리스트 변수를 할당해서 복사하는 경우"
   ]
  },
  {
   "cell_type": "code",
   "execution_count": 43,
   "id": "0f9aadc0-75ab-4b3a-b457-c7988e340480",
   "metadata": {},
   "outputs": [],
   "source": [
    "# 얕은 복사(Shallow copy)\n",
    "# 리스트 내에 있는 값을 그대로 복사함\n",
    "# 리스트에 애스터리스크(*)를 사용하면 얕은 복사가 됨\n",
    "# 단 하나의 요소만 바꿨을 뿐인데 모든 요소의 값이 변경된 것을 알 수 있음\n",
    "# 요소가 객체(리스트?)로 되어있으면 메모리 주사만 복사하는 것을 얕은 복사라고 함\n",
    "# 앞서 *뿐만 아니라 슬라이싱, copy() 메서드를 통한 복사도 얕은 복사임."
   ]
  },
  {
   "cell_type": "code",
   "execution_count": null,
   "id": "781b60e9-69d6-4c9d-9c05-71c404fc7802",
   "metadata": {},
   "outputs": [],
   "source": [
    "# 깊은 복사(Deep copy)\n",
    "# 리스트 내 요소가 메모리 주소를 담고 있는 객체더라도\n",
    "# 객체를 완전하게 깊이에 상관없이 다 새롭게 복사해 만든다.\n",
    "# 전혀 다른 메모리 공간을 차지하는 완전한 리스트로 복사한다.\n",
    "# 두 리스트 간에 값은 같으나(==) 객체는 완전히 다르다."
   ]
  },
  {
   "cell_type": "code",
   "execution_count": null,
   "id": "d3e927c6-af24-4b2a-8aa9-03c007143e76",
   "metadata": {},
   "outputs": [],
   "source": []
  }
 ],
 "metadata": {
  "kernelspec": {
   "display_name": "Python 3 (ipykernel)",
   "language": "python",
   "name": "python3"
  },
  "language_info": {
   "codemirror_mode": {
    "name": "ipython",
    "version": 3
   },
   "file_extension": ".py",
   "mimetype": "text/x-python",
   "name": "python",
   "nbconvert_exporter": "python",
   "pygments_lexer": "ipython3",
   "version": "3.9.13"
  }
 },
 "nbformat": 4,
 "nbformat_minor": 5
}
