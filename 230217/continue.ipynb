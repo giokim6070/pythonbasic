{
 "cells": [
  {
   "cell_type": "code",
   "execution_count": 1,
   "id": "f52aeb1e-982e-4f6b-91e9-49e70f0de69a",
   "metadata": {},
   "outputs": [
    {
     "name": "stdout",
     "output_type": "stream",
     "text": [
      "1\t3\t5\t7\t9\t11\t13\t15\t17\t19\t21\t23\t25\t27\t29\t31\t33\t35\t37\t39\t41\t43\t45\t47\t49\t51\t53\t55\t57\t59\t61\t63\t65\t67\t69\t71\t73\t75\t77\t79\t81\t83\t85\t87\t89\t91\t93\t95\t97\t99\t"
     ]
    }
   ],
   "source": [
    "#continue는 제어흐름을 유지하고, continue가 실행된 반복 횟수의 코드 실행만 건너뜁니다.\n",
    "\n",
    "for i in range(100):     # 0 ~ 99\n",
    "    if i % 2 == 0:        #i를 2로 나누었을 때 나머지가 0이면 짝수\n",
    "        continue          # 아래 코드를 샐행히지 않고 건너뜀\n",
    "    print(i, end=\"\\t\")"
   ]
  },
  {
   "cell_type": "code",
   "execution_count": 2,
   "id": "8d1623ba-bfdc-4f0f-9418-9f6eea491699",
   "metadata": {},
   "outputs": [],
   "source": [
    "# while 문에서도 contine 동작은 동일"
   ]
  },
  {
   "cell_type": "code",
   "execution_count": 6,
   "id": "cb68159f-81d6-4c2c-b50d-d6eec935453e",
   "metadata": {},
   "outputs": [
    {
     "name": "stdin",
     "output_type": "stream",
     "text": [
      "시작하는 정수 입력 :  1\n",
      "끝나는 정수 입력 :  10\n"
     ]
    },
    {
     "name": "stdout",
     "output_type": "stream",
     "text": [
      "1 부터 10 까지의 합은 55 입니다.\n"
     ]
    }
   ],
   "source": [
    "a = int(input('시작하는 정수 입력 : '))\n",
    "z = int(input('끝나는 정수 입력 : '))\n",
    "total = 0\n",
    "\n",
    "# for문 사용\n",
    "for i in range(a, z+1):\n",
    "    total += i\n",
    "print(a, \"부터\", z, \"까지의 합은\", total, \"입니다.\")"
   ]
  },
  {
   "cell_type": "code",
   "execution_count": 7,
   "id": "a8978fa2-99cd-4121-9cca-0f5b5723cd28",
   "metadata": {},
   "outputs": [
    {
     "name": "stdin",
     "output_type": "stream",
     "text": [
      "시작하는 정수 입력 :  1\n",
      "끝나는 정수 입력 :  10\n"
     ]
    },
    {
     "name": "stdout",
     "output_type": "stream",
     "text": [
      "1 부터 10 까지의 합은 55 입니다.\n"
     ]
    }
   ],
   "source": [
    "a = int(input('시작하는 정수 입력 : '))\n",
    "z = int(input('끝나는 정수 입력 : '))\n",
    "\n",
    "# while문 사용\n",
    "i = a\n",
    "total = 0\n",
    "while i<= z:\n",
    "    total += i\n",
    "    i +=1\n",
    "print(a, \"부터\", z, \"까지의 합은\", total, \"입니다.\")"
   ]
  },
  {
   "cell_type": "code",
   "execution_count": null,
   "id": "2fcc2dfc-361a-40dc-9f9f-bbf54a66a53f",
   "metadata": {},
   "outputs": [],
   "source": []
  }
 ],
 "metadata": {
  "kernelspec": {
   "display_name": "Python 3 (ipykernel)",
   "language": "python",
   "name": "python3"
  },
  "language_info": {
   "codemirror_mode": {
    "name": "ipython",
    "version": 3
   },
   "file_extension": ".py",
   "mimetype": "text/x-python",
   "name": "python",
   "nbconvert_exporter": "python",
   "pygments_lexer": "ipython3",
   "version": "3.9.13"
  }
 },
 "nbformat": 4,
 "nbformat_minor": 5
}
