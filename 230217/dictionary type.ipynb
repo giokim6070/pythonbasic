{
 "cells": [
  {
   "cell_type": "code",
   "execution_count": 1,
   "id": "fb6e51e5-e5e4-4f93-a573-710f66006973",
   "metadata": {},
   "outputs": [
    {
     "name": "stdout",
     "output_type": "stream",
     "text": [
      "<class 'dict'>\n",
      "{'key': 'value'}\n"
     ]
    }
   ],
   "source": [
    "# dictionary type = 비 시퀀스 자료형. 순서가 없어 --> 인덱스를 갖지 않는다.\n",
    "# 그래서 이 자료형은 고유한 키(key)값을 갖는다.\n",
    "# 이 키는 1대 1로 매칭되는 값(value)를 갖는다.\n",
    "# 이를 key-value pair라고 하며 딕셔너리 자료형의 특징이다.\n",
    "\n",
    "# key: value --> key-value pair\n",
    "\n",
    "# 중괄호({})를 활용한다.\n",
    "# 중괄호 안에는 key-value pair를 작성하며 형태는 key: value와 같다.\n",
    "# key-value pair는 각각 콤마로 구분지어 요소를 등록할 수 있다.\n",
    "\n",
    "#dictionary_variable = {key: value, key: value, ...}\n",
    "\n",
    "dic_var = {\"key\": \"value\"}\n",
    "print(type(dic_var))\n",
    "print(dic_var)\n",
    "\n",
    "# () tuple 시퀀스(순서가 있음) - 인덱스\n",
    "# [] list 시퀀스(순서가 있음) - 인덱스\n",
    "# {} dictionary(key: value), set(key) 비 시퀀스 - 인덱스X 대신 key 값을 가짐\n",
    "# 딕셔너리, 셋은 비 시퀀스라 순서가 없음. \n",
    "# 그러나 이후 버전에서 딕셔너리의 경우 순서가 보장되도록 변경됨."
   ]
  },
  {
   "cell_type": "code",
   "execution_count": 2,
   "id": "c03cae14-7076-4ff4-8ec1-002bb9d217b2",
   "metadata": {},
   "outputs": [
    {
     "name": "stdout",
     "output_type": "stream",
     "text": [
      "{'key': 'last value'}\n"
     ]
    }
   ],
   "source": [
    "dic_var = {\"key\": \"value\", \"key\" : \"last value\"}\n",
    "print(dic_var)\n",
    "\n",
    "# 딕셔너리 자료형에서 키(key)는 중복해서 존재하지 않음.\n",
    "# 만약 중복해서 넣게되면 가장 최근에 넣은 key-value pair만 남음."
   ]
  },
  {
   "cell_type": "code",
   "execution_count": 3,
   "id": "3ff0ba2a-ce57-4722-b6df-d65796528428",
   "metadata": {},
   "outputs": [
    {
     "name": "stdout",
     "output_type": "stream",
     "text": [
      "[<class 'str'>, <class 'int'>, <class 'float'>, <class 'tuple'>]\n"
     ]
    }
   ],
   "source": [
    "# 딕셔너리 자료형 특징\n",
    "# 딕셔너리 자료형 키는 문자열(str), 정수(int), 실수(float), 불(bool), 튜플(tuple)\n",
    "# 사용할 수 있다. 또 키에 이 자료형을 섞어서 사용이 가능함.\n",
    "# 단 키에는 리스트(list), 딕셔너리(dictionary), 집합(set)을 사용할 수 없다!!!!!!\n",
    "# 키는 고유한 값을 가져야 함.(인덱스에 겹치는 숫자가 없듯이)\n",
    "\n",
    "dic_var = {\"key\": \"value\",\n",
    "           1: \"value2\",\n",
    "           1.1: \"value3\",\n",
    "           True: \"value4\",\n",
    "           (\"key\", 1, 1.1, True): \"value2\"}\n",
    "print(list(map(type, dic_var.keys())))"
   ]
  },
  {
   "cell_type": "code",
   "execution_count": 4,
   "id": "469db395-4089-4bad-9d89-beda2641e5d7",
   "metadata": {},
   "outputs": [
    {
     "name": "stdout",
     "output_type": "stream",
     "text": [
      "[<class 'str'>, <class 'bool'>, <class 'float'>, <class 'tuple'>, <class 'list'>, <class 'dict'>]\n"
     ]
    }
   ],
   "source": [
    "# 딕셔너리 자료형에서 값은 모든 자료형을 사용할 수 있음.\n",
    "dic_var = {\"key\": \"value\",\n",
    "           1: 1,\n",
    "           1.1: 1.1,\n",
    "           True: False,\n",
    "           (\"key\", 1, 1.1, True): (\"key\", 1, 1.1, True),\n",
    "           \"list\": [1, '가', 1.1, True, (1, '나')],\n",
    "           \"dict\" : {\"key\": \"value\", \"key\": \"value\"}\n",
    "          }\n",
    "print(list(map(type, dic_var.values())))"
   ]
  },
  {
   "cell_type": "code",
   "execution_count": 5,
   "id": "f78fafd3-58be-4964-8fa9-218c07f3bc56",
   "metadata": {},
   "outputs": [
    {
     "name": "stdout",
     "output_type": "stream",
     "text": [
      "{}\n",
      "<class 'dict'>\n"
     ]
    }
   ],
   "source": [
    "# 빈 딕셔너리 생성하기\n",
    "# 중괄호({})만 쓰거나, 인자 없이 dict() 함수를 사용하면 됨\n",
    "empty_dict = {}\n",
    "print(empty_dict)\n",
    "print(type(empty_dict))"
   ]
  },
  {
   "cell_type": "code",
   "execution_count": 6,
   "id": "375fe789-7445-44d1-8e53-42241d9e4bea",
   "metadata": {},
   "outputs": [
    {
     "name": "stdout",
     "output_type": "stream",
     "text": [
      "{}\n",
      "<class 'dict'>\n"
     ]
    }
   ],
   "source": [
    "empty_dict = dict()\n",
    "print(empty_dict)\n",
    "print(type(empty_dict))"
   ]
  },
  {
   "cell_type": "code",
   "execution_count": 7,
   "id": "0937f1d6-1ef4-4ab2-a097-2c65e9510414",
   "metadata": {},
   "outputs": [
    {
     "name": "stdout",
     "output_type": "stream",
     "text": [
      "{'key': 'value', 'key2': 'value2', 'key3': 'value3'}\n"
     ]
    }
   ],
   "source": [
    "# 딕셔너리 자료형 - dict() 함수로 생성하기\n",
    "# 함수에 사용하는 인자의 키워드 부분은 변수명처럼 따옴표('',\"\")를 사용하지 않음.\n",
    "dict_a = dict(key=\"value\", key2=\"value2\", key3=\"value3\")\n",
    "print(dict_a)"
   ]
  },
  {
   "cell_type": "code",
   "execution_count": 8,
   "id": "b2cd1958-9069-478c-b03f-4026b3cb148f",
   "metadata": {},
   "outputs": [
    {
     "data": {
      "text/plain": [
       "{'key': 'value', 'key2': 'value2'}"
      ]
     },
     "execution_count": 8,
     "metadata": {},
     "output_type": "execute_result"
    }
   ],
   "source": [
    "# 딕셔너리 자료형 - dict() 함수와 시퀀스 객체로 생성하기\n",
    "# 키와 한 쌍을 갖는 시퀀스 객체를 요소로 갖는 시퀀스 객체를 생성하여 딕셔너리 자료형으로 만들 수 있음.\n",
    "dict([(\"key\", \"value\"), (\"key2\", \"value2\")])"
   ]
  },
  {
   "cell_type": "code",
   "execution_count": 9,
   "id": "dc29012d-40c4-40e4-b18c-319fbdd106d0",
   "metadata": {},
   "outputs": [
    {
     "name": "stdout",
     "output_type": "stream",
     "text": [
      "{'key': 'value', 'key2': 'value2', 'key3': 'value3'}\n"
     ]
    }
   ],
   "source": [
    "# dict() 함수와 zip() 함수\n",
    "dict_b = dict(zip([\"key\", \"key2\", \"key3\"], [\"value\", \"value2\", \"value3\"]))\n",
    "print(dict_b)"
   ]
  },
  {
   "cell_type": "code",
   "execution_count": 10,
   "id": "87607a2b-3b79-4416-8ed6-21873e6b945d",
   "metadata": {},
   "outputs": [
    {
     "name": "stdout",
     "output_type": "stream",
     "text": [
      "[('key', 'value'), ('key2', 'value2'), ('key3', 'value3')]\n"
     ]
    }
   ],
   "source": [
    "keys = (\"key\", \"key2\", \"key3\")\n",
    "values = (\"value\", \"value2\", \"value3\")\n",
    "\n",
    "sam_list = []\n",
    "for index in range(len(keys)): # len 숫자를 세라\n",
    "    sam_list.append((keys[index], values[index]))\n",
    "print(sam_list)"
   ]
  },
  {
   "cell_type": "code",
   "execution_count": 11,
   "id": "185ab949-85be-47b4-a7b3-9ff3797cc750",
   "metadata": {},
   "outputs": [
    {
     "name": "stdout",
     "output_type": "stream",
     "text": [
      "{'key': 'value', 'key2': 'value2', 'key3': 'value3'}\n",
      "{'key': 'super value', 'key2': 'value2', 'key3': 'value3'}\n"
     ]
    }
   ],
   "source": [
    "# 키로 값에 접근하기\n",
    "# 인덱싱과 마찬가지. 다만 인덱싱은 0 이상의 정수를 활용하여 각 요소에 접근하지만\n",
    "# 딕셔너리 자료형은 키를 활용항여 해당 값에 접근함\n",
    "print(dict_b),\n",
    "dict_b['key'] = \"super value\"\n",
    "print(dict_b)"
   ]
  },
  {
   "cell_type": "code",
   "execution_count": 12,
   "id": "19a097dd-f778-4396-9604-9571dab8eb24",
   "metadata": {},
   "outputs": [
    {
     "name": "stdout",
     "output_type": "stream",
     "text": [
      "{'key': 'super value', 'key2': 'value2', 'key3': 'value3'}\n",
      "{'key': 'super value', 'key2': 'value2', 'key3': 'value3', 'new one': 'new value'}\n"
     ]
    }
   ],
   "source": [
    "# 키와 값 추가하기\n",
    "print(dict_b)\n",
    "dict_b['new one'] = \"new value\"ㄴㄴ\n",
    "print(dict_b)"
   ]
  },
  {
   "cell_type": "code",
   "execution_count": 13,
   "id": "e11c5014-4631-4cc8-9adb-dfb29fe0e5b4",
   "metadata": {},
   "outputs": [],
   "source": [
    "# 없는 키에 접근하는 경우 KeyError 발생\n",
    "# print(dict_b)\n",
    "# print(dict_b['없는 키])"
   ]
  },
  {
   "cell_type": "code",
   "execution_count": 14,
   "id": "21e30fda-4ded-4752-87ef-76ce16df8f2c",
   "metadata": {},
   "outputs": [
    {
     "name": "stdout",
     "output_type": "stream",
     "text": [
      "{'key': 'super value', 'key2': 'value2', 'key3': 'value3', 'new one': 'new value'}\n",
      "True\n"
     ]
    }
   ],
   "source": [
    "# 특정 키가 딕셔너리 자료형에 있나 확인 --- in 연산자 활용\n",
    "print(dict_b)\n",
    "print('key' in dict_b)\n",
    "# values 조회시에는....'찾을 값' in dict_b.values() "
   ]
  },
  {
   "cell_type": "code",
   "execution_count": 15,
   "id": "1e86bdfc-ecce-4311-9c2b-0bc0673ed6cb",
   "metadata": {},
   "outputs": [
    {
     "name": "stdout",
     "output_type": "stream",
     "text": [
      "{'key': 'super value', 'key2': 'value2', 'key3': 'value3', 'new one': 'new value'}\n",
      "{'key': 'super value', 'key2': 'value2', 'key3': 'value3'}\n"
     ]
    }
   ],
   "source": [
    "# 딕셔너리 자료형 - 특정 키와 값의 쌍을 삭제하기\n",
    "print(dict_b)\n",
    "del dict_b['new one']\n",
    "print(dict_b)"
   ]
  },
  {
   "cell_type": "code",
   "execution_count": 16,
   "id": "290a79e6-3122-4e41-8126-297fe6b1a51e",
   "metadata": {},
   "outputs": [
    {
     "name": "stdout",
     "output_type": "stream",
     "text": [
      "{'key': 'super value', 'key2': 'value2', 'key3': 'value3'}\n"
     ]
    },
    {
     "data": {
      "text/plain": [
       "3"
      ]
     },
     "execution_count": 16,
     "metadata": {},
     "output_type": "execute_result"
    }
   ],
   "source": [
    "# 키와 값의 쌍 개수 구하기\n",
    "print(dict_b)\n",
    "len(dict_b)"
   ]
  },
  {
   "cell_type": "code",
   "execution_count": 24,
   "id": "be3613de-7e18-4e1f-bb14-2bf32ff4ef61",
   "metadata": {},
   "outputs": [
    {
     "name": "stdin",
     "output_type": "stream",
     "text": [
      "과일 이름을 입력하세요. 사과\n"
     ]
    },
    {
     "name": "stdout",
     "output_type": "stream",
     "text": [
      "사과의 가격은 1000원입니다.\n"
     ]
    }
   ],
   "source": [
    "fruit = {\"사과\": 1000, \"바나나\": 700, \"오렌지\": 1500, \"파인애플\": 5000}\n",
    "\n",
    "name = input('과일 이름을 입력하세요.')\n",
    "print(f\"{name}의 가격은 {fruit[name]}원입니다.\")"
   ]
  },
  {
   "cell_type": "code",
   "execution_count": 43,
   "id": "3e12b03b-d1b0-46b6-ab45-3329b64c8ccc",
   "metadata": {},
   "outputs": [
    {
     "name": "stdin",
     "output_type": "stream",
     "text": [
      "이름을 기입해주세요. 뽀로로 루피 크롱 스누피\n",
      "몸무게를 입력해주세요. 20.4 16.2 22.3 5.2\n"
     ]
    },
    {
     "name": "stdout",
     "output_type": "stream",
     "text": [
      "{'뽀로로': 20.4, '루피': 16.2, '크롱': 22.3, '스누피': 5.2}\n"
     ]
    }
   ],
   "source": [
    "name = input(\"이름을 기입해주세요.\")\n",
    "weight = input(\"몸무게를 입력해주세요.\")\n",
    "\n",
    "name = name.split(\" \")\n",
    "weight = weight.split(\" \")\n",
    "weight = list(map(float, weight))\n",
    "\n",
    "result = dict(zip(name, weight))\n",
    "\n",
    "print(result)\n",
    "# 서현님 풀이"
   ]
  },
  {
   "cell_type": "code",
   "execution_count": 42,
   "id": "510d69ce-bbf3-4da5-89c9-27040f5a8492",
   "metadata": {},
   "outputs": [
    {
     "name": "stdin",
     "output_type": "stream",
     "text": [
      "이름을 기입해주세요. 뽀로로 루피 크롱 스누피\n",
      "몸무게를 입력해주세요. 20.4 16.2 22.3 5.2\n"
     ]
    },
    {
     "name": "stdout",
     "output_type": "stream",
     "text": [
      "{'뽀로로': 20.4, '루피': 16.2, '크롱': 22.3, '스누피': 5.2}\n"
     ]
    }
   ],
   "source": [
    "name = input(\"이름을 기입해주세요.\").split(' ')\n",
    "w = list(map(float, input(\"몸무게를 입력해주세요.\").split(' ')))\n",
    "dict = dict(zip(name, w))\n",
    "\n",
    "print(dic)\n",
    "# 기영님 풀이"
   ]
  },
  {
   "cell_type": "code",
   "execution_count": null,
   "id": "fb40d78d-172f-43c4-9eb2-a3f051d0b1d1",
   "metadata": {},
   "outputs": [],
   "source": []
  }
 ],
 "metadata": {
  "kernelspec": {
   "display_name": "Python 3 (ipykernel)",
   "language": "python",
   "name": "python3"
  },
  "language_info": {
   "codemirror_mode": {
    "name": "ipython",
    "version": 3
   },
   "file_extension": ".py",
   "mimetype": "text/x-python",
   "name": "python",
   "nbconvert_exporter": "python",
   "pygments_lexer": "ipython3",
   "version": "3.9.13"
  }
 },
 "nbformat": 4,
 "nbformat_minor": 5
}
